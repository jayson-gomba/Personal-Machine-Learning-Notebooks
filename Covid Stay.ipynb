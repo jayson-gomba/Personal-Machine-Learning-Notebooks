{
 "cells": [
  {
   "cell_type": "code",
   "execution_count": 1,
   "id": "f71807f0",
   "metadata": {},
   "outputs": [],
   "source": [
    "from fastai.tabular.all import *\n",
    "import seaborn as sns\n",
    "%matplotlib inline\n",
    "import matplotlib.pyplot as plt\n",
    "from utils import *\n",
    "from pandas.api.types import is_string_dtype, is_numeric_dtype, is_categorical_dtype\n",
    "from sklearn.ensemble import RandomForestClassifier\n",
    "from sklearn.tree import DecisionTreeClassifier\n",
    "from sklearn.inspection import plot_partial_dependence\n",
    "from sklearn.metrics import *\n",
    "from dtreeviz.trees import *\n",
    "from IPython.display import Image, display_svg, SVG\n",
    "import warnings\n",
    "warnings.simplefilter('ignore', FutureWarning)\n",
    "from treeinterpreter import treeinterpreter\n",
    "from waterfall_chart import plot as waterfall\n",
    "\n",
    "pd.options.display.max_rows = 20\n",
    "pd.options.display.max_columns = 8"
   ]
  },
  {
   "cell_type": "code",
   "execution_count": 2,
   "id": "3ac89cd0",
   "metadata": {},
   "outputs": [],
   "source": [
    "df = pd.read_csv('C:/Users/light/Desktop/archive_txt_2/host_train.csv')"
   ]
  },
  {
   "cell_type": "code",
   "execution_count": 3,
   "id": "aa727b75",
   "metadata": {},
   "outputs": [
    {
     "data": {
      "text/plain": [
       "Index(['case_id', 'Hospital', 'Hospital_type', 'Hospital_city',\n",
       "       'Hospital_region', 'Available_Extra_Rooms_in_Hospital', 'Department',\n",
       "       'Ward_Type', 'Ward_Facility', 'Bed_Grade', 'patientid',\n",
       "       'City_Code_Patient', 'Type of Admission', 'Illness_Severity',\n",
       "       'Patient_Visitors', 'Age', 'Admission_Deposit', 'Stay_Days'],\n",
       "      dtype='object')"
      ]
     },
     "execution_count": 3,
     "metadata": {},
     "output_type": "execute_result"
    }
   ],
   "source": [
    "df.columns"
   ]
  },
  {
   "cell_type": "code",
   "execution_count": 4,
   "id": "84f04ea8",
   "metadata": {},
   "outputs": [
    {
     "data": {
      "text/html": [
       "<div>\n",
       "<style scoped>\n",
       "    .dataframe tbody tr th:only-of-type {\n",
       "        vertical-align: middle;\n",
       "    }\n",
       "\n",
       "    .dataframe tbody tr th {\n",
       "        vertical-align: top;\n",
       "    }\n",
       "\n",
       "    .dataframe thead th {\n",
       "        text-align: right;\n",
       "    }\n",
       "</style>\n",
       "<table border=\"1\" class=\"dataframe\">\n",
       "  <thead>\n",
       "    <tr style=\"text-align: right;\">\n",
       "      <th></th>\n",
       "      <th>case_id</th>\n",
       "      <th>Hospital</th>\n",
       "      <th>Hospital_type</th>\n",
       "      <th>Hospital_city</th>\n",
       "      <th>...</th>\n",
       "      <th>Patient_Visitors</th>\n",
       "      <th>Age</th>\n",
       "      <th>Admission_Deposit</th>\n",
       "      <th>Stay_Days</th>\n",
       "    </tr>\n",
       "  </thead>\n",
       "  <tbody>\n",
       "    <tr>\n",
       "      <th>0</th>\n",
       "      <td>1</td>\n",
       "      <td>8</td>\n",
       "      <td>2</td>\n",
       "      <td>3</td>\n",
       "      <td>...</td>\n",
       "      <td>2</td>\n",
       "      <td>51-60</td>\n",
       "      <td>4911.0</td>\n",
       "      <td>0-10</td>\n",
       "    </tr>\n",
       "    <tr>\n",
       "      <th>1</th>\n",
       "      <td>2</td>\n",
       "      <td>2</td>\n",
       "      <td>2</td>\n",
       "      <td>5</td>\n",
       "      <td>...</td>\n",
       "      <td>2</td>\n",
       "      <td>51-60</td>\n",
       "      <td>5954.0</td>\n",
       "      <td>41-50</td>\n",
       "    </tr>\n",
       "    <tr>\n",
       "      <th>2</th>\n",
       "      <td>3</td>\n",
       "      <td>10</td>\n",
       "      <td>4</td>\n",
       "      <td>1</td>\n",
       "      <td>...</td>\n",
       "      <td>2</td>\n",
       "      <td>51-60</td>\n",
       "      <td>4745.0</td>\n",
       "      <td>31-40</td>\n",
       "    </tr>\n",
       "    <tr>\n",
       "      <th>3</th>\n",
       "      <td>4</td>\n",
       "      <td>26</td>\n",
       "      <td>1</td>\n",
       "      <td>2</td>\n",
       "      <td>...</td>\n",
       "      <td>2</td>\n",
       "      <td>51-60</td>\n",
       "      <td>7272.0</td>\n",
       "      <td>41-50</td>\n",
       "    </tr>\n",
       "    <tr>\n",
       "      <th>4</th>\n",
       "      <td>5</td>\n",
       "      <td>26</td>\n",
       "      <td>1</td>\n",
       "      <td>2</td>\n",
       "      <td>...</td>\n",
       "      <td>2</td>\n",
       "      <td>51-60</td>\n",
       "      <td>5558.0</td>\n",
       "      <td>41-50</td>\n",
       "    </tr>\n",
       "  </tbody>\n",
       "</table>\n",
       "<p>5 rows × 18 columns</p>\n",
       "</div>"
      ],
      "text/plain": [
       "   case_id  Hospital  Hospital_type  Hospital_city  ...  Patient_Visitors  \\\n",
       "0        1         8              2              3  ...                 2   \n",
       "1        2         2              2              5  ...                 2   \n",
       "2        3        10              4              1  ...                 2   \n",
       "3        4        26              1              2  ...                 2   \n",
       "4        5        26              1              2  ...                 2   \n",
       "\n",
       "     Age Admission_Deposit Stay_Days  \n",
       "0  51-60            4911.0      0-10  \n",
       "1  51-60            5954.0     41-50  \n",
       "2  51-60            4745.0     31-40  \n",
       "3  51-60            7272.0     41-50  \n",
       "4  51-60            5558.0     41-50  \n",
       "\n",
       "[5 rows x 18 columns]"
      ]
     },
     "execution_count": 4,
     "metadata": {},
     "output_type": "execute_result"
    }
   ],
   "source": [
    "df.head()"
   ]
  },
  {
   "cell_type": "code",
   "execution_count": null,
   "id": "ac824635",
   "metadata": {},
   "outputs": [],
   "source": [
    "#df = df.drop(columns=['case_id', 'Admission_Deposit', 'patientid'])"
   ]
  },
  {
   "cell_type": "code",
   "execution_count": null,
   "id": "0d555370",
   "metadata": {},
   "outputs": [],
   "source": [
    "df.head()"
   ]
  },
  {
   "cell_type": "code",
   "execution_count": null,
   "id": "057195c1",
   "metadata": {},
   "outputs": [],
   "source": [
    "df.info()"
   ]
  },
  {
   "cell_type": "code",
   "execution_count": 5,
   "id": "bc7a93f0",
   "metadata": {},
   "outputs": [
    {
     "data": {
      "text/plain": [
       "array(['Extreme', 'Moderate', 'Minor'], dtype=object)"
      ]
     },
     "execution_count": 5,
     "metadata": {},
     "output_type": "execute_result"
    }
   ],
   "source": [
    "df['Illness_Severity'].unique()"
   ]
  },
  {
   "cell_type": "code",
   "execution_count": 6,
   "id": "17cce0d4",
   "metadata": {},
   "outputs": [],
   "source": [
    "illness_severity = 'Extreme', 'Moderate', 'Minor'"
   ]
  },
  {
   "cell_type": "code",
   "execution_count": 7,
   "id": "116fc444",
   "metadata": {},
   "outputs": [],
   "source": [
    "df['Illness_Severity'] = df['Illness_Severity'].astype('category')\n",
    "df['Illness_Severity'].cat.set_categories(illness_severity, ordered=True, inplace=True)"
   ]
  },
  {
   "cell_type": "code",
   "execution_count": 8,
   "id": "97a0fe01",
   "metadata": {},
   "outputs": [],
   "source": [
    "dep_var = 'Stay_Days'"
   ]
  },
  {
   "cell_type": "code",
   "execution_count": 9,
   "id": "8f19573f",
   "metadata": {},
   "outputs": [],
   "source": [
    "procs = [Categorify, FillMissing]"
   ]
  },
  {
   "cell_type": "code",
   "execution_count": 10,
   "id": "d95bf6c3",
   "metadata": {},
   "outputs": [
    {
     "data": {
      "text/plain": [
       "(['case_id',\n",
       "  'Hospital',\n",
       "  'Hospital_type',\n",
       "  'Hospital_city',\n",
       "  'Hospital_region',\n",
       "  'Available_Extra_Rooms_in_Hospital',\n",
       "  'Bed_Grade',\n",
       "  'patientid',\n",
       "  'City_Code_Patient',\n",
       "  'Patient_Visitors',\n",
       "  'Admission_Deposit'],\n",
       " ['Department',\n",
       "  'Ward_Type',\n",
       "  'Ward_Facility',\n",
       "  'Type of Admission',\n",
       "  'Illness_Severity',\n",
       "  'Age'])"
      ]
     },
     "execution_count": 10,
     "metadata": {},
     "output_type": "execute_result"
    }
   ],
   "source": [
    "cont,cat = cont_cat_split(df, 1, dep_var=dep_var)\n",
    "cont,cat"
   ]
  },
  {
   "cell_type": "code",
   "execution_count": 11,
   "id": "dfcf5994",
   "metadata": {},
   "outputs": [],
   "source": [
    "splits = RandomSplitter(valid_pct=0.2)(range_of(df))"
   ]
  },
  {
   "cell_type": "code",
   "execution_count": 12,
   "id": "6b4e6a53",
   "metadata": {},
   "outputs": [],
   "source": [
    "to = TabularPandas(df, procs, cat, cont, y_names=dep_var, splits=splits, y_block = CategoryBlock)"
   ]
  },
  {
   "cell_type": "code",
   "execution_count": 13,
   "id": "9bdf70f1",
   "metadata": {},
   "outputs": [
    {
     "data": {
      "text/plain": [
       "(254751, 63687)"
      ]
     },
     "execution_count": 13,
     "metadata": {},
     "output_type": "execute_result"
    }
   ],
   "source": [
    "len(to.train),len(to.valid)"
   ]
  },
  {
   "cell_type": "code",
   "execution_count": 14,
   "id": "3f22a6be",
   "metadata": {},
   "outputs": [
    {
     "data": {
      "text/html": [
       "<table border=\"1\" class=\"dataframe\">\n",
       "  <thead>\n",
       "    <tr style=\"text-align: right;\">\n",
       "      <th></th>\n",
       "      <th>Department</th>\n",
       "      <th>Ward_Type</th>\n",
       "      <th>Ward_Facility</th>\n",
       "      <th>Type of Admission</th>\n",
       "      <th>Illness_Severity</th>\n",
       "      <th>Age</th>\n",
       "      <th>Bed_Grade_na</th>\n",
       "      <th>City_Code_Patient_na</th>\n",
       "      <th>case_id</th>\n",
       "      <th>Hospital</th>\n",
       "      <th>Hospital_type</th>\n",
       "      <th>Hospital_city</th>\n",
       "      <th>Hospital_region</th>\n",
       "      <th>Available_Extra_Rooms_in_Hospital</th>\n",
       "      <th>Bed_Grade</th>\n",
       "      <th>patientid</th>\n",
       "      <th>City_Code_Patient</th>\n",
       "      <th>Patient_Visitors</th>\n",
       "      <th>Admission_Deposit</th>\n",
       "      <th>Stay_Days</th>\n",
       "    </tr>\n",
       "  </thead>\n",
       "  <tbody>\n",
       "    <tr>\n",
       "      <th>308282</th>\n",
       "      <td>gynecology</td>\n",
       "      <td>R</td>\n",
       "      <td>B</td>\n",
       "      <td>Urgent</td>\n",
       "      <td>Moderate</td>\n",
       "      <td>21-30</td>\n",
       "      <td>False</td>\n",
       "      <td>False</td>\n",
       "      <td>308283</td>\n",
       "      <td>12</td>\n",
       "      <td>0</td>\n",
       "      <td>9</td>\n",
       "      <td>1</td>\n",
       "      <td>4</td>\n",
       "      <td>2.0</td>\n",
       "      <td>122579</td>\n",
       "      <td>7.0</td>\n",
       "      <td>2</td>\n",
       "      <td>4465.0</td>\n",
       "      <td>11-20</td>\n",
       "    </tr>\n",
       "    <tr>\n",
       "      <th>315736</th>\n",
       "      <td>gynecology</td>\n",
       "      <td>R</td>\n",
       "      <td>C</td>\n",
       "      <td>Trauma</td>\n",
       "      <td>Minor</td>\n",
       "      <td>21-30</td>\n",
       "      <td>False</td>\n",
       "      <td>False</td>\n",
       "      <td>315737</td>\n",
       "      <td>27</td>\n",
       "      <td>0</td>\n",
       "      <td>7</td>\n",
       "      <td>1</td>\n",
       "      <td>4</td>\n",
       "      <td>3.0</td>\n",
       "      <td>73746</td>\n",
       "      <td>8.0</td>\n",
       "      <td>2</td>\n",
       "      <td>4515.0</td>\n",
       "      <td>11-20</td>\n",
       "    </tr>\n",
       "    <tr>\n",
       "      <th>230013</th>\n",
       "      <td>gynecology</td>\n",
       "      <td>Q</td>\n",
       "      <td>E</td>\n",
       "      <td>Trauma</td>\n",
       "      <td>Moderate</td>\n",
       "      <td>31-40</td>\n",
       "      <td>False</td>\n",
       "      <td>False</td>\n",
       "      <td>230014</td>\n",
       "      <td>14</td>\n",
       "      <td>0</td>\n",
       "      <td>1</td>\n",
       "      <td>0</td>\n",
       "      <td>4</td>\n",
       "      <td>2.0</td>\n",
       "      <td>11494</td>\n",
       "      <td>7.0</td>\n",
       "      <td>4</td>\n",
       "      <td>4560.0</td>\n",
       "      <td>11-20</td>\n",
       "    </tr>\n",
       "  </tbody>\n",
       "</table>"
      ],
      "text/plain": [
       "<IPython.core.display.HTML object>"
      ]
     },
     "metadata": {},
     "output_type": "display_data"
    }
   ],
   "source": [
    "to.show(3)"
   ]
  },
  {
   "cell_type": "code",
   "execution_count": 15,
   "id": "69f684e1",
   "metadata": {},
   "outputs": [
    {
     "data": {
      "text/html": [
       "<div>\n",
       "<style scoped>\n",
       "    .dataframe tbody tr th:only-of-type {\n",
       "        vertical-align: middle;\n",
       "    }\n",
       "\n",
       "    .dataframe tbody tr th {\n",
       "        vertical-align: top;\n",
       "    }\n",
       "\n",
       "    .dataframe thead th {\n",
       "        text-align: right;\n",
       "    }\n",
       "</style>\n",
       "<table border=\"1\" class=\"dataframe\">\n",
       "  <thead>\n",
       "    <tr style=\"text-align: right;\">\n",
       "      <th></th>\n",
       "      <th>case_id</th>\n",
       "      <th>Hospital</th>\n",
       "      <th>Hospital_type</th>\n",
       "      <th>Hospital_city</th>\n",
       "      <th>...</th>\n",
       "      <th>Admission_Deposit</th>\n",
       "      <th>Stay_Days</th>\n",
       "      <th>Bed_Grade_na</th>\n",
       "      <th>City_Code_Patient_na</th>\n",
       "    </tr>\n",
       "  </thead>\n",
       "  <tbody>\n",
       "    <tr>\n",
       "      <th>308282</th>\n",
       "      <td>308283</td>\n",
       "      <td>12</td>\n",
       "      <td>0</td>\n",
       "      <td>9</td>\n",
       "      <td>...</td>\n",
       "      <td>4465.0</td>\n",
       "      <td>1</td>\n",
       "      <td>1</td>\n",
       "      <td>1</td>\n",
       "    </tr>\n",
       "    <tr>\n",
       "      <th>315736</th>\n",
       "      <td>315737</td>\n",
       "      <td>27</td>\n",
       "      <td>0</td>\n",
       "      <td>7</td>\n",
       "      <td>...</td>\n",
       "      <td>4515.0</td>\n",
       "      <td>1</td>\n",
       "      <td>1</td>\n",
       "      <td>1</td>\n",
       "    </tr>\n",
       "    <tr>\n",
       "      <th>230013</th>\n",
       "      <td>230014</td>\n",
       "      <td>14</td>\n",
       "      <td>0</td>\n",
       "      <td>1</td>\n",
       "      <td>...</td>\n",
       "      <td>4560.0</td>\n",
       "      <td>1</td>\n",
       "      <td>1</td>\n",
       "      <td>1</td>\n",
       "    </tr>\n",
       "  </tbody>\n",
       "</table>\n",
       "<p>3 rows × 20 columns</p>\n",
       "</div>"
      ],
      "text/plain": [
       "        case_id  Hospital  Hospital_type  Hospital_city  ...  \\\n",
       "308282   308283        12              0              9  ...   \n",
       "315736   315737        27              0              7  ...   \n",
       "230013   230014        14              0              1  ...   \n",
       "\n",
       "        Admission_Deposit  Stay_Days  Bed_Grade_na  City_Code_Patient_na  \n",
       "308282             4465.0          1             1                     1  \n",
       "315736             4515.0          1             1                     1  \n",
       "230013             4560.0          1             1                     1  \n",
       "\n",
       "[3 rows x 20 columns]"
      ]
     },
     "execution_count": 15,
     "metadata": {},
     "output_type": "execute_result"
    }
   ],
   "source": [
    "to.items.head(3)"
   ]
  },
  {
   "cell_type": "code",
   "execution_count": 16,
   "id": "b3913c29",
   "metadata": {},
   "outputs": [
    {
     "data": {
      "text/plain": [
       "['#na#', 'Extreme', 'Moderate', 'Minor']"
      ]
     },
     "execution_count": 16,
     "metadata": {},
     "output_type": "execute_result"
    }
   ],
   "source": [
    "to.classes['Illness_Severity']"
   ]
  },
  {
   "cell_type": "code",
   "execution_count": 17,
   "id": "1b4799f0",
   "metadata": {},
   "outputs": [],
   "source": [
    "xs,y = to.train.xs,to.train.y\n",
    "valid_xs,valid_y = to.valid.xs,to.valid.y"
   ]
  },
  {
   "cell_type": "code",
   "execution_count": 39,
   "id": "4f2d05af",
   "metadata": {},
   "outputs": [],
   "source": [
    "m = DecisionTreeClassifier(max_leaf_nodes=11)\n",
    "m.fit(xs, y);"
   ]
  },
  {
   "cell_type": "code",
   "execution_count": 40,
   "id": "77131089",
   "metadata": {},
   "outputs": [
    {
     "data": {
      "image/svg+xml": [
       "<?xml version=\"1.0\" encoding=\"UTF-8\" standalone=\"no\"?>\r\n",
       "<!DOCTYPE svg PUBLIC \"-//W3C//DTD SVG 1.1//EN\"\r\n",
       " \"http://www.w3.org/Graphics/SVG/1.1/DTD/svg11.dtd\">\r\n",
       "<!-- Generated by graphviz version 2.38.0 (20140413.2041)\r\n",
       " -->\r\n",
       "<!-- Title: Tree Pages: 1 -->\r\n",
       "<svg width=\"720pt\" height=\"433pt\"\r\n",
       " viewBox=\"0.00 0.00 720.00 432.84\" xmlns=\"http://www.w3.org/2000/svg\" xmlns:xlink=\"http://www.w3.org/1999/xlink\">\r\n",
       "<g id=\"graph0\" class=\"graph\" transform=\"scale(0.146401 0.146401) rotate(0) translate(4 2952.54)\">\r\n",
       "<title>Tree</title>\r\n",
       "<polygon fill=\"white\" stroke=\"none\" points=\"-4,4 -4,-2952.54 4914,-2952.54 4914,4 -4,4\"/>\r\n",
       "<!-- 0 -->\r\n",
       "<g id=\"node1\" class=\"node\"><title>0</title>\r\n",
       "<path fill=\"#fafef7\" stroke=\"black\" d=\"M2057.5,-2810C2057.5,-2810 1529.5,-2810 1529.5,-2810 1523.5,-2810 1517.5,-2804 1517.5,-2798 1517.5,-2798 1517.5,-2754 1517.5,-2754 1517.5,-2748 1523.5,-2742 1529.5,-2742 1529.5,-2742 2057.5,-2742 2057.5,-2742 2063.5,-2742 2069.5,-2748 2069.5,-2754 2069.5,-2754 2069.5,-2798 2069.5,-2798 2069.5,-2804 2063.5,-2810 2057.5,-2810\"/>\r\n",
       "<text text-anchor=\"start\" x=\"1726\" y=\"-2794.8\" font-family=\"Helvetica,sans-Serif\" font-size=\"14.00\">Patient_Visitors ≤ 3.5</text>\r\n",
       "<text text-anchor=\"start\" x=\"1760\" y=\"-2779.8\" font-family=\"Helvetica,sans-Serif\" font-size=\"14.00\">gini = 0.81</text>\r\n",
       "<text text-anchor=\"start\" x=\"1733.5\" y=\"-2764.8\" font-family=\"Helvetica,sans-Serif\" font-size=\"14.00\">samples = 254751</text>\r\n",
       "<text text-anchor=\"start\" x=\"1525.5\" y=\"-2749.8\" font-family=\"Helvetica,sans-Serif\" font-size=\"14.00\">value = [18827, 62432, 70211, 43920, 9378, 28156, 2201, 8218, 3875, 2176, 5357]</text>\r\n",
       "</g>\r\n",
       "<!-- 1 -->\r\n",
       "<g id=\"node2\" class=\"node\"><title>1</title>\r\n",
       "<path fill=\"#f7fdf0\" stroke=\"black\" d=\"M1668,-2282C1668,-2282 1173,-2282 1173,-2282 1167,-2282 1161,-2276 1161,-2270 1161,-2270 1161,-2226 1161,-2226 1161,-2220 1167,-2214 1173,-2214 1173,-2214 1668,-2214 1668,-2214 1674,-2214 1680,-2220 1680,-2226 1680,-2226 1680,-2270 1680,-2270 1680,-2276 1674,-2282 1668,-2282\"/>\r\n",
       "<text text-anchor=\"start\" x=\"1365.5\" y=\"-2266.8\" font-family=\"Helvetica,sans-Serif\" font-size=\"14.00\">Bed_Grade ≤ 2.5</text>\r\n",
       "<text text-anchor=\"start\" x=\"1387\" y=\"-2251.8\" font-family=\"Helvetica,sans-Serif\" font-size=\"14.00\">gini = 0.75</text>\r\n",
       "<text text-anchor=\"start\" x=\"1360.5\" y=\"-2236.8\" font-family=\"Helvetica,sans-Serif\" font-size=\"14.00\">samples = 159138</text>\r\n",
       "<text text-anchor=\"start\" x=\"1169\" y=\"-2221.8\" font-family=\"Helvetica,sans-Serif\" font-size=\"14.00\">value = [15697, 47632, 56008, 22519, 6485, 6610, 1286, 1548, 351, 407, 595]</text>\r\n",
       "</g>\r\n",
       "<!-- 0&#45;&gt;1 -->\r\n",
       "<g id=\"edge1\" class=\"edge\"><title>0&#45;&gt;1</title>\r\n",
       "<path fill=\"none\" stroke=\"black\" d=\"M1769.88,-2741.7C1704.61,-2649.64 1521.82,-2391.88 1450,-2290.61\"/>\r\n",
       "<polygon fill=\"black\" stroke=\"black\" points=\"1452.65,-2288.29 1444.01,-2282.16 1446.94,-2292.34 1452.65,-2288.29\"/>\r\n",
       "<text text-anchor=\"middle\" x=\"1439.82\" y=\"-2303.1\" font-family=\"Helvetica,sans-Serif\" font-size=\"14.00\">True</text>\r\n",
       "</g>\r\n",
       "<!-- 2 -->\r\n",
       "<g id=\"node9\" class=\"node\"><title>2</title>\r\n",
       "<path fill=\"#ffffff\" stroke=\"black\" d=\"M2423.5,-2282C2423.5,-2282 1911.5,-2282 1911.5,-2282 1905.5,-2282 1899.5,-2276 1899.5,-2270 1899.5,-2270 1899.5,-2226 1899.5,-2226 1899.5,-2220 1905.5,-2214 1911.5,-2214 1911.5,-2214 2423.5,-2214 2423.5,-2214 2429.5,-2214 2435.5,-2220 2435.5,-2226 2435.5,-2226 2435.5,-2270 2435.5,-2270 2435.5,-2276 2429.5,-2282 2423.5,-2282\"/>\r\n",
       "<text text-anchor=\"start\" x=\"2112\" y=\"-2266.8\" font-family=\"Helvetica,sans-Serif\" font-size=\"14.00\">Ward_Type ≤ 2.5</text>\r\n",
       "<text text-anchor=\"start\" x=\"2134\" y=\"-2251.8\" font-family=\"Helvetica,sans-Serif\" font-size=\"14.00\">gini = 0.84</text>\r\n",
       "<text text-anchor=\"start\" x=\"2111.5\" y=\"-2236.8\" font-family=\"Helvetica,sans-Serif\" font-size=\"14.00\">samples = 95613</text>\r\n",
       "<text text-anchor=\"start\" x=\"1907.5\" y=\"-2221.8\" font-family=\"Helvetica,sans-Serif\" font-size=\"14.00\">value = [3130, 14800, 14203, 21401, 2893, 21546, 915, 6670, 3524, 1769, 4762]</text>\r\n",
       "</g>\r\n",
       "<!-- 0&#45;&gt;2 -->\r\n",
       "<g id=\"edge8\" class=\"edge\"><title>0&#45;&gt;2</title>\r\n",
       "<path fill=\"none\" stroke=\"black\" d=\"M1817.18,-2741.7C1882.63,-2649.64 2065.91,-2391.88 2137.92,-2290.61\"/>\r\n",
       "<polygon fill=\"black\" stroke=\"black\" points=\"2140.98,-2292.34 2143.92,-2282.16 2135.28,-2288.28 2140.98,-2292.34\"/>\r\n",
       "<text text-anchor=\"middle\" x=\"2148.09\" y=\"-2303.11\" font-family=\"Helvetica,sans-Serif\" font-size=\"14.00\">False</text>\r\n",
       "</g>\r\n",
       "<!-- 9 -->\r\n",
       "<g id=\"node3\" class=\"node\"><title>9</title>\r\n",
       "<path fill=\"#e7f9d4\" stroke=\"black\" d=\"M941.5,-1753C941.5,-1753 471.5,-1753 471.5,-1753 465.5,-1753 459.5,-1747 459.5,-1741 459.5,-1741 459.5,-1697 459.5,-1697 459.5,-1691 465.5,-1685 471.5,-1685 471.5,-1685 941.5,-1685 941.5,-1685 947.5,-1685 953.5,-1691 953.5,-1697 953.5,-1697 953.5,-1741 953.5,-1741 953.5,-1747 947.5,-1753 941.5,-1753\"/>\r\n",
       "<text text-anchor=\"start\" x=\"629\" y=\"-1737.8\" font-family=\"Helvetica,sans-Serif\" font-size=\"14.00\">Type of Admission ≤ 1.5</text>\r\n",
       "<text text-anchor=\"start\" x=\"673\" y=\"-1722.8\" font-family=\"Helvetica,sans-Serif\" font-size=\"14.00\">gini = 0.75</text>\r\n",
       "<text text-anchor=\"start\" x=\"650.5\" y=\"-1707.8\" font-family=\"Helvetica,sans-Serif\" font-size=\"14.00\">samples = 78121</text>\r\n",
       "<text text-anchor=\"start\" x=\"467.5\" y=\"-1692.8\" font-family=\"Helvetica,sans-Serif\" font-size=\"14.00\">value = [7623, 18251, 31246, 11573, 3463, 3792, 698, 839, 154, 225, 257]</text>\r\n",
       "</g>\r\n",
       "<!-- 1&#45;&gt;9 -->\r\n",
       "<g id=\"edge2\" class=\"edge\"><title>1&#45;&gt;9</title>\r\n",
       "<path fill=\"none\" stroke=\"black\" d=\"M1375.57,-2213.83C1249.86,-2121.05 895.003,-1859.13 759.759,-1759.31\"/>\r\n",
       "<polygon fill=\"black\" stroke=\"black\" points=\"761.681,-1756.38 751.557,-1753.26 757.524,-1762.01 761.681,-1756.38\"/>\r\n",
       "</g>\r\n",
       "<!-- 10 -->\r\n",
       "<g id=\"node6\" class=\"node\"><title>10</title>\r\n",
       "<path fill=\"#fdfcef\" stroke=\"black\" d=\"M1655.5,-1753C1655.5,-1753 1185.5,-1753 1185.5,-1753 1179.5,-1753 1173.5,-1747 1173.5,-1741 1173.5,-1741 1173.5,-1697 1173.5,-1697 1173.5,-1691 1179.5,-1685 1185.5,-1685 1185.5,-1685 1655.5,-1685 1655.5,-1685 1661.5,-1685 1667.5,-1691 1667.5,-1697 1667.5,-1697 1667.5,-1741 1667.5,-1741 1667.5,-1747 1661.5,-1753 1655.5,-1753\"/>\r\n",
       "<text text-anchor=\"start\" x=\"1343\" y=\"-1737.8\" font-family=\"Helvetica,sans-Serif\" font-size=\"14.00\">Type of Admission ≤ 1.5</text>\r\n",
       "<text text-anchor=\"start\" x=\"1387\" y=\"-1722.8\" font-family=\"Helvetica,sans-Serif\" font-size=\"14.00\">gini = 0.74</text>\r\n",
       "<text text-anchor=\"start\" x=\"1364.5\" y=\"-1707.8\" font-family=\"Helvetica,sans-Serif\" font-size=\"14.00\">samples = 81017</text>\r\n",
       "<text text-anchor=\"start\" x=\"1181.5\" y=\"-1692.8\" font-family=\"Helvetica,sans-Serif\" font-size=\"14.00\">value = [8074, 29381, 24762, 10946, 3022, 2818, 588, 709, 197, 182, 338]</text>\r\n",
       "</g>\r\n",
       "<!-- 1&#45;&gt;10 -->\r\n",
       "<g id=\"edge5\" class=\"edge\"><title>1&#45;&gt;10</title>\r\n",
       "<path fill=\"none\" stroke=\"black\" d=\"M1420.5,-2213.63C1420.5,-2121.87 1420.5,-1865.74 1420.5,-1763.23\"/>\r\n",
       "<polygon fill=\"black\" stroke=\"black\" points=\"1424,-1763.22 1420.5,-1753.22 1417,-1763.22 1424,-1763.22\"/>\r\n",
       "</g>\r\n",
       "<!-- 11 -->\r\n",
       "<g id=\"node4\" class=\"node\"><title>11</title>\r\n",
       "<path fill=\"#fdfffc\" stroke=\"black\" d=\"M441,-161.5C441,-161.5 12,-161.5 12,-161.5 6,-161.5 0,-155.5 0,-149.5 0,-149.5 0,-120.5 0,-120.5 0,-114.5 6,-108.5 12,-108.5 12,-108.5 441,-108.5 441,-108.5 447,-108.5 453,-114.5 453,-120.5 453,-120.5 453,-149.5 453,-149.5 453,-155.5 447,-161.5 441,-161.5\"/>\r\n",
       "<text text-anchor=\"start\" x=\"193\" y=\"-146.3\" font-family=\"Helvetica,sans-Serif\" font-size=\"14.00\">gini = 0.76</text>\r\n",
       "<text text-anchor=\"start\" x=\"170.5\" y=\"-131.3\" font-family=\"Helvetica,sans-Serif\" font-size=\"14.00\">samples = 30073</text>\r\n",
       "<text text-anchor=\"start\" x=\"8\" y=\"-116.3\" font-family=\"Helvetica,sans-Serif\" font-size=\"14.00\">value = [4913, 9179, 9503, 3584, 1096, 1120, 200, 237, 71, 64, 106]</text>\r\n",
       "</g>\r\n",
       "<!-- 9&#45;&gt;11 -->\r\n",
       "<g id=\"edge3\" class=\"edge\"><title>9&#45;&gt;11</title>\r\n",
       "<path fill=\"none\" stroke=\"black\" d=\"M696.475,-1684.96C634.252,-1479.88 301.401,-382.863 237.216,-171.317\"/>\r\n",
       "<polygon fill=\"black\" stroke=\"black\" points=\"240.533,-170.197 234.281,-161.644 233.835,-172.229 240.533,-170.197\"/>\r\n",
       "</g>\r\n",
       "<!-- 12 -->\r\n",
       "<g id=\"node5\" class=\"node\"><title>12</title>\r\n",
       "<path fill=\"#dbf7bf\" stroke=\"black\" d=\"M929.5,-161.5C929.5,-161.5 483.5,-161.5 483.5,-161.5 477.5,-161.5 471.5,-155.5 471.5,-149.5 471.5,-149.5 471.5,-120.5 471.5,-120.5 471.5,-114.5 477.5,-108.5 483.5,-108.5 483.5,-108.5 929.5,-108.5 929.5,-108.5 935.5,-108.5 941.5,-114.5 941.5,-120.5 941.5,-120.5 941.5,-149.5 941.5,-149.5 941.5,-155.5 935.5,-161.5 929.5,-161.5\"/>\r\n",
       "<text text-anchor=\"start\" x=\"673\" y=\"-146.3\" font-family=\"Helvetica,sans-Serif\" font-size=\"14.00\">gini = 0.72</text>\r\n",
       "<text text-anchor=\"start\" x=\"650.5\" y=\"-131.3\" font-family=\"Helvetica,sans-Serif\" font-size=\"14.00\">samples = 48048</text>\r\n",
       "<text text-anchor=\"start\" x=\"479.5\" y=\"-116.3\" font-family=\"Helvetica,sans-Serif\" font-size=\"14.00\">value = [2710, 9072, 21743, 7989, 2367, 2672, 498, 602, 83, 161, 151]</text>\r\n",
       "</g>\r\n",
       "<!-- 9&#45;&gt;12 -->\r\n",
       "<g id=\"edge4\" class=\"edge\"><title>9&#45;&gt;12</title>\r\n",
       "<path fill=\"none\" stroke=\"black\" d=\"M706.5,-1684.96C706.5,-1480.09 706.5,-385.039 706.5,-171.95\"/>\r\n",
       "<polygon fill=\"black\" stroke=\"black\" points=\"710,-171.644 706.5,-161.644 703,-171.644 710,-171.644\"/>\r\n",
       "</g>\r\n",
       "<!-- 17 -->\r\n",
       "<g id=\"node7\" class=\"node\"><title>17</title>\r\n",
       "<path fill=\"#fcfbea\" stroke=\"black\" d=\"M1375.5,-161.5C1375.5,-161.5 971.5,-161.5 971.5,-161.5 965.5,-161.5 959.5,-155.5 959.5,-149.5 959.5,-149.5 959.5,-120.5 959.5,-120.5 959.5,-114.5 965.5,-108.5 971.5,-108.5 971.5,-108.5 1375.5,-108.5 1375.5,-108.5 1381.5,-108.5 1387.5,-114.5 1387.5,-120.5 1387.5,-120.5 1387.5,-149.5 1387.5,-149.5 1387.5,-155.5 1381.5,-161.5 1375.5,-161.5\"/>\r\n",
       "<text text-anchor=\"start\" x=\"1140\" y=\"-146.3\" font-family=\"Helvetica,sans-Serif\" font-size=\"14.00\">gini = 0.76</text>\r\n",
       "<text text-anchor=\"start\" x=\"1117.5\" y=\"-131.3\" font-family=\"Helvetica,sans-Serif\" font-size=\"14.00\">samples = 23049</text>\r\n",
       "<text text-anchor=\"start\" x=\"967.5\" y=\"-116.3\" font-family=\"Helvetica,sans-Serif\" font-size=\"14.00\">value = [4333, 7931, 6173, 2575, 801, 719, 161, 174, 63, 36, 83]</text>\r\n",
       "</g>\r\n",
       "<!-- 10&#45;&gt;17 -->\r\n",
       "<g id=\"edge6\" class=\"edge\"><title>10&#45;&gt;17</title>\r\n",
       "<path fill=\"none\" stroke=\"black\" d=\"M1415.34,-1684.96C1383.34,-1479.98 1212.21,-383.951 1179.06,-171.633\"/>\r\n",
       "<polygon fill=\"black\" stroke=\"black\" points=\"1182.5,-170.984 1177.5,-161.644 1175.59,-172.064 1182.5,-170.984\"/>\r\n",
       "</g>\r\n",
       "<!-- 18 -->\r\n",
       "<g id=\"node8\" class=\"node\"><title>18</title>\r\n",
       "<path fill=\"#fdfcf1\" stroke=\"black\" d=\"M1879.5,-161.5C1879.5,-161.5 1417.5,-161.5 1417.5,-161.5 1411.5,-161.5 1405.5,-155.5 1405.5,-149.5 1405.5,-149.5 1405.5,-120.5 1405.5,-120.5 1405.5,-114.5 1411.5,-108.5 1417.5,-108.5 1417.5,-108.5 1879.5,-108.5 1879.5,-108.5 1885.5,-108.5 1891.5,-114.5 1891.5,-120.5 1891.5,-120.5 1891.5,-149.5 1891.5,-149.5 1891.5,-155.5 1885.5,-161.5 1879.5,-161.5\"/>\r\n",
       "<text text-anchor=\"start\" x=\"1615\" y=\"-146.3\" font-family=\"Helvetica,sans-Serif\" font-size=\"14.00\">gini = 0.73</text>\r\n",
       "<text text-anchor=\"start\" x=\"1592.5\" y=\"-131.3\" font-family=\"Helvetica,sans-Serif\" font-size=\"14.00\">samples = 57968</text>\r\n",
       "<text text-anchor=\"start\" x=\"1413.5\" y=\"-116.3\" font-family=\"Helvetica,sans-Serif\" font-size=\"14.00\">value = [3741, 21450, 18589, 8371, 2221, 2099, 427, 535, 134, 146, 255]</text>\r\n",
       "</g>\r\n",
       "<!-- 10&#45;&gt;18 -->\r\n",
       "<g id=\"edge7\" class=\"edge\"><title>10&#45;&gt;18</title>\r\n",
       "<path fill=\"none\" stroke=\"black\" d=\"M1425.26,-1684.96C1454.8,-1479.98 1612.76,-383.951 1643.36,-171.633\"/>\r\n",
       "<polygon fill=\"black\" stroke=\"black\" points=\"1646.84,-172.041 1644.8,-161.644 1639.91,-171.042 1646.84,-172.041\"/>\r\n",
       "</g>\r\n",
       "<!-- 3 -->\r\n",
       "<g id=\"node10\" class=\"node\"><title>3</title>\r\n",
       "<path fill=\"#fafef6\" stroke=\"black\" d=\"M2402.5,-1753C2402.5,-1753 1932.5,-1753 1932.5,-1753 1926.5,-1753 1920.5,-1747 1920.5,-1741 1920.5,-1741 1920.5,-1697 1920.5,-1697 1920.5,-1691 1926.5,-1685 1932.5,-1685 1932.5,-1685 2402.5,-1685 2402.5,-1685 2408.5,-1685 2414.5,-1691 2414.5,-1697 2414.5,-1697 2414.5,-1741 2414.5,-1741 2414.5,-1747 2408.5,-1753 2402.5,-1753\"/>\r\n",
       "<text text-anchor=\"start\" x=\"2100\" y=\"-1737.8\" font-family=\"Helvetica,sans-Serif\" font-size=\"14.00\">Patient_Visitors ≤ 4.5</text>\r\n",
       "<text text-anchor=\"start\" x=\"2134\" y=\"-1722.8\" font-family=\"Helvetica,sans-Serif\" font-size=\"14.00\">gini = 0.81</text>\r\n",
       "<text text-anchor=\"start\" x=\"2111.5\" y=\"-1707.8\" font-family=\"Helvetica,sans-Serif\" font-size=\"14.00\">samples = 44353</text>\r\n",
       "<text text-anchor=\"start\" x=\"1928.5\" y=\"-1692.8\" font-family=\"Helvetica,sans-Serif\" font-size=\"14.00\">value = [3083, 11066, 12659, 7794, 1901, 4273, 430, 1426, 588, 324, 809]</text>\r\n",
       "</g>\r\n",
       "<!-- 2&#45;&gt;3 -->\r\n",
       "<g id=\"edge9\" class=\"edge\"><title>2&#45;&gt;3</title>\r\n",
       "<path fill=\"none\" stroke=\"black\" d=\"M2167.5,-2213.63C2167.5,-2121.87 2167.5,-1865.74 2167.5,-1763.23\"/>\r\n",
       "<polygon fill=\"black\" stroke=\"black\" points=\"2171,-1763.22 2167.5,-1753.22 2164,-1763.22 2171,-1763.22\"/>\r\n",
       "</g>\r\n",
       "<!-- 4 -->\r\n",
       "<g id=\"node15\" class=\"node\"><title>4</title>\r\n",
       "<path fill=\"#ecfafc\" stroke=\"black\" d=\"M3893.5,-1753C3893.5,-1753 3423.5,-1753 3423.5,-1753 3417.5,-1753 3411.5,-1747 3411.5,-1741 3411.5,-1741 3411.5,-1697 3411.5,-1697 3411.5,-1691 3417.5,-1685 3423.5,-1685 3423.5,-1685 3893.5,-1685 3893.5,-1685 3899.5,-1685 3905.5,-1691 3905.5,-1697 3905.5,-1697 3905.5,-1741 3905.5,-1741 3905.5,-1747 3899.5,-1753 3893.5,-1753\"/>\r\n",
       "<text text-anchor=\"start\" x=\"3591\" y=\"-1737.8\" font-family=\"Helvetica,sans-Serif\" font-size=\"14.00\">Patient_Visitors ≤ 6.5</text>\r\n",
       "<text text-anchor=\"start\" x=\"3625\" y=\"-1722.8\" font-family=\"Helvetica,sans-Serif\" font-size=\"14.00\">gini = 0.79</text>\r\n",
       "<text text-anchor=\"start\" x=\"3602.5\" y=\"-1707.8\" font-family=\"Helvetica,sans-Serif\" font-size=\"14.00\">samples = 51260</text>\r\n",
       "<text text-anchor=\"start\" x=\"3419.5\" y=\"-1692.8\" font-family=\"Helvetica,sans-Serif\" font-size=\"14.00\">value = [47, 3734, 1544, 13607, 992, 17273, 485, 5244, 2936, 1445, 3953]</text>\r\n",
       "</g>\r\n",
       "<!-- 2&#45;&gt;4 -->\r\n",
       "<g id=\"edge14\" class=\"edge\"><title>2&#45;&gt;4</title>\r\n",
       "<path fill=\"none\" stroke=\"black\" d=\"M2261.05,-2213.93C2525.79,-2120.36 3278.89,-1854.17 3555.21,-1756.51\"/>\r\n",
       "<polygon fill=\"black\" stroke=\"black\" points=\"3556.58,-1759.74 3564.84,-1753.1 3554.24,-1753.14 3556.58,-1759.74\"/>\r\n",
       "</g>\r\n",
       "<!-- 5 -->\r\n",
       "<g id=\"node11\" class=\"node\"><title>5</title>\r\n",
       "<path fill=\"#f7fdf1\" stroke=\"black\" d=\"M2359,-161.5C2359,-161.5 1922,-161.5 1922,-161.5 1916,-161.5 1910,-155.5 1910,-149.5 1910,-149.5 1910,-120.5 1910,-120.5 1910,-114.5 1916,-108.5 1922,-108.5 1922,-108.5 2359,-108.5 2359,-108.5 2365,-108.5 2371,-114.5 2371,-120.5 2371,-120.5 2371,-149.5 2371,-149.5 2371,-155.5 2365,-161.5 2359,-161.5\"/>\r\n",
       "<text text-anchor=\"start\" x=\"2107\" y=\"-146.3\" font-family=\"Helvetica,sans-Serif\" font-size=\"14.00\">gini = 0.75</text>\r\n",
       "<text text-anchor=\"start\" x=\"2084.5\" y=\"-131.3\" font-family=\"Helvetica,sans-Serif\" font-size=\"14.00\">samples = 33657</text>\r\n",
       "<text text-anchor=\"start\" x=\"1918\" y=\"-116.3\" font-family=\"Helvetica,sans-Serif\" font-size=\"14.00\">value = [2966, 10093, 11796, 4926, 1593, 1350, 276, 434, 55, 95, 73]</text>\r\n",
       "</g>\r\n",
       "<!-- 3&#45;&gt;5 -->\r\n",
       "<g id=\"edge10\" class=\"edge\"><title>3&#45;&gt;5</title>\r\n",
       "<path fill=\"none\" stroke=\"black\" d=\"M2166.94,-1684.96C2163.44,-1480.09 2144.75,-385.039 2141.11,-171.95\"/>\r\n",
       "<polygon fill=\"black\" stroke=\"black\" points=\"2144.61,-171.583 2140.94,-161.644 2137.61,-171.702 2144.61,-171.583\"/>\r\n",
       "</g>\r\n",
       "<!-- 6 -->\r\n",
       "<g id=\"node12\" class=\"node\"><title>6</title>\r\n",
       "<path fill=\"#feffff\" stroke=\"black\" d=\"M2773,-1225C2773,-1225 2360,-1225 2360,-1225 2354,-1225 2348,-1219 2348,-1213 2348,-1213 2348,-1169 2348,-1169 2348,-1163 2354,-1157 2360,-1157 2360,-1157 2773,-1157 2773,-1157 2779,-1157 2785,-1163 2785,-1169 2785,-1169 2785,-1213 2785,-1213 2785,-1219 2779,-1225 2773,-1225\"/>\r\n",
       "<text text-anchor=\"start\" x=\"2511\" y=\"-1209.8\" font-family=\"Helvetica,sans-Serif\" font-size=\"14.00\">Ward_Type ≤ 1.5</text>\r\n",
       "<text text-anchor=\"start\" x=\"2533\" y=\"-1194.8\" font-family=\"Helvetica,sans-Serif\" font-size=\"14.00\">gini = 0.82</text>\r\n",
       "<text text-anchor=\"start\" x=\"2510.5\" y=\"-1179.8\" font-family=\"Helvetica,sans-Serif\" font-size=\"14.00\">samples = 10696</text>\r\n",
       "<text text-anchor=\"start\" x=\"2356\" y=\"-1164.8\" font-family=\"Helvetica,sans-Serif\" font-size=\"14.00\">value = [117, 973, 863, 2868, 308, 2923, 154, 992, 533, 229, 736]</text>\r\n",
       "</g>\r\n",
       "<!-- 3&#45;&gt;6 -->\r\n",
       "<g id=\"edge11\" class=\"edge\"><title>3&#45;&gt;6</title>\r\n",
       "<path fill=\"none\" stroke=\"black\" d=\"M2192.76,-1684.7C2262.66,-1592.55 2458.51,-1334.36 2535.17,-1233.3\"/>\r\n",
       "<polygon fill=\"black\" stroke=\"black\" points=\"2538.09,-1235.24 2541.35,-1225.16 2532.52,-1231.01 2538.09,-1235.24\"/>\r\n",
       "</g>\r\n",
       "<!-- 13 -->\r\n",
       "<g id=\"node13\" class=\"node\"><title>13</title>\r\n",
       "<path fill=\"#effbe4\" stroke=\"black\" d=\"M2731.5,-161.5C2731.5,-161.5 2401.5,-161.5 2401.5,-161.5 2395.5,-161.5 2389.5,-155.5 2389.5,-149.5 2389.5,-149.5 2389.5,-120.5 2389.5,-120.5 2389.5,-114.5 2395.5,-108.5 2401.5,-108.5 2401.5,-108.5 2731.5,-108.5 2731.5,-108.5 2737.5,-108.5 2743.5,-114.5 2743.5,-120.5 2743.5,-120.5 2743.5,-149.5 2743.5,-149.5 2743.5,-155.5 2737.5,-161.5 2731.5,-161.5\"/>\r\n",
       "<text text-anchor=\"start\" x=\"2533\" y=\"-146.3\" font-family=\"Helvetica,sans-Serif\" font-size=\"14.00\">gini = 0.77</text>\r\n",
       "<text text-anchor=\"start\" x=\"2515\" y=\"-131.3\" font-family=\"Helvetica,sans-Serif\" font-size=\"14.00\">samples = 1823</text>\r\n",
       "<text text-anchor=\"start\" x=\"2397.5\" y=\"-116.3\" font-family=\"Helvetica,sans-Serif\" font-size=\"14.00\">value = [117, 462, 651, 300, 94, 99, 29, 36, 9, 10, 16]</text>\r\n",
       "</g>\r\n",
       "<!-- 6&#45;&gt;13 -->\r\n",
       "<g id=\"edge12\" class=\"edge\"><title>6&#45;&gt;13</title>\r\n",
       "<path fill=\"none\" stroke=\"black\" d=\"M2566.5,-1156.72C2566.5,-999.88 2566.5,-335.441 2566.5,-172.29\"/>\r\n",
       "<polygon fill=\"black\" stroke=\"black\" points=\"2570,-171.85 2566.5,-161.85 2563,-171.85 2570,-171.85\"/>\r\n",
       "</g>\r\n",
       "<!-- 14 -->\r\n",
       "<g id=\"node14\" class=\"node\"><title>14</title>\r\n",
       "<path fill=\"#f7fdfe\" stroke=\"black\" d=\"M3169.5,-161.5C3169.5,-161.5 2773.5,-161.5 2773.5,-161.5 2767.5,-161.5 2761.5,-155.5 2761.5,-149.5 2761.5,-149.5 2761.5,-120.5 2761.5,-120.5 2761.5,-114.5 2767.5,-108.5 2773.5,-108.5 2773.5,-108.5 3169.5,-108.5 3169.5,-108.5 3175.5,-108.5 3181.5,-114.5 3181.5,-120.5 3181.5,-120.5 3181.5,-149.5 3181.5,-149.5 3181.5,-155.5 3175.5,-161.5 3169.5,-161.5\"/>\r\n",
       "<text text-anchor=\"start\" x=\"2938\" y=\"-146.3\" font-family=\"Helvetica,sans-Serif\" font-size=\"14.00\">gini = 0.79</text>\r\n",
       "<text text-anchor=\"start\" x=\"2920\" y=\"-131.3\" font-family=\"Helvetica,sans-Serif\" font-size=\"14.00\">samples = 8873</text>\r\n",
       "<text text-anchor=\"start\" x=\"2769.5\" y=\"-116.3\" font-family=\"Helvetica,sans-Serif\" font-size=\"14.00\">value = [0, 511, 212, 2568, 214, 2824, 125, 956, 524, 219, 720]</text>\r\n",
       "</g>\r\n",
       "<!-- 6&#45;&gt;14 -->\r\n",
       "<g id=\"edge13\" class=\"edge\"><title>6&#45;&gt;14</title>\r\n",
       "<path fill=\"none\" stroke=\"black\" d=\"M2579.29,-1156.72C2639.67,-999.567 2895.89,-332.784 2957.93,-171.318\"/>\r\n",
       "<polygon fill=\"black\" stroke=\"black\" points=\"2961.25,-172.44 2961.57,-161.85 2954.71,-169.929 2961.25,-172.44\"/>\r\n",
       "</g>\r\n",
       "<!-- 7 -->\r\n",
       "<g id=\"node16\" class=\"node\"><title>7</title>\r\n",
       "<path fill=\"#edfafd\" stroke=\"black\" d=\"M3893.5,-1225C3893.5,-1225 3423.5,-1225 3423.5,-1225 3417.5,-1225 3411.5,-1219 3411.5,-1213 3411.5,-1213 3411.5,-1169 3411.5,-1169 3411.5,-1163 3417.5,-1157 3423.5,-1157 3423.5,-1157 3893.5,-1157 3893.5,-1157 3899.5,-1157 3905.5,-1163 3905.5,-1169 3905.5,-1169 3905.5,-1213 3905.5,-1213 3905.5,-1219 3899.5,-1225 3893.5,-1225\"/>\r\n",
       "<text text-anchor=\"start\" x=\"3591\" y=\"-1209.8\" font-family=\"Helvetica,sans-Serif\" font-size=\"14.00\">Patient_Visitors ≤ 5.5</text>\r\n",
       "<text text-anchor=\"start\" x=\"3625\" y=\"-1194.8\" font-family=\"Helvetica,sans-Serif\" font-size=\"14.00\">gini = 0.76</text>\r\n",
       "<text text-anchor=\"start\" x=\"3602.5\" y=\"-1179.8\" font-family=\"Helvetica,sans-Serif\" font-size=\"14.00\">samples = 45900</text>\r\n",
       "<text text-anchor=\"start\" x=\"3419.5\" y=\"-1164.8\" font-family=\"Helvetica,sans-Serif\" font-size=\"14.00\">value = [47, 3715, 1381, 13393, 887, 16414, 392, 4481, 2267, 1120, 1803]</text>\r\n",
       "</g>\r\n",
       "<!-- 4&#45;&gt;7 -->\r\n",
       "<g id=\"edge15\" class=\"edge\"><title>4&#45;&gt;7</title>\r\n",
       "<path fill=\"none\" stroke=\"black\" d=\"M3658.5,-1684.7C3658.5,-1593.2 3658.5,-1337.98 3658.5,-1235.45\"/>\r\n",
       "<polygon fill=\"black\" stroke=\"black\" points=\"3662,-1235.16 3658.5,-1225.16 3655,-1235.16 3662,-1235.16\"/>\r\n",
       "</g>\r\n",
       "<!-- 8 -->\r\n",
       "<g id=\"node21\" class=\"node\"><title>8</title>\r\n",
       "<path fill=\"#f8c6cd\" stroke=\"black\" d=\"M4898,-161.5C4898,-161.5 4527,-161.5 4527,-161.5 4521,-161.5 4515,-155.5 4515,-149.5 4515,-149.5 4515,-120.5 4515,-120.5 4515,-114.5 4521,-108.5 4527,-108.5 4527,-108.5 4898,-108.5 4898,-108.5 4904,-108.5 4910,-114.5 4910,-120.5 4910,-120.5 4910,-149.5 4910,-149.5 4910,-155.5 4904,-161.5 4898,-161.5\"/>\r\n",
       "<text text-anchor=\"start\" x=\"4679\" y=\"-146.3\" font-family=\"Helvetica,sans-Serif\" font-size=\"14.00\">gini = 0.77</text>\r\n",
       "<text text-anchor=\"start\" x=\"4661\" y=\"-131.3\" font-family=\"Helvetica,sans-Serif\" font-size=\"14.00\">samples = 5360</text>\r\n",
       "<text text-anchor=\"start\" x=\"4523\" y=\"-116.3\" font-family=\"Helvetica,sans-Serif\" font-size=\"14.00\">value = [0, 19, 163, 214, 105, 859, 93, 763, 669, 325, 2150]</text>\r\n",
       "</g>\r\n",
       "<!-- 4&#45;&gt;8 -->\r\n",
       "<g id=\"edge20\" class=\"edge\"><title>4&#45;&gt;8</title>\r\n",
       "<path fill=\"none\" stroke=\"black\" d=\"M3680.51,-1684.96C3817.42,-1479.48 4550.93,-378.504 4689.8,-170.068\"/>\r\n",
       "<polygon fill=\"black\" stroke=\"black\" points=\"4692.78,-171.907 4695.41,-161.644 4686.96,-168.026 4692.78,-171.907\"/>\r\n",
       "</g>\r\n",
       "<!-- 15 -->\r\n",
       "<g id=\"node17\" class=\"node\"><title>15</title>\r\n",
       "<path fill=\"#f5fdfe\" stroke=\"black\" d=\"M3649,-161.5C3649,-161.5 3212,-161.5 3212,-161.5 3206,-161.5 3200,-155.5 3200,-149.5 3200,-149.5 3200,-120.5 3200,-120.5 3200,-114.5 3206,-108.5 3212,-108.5 3212,-108.5 3649,-108.5 3649,-108.5 3655,-108.5 3661,-114.5 3661,-120.5 3661,-120.5 3661,-149.5 3661,-149.5 3661,-155.5 3655,-161.5 3649,-161.5\"/>\r\n",
       "<text text-anchor=\"start\" x=\"3397\" y=\"-146.3\" font-family=\"Helvetica,sans-Serif\" font-size=\"14.00\">gini = 0.74</text>\r\n",
       "<text text-anchor=\"start\" x=\"3374.5\" y=\"-131.3\" font-family=\"Helvetica,sans-Serif\" font-size=\"14.00\">samples = 34755</text>\r\n",
       "<text text-anchor=\"start\" x=\"3208\" y=\"-116.3\" font-family=\"Helvetica,sans-Serif\" font-size=\"14.00\">value = [47, 3112, 924, 11293, 710, 12423, 271, 3632, 642, 916, 785]</text>\r\n",
       "</g>\r\n",
       "<!-- 7&#45;&gt;15 -->\r\n",
       "<g id=\"edge16\" class=\"edge\"><title>7&#45;&gt;15</title>\r\n",
       "<path fill=\"none\" stroke=\"black\" d=\"M3651.3,-1156.72C3617.34,-999.723 3473.36,-334.113 3438.24,-171.803\"/>\r\n",
       "<polygon fill=\"black\" stroke=\"black\" points=\"3441.63,-170.884 3436.09,-161.85 3434.79,-172.364 3441.63,-170.884\"/>\r\n",
       "</g>\r\n",
       "<!-- 16 -->\r\n",
       "<g id=\"node18\" class=\"node\"><title>16</title>\r\n",
       "<path fill=\"#d6f5fa\" stroke=\"black\" d=\"M4092,-697C4092,-697 3679,-697 3679,-697 3673,-697 3667,-691 3667,-685 3667,-685 3667,-641 3667,-641 3667,-635 3673,-629 3679,-629 3679,-629 4092,-629 4092,-629 4098,-629 4104,-635 4104,-641 4104,-641 4104,-685 4104,-685 4104,-691 4098,-697 4092,-697\"/>\r\n",
       "<text text-anchor=\"start\" x=\"3830\" y=\"-681.8\" font-family=\"Helvetica,sans-Serif\" font-size=\"14.00\">Ward_Type ≤ 3.5</text>\r\n",
       "<text text-anchor=\"start\" x=\"3856.5\" y=\"-666.8\" font-family=\"Helvetica,sans-Serif\" font-size=\"14.00\">gini = 0.8</text>\r\n",
       "<text text-anchor=\"start\" x=\"3829.5\" y=\"-651.8\" font-family=\"Helvetica,sans-Serif\" font-size=\"14.00\">samples = 11145</text>\r\n",
       "<text text-anchor=\"start\" x=\"3675\" y=\"-636.8\" font-family=\"Helvetica,sans-Serif\" font-size=\"14.00\">value = [0, 603, 457, 2100, 177, 3991, 121, 849, 1625, 204, 1018]</text>\r\n",
       "</g>\r\n",
       "<!-- 7&#45;&gt;16 -->\r\n",
       "<g id=\"edge17\" class=\"edge\"><title>7&#45;&gt;16</title>\r\n",
       "<path fill=\"none\" stroke=\"black\" d=\"M3672.87,-1156.7C3712.48,-1064.92 3823.17,-808.432 3867.15,-706.526\"/>\r\n",
       "<polygon fill=\"black\" stroke=\"black\" points=\"3870.44,-707.725 3871.19,-697.157 3864.01,-704.952 3870.44,-707.725\"/>\r\n",
       "</g>\r\n",
       "<!-- 19 -->\r\n",
       "<g id=\"node19\" class=\"node\"><title>19</title>\r\n",
       "<path fill=\"#e3f8fb\" stroke=\"black\" d=\"M4079.5,-161.5C4079.5,-161.5 3691.5,-161.5 3691.5,-161.5 3685.5,-161.5 3679.5,-155.5 3679.5,-149.5 3679.5,-149.5 3679.5,-120.5 3679.5,-120.5 3679.5,-114.5 3685.5,-108.5 3691.5,-108.5 3691.5,-108.5 4079.5,-108.5 4079.5,-108.5 4085.5,-108.5 4091.5,-114.5 4091.5,-120.5 4091.5,-120.5 4091.5,-149.5 4091.5,-149.5 4091.5,-155.5 4085.5,-161.5 4079.5,-161.5\"/>\r\n",
       "<text text-anchor=\"start\" x=\"3852\" y=\"-146.3\" font-family=\"Helvetica,sans-Serif\" font-size=\"14.00\">gini = 0.77</text>\r\n",
       "<text text-anchor=\"start\" x=\"3834\" y=\"-131.3\" font-family=\"Helvetica,sans-Serif\" font-size=\"14.00\">samples = 7171</text>\r\n",
       "<text text-anchor=\"start\" x=\"3687.5\" y=\"-116.3\" font-family=\"Helvetica,sans-Serif\" font-size=\"14.00\">value = [0, 567, 170, 1938, 102, 2668, 60, 671, 505, 162, 328]</text>\r\n",
       "</g>\r\n",
       "<!-- 16&#45;&gt;19 -->\r\n",
       "<g id=\"edge18\" class=\"edge\"><title>16&#45;&gt;19</title>\r\n",
       "<path fill=\"none\" stroke=\"black\" d=\"M3885.5,-628.697C3885.5,-534.881 3885.5,-268.945 3885.5,-171.961\"/>\r\n",
       "<polygon fill=\"black\" stroke=\"black\" points=\"3889,-171.784 3885.5,-161.784 3882,-171.784 3889,-171.784\"/>\r\n",
       "</g>\r\n",
       "<!-- 20 -->\r\n",
       "<g id=\"node20\" class=\"node\"><title>20</title>\r\n",
       "<path fill=\"#f1fcfd\" stroke=\"black\" d=\"M4485,-161.5C4485,-161.5 4122,-161.5 4122,-161.5 4116,-161.5 4110,-155.5 4110,-149.5 4110,-149.5 4110,-120.5 4110,-120.5 4110,-114.5 4116,-108.5 4122,-108.5 4122,-108.5 4485,-108.5 4485,-108.5 4491,-108.5 4497,-114.5 4497,-120.5 4497,-120.5 4497,-149.5 4497,-149.5 4497,-155.5 4491,-161.5 4485,-161.5\"/>\r\n",
       "<text text-anchor=\"start\" x=\"4270\" y=\"-146.3\" font-family=\"Helvetica,sans-Serif\" font-size=\"14.00\">gini = 0.77</text>\r\n",
       "<text text-anchor=\"start\" x=\"4252\" y=\"-131.3\" font-family=\"Helvetica,sans-Serif\" font-size=\"14.00\">samples = 3974</text>\r\n",
       "<text text-anchor=\"start\" x=\"4118\" y=\"-116.3\" font-family=\"Helvetica,sans-Serif\" font-size=\"14.00\">value = [0, 36, 287, 162, 75, 1323, 61, 178, 1120, 42, 690]</text>\r\n",
       "</g>\r\n",
       "<!-- 16&#45;&gt;20 -->\r\n",
       "<g id=\"edge19\" class=\"edge\"><title>16&#45;&gt;20</title>\r\n",
       "<path fill=\"none\" stroke=\"black\" d=\"M3911.96,-628.697C3987.12,-534.121 4201.29,-264.622 4276.77,-169.636\"/>\r\n",
       "<polygon fill=\"black\" stroke=\"black\" points=\"4279.53,-171.791 4283.01,-161.784 4274.05,-167.436 4279.53,-171.791\"/>\r\n",
       "</g>\r\n",
       "</g>\r\n",
       "</svg>\r\n"
      ],
      "text/plain": [
       "<graphviz.files.Source at 0x17d170203a0>"
      ]
     },
     "execution_count": 40,
     "metadata": {},
     "output_type": "execute_result"
    }
   ],
   "source": [
    "draw_tree(m, xs, size=10, leaves_parallel=True, precision=2)"
   ]
  },
  {
   "cell_type": "code",
   "execution_count": 41,
   "id": "d3b8f9bb",
   "metadata": {},
   "outputs": [],
   "source": [
    "m = DecisionTreeClassifier()\n",
    "m.fit(xs, y);"
   ]
  },
  {
   "cell_type": "code",
   "execution_count": 42,
   "id": "ee311298",
   "metadata": {},
   "outputs": [
    {
     "data": {
      "text/plain": [
       "1.0"
      ]
     },
     "execution_count": 42,
     "metadata": {},
     "output_type": "execute_result"
    }
   ],
   "source": [
    "m.score(xs, y)"
   ]
  },
  {
   "cell_type": "code",
   "execution_count": 43,
   "id": "e36d48e3",
   "metadata": {},
   "outputs": [
    {
     "data": {
      "text/plain": [
       "0.3014743982288379"
      ]
     },
     "execution_count": 43,
     "metadata": {},
     "output_type": "execute_result"
    }
   ],
   "source": [
    "m.score(valid_xs, valid_y)"
   ]
  },
  {
   "cell_type": "code",
   "execution_count": 44,
   "id": "973a8684",
   "metadata": {},
   "outputs": [
    {
     "data": {
      "text/plain": [
       "(114304, 254751)"
      ]
     },
     "execution_count": 44,
     "metadata": {},
     "output_type": "execute_result"
    }
   ],
   "source": [
    "m.get_n_leaves(), len(xs)"
   ]
  },
  {
   "cell_type": "code",
   "execution_count": 53,
   "id": "d962c607",
   "metadata": {},
   "outputs": [
    {
     "data": {
      "text/plain": [
       "(0.35915855089872073, 0.3558654042426241)"
      ]
     },
     "execution_count": 53,
     "metadata": {},
     "output_type": "execute_result"
    }
   ],
   "source": [
    "m = DecisionTreeClassifier(min_samples_leaf=19000)\n",
    "m.fit(xs, y);\n",
    "m.score(xs, y), m.score(valid_xs, valid_y)"
   ]
  },
  {
   "cell_type": "code",
   "execution_count": 54,
   "id": "57b6bb8b",
   "metadata": {},
   "outputs": [
    {
     "data": {
      "text/plain": [
       "11"
      ]
     },
     "execution_count": 54,
     "metadata": {},
     "output_type": "execute_result"
    }
   ],
   "source": [
    "m.get_n_leaves()"
   ]
  },
  {
   "cell_type": "code",
   "execution_count": 55,
   "id": "50260cca",
   "metadata": {},
   "outputs": [],
   "source": [
    "def rf(xs, y, n_estimators=100, max_samples=200_000,\n",
    "       max_features=0.5, min_samples_leaf=5, **kwargs):\n",
    "    return RandomForestClassifier(n_jobs=-1, n_estimators=n_estimators,\n",
    "        max_samples=max_samples, max_features=max_features,\n",
    "        min_samples_leaf=min_samples_leaf, oob_score=True).fit(xs, y)"
   ]
  },
  {
   "cell_type": "code",
   "execution_count": 56,
   "id": "759b937a",
   "metadata": {},
   "outputs": [],
   "source": [
    "m = rf(xs, y);"
   ]
  },
  {
   "cell_type": "code",
   "execution_count": 57,
   "id": "d71826d1",
   "metadata": {},
   "outputs": [
    {
     "data": {
      "text/plain": [
       "(0.7028863478455433, 0.42171871810573586)"
      ]
     },
     "execution_count": 57,
     "metadata": {},
     "output_type": "execute_result"
    }
   ],
   "source": [
    "m.score(xs, y), m.score(valid_xs, valid_y)"
   ]
  },
  {
   "cell_type": "code",
   "execution_count": 58,
   "id": "5074faa8",
   "metadata": {},
   "outputs": [],
   "source": [
    "preds = np.stack([t.predict(valid_xs) for t in m.estimators_])"
   ]
  },
  {
   "cell_type": "code",
   "execution_count": 59,
   "id": "a6025f2b",
   "metadata": {},
   "outputs": [
    {
     "data": {
      "text/plain": [
       "0.049287923752100116"
      ]
     },
     "execution_count": 59,
     "metadata": {},
     "output_type": "execute_result"
    }
   ],
   "source": [
    "accuracy_score(np.amax(preds, axis=0), valid_y)"
   ]
  },
  {
   "cell_type": "code",
   "execution_count": 60,
   "id": "80d614ef",
   "metadata": {},
   "outputs": [
    {
     "data": {
      "text/plain": [
       "[<matplotlib.lines.Line2D at 0x17d83d65700>]"
      ]
     },
     "execution_count": 60,
     "metadata": {},
     "output_type": "execute_result"
    },
    {
     "data": {
      "image/png": "[encoded data removed]",
      "text/plain": [
       "<Figure size 432x288 with 1 Axes>"
      ]
     },
     "metadata": {
      "needs_background": "light"
     },
     "output_type": "display_data"
    }
   ],
   "source": [
    "plt.plot([accuracy_score(np.amax(preds[:i+1], axis=0), valid_y) for i in range(100)])"
   ]
  },
  {
   "cell_type": "code",
   "execution_count": 61,
   "id": "8c7ee8dd",
   "metadata": {},
   "outputs": [
    {
     "data": {
      "text/plain": [
       "0.4183143540162747"
      ]
     },
     "execution_count": 61,
     "metadata": {},
     "output_type": "execute_result"
    }
   ],
   "source": [
    "accuracy_score((m.oob_decision_function_).argmax(axis=-1), y)"
   ]
  },
  {
   "cell_type": "code",
   "execution_count": 62,
   "id": "8aa26b4b",
   "metadata": {},
   "outputs": [],
   "source": [
    "preds = np.stack([t.predict(valid_xs) for t in m.estimators_])"
   ]
  },
  {
   "cell_type": "code",
   "execution_count": 63,
   "id": "420b8e5b",
   "metadata": {},
   "outputs": [
    {
     "data": {
      "text/plain": [
       "(100, 63687)"
      ]
     },
     "execution_count": 63,
     "metadata": {},
     "output_type": "execute_result"
    }
   ],
   "source": [
    "preds.shape"
   ]
  },
  {
   "cell_type": "code",
   "execution_count": 64,
   "id": "4a76f5ce",
   "metadata": {},
   "outputs": [],
   "source": [
    "preds_std = preds.std(0)"
   ]
  },
  {
   "cell_type": "code",
   "execution_count": 65,
   "id": "dfe2db3a",
   "metadata": {},
   "outputs": [
    {
     "data": {
      "text/plain": [
       "array([1.67029937, 1.40978722, 1.13030969, 0.71351244, 0.80467385])"
      ]
     },
     "execution_count": 65,
     "metadata": {},
     "output_type": "execute_result"
    }
   ],
   "source": [
    "preds_std[:5]"
   ]
  },
  {
   "cell_type": "code",
   "execution_count": 66,
   "id": "0728e737",
   "metadata": {},
   "outputs": [],
   "source": [
    "def rf_feat_importance(m, df):\n",
    "    return pd.DataFrame({'cols':df.columns, 'imp':m.feature_importances_}).sort_values('imp', ascending=False)"
   ]
  },
  {
   "cell_type": "code",
   "execution_count": 67,
   "id": "00887f5c",
   "metadata": {},
   "outputs": [
    {
     "data": {
      "text/html": [
       "<div>\n",
       "<style scoped>\n",
       "    .dataframe tbody tr th:only-of-type {\n",
       "        vertical-align: middle;\n",
       "    }\n",
       "\n",
       "    .dataframe tbody tr th {\n",
       "        vertical-align: top;\n",
       "    }\n",
       "\n",
       "    .dataframe thead th {\n",
       "        text-align: right;\n",
       "    }\n",
       "</style>\n",
       "<table border=\"1\" class=\"dataframe\">\n",
       "  <thead>\n",
       "    <tr style=\"text-align: right;\">\n",
       "      <th></th>\n",
       "      <th>cols</th>\n",
       "      <th>imp</th>\n",
       "    </tr>\n",
       "  </thead>\n",
       "  <tbody>\n",
       "    <tr>\n",
       "      <th>18</th>\n",
       "      <td>Admission_Deposit</td>\n",
       "      <td>0.157142</td>\n",
       "    </tr>\n",
       "    <tr>\n",
       "      <th>8</th>\n",
       "      <td>case_id</td>\n",
       "      <td>0.146705</td>\n",
       "    </tr>\n",
       "    <tr>\n",
       "      <th>17</th>\n",
       "      <td>Patient_Visitors</td>\n",
       "      <td>0.143534</td>\n",
       "    </tr>\n",
       "    <tr>\n",
       "      <th>15</th>\n",
       "      <td>patientid</td>\n",
       "      <td>0.139562</td>\n",
       "    </tr>\n",
       "    <tr>\n",
       "      <th>5</th>\n",
       "      <td>Age</td>\n",
       "      <td>0.057406</td>\n",
       "    </tr>\n",
       "    <tr>\n",
       "      <th>1</th>\n",
       "      <td>Ward_Type</td>\n",
       "      <td>0.057052</td>\n",
       "    </tr>\n",
       "    <tr>\n",
       "      <th>16</th>\n",
       "      <td>City_Code_Patient</td>\n",
       "      <td>0.055462</td>\n",
       "    </tr>\n",
       "    <tr>\n",
       "      <th>9</th>\n",
       "      <td>Hospital</td>\n",
       "      <td>0.043215</td>\n",
       "    </tr>\n",
       "    <tr>\n",
       "      <th>13</th>\n",
       "      <td>Available_Extra_Rooms_in_Hospital</td>\n",
       "      <td>0.039867</td>\n",
       "    </tr>\n",
       "    <tr>\n",
       "      <th>14</th>\n",
       "      <td>Bed_Grade</td>\n",
       "      <td>0.033706</td>\n",
       "    </tr>\n",
       "    <tr>\n",
       "      <th>3</th>\n",
       "      <td>Type of Admission</td>\n",
       "      <td>0.024806</td>\n",
       "    </tr>\n",
       "    <tr>\n",
       "      <th>11</th>\n",
       "      <td>Hospital_city</td>\n",
       "      <td>0.023700</td>\n",
       "    </tr>\n",
       "    <tr>\n",
       "      <th>4</th>\n",
       "      <td>Illness_Severity</td>\n",
       "      <td>0.023248</td>\n",
       "    </tr>\n",
       "    <tr>\n",
       "      <th>10</th>\n",
       "      <td>Hospital_type</td>\n",
       "      <td>0.017202</td>\n",
       "    </tr>\n",
       "    <tr>\n",
       "      <th>2</th>\n",
       "      <td>Ward_Facility</td>\n",
       "      <td>0.015577</td>\n",
       "    </tr>\n",
       "    <tr>\n",
       "      <th>0</th>\n",
       "      <td>Department</td>\n",
       "      <td>0.012887</td>\n",
       "    </tr>\n",
       "    <tr>\n",
       "      <th>12</th>\n",
       "      <td>Hospital_region</td>\n",
       "      <td>0.008381</td>\n",
       "    </tr>\n",
       "    <tr>\n",
       "      <th>7</th>\n",
       "      <td>City_Code_Patient_na</td>\n",
       "      <td>0.000539</td>\n",
       "    </tr>\n",
       "    <tr>\n",
       "      <th>6</th>\n",
       "      <td>Bed_Grade_na</td>\n",
       "      <td>0.000009</td>\n",
       "    </tr>\n",
       "  </tbody>\n",
       "</table>\n",
       "</div>"
      ],
      "text/plain": [
       "                                 cols       imp\n",
       "18                  Admission_Deposit  0.157142\n",
       "8                             case_id  0.146705\n",
       "17                   Patient_Visitors  0.143534\n",
       "15                          patientid  0.139562\n",
       "5                                 Age  0.057406\n",
       "1                           Ward_Type  0.057052\n",
       "16                  City_Code_Patient  0.055462\n",
       "9                            Hospital  0.043215\n",
       "13  Available_Extra_Rooms_in_Hospital  0.039867\n",
       "14                          Bed_Grade  0.033706\n",
       "3                   Type of Admission  0.024806\n",
       "11                      Hospital_city  0.023700\n",
       "4                    Illness_Severity  0.023248\n",
       "10                      Hospital_type  0.017202\n",
       "2                       Ward_Facility  0.015577\n",
       "0                          Department  0.012887\n",
       "12                    Hospital_region  0.008381\n",
       "7                City_Code_Patient_na  0.000539\n",
       "6                        Bed_Grade_na  0.000009"
      ]
     },
     "execution_count": 67,
     "metadata": {},
     "output_type": "execute_result"
    }
   ],
   "source": [
    "fi = rf_feat_importance(m, xs)\n",
    "fi"
   ]
  },
  {
   "cell_type": "code",
   "execution_count": 68,
   "id": "dc79404e",
   "metadata": {},
   "outputs": [],
   "source": [
    "def plot_fi(fi):\n",
    "    return fi.plot('cols', 'imp', 'barh', figsize=(12, 7), legend=False)"
   ]
  },
  {
   "cell_type": "code",
   "execution_count": 69,
   "id": "cdbba044",
   "metadata": {},
   "outputs": [
    {
     "data": {
      "image/png": "[encoded data removed]",
      "text/plain": [
       "<Figure size 864x504 with 1 Axes>"
      ]
     },
     "metadata": {
      "needs_background": "light"
     },
     "output_type": "display_data"
    }
   ],
   "source": [
    "plot_fi(fi);"
   ]
  },
  {
   "cell_type": "code",
   "execution_count": 70,
   "id": "cc77fd35",
   "metadata": {},
   "outputs": [
    {
     "data": {
      "text/plain": [
       "17"
      ]
     },
     "execution_count": 70,
     "metadata": {},
     "output_type": "execute_result"
    }
   ],
   "source": [
    "to_keep = fi[fi.imp>0.005].cols\n",
    "len(to_keep)"
   ]
  },
  {
   "cell_type": "code",
   "execution_count": 71,
   "id": "509fd0df",
   "metadata": {},
   "outputs": [],
   "source": [
    "xs_imp = xs[to_keep]\n",
    "valid_xs_imp = valid_xs[to_keep]"
   ]
  },
  {
   "cell_type": "code",
   "execution_count": 72,
   "id": "ec1726a0",
   "metadata": {},
   "outputs": [],
   "source": [
    "m = rf(xs_imp, y)"
   ]
  },
  {
   "cell_type": "code",
   "execution_count": 73,
   "id": "783a3d77",
   "metadata": {},
   "outputs": [
    {
     "data": {
      "text/plain": [
       "(0.7015006810571892, 0.4218443324383312)"
      ]
     },
     "execution_count": 73,
     "metadata": {},
     "output_type": "execute_result"
    }
   ],
   "source": [
    "m.score(xs_imp, y), m.score(valid_xs_imp, valid_y)"
   ]
  },
  {
   "cell_type": "code",
   "execution_count": 74,
   "id": "4910ccc8",
   "metadata": {},
   "outputs": [
    {
     "data": {
      "text/plain": [
       "(19, 17)"
      ]
     },
     "execution_count": 74,
     "metadata": {},
     "output_type": "execute_result"
    }
   ],
   "source": [
    "len(xs.columns), len(xs_imp.columns)"
   ]
  },
  {
   "cell_type": "code",
   "execution_count": 75,
   "id": "f6714723",
   "metadata": {},
   "outputs": [
    {
     "data": {
      "image/png": "[encoded data removed]",
      "text/plain": [
       "<Figure size 864x504 with 1 Axes>"
      ]
     },
     "metadata": {
      "needs_background": "light"
     },
     "output_type": "display_data"
    }
   ],
   "source": [
    "plot_fi(rf_feat_importance(m, xs_imp));"
   ]
  },
  {
   "cell_type": "code",
   "execution_count": 76,
   "id": "51554a92",
   "metadata": {},
   "outputs": [
    {
     "data": {
      "image/png": "[encoded data removed]",
      "text/plain": [
       "<Figure size 720x432 with 1 Axes>"
      ]
     },
     "metadata": {
      "needs_background": "light"
     },
     "output_type": "display_data"
    }
   ],
   "source": [
    "cluster_columns(xs_imp)"
   ]
  },
  {
   "cell_type": "code",
   "execution_count": 77,
   "id": "f42e0cc4",
   "metadata": {},
   "outputs": [],
   "source": [
    "def get_oob(df):\n",
    "    m = RandomForestClassifier(n_jobs=-1, n_estimators=100, min_samples_leaf=19000, oob_score=True)\n",
    "    m.fit(df, y)\n",
    "    return m.oob_decision_function_"
   ]
  },
  {
   "cell_type": "code",
   "execution_count": 78,
   "id": "4a8b0926",
   "metadata": {},
   "outputs": [
    {
     "data": {
      "text/plain": [
       "array([2, 1, 2, ..., 1, 2, 2], dtype=int64)"
      ]
     },
     "execution_count": 78,
     "metadata": {},
     "output_type": "execute_result"
    }
   ],
   "source": [
    "get_oob(xs_imp).argmax(axis=-1)"
   ]
  },
  {
   "cell_type": "code",
   "execution_count": 79,
   "id": "039f6707",
   "metadata": {},
   "outputs": [],
   "source": [
    "xs_final = xs_imp\n",
    "valid_xs_final = valid_xs_imp"
   ]
  },
  {
   "cell_type": "code",
   "execution_count": 80,
   "id": "1af3983b",
   "metadata": {},
   "outputs": [
    {
     "data": {
      "text/plain": [
       "(0.7008569151838462, 0.4221897718529684)"
      ]
     },
     "execution_count": 80,
     "metadata": {},
     "output_type": "execute_result"
    }
   ],
   "source": [
    "m = rf(xs_final, y)\n",
    "m.score(xs_final, y), m.score(valid_xs_final, valid_y)"
   ]
  },
  {
   "cell_type": "code",
   "execution_count": 81,
   "id": "ac065c77",
   "metadata": {},
   "outputs": [],
   "source": [
    "row = valid_xs_final.iloc[:10]"
   ]
  },
  {
   "cell_type": "code",
   "execution_count": 82,
   "id": "740153bf",
   "metadata": {},
   "outputs": [],
   "source": [
    "predictions, bias, contributions = treeinterpreter.predict(m, row.values)"
   ]
  },
  {
   "cell_type": "code",
   "execution_count": 83,
   "id": "2c8ce036",
   "metadata": {},
   "outputs": [
    {
     "data": {
      "text/plain": [
       "(array([0.        , 0.14398199, 0.00326923, 0.44301028, 0.00428571, 0.28690848, 0.00414787, 0.04591389, 0.04422486, 0.00542857, 0.01882912]),\n",
       " array([0.07389295, 0.24510045, 0.2756009 , 0.1724138 , 0.0368051 , 0.11054985, 0.0086635 , 0.032269  , 0.01518625, 0.00853345, 0.02098475]),\n",
       " array([[-3.19099415e-03, -1.19832762e-03, -4.73383802e-03, -4.15007777e-03, -3.84228001e-03,  2.05707477e-02, -3.78288755e-03,  2.46381658e-03, -2.71677524e-03, -6.28292252e-04,  1.20890838e-03],\n",
       "        [ 9.21671389e-05, -1.78129358e-03, -2.09375833e-03,  6.96963336e-03, -3.76619048e-03,  3.11837988e-03, -1.52459547e-03,  1.26651133e-03, -8.76204812e-04,  1.67197863e-03, -3.07662766e-03],\n",
       "        [-6.35339039e-02, -1.49041506e-01, -1.81182054e-01,  8.97073506e-02, -1.06782108e-02,  1.82323916e-01,  2.82342349e-03,  3.89460038e-02,  5.57866084e-02,  8.26672818e-03,  2.65816448e-02],\n",
       "        [ 2.66662407e-05, -3.09698436e-03, -2.09709468e-03, -1.93261900e-02,  1.38036136e-03,  2.21846364e-02,  1.82575385e-04,  4.20187781e-03,  4.80529212e-03, -2.84935745e-03, -5.41178276e-03],\n",
       "        [ 3.39810986e-05,  7.03425586e-04, -2.36561429e-03,  1.13801253e-02, -2.76958593e-03, -1.32660728e-02,  5.55621522e-04,  6.03128857e-03,  4.27168707e-04, -1.49420323e-04, -5.80917513e-04],\n",
       "        [-1.60077632e-02, -3.66839431e-02, -5.94094862e-02,  4.65894020e-02, -6.45028799e-03,  5.72108583e-02, -8.92484962e-04,  1.82324815e-02, -7.85197744e-03,  5.36695847e-03, -1.03757289e-04],\n",
       "        [ 1.03413334e-03,  1.88034836e-02, -4.12251264e-03,  6.73320101e-02, -3.78371756e-03, -2.20319530e-02, -1.86665571e-03, -2.02907960e-02, -1.16037319e-02, -1.11493058e-02, -1.23209544e-02],\n",
       "        [-1.58546727e-03, -2.66584853e-03, -7.23191898e-03, -4.73116897e-03, -3.25015125e-03,  1.10330559e-02,  1.07996849e-03,  1.99761373e-04,  5.85933195e-04,  1.77830434e-03,  4.78753166e-03],\n",
       "        [ 3.51677046e-03,  1.72476543e-03,  1.34193705e-02,  7.26999341e-03,  1.48561335e-03, -7.89942263e-03, -4.18838972e-04, -3.99869274e-03, -6.39743007e-03,  1.00875633e-04, -8.80300436e-03],\n",
       "        [-9.26658113e-04,  1.10460745e-02, -1.63013807e-02,  2.01307212e-02, -1.12858644e-03, -1.52753629e-02, -7.70085575e-04, -4.38615289e-03,  4.62162584e-03, -1.01113429e-03,  4.00093941e-03],\n",
       "        [ 5.89264030e-03,  3.37767716e-02, -1.32036735e-03, -1.33946248e-02,  1.97465805e-03, -1.64428506e-02,  1.22759923e-03, -3.92569800e-03, -7.13950444e-03,  5.06252307e-04, -1.15487632e-03],\n",
       "        [ 5.11141589e-05,  9.79434343e-03, -5.08277121e-03,  1.49159204e-02, -3.73975004e-03, -1.70679394e-02, -7.97509938e-04, -2.72984453e-03,  3.56357109e-03,  5.16403513e-04,  5.76462573e-04],\n",
       "        [ 8.24499166e-04,  1.42646322e-02,  2.15906292e-03,  5.03316994e-02,  4.43268962e-03, -3.26498994e-02, -1.23044060e-03, -1.52505702e-02, -5.95863945e-03, -5.07822706e-03, -1.18448066e-02],\n",
       "        [ 1.21819468e-04, -7.98897606e-04, -2.92171709e-04, -4.93615615e-03,  4.76263413e-05, -8.75361546e-05,  3.56121742e-04,  2.74264880e-03,  1.17941930e-03,  7.64117389e-04,  9.03008588e-04],\n",
       "        [-2.75807973e-04,  3.06242386e-03, -1.78926663e-03,  2.81372867e-04, -1.62341172e-03,  4.41246426e-03,  1.43586022e-04, -7.17198539e-03,  4.35999921e-04, -5.64300880e-04,  3.08892567e-03],\n",
       "        [ 3.17411769e-05,  5.26781166e-04,  4.00306774e-05,  8.29128135e-04,  2.76307105e-04, -1.50408016e-03,  1.44212104e-04, -6.97800250e-04,  4.61004594e-04, -2.02742223e-04,  9.54176744e-05],\n",
       "        [ 2.11203862e-06,  4.45637503e-04,  7.21015202e-05,  1.39733927e-03, -1.08446926e-03,  1.72968774e-03,  2.54760452e-04, -1.98795473e-03, -2.83751268e-04, -4.43716753e-04, -1.01746522e-04]]))"
      ]
     },
     "execution_count": 83,
     "metadata": {},
     "output_type": "execute_result"
    }
   ],
   "source": [
    "predictions[0], bias[0], contributions[0]"
   ]
  },
  {
   "cell_type": "code",
   "execution_count": 84,
   "id": "2aea8192",
   "metadata": {},
   "outputs": [
    {
     "data": {
      "image/png": "[encoded data removed]",
      "text/plain": [
       "<Figure size 432x288 with 1 Axes>"
      ]
     },
     "metadata": {
      "needs_background": "light"
     },
     "output_type": "display_data"
    }
   ],
   "source": [
    "waterfall(valid_xs_final.columns, np.amax(contributions[0], axis=-1), threshold=0.08, rotation_value=90,formatting='{:,.3f}');"
   ]
  },
  {
   "cell_type": "code",
   "execution_count": null,
   "id": "02862045",
   "metadata": {},
   "outputs": [],
   "source": []
  }
 ],
 "metadata": {
  "kernelspec": {
   "display_name": "Python 3",
   "language": "python",
   "name": "python3"
  },
  "language_info": {
   "codemirror_mode": {
    "name": "ipython",
    "version": 3
   },
   "file_extension": ".py",
   "mimetype": "text/x-python",
   "name": "python",
   "nbconvert_exporter": "python",
   "pygments_lexer": "ipython3",
   "version": "3.8.8"
  }
 },
 "nbformat": 4,
 "nbformat_minor": 5
}
