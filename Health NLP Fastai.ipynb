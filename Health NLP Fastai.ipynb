{
 "cells": [
  {
   "cell_type": "code",
   "execution_count": 1,
   "id": "e80ab5e3",
   "metadata": {},
   "outputs": [],
   "source": [
    "from fastai.text.all import *\n",
    "from fastai.callback.fp16 import *\n",
    "import warnings\n",
    "warnings.filterwarnings('ignore')"
   ]
  },
  {
   "cell_type": "code",
   "execution_count": 2,
   "id": "ab2d2af6",
   "metadata": {},
   "outputs": [],
   "source": [
    "df = pd.read_csv('mtsamples.csv')"
   ]
  },
  {
   "cell_type": "code",
   "execution_count": 3,
   "id": "68825d4d",
   "metadata": {},
   "outputs": [
    {
     "data": {
      "text/html": [
       "<div>\n",
       "<style scoped>\n",
       "    .dataframe tbody tr th:only-of-type {\n",
       "        vertical-align: middle;\n",
       "    }\n",
       "\n",
       "    .dataframe tbody tr th {\n",
       "        vertical-align: top;\n",
       "    }\n",
       "\n",
       "    .dataframe thead th {\n",
       "        text-align: right;\n",
       "    }\n",
       "</style>\n",
       "<table border=\"1\" class=\"dataframe\">\n",
       "  <thead>\n",
       "    <tr style=\"text-align: right;\">\n",
       "      <th></th>\n",
       "      <th>id</th>\n",
       "      <th>description</th>\n",
       "      <th>medical_specialty</th>\n",
       "      <th>sample_name</th>\n",
       "      <th>transcription</th>\n",
       "      <th>keywords</th>\n",
       "    </tr>\n",
       "  </thead>\n",
       "  <tbody>\n",
       "    <tr>\n",
       "      <th>0</th>\n",
       "      <td>0</td>\n",
       "      <td>A 23-year-old white female presents with complaint of allergies.</td>\n",
       "      <td>Allergy / Immunology</td>\n",
       "      <td>Allergic Rhinitis</td>\n",
       "      <td>SUBJECTIVE:,  This 23-year-old white female presents with complaint of allergies.  She used to have allergies when she lived in Seattle but she thinks they are worse here.  In the past, she has tried Claritin, and Zyrtec.  Both worked for short time but then seemed to lose effectiveness.  She has used Allegra also.  She used that last summer and she began using it again two weeks ago.  It does not appear to be working very well.  She has used over-the-counter sprays but no prescription nasal sprays.  She does have asthma but doest not require daily medication for this and does not think it...</td>\n",
       "      <td>allergy / immunology, allergic rhinitis, allergies, asthma, nasal sprays, rhinitis, nasal, erythematous, allegra, sprays, allergic,</td>\n",
       "    </tr>\n",
       "    <tr>\n",
       "      <th>1</th>\n",
       "      <td>1</td>\n",
       "      <td>Consult for laparoscopic gastric bypass.</td>\n",
       "      <td>Bariatrics</td>\n",
       "      <td>Laparoscopic Gastric Bypass Consult - 2</td>\n",
       "      <td>PAST MEDICAL HISTORY:, He has difficulty climbing stairs, difficulty with airline seats, tying shoes, used to public seating, and lifting objects off the floor.  He exercises three times a week at home and does cardio.  He has difficulty walking two blocks or five flights of stairs.  Difficulty with snoring.  He has muscle and joint pains including knee pain, back pain, foot and ankle pain, and swelling.  He has gastroesophageal reflux disease.,PAST SURGICAL HISTORY:, Includes reconstructive surgery on his right hand 13 years ago.  ,SOCIAL HISTORY:, He is currently single.  He has about te...</td>\n",
       "      <td>bariatrics, laparoscopic gastric bypass, weight loss programs, gastric bypass, atkin's diet, weight watcher's, body weight, laparoscopic gastric, weight loss, pounds, months, weight, laparoscopic, band, loss, diets, overweight, lost</td>\n",
       "    </tr>\n",
       "    <tr>\n",
       "      <th>2</th>\n",
       "      <td>2</td>\n",
       "      <td>Consult for laparoscopic gastric bypass.</td>\n",
       "      <td>Bariatrics</td>\n",
       "      <td>Laparoscopic Gastric Bypass Consult - 1</td>\n",
       "      <td>HISTORY OF PRESENT ILLNESS: , I have seen ABC today.  He is a very pleasant gentleman who is 42 years old, 344 pounds.  He is 5'9\".  He has a BMI of 51.  He has been overweight for ten years since the age of 33, at his highest he was 358 pounds, at his lowest 260.  He is pursuing surgical attempts of weight loss to feel good, get healthy, and begin to exercise again.  He wants to be able to exercise and play volleyball.  Physically, he is sluggish.  He gets tired quickly.  He does not go out often.  When he loses weight he always regains it and he gains back more than he lost.  His biggest...</td>\n",
       "      <td>bariatrics, laparoscopic gastric bypass, heart attacks, body weight, pulmonary embolism, potential complications, sleep study, weight loss, gastric bypass, anastomosis, loss, sleep, laparoscopic, gastric, bypass, heart, pounds, weight,</td>\n",
       "    </tr>\n",
       "  </tbody>\n",
       "</table>\n",
       "</div>"
      ],
      "text/plain": [
       "   id                                                        description  \\\n",
       "0   0   A 23-year-old white female presents with complaint of allergies.   \n",
       "1   1                           Consult for laparoscopic gastric bypass.   \n",
       "2   2                           Consult for laparoscopic gastric bypass.   \n",
       "\n",
       "       medical_specialty                                sample_name  \\\n",
       "0   Allergy / Immunology                         Allergic Rhinitis    \n",
       "1             Bariatrics   Laparoscopic Gastric Bypass Consult - 2    \n",
       "2             Bariatrics   Laparoscopic Gastric Bypass Consult - 1    \n",
       "\n",
       "                                                                                                                                                                                                                                                                                                                                                                                                                                                                                                                                                                                                             transcription  \\\n",
       "0  SUBJECTIVE:,  This 23-year-old white female presents with complaint of allergies.  She used to have allergies when she lived in Seattle but she thinks they are worse here.  In the past, she has tried Claritin, and Zyrtec.  Both worked for short time but then seemed to lose effectiveness.  She has used Allegra also.  She used that last summer and she began using it again two weeks ago.  It does not appear to be working very well.  She has used over-the-counter sprays but no prescription nasal sprays.  She does have asthma but doest not require daily medication for this and does not think it...   \n",
       "1  PAST MEDICAL HISTORY:, He has difficulty climbing stairs, difficulty with airline seats, tying shoes, used to public seating, and lifting objects off the floor.  He exercises three times a week at home and does cardio.  He has difficulty walking two blocks or five flights of stairs.  Difficulty with snoring.  He has muscle and joint pains including knee pain, back pain, foot and ankle pain, and swelling.  He has gastroesophageal reflux disease.,PAST SURGICAL HISTORY:, Includes reconstructive surgery on his right hand 13 years ago.  ,SOCIAL HISTORY:, He is currently single.  He has about te...   \n",
       "2  HISTORY OF PRESENT ILLNESS: , I have seen ABC today.  He is a very pleasant gentleman who is 42 years old, 344 pounds.  He is 5'9\".  He has a BMI of 51.  He has been overweight for ten years since the age of 33, at his highest he was 358 pounds, at his lowest 260.  He is pursuing surgical attempts of weight loss to feel good, get healthy, and begin to exercise again.  He wants to be able to exercise and play volleyball.  Physically, he is sluggish.  He gets tired quickly.  He does not go out often.  When he loses weight he always regains it and he gains back more than he lost.  His biggest...   \n",
       "\n",
       "                                                                                                                                                                                                                                      keywords  \n",
       "0                                                                                                          allergy / immunology, allergic rhinitis, allergies, asthma, nasal sprays, rhinitis, nasal, erythematous, allegra, sprays, allergic,  \n",
       "1     bariatrics, laparoscopic gastric bypass, weight loss programs, gastric bypass, atkin's diet, weight watcher's, body weight, laparoscopic gastric, weight loss, pounds, months, weight, laparoscopic, band, loss, diets, overweight, lost  \n",
       "2  bariatrics, laparoscopic gastric bypass, heart attacks, body weight, pulmonary embolism, potential complications, sleep study, weight loss, gastric bypass, anastomosis, loss, sleep, laparoscopic, gastric, bypass, heart, pounds, weight,  "
      ]
     },
     "execution_count": 3,
     "metadata": {},
     "output_type": "execute_result"
    }
   ],
   "source": [
    "df.head(3)"
   ]
  },
  {
   "cell_type": "code",
   "execution_count": 4,
   "id": "12ec3c4f",
   "metadata": {},
   "outputs": [],
   "source": [
    "df = df[df['medical_specialty'] != ' Surgery']"
   ]
  },
  {
   "cell_type": "code",
   "execution_count": 5,
   "id": "1ad65bb4",
   "metadata": {},
   "outputs": [
    {
     "data": {
      "text/plain": [
       "array([' Allergy / Immunology', ' Bariatrics',\n",
       "       ' Cardiovascular / Pulmonary', ' Neurology', ' Dentistry',\n",
       "       ' Urology', ' General Medicine', ' Speech - Language',\n",
       "       ' SOAP / Chart / Progress Notes', ' Sleep Medicine',\n",
       "       ' Rheumatology', ' Radiology', ' Psychiatry / Psychology',\n",
       "       ' Podiatry', ' Physical Medicine - Rehab',\n",
       "       ' Pediatrics - Neonatal', ' Pain Management', ' Orthopedic',\n",
       "       ' Ophthalmology', ' Office Notes', ' Obstetrics / Gynecology',\n",
       "       ' Neurosurgery', ' Nephrology', ' Letters',\n",
       "       ' Lab Medicine - Pathology', ' IME-QME-Work Comp etc.',\n",
       "       ' Hospice - Palliative Care', ' Hematology - Oncology',\n",
       "       ' Gastroenterology', ' ENT - Otolaryngology', ' Endocrinology',\n",
       "       ' Emergency Room Reports', ' Discharge Summary',\n",
       "       ' Diets and Nutritions', ' Dermatology',\n",
       "       ' Cosmetic / Plastic Surgery', ' Consult - History and Phy.',\n",
       "       ' Chiropractic', ' Autopsy'], dtype=object)"
      ]
     },
     "execution_count": 5,
     "metadata": {},
     "output_type": "execute_result"
    }
   ],
   "source": [
    "df['medical_specialty'].unique()"
   ]
  },
  {
   "cell_type": "code",
   "execution_count": 6,
   "id": "e1f75b41",
   "metadata": {},
   "outputs": [],
   "source": [
    "ms_data = df.groupby(['medical_specialty'])"
   ]
  },
  {
   "cell_type": "code",
   "execution_count": 7,
   "id": "e8c7b9f1",
   "metadata": {},
   "outputs": [
    {
     "name": "stdout",
     "output_type": "stream",
     "text": [
      " Allergy / Immunology 7\n",
      " Autopsy 8\n",
      " Bariatrics 18\n",
      " Cardiovascular / Pulmonary 372\n",
      " Chiropractic 14\n",
      " Consult - History and Phy. 516\n",
      " Cosmetic / Plastic Surgery 27\n",
      " Dentistry 27\n",
      " Dermatology 29\n",
      " Diets and Nutritions 10\n",
      " Discharge Summary 108\n",
      " ENT - Otolaryngology 98\n",
      " Emergency Room Reports 75\n",
      " Endocrinology 19\n",
      " Gastroenterology 230\n",
      " General Medicine 259\n",
      " Hematology - Oncology 90\n",
      " Hospice - Palliative Care 6\n",
      " IME-QME-Work Comp etc. 16\n",
      " Lab Medicine - Pathology 8\n",
      " Letters 23\n",
      " Nephrology 81\n",
      " Neurology 223\n",
      " Neurosurgery 94\n",
      " Obstetrics / Gynecology 160\n",
      " Office Notes 51\n",
      " Ophthalmology 83\n",
      " Orthopedic 355\n",
      " Pain Management 62\n",
      " Pediatrics - Neonatal 70\n",
      " Physical Medicine - Rehab 21\n",
      " Podiatry 47\n",
      " Psychiatry / Psychology 53\n",
      " Radiology 273\n",
      " Rheumatology 10\n",
      " SOAP / Chart / Progress Notes 166\n",
      " Sleep Medicine 20\n",
      " Speech - Language 9\n",
      " Urology 158\n"
     ]
    }
   ],
   "source": [
    "for cat, data in ms_data:\n",
    "    print(cat, len(data))"
   ]
  },
  {
   "cell_type": "code",
   "execution_count": 8,
   "id": "466d035d",
   "metadata": {},
   "outputs": [],
   "source": [
    "filt_data = ms_data.filter(lambda x: x.shape[0] > 50)\n",
    "new_filt_data = filt_data.groupby(['medical_specialty']).head(100).reset_index(drop=True)\n",
    "final_data = new_filt_data.groupby(['medical_specialty'])"
   ]
  },
  {
   "cell_type": "code",
   "execution_count": 9,
   "id": "d06d26e1",
   "metadata": {},
   "outputs": [
    {
     "name": "stdout",
     "output_type": "stream",
     "text": [
      " Cardiovascular / Pulmonary 100\n",
      " Consult - History and Phy. 100\n",
      " Discharge Summary 100\n",
      " ENT - Otolaryngology 98\n",
      " Emergency Room Reports 75\n",
      " Gastroenterology 100\n",
      " General Medicine 100\n",
      " Hematology - Oncology 90\n",
      " Nephrology 81\n",
      " Neurology 100\n",
      " Neurosurgery 94\n",
      " Obstetrics / Gynecology 100\n",
      " Office Notes 51\n",
      " Ophthalmology 83\n",
      " Orthopedic 100\n",
      " Pain Management 62\n",
      " Pediatrics - Neonatal 70\n",
      " Psychiatry / Psychology 53\n",
      " Radiology 100\n",
      " SOAP / Chart / Progress Notes 100\n",
      " Urology 100\n"
     ]
    }
   ],
   "source": [
    "for cat, data in final_data:\n",
    "    print(cat, len(data))"
   ]
  },
  {
   "cell_type": "code",
   "execution_count": 10,
   "id": "1738265f",
   "metadata": {},
   "outputs": [],
   "source": [
    "data_df = new_filt_data[['transcription', 'medical_specialty']]"
   ]
  },
  {
   "cell_type": "code",
   "execution_count": 11,
   "id": "2dba1013",
   "metadata": {},
   "outputs": [
    {
     "name": "stdout",
     "output_type": "stream",
     "text": [
      "Due to IPython and Windows limitation, python multiprocessing isn't available now.\n",
      "So `n_workers` has to be changed to 0 to avoid getting stuck\n"
     ]
    },
    {
     "data": {
      "text/html": [
       "<table border=\"1\" class=\"dataframe\">\n",
       "  <thead>\n",
       "    <tr style=\"text-align: right;\">\n",
       "      <th></th>\n",
       "      <th>text</th>\n",
       "      <th>text_</th>\n",
       "    </tr>\n",
       "  </thead>\n",
       "  <tbody>\n",
       "    <tr>\n",
       "      <th>0</th>\n",
       "      <td>xxbos xxup preoperative xxup diagnosis : , xxmaj right renal mass . ,postop xxup diagnosis : , xxmaj right renal mass . ,procedure xxup performed : , xxmaj laparoscopic right radical nephrectomy . ,estimated xxup blood xxup loss : , 100 ml . ,x - rays : , none . ,specimens : , xxmaj right radical nephrectomy specimen . ,complications : , none . ,anesthesia : , general endotracheal . ,drains :</td>\n",
       "      <td>xxup preoperative xxup diagnosis : , xxmaj right renal mass . ,postop xxup diagnosis : , xxmaj right renal mass . ,procedure xxup performed : , xxmaj laparoscopic right radical nephrectomy . ,estimated xxup blood xxup loss : , 100 ml . ,x - rays : , none . ,specimens : , xxmaj right radical nephrectomy specimen . ,complications : , none . ,anesthesia : , general endotracheal . ,drains : ,</td>\n",
       "    </tr>\n",
       "    <tr>\n",
       "      <th>1</th>\n",
       "      <td>foraminal disc osteophyte complex with right - sided uncovertebral and apophyseal joint arthrosis . xxmaj the disc osteophyte complex measures approximately 5 mm in its xxup ap dimension . xxmaj there is minimal posterior annular bulging measuring approximately 2 mm . xxmaj the xxup ap diameter of the central canal has been narrowed to 9 mm . xxup csf remains present surrounding the cord . xxmaj there is probable radicular impingement upon</td>\n",
       "      <td>disc osteophyte complex with right - sided uncovertebral and apophyseal joint arthrosis . xxmaj the disc osteophyte complex measures approximately 5 mm in its xxup ap dimension . xxmaj there is minimal posterior annular bulging measuring approximately 2 mm . xxmaj the xxup ap diameter of the central canal has been narrowed to 9 mm . xxup csf remains present surrounding the cord . xxmaj there is probable radicular impingement upon the</td>\n",
       "    </tr>\n",
       "    <tr>\n",
       "      <th>2</th>\n",
       "      <td>: xxunk xxrep 3 i : xxunk xxup rem : xxunk patient had relatively good sleep xxunk , except for excessive waking . ,respiratory xxup measurements : , xxmaj total apnea / hypopnea 75 , age index 12.3 per hour . xxup rem age index 15 per hour . xxmaj total arousal 101 , arousal index 15.6 per hour . xxmaj oxygen desaturation was down to 88 % . xxmaj longest event</td>\n",
       "      <td>xxunk xxrep 3 i : xxunk xxup rem : xxunk patient had relatively good sleep xxunk , except for excessive waking . ,respiratory xxup measurements : , xxmaj total apnea / hypopnea 75 , age index 12.3 per hour . xxup rem age index 15 per hour . xxmaj total arousal 101 , arousal index 15.6 per hour . xxmaj oxygen desaturation was down to 88 % . xxmaj longest event 35</td>\n",
       "    </tr>\n",
       "  </tbody>\n",
       "</table>"
      ],
      "text/plain": [
       "<IPython.core.display.HTML object>"
      ]
     },
     "metadata": {},
     "output_type": "display_data"
    }
   ],
   "source": [
    "dls_lm = DataBlock(\n",
    "                blocks = TextBlock.from_df('transcription', is_lm=True),\n",
    "                get_x=ColReader('text'), \n",
    "                splitter=RandomSplitter(0.1)\n",
    ").dataloaders(data_df, bs=64)    \n",
    "dls_lm.show_batch(max_n=3)"
   ]
  },
  {
   "cell_type": "code",
   "execution_count": 12,
   "id": "c974a9f6",
   "metadata": {},
   "outputs": [],
   "source": [
    "learn = language_model_learner(\n",
    "    dls_lm, AWD_LSTM, drop_mult=0.3, \n",
    "    metrics=[accuracy, Perplexity()])"
   ]
  },
  {
   "cell_type": "code",
   "execution_count": 13,
   "id": "a84880f4",
   "metadata": {},
   "outputs": [
    {
     "data": {
      "text/html": [
       "<table border=\"1\" class=\"dataframe\">\n",
       "  <thead>\n",
       "    <tr style=\"text-align: left;\">\n",
       "      <th>epoch</th>\n",
       "      <th>train_loss</th>\n",
       "      <th>valid_loss</th>\n",
       "      <th>accuracy</th>\n",
       "      <th>perplexity</th>\n",
       "      <th>time</th>\n",
       "    </tr>\n",
       "  </thead>\n",
       "  <tbody>\n",
       "    <tr>\n",
       "      <td>0</td>\n",
       "      <td>4.431013</td>\n",
       "      <td>4.256220</td>\n",
       "      <td>0.329499</td>\n",
       "      <td>70.542854</td>\n",
       "      <td>00:30</td>\n",
       "    </tr>\n",
       "  </tbody>\n",
       "</table>"
      ],
      "text/plain": [
       "<IPython.core.display.HTML object>"
      ]
     },
     "metadata": {},
     "output_type": "display_data"
    }
   ],
   "source": [
    "learn.fit_one_cycle(1)"
   ]
  },
  {
   "cell_type": "code",
   "execution_count": 14,
   "id": "625bb95b",
   "metadata": {},
   "outputs": [
    {
     "data": {
      "text/plain": [
       "Path('models/mtsamples_1epoch.pth')"
      ]
     },
     "execution_count": 14,
     "metadata": {},
     "output_type": "execute_result"
    }
   ],
   "source": [
    "learn.save('mtsamples_1epoch')"
   ]
  },
  {
   "cell_type": "code",
   "execution_count": 15,
   "id": "9f5aecf2",
   "metadata": {},
   "outputs": [],
   "source": [
    "learn = learn.load('mtsamples_1epoch')"
   ]
  },
  {
   "cell_type": "code",
   "execution_count": 16,
   "id": "1a576bec",
   "metadata": {},
   "outputs": [
    {
     "data": {
      "text/html": [
       "<table border=\"1\" class=\"dataframe\">\n",
       "  <thead>\n",
       "    <tr style=\"text-align: left;\">\n",
       "      <th>epoch</th>\n",
       "      <th>train_loss</th>\n",
       "      <th>valid_loss</th>\n",
       "      <th>accuracy</th>\n",
       "      <th>perplexity</th>\n",
       "      <th>time</th>\n",
       "    </tr>\n",
       "  </thead>\n",
       "  <tbody>\n",
       "    <tr>\n",
       "      <td>0</td>\n",
       "      <td>3.490884</td>\n",
       "      <td>3.323530</td>\n",
       "      <td>0.416983</td>\n",
       "      <td>27.758163</td>\n",
       "      <td>00:30</td>\n",
       "    </tr>\n",
       "  </tbody>\n",
       "</table>"
      ],
      "text/plain": [
       "<IPython.core.display.HTML object>"
      ]
     },
     "metadata": {},
     "output_type": "display_data"
    }
   ],
   "source": [
    "learn.unfreeze()\n",
    "learn.fit_one_cycle(1)"
   ]
  },
  {
   "cell_type": "code",
   "execution_count": 17,
   "id": "113898af",
   "metadata": {},
   "outputs": [],
   "source": [
    "learn.save_encoder('mtsamples_finetuned')"
   ]
  },
  {
   "cell_type": "code",
   "execution_count": 18,
   "id": "6a99047b",
   "metadata": {},
   "outputs": [
    {
     "name": "stdout",
     "output_type": "stream",
     "text": [
      "Due to IPython and Windows limitation, python multiprocessing isn't available now.\n",
      "So `n_workers` has to be changed to 0 to avoid getting stuck\n",
      "Due to IPython and Windows limitation, python multiprocessing isn't available now.\n",
      "So `number_workers` is changed to 0 to avoid getting stuck\n"
     ]
    },
    {
     "data": {
      "text/html": [
       "<table border=\"1\" class=\"dataframe\">\n",
       "  <thead>\n",
       "    <tr style=\"text-align: right;\">\n",
       "      <th></th>\n",
       "      <th>text</th>\n",
       "      <th>category</th>\n",
       "    </tr>\n",
       "  </thead>\n",
       "  <tbody>\n",
       "    <tr>\n",
       "      <th>0</th>\n",
       "      <td>xxbos xxup type xxup of xxup consultation : , xxmaj wound care consult . ,history xxup of xxup present xxup illness : , xxmaj the patient is a 62-year - old woman with a past medical history significant for prior ileojejunal bypass for weight loss ( 1980 ) and then subsequent gastric banding ( 2002 xxmaj dr . xxup x ) who was transferred to this facility following a complicated surgical and postoperative course after takedown of the prior xxunk and bypass ( 07 / 08 / 2008 , xxmaj dr . xxup y ) . xxmaj the patient has been followed by xxmaj cardiothoracic xxmaj surgery ( dr . xxup z ) as an outpatient . xxmaj she had a history of daily postprandial vomiting , regurgitation , and heartburn . xxmaj she underwent a preop assessment of her xxup gerd and postprandial vomiting including nuclear gastric emptying studies</td>\n",
       "      <td>Consult - History and Phy.</td>\n",
       "    </tr>\n",
       "    <tr>\n",
       "      <th>1</th>\n",
       "      <td>xxbos xxup identification xxup of xxup patient : , xxmaj this is a 31-year - old female who was referred by herself . xxmaj she was xxunk seen at xxmaj counseling xxmaj center . xxmaj she is a reliable historian . ,chief xxup complaint : , \" i 'm bipolar and i have severe anxiety disorder . i have posttraumatic stress syndrome . \" , history xxup of xxup present xxup illness : , xxmaj at age 19 , xxmaj ms . xxmaj abc had a recurrence of memories . xxmaj her father had molested her , and the memories returned . xxmaj in 1992 , at the age of 18 , she entered her first abusive marriage . xxmaj she was xxunk and her husband shared her sexually with his friends . xxmaj this lasted until age 24 . xxmaj the second marriage was age 26 , her second</td>\n",
       "      <td>Psychiatry / Psychology</td>\n",
       "    </tr>\n",
       "    <tr>\n",
       "      <th>2</th>\n",
       "      <td>xxbos xxup reason xxup for xxup referral : , xxmaj the patient is a 58-year - old african - american right - handed female with 16 years of education who was referred for a neuropsychological evaluation by xxmaj dr . xxup x. xxmaj she is presenting for a second opinion following a recent neuropsychological evaluation that was ordered by her former place of employment that suggested that she was in the \" early stages of a likely dementia \" and was thereafter terminated from her position as a psychiatric nurse . a comprehensive evaluation was requested to assess current cognitive functioning and assist with diagnostic decisions and treatment planning . xxmaj note that this evaluation was undertaken as a clinical exam and intended for the purposes of xxunk with treatment planning . xxmaj the patient was fully informed about the nature of this evaluation and intended use of the results</td>\n",
       "      <td>Psychiatry / Psychology</td>\n",
       "    </tr>\n",
       "  </tbody>\n",
       "</table>"
      ],
      "text/plain": [
       "<IPython.core.display.HTML object>"
      ]
     },
     "metadata": {},
     "output_type": "display_data"
    }
   ],
   "source": [
    "dls_clas = DataBlock(\n",
    "                blocks = (TextBlock.from_df('transcription'), CategoryBlock),\n",
    "                get_x=ColReader('text'),\n",
    "                get_y=ColReader('medical_specialty'),\n",
    "                splitter=RandomSplitter(0.2)\n",
    ").dataloaders(data_df, bs=64)\n",
    "dls_clas.show_batch(max_n=3)"
   ]
  },
  {
   "cell_type": "code",
   "execution_count": 19,
   "id": "719641c2",
   "metadata": {},
   "outputs": [],
   "source": [
    "learn = text_classifier_learner(dls_clas, AWD_LSTM, drop_mult=0.5, \n",
    "                                metrics=accuracy)"
   ]
  },
  {
   "cell_type": "code",
   "execution_count": 20,
   "id": "2281c04e",
   "metadata": {},
   "outputs": [],
   "source": [
    "learn = learn.load_encoder('mtsamples_finetuned')"
   ]
  },
  {
   "cell_type": "code",
   "execution_count": 21,
   "id": "0b4a44f1",
   "metadata": {},
   "outputs": [
    {
     "data": {
      "text/html": [
       "<table border=\"1\" class=\"dataframe\">\n",
       "  <thead>\n",
       "    <tr style=\"text-align: left;\">\n",
       "      <th>epoch</th>\n",
       "      <th>train_loss</th>\n",
       "      <th>valid_loss</th>\n",
       "      <th>accuracy</th>\n",
       "      <th>time</th>\n",
       "    </tr>\n",
       "  </thead>\n",
       "  <tbody>\n",
       "    <tr>\n",
       "      <td>0</td>\n",
       "      <td>3.104645</td>\n",
       "      <td>2.932493</td>\n",
       "      <td>0.097035</td>\n",
       "      <td>00:08</td>\n",
       "    </tr>\n",
       "    <tr>\n",
       "      <td>1</td>\n",
       "      <td>2.803523</td>\n",
       "      <td>2.463584</td>\n",
       "      <td>0.312668</td>\n",
       "      <td>00:08</td>\n",
       "    </tr>\n",
       "    <tr>\n",
       "      <td>2</td>\n",
       "      <td>2.523131</td>\n",
       "      <td>2.165913</td>\n",
       "      <td>0.369272</td>\n",
       "      <td>00:07</td>\n",
       "    </tr>\n",
       "    <tr>\n",
       "      <td>3</td>\n",
       "      <td>2.287578</td>\n",
       "      <td>2.029305</td>\n",
       "      <td>0.428571</td>\n",
       "      <td>00:07</td>\n",
       "    </tr>\n",
       "    <tr>\n",
       "      <td>4</td>\n",
       "      <td>2.099773</td>\n",
       "      <td>1.924459</td>\n",
       "      <td>0.442049</td>\n",
       "      <td>00:08</td>\n",
       "    </tr>\n",
       "    <tr>\n",
       "      <td>5</td>\n",
       "      <td>1.962154</td>\n",
       "      <td>1.878082</td>\n",
       "      <td>0.458221</td>\n",
       "      <td>00:08</td>\n",
       "    </tr>\n",
       "    <tr>\n",
       "      <td>6</td>\n",
       "      <td>1.845803</td>\n",
       "      <td>1.819276</td>\n",
       "      <td>0.474394</td>\n",
       "      <td>00:08</td>\n",
       "    </tr>\n",
       "    <tr>\n",
       "      <td>7</td>\n",
       "      <td>1.742889</td>\n",
       "      <td>1.804273</td>\n",
       "      <td>0.466307</td>\n",
       "      <td>00:08</td>\n",
       "    </tr>\n",
       "    <tr>\n",
       "      <td>8</td>\n",
       "      <td>1.685616</td>\n",
       "      <td>1.799267</td>\n",
       "      <td>0.477089</td>\n",
       "      <td>00:08</td>\n",
       "    </tr>\n",
       "    <tr>\n",
       "      <td>9</td>\n",
       "      <td>1.636451</td>\n",
       "      <td>1.807369</td>\n",
       "      <td>0.474394</td>\n",
       "      <td>00:08</td>\n",
       "    </tr>\n",
       "  </tbody>\n",
       "</table>"
      ],
      "text/plain": [
       "<IPython.core.display.HTML object>"
      ]
     },
     "metadata": {},
     "output_type": "display_data"
    }
   ],
   "source": [
    "learn.fit_one_cycle(10)"
   ]
  },
  {
   "cell_type": "code",
   "execution_count": null,
   "id": "9de2d4e1",
   "metadata": {},
   "outputs": [],
   "source": []
  }
 ],
 "metadata": {
  "kernelspec": {
   "display_name": "Python 3",
   "language": "python",
   "name": "python3"
  },
  "language_info": {
   "codemirror_mode": {
    "name": "ipython",
    "version": 3
   },
   "file_extension": ".py",
   "mimetype": "text/x-python",
   "name": "python",
   "nbconvert_exporter": "python",
   "pygments_lexer": "ipython3",
   "version": "3.8.8"
  }
 },
 "nbformat": 4,
 "nbformat_minor": 5
}
