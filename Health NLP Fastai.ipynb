{
 "cells": [
  {
   "cell_type": "code",
   "execution_count": 1,
   "id": "e80ab5e3",
   "metadata": {},
   "outputs": [],
   "source": [
    "from fastai.text.all import *\n",
    "from fastai.callback.fp16 import *\n",
    "import warnings\n",
    "warnings.filterwarnings('ignore')"
   ]
  },
  {
   "cell_type": "code",
   "execution_count": 2,
   "id": "bed5bff1",
   "metadata": {},
   "outputs": [],
   "source": [
    "data_path = 'C:/Users/light/Documents/Fastbook/Personal-Machine-Learning-Data/'"
   ]
  },
  {
   "cell_type": "code",
   "execution_count": 3,
   "id": "ab2d2af6",
   "metadata": {},
   "outputs": [],
   "source": [
    "df = pd.read_csv(data_path + 'mtsamples.csv')"
   ]
  },
  {
   "cell_type": "code",
   "execution_count": 4,
   "id": "68825d4d",
   "metadata": {},
   "outputs": [
    {
     "data": {
      "text/html": [
       "<div>\n",
       "<style scoped>\n",
       "    .dataframe tbody tr th:only-of-type {\n",
       "        vertical-align: middle;\n",
       "    }\n",
       "\n",
       "    .dataframe tbody tr th {\n",
       "        vertical-align: top;\n",
       "    }\n",
       "\n",
       "    .dataframe thead th {\n",
       "        text-align: right;\n",
       "    }\n",
       "</style>\n",
       "<table border=\"1\" class=\"dataframe\">\n",
       "  <thead>\n",
       "    <tr style=\"text-align: right;\">\n",
       "      <th></th>\n",
       "      <th>id</th>\n",
       "      <th>description</th>\n",
       "      <th>medical_specialty</th>\n",
       "      <th>sample_name</th>\n",
       "      <th>transcription</th>\n",
       "      <th>keywords</th>\n",
       "    </tr>\n",
       "  </thead>\n",
       "  <tbody>\n",
       "    <tr>\n",
       "      <th>0</th>\n",
       "      <td>0</td>\n",
       "      <td>A 23-year-old white female presents with complaint of allergies.</td>\n",
       "      <td>Allergy / Immunology</td>\n",
       "      <td>Allergic Rhinitis</td>\n",
       "      <td>SUBJECTIVE:,  This 23-year-old white female presents with complaint of allergies.  She used to have allergies when she lived in Seattle but she thinks they are worse here.  In the past, she has tried Claritin, and Zyrtec.  Both worked for short time but then seemed to lose effectiveness.  She has used Allegra also.  She used that last summer and she began using it again two weeks ago.  It does not appear to be working very well.  She has used over-the-counter sprays but no prescription nasal sprays.  She does have asthma but doest not require daily medication for this and does not think it...</td>\n",
       "      <td>allergy / immunology, allergic rhinitis, allergies, asthma, nasal sprays, rhinitis, nasal, erythematous, allegra, sprays, allergic,</td>\n",
       "    </tr>\n",
       "    <tr>\n",
       "      <th>1</th>\n",
       "      <td>1</td>\n",
       "      <td>Consult for laparoscopic gastric bypass.</td>\n",
       "      <td>Bariatrics</td>\n",
       "      <td>Laparoscopic Gastric Bypass Consult - 2</td>\n",
       "      <td>PAST MEDICAL HISTORY:, He has difficulty climbing stairs, difficulty with airline seats, tying shoes, used to public seating, and lifting objects off the floor.  He exercises three times a week at home and does cardio.  He has difficulty walking two blocks or five flights of stairs.  Difficulty with snoring.  He has muscle and joint pains including knee pain, back pain, foot and ankle pain, and swelling.  He has gastroesophageal reflux disease.,PAST SURGICAL HISTORY:, Includes reconstructive surgery on his right hand 13 years ago.  ,SOCIAL HISTORY:, He is currently single.  He has about te...</td>\n",
       "      <td>bariatrics, laparoscopic gastric bypass, weight loss programs, gastric bypass, atkin's diet, weight watcher's, body weight, laparoscopic gastric, weight loss, pounds, months, weight, laparoscopic, band, loss, diets, overweight, lost</td>\n",
       "    </tr>\n",
       "    <tr>\n",
       "      <th>2</th>\n",
       "      <td>2</td>\n",
       "      <td>Consult for laparoscopic gastric bypass.</td>\n",
       "      <td>Bariatrics</td>\n",
       "      <td>Laparoscopic Gastric Bypass Consult - 1</td>\n",
       "      <td>HISTORY OF PRESENT ILLNESS: , I have seen ABC today.  He is a very pleasant gentleman who is 42 years old, 344 pounds.  He is 5'9\".  He has a BMI of 51.  He has been overweight for ten years since the age of 33, at his highest he was 358 pounds, at his lowest 260.  He is pursuing surgical attempts of weight loss to feel good, get healthy, and begin to exercise again.  He wants to be able to exercise and play volleyball.  Physically, he is sluggish.  He gets tired quickly.  He does not go out often.  When he loses weight he always regains it and he gains back more than he lost.  His biggest...</td>\n",
       "      <td>bariatrics, laparoscopic gastric bypass, heart attacks, body weight, pulmonary embolism, potential complications, sleep study, weight loss, gastric bypass, anastomosis, loss, sleep, laparoscopic, gastric, bypass, heart, pounds, weight,</td>\n",
       "    </tr>\n",
       "  </tbody>\n",
       "</table>\n",
       "</div>"
      ],
      "text/plain": [
       "   id                                                        description  \\\n",
       "0   0   A 23-year-old white female presents with complaint of allergies.   \n",
       "1   1                           Consult for laparoscopic gastric bypass.   \n",
       "2   2                           Consult for laparoscopic gastric bypass.   \n",
       "\n",
       "       medical_specialty                                sample_name  \\\n",
       "0   Allergy / Immunology                         Allergic Rhinitis    \n",
       "1             Bariatrics   Laparoscopic Gastric Bypass Consult - 2    \n",
       "2             Bariatrics   Laparoscopic Gastric Bypass Consult - 1    \n",
       "\n",
       "                                                                                                                                                                                                                                                                                                                                                                                                                                                                                                                                                                                                             transcription  \\\n",
       "0  SUBJECTIVE:,  This 23-year-old white female presents with complaint of allergies.  She used to have allergies when she lived in Seattle but she thinks they are worse here.  In the past, she has tried Claritin, and Zyrtec.  Both worked for short time but then seemed to lose effectiveness.  She has used Allegra also.  She used that last summer and she began using it again two weeks ago.  It does not appear to be working very well.  She has used over-the-counter sprays but no prescription nasal sprays.  She does have asthma but doest not require daily medication for this and does not think it...   \n",
       "1  PAST MEDICAL HISTORY:, He has difficulty climbing stairs, difficulty with airline seats, tying shoes, used to public seating, and lifting objects off the floor.  He exercises three times a week at home and does cardio.  He has difficulty walking two blocks or five flights of stairs.  Difficulty with snoring.  He has muscle and joint pains including knee pain, back pain, foot and ankle pain, and swelling.  He has gastroesophageal reflux disease.,PAST SURGICAL HISTORY:, Includes reconstructive surgery on his right hand 13 years ago.  ,SOCIAL HISTORY:, He is currently single.  He has about te...   \n",
       "2  HISTORY OF PRESENT ILLNESS: , I have seen ABC today.  He is a very pleasant gentleman who is 42 years old, 344 pounds.  He is 5'9\".  He has a BMI of 51.  He has been overweight for ten years since the age of 33, at his highest he was 358 pounds, at his lowest 260.  He is pursuing surgical attempts of weight loss to feel good, get healthy, and begin to exercise again.  He wants to be able to exercise and play volleyball.  Physically, he is sluggish.  He gets tired quickly.  He does not go out often.  When he loses weight he always regains it and he gains back more than he lost.  His biggest...   \n",
       "\n",
       "                                                                                                                                                                                                                                      keywords  \n",
       "0                                                                                                          allergy / immunology, allergic rhinitis, allergies, asthma, nasal sprays, rhinitis, nasal, erythematous, allegra, sprays, allergic,  \n",
       "1     bariatrics, laparoscopic gastric bypass, weight loss programs, gastric bypass, atkin's diet, weight watcher's, body weight, laparoscopic gastric, weight loss, pounds, months, weight, laparoscopic, band, loss, diets, overweight, lost  \n",
       "2  bariatrics, laparoscopic gastric bypass, heart attacks, body weight, pulmonary embolism, potential complications, sleep study, weight loss, gastric bypass, anastomosis, loss, sleep, laparoscopic, gastric, bypass, heart, pounds, weight,  "
      ]
     },
     "execution_count": 4,
     "metadata": {},
     "output_type": "execute_result"
    }
   ],
   "source": [
    "df.head(3)"
   ]
  },
  {
   "cell_type": "code",
   "execution_count": 5,
   "id": "12ec3c4f",
   "metadata": {},
   "outputs": [],
   "source": [
    "#df = df[df['medical_specialty'] != ' Surgery']"
   ]
  },
  {
   "cell_type": "code",
   "execution_count": 6,
   "id": "1ad65bb4",
   "metadata": {},
   "outputs": [
    {
     "data": {
      "text/plain": [
       "array([' Allergy / Immunology', ' Bariatrics',\n",
       "       ' Cardiovascular / Pulmonary', ' Neurology', ' Dentistry',\n",
       "       ' Urology', ' General Medicine', ' Surgery', ' Speech - Language',\n",
       "       ' SOAP / Chart / Progress Notes', ' Sleep Medicine',\n",
       "       ' Rheumatology', ' Radiology', ' Psychiatry / Psychology',\n",
       "       ' Podiatry', ' Physical Medicine - Rehab',\n",
       "       ' Pediatrics - Neonatal', ' Pain Management', ' Orthopedic',\n",
       "       ' Ophthalmology', ' Office Notes', ' Obstetrics / Gynecology',\n",
       "       ' Neurosurgery', ' Nephrology', ' Letters',\n",
       "       ' Lab Medicine - Pathology', ' IME-QME-Work Comp etc.',\n",
       "       ' Hospice - Palliative Care', ' Hematology - Oncology',\n",
       "       ' Gastroenterology', ' ENT - Otolaryngology', ' Endocrinology',\n",
       "       ' Emergency Room Reports', ' Discharge Summary',\n",
       "       ' Diets and Nutritions', ' Dermatology',\n",
       "       ' Cosmetic / Plastic Surgery', ' Consult - History and Phy.',\n",
       "       ' Chiropractic', ' Autopsy'], dtype=object)"
      ]
     },
     "execution_count": 6,
     "metadata": {},
     "output_type": "execute_result"
    }
   ],
   "source": [
    "df['medical_specialty'].unique()"
   ]
  },
  {
   "cell_type": "code",
   "execution_count": 7,
   "id": "e1f75b41",
   "metadata": {},
   "outputs": [],
   "source": [
    "ms_data = df.groupby(['medical_specialty'])"
   ]
  },
  {
   "cell_type": "code",
   "execution_count": 8,
   "id": "e8c7b9f1",
   "metadata": {},
   "outputs": [
    {
     "name": "stdout",
     "output_type": "stream",
     "text": [
      " Allergy / Immunology 7\n",
      " Autopsy 8\n",
      " Bariatrics 18\n",
      " Cardiovascular / Pulmonary 372\n",
      " Chiropractic 14\n",
      " Consult - History and Phy. 516\n",
      " Cosmetic / Plastic Surgery 27\n",
      " Dentistry 27\n",
      " Dermatology 29\n",
      " Diets and Nutritions 10\n",
      " Discharge Summary 108\n",
      " ENT - Otolaryngology 98\n",
      " Emergency Room Reports 75\n",
      " Endocrinology 19\n",
      " Gastroenterology 230\n",
      " General Medicine 259\n",
      " Hematology - Oncology 90\n",
      " Hospice - Palliative Care 6\n",
      " IME-QME-Work Comp etc. 16\n",
      " Lab Medicine - Pathology 8\n",
      " Letters 23\n",
      " Nephrology 81\n",
      " Neurology 223\n",
      " Neurosurgery 94\n",
      " Obstetrics / Gynecology 160\n",
      " Office Notes 51\n",
      " Ophthalmology 83\n",
      " Orthopedic 355\n",
      " Pain Management 62\n",
      " Pediatrics - Neonatal 70\n",
      " Physical Medicine - Rehab 21\n",
      " Podiatry 47\n",
      " Psychiatry / Psychology 53\n",
      " Radiology 273\n",
      " Rheumatology 10\n",
      " SOAP / Chart / Progress Notes 166\n",
      " Sleep Medicine 20\n",
      " Speech - Language 9\n",
      " Surgery 1103\n",
      " Urology 158\n"
     ]
    }
   ],
   "source": [
    "for cat, data in ms_data:\n",
    "    print(cat, len(data))"
   ]
  },
  {
   "cell_type": "code",
   "execution_count": 9,
   "id": "466d035d",
   "metadata": {},
   "outputs": [],
   "source": [
    "filt_data = ms_data.filter(lambda x: x.shape[0] > 50)\n",
    "new_filt_data = filt_data.groupby(['medical_specialty']).head(500).reset_index(drop=True)\n",
    "final_data = new_filt_data.groupby(['medical_specialty'])"
   ]
  },
  {
   "cell_type": "code",
   "execution_count": 10,
   "id": "d06d26e1",
   "metadata": {},
   "outputs": [
    {
     "name": "stdout",
     "output_type": "stream",
     "text": [
      " Cardiovascular / Pulmonary 372\n",
      " Consult - History and Phy. 500\n",
      " Discharge Summary 108\n",
      " ENT - Otolaryngology 98\n",
      " Emergency Room Reports 75\n",
      " Gastroenterology 230\n",
      " General Medicine 259\n",
      " Hematology - Oncology 90\n",
      " Nephrology 81\n",
      " Neurology 223\n",
      " Neurosurgery 94\n",
      " Obstetrics / Gynecology 160\n",
      " Office Notes 51\n",
      " Ophthalmology 83\n",
      " Orthopedic 355\n",
      " Pain Management 62\n",
      " Pediatrics - Neonatal 70\n",
      " Psychiatry / Psychology 53\n",
      " Radiology 273\n",
      " SOAP / Chart / Progress Notes 166\n",
      " Surgery 500\n",
      " Urology 158\n"
     ]
    }
   ],
   "source": [
    "for cat, data in final_data:\n",
    "    print(cat, len(data))"
   ]
  },
  {
   "cell_type": "code",
   "execution_count": 11,
   "id": "1738265f",
   "metadata": {},
   "outputs": [],
   "source": [
    "data_df = new_filt_data[['transcription', 'medical_specialty']]"
   ]
  },
  {
   "cell_type": "code",
   "execution_count": 12,
   "id": "2dba1013",
   "metadata": {},
   "outputs": [
    {
     "name": "stdout",
     "output_type": "stream",
     "text": [
      "Due to IPython and Windows limitation, python multiprocessing isn't available now.\n",
      "So `n_workers` has to be changed to 0 to avoid getting stuck\n"
     ]
    },
    {
     "data": {
      "text/html": [
       "<table border=\"1\" class=\"dataframe\">\n",
       "  <thead>\n",
       "    <tr style=\"text-align: right;\">\n",
       "      <th></th>\n",
       "      <th>text</th>\n",
       "      <th>text_</th>\n",
       "    </tr>\n",
       "  </thead>\n",
       "  <tbody>\n",
       "    <tr>\n",
       "      <th>0</th>\n",
       "      <td>xxbos xxup reason xxup for xxup consult : , a patient with non - q - wave myocardial infarction . ,history xxup of xxup present xxup illness : , xxmaj the patient is a pleasant 52-year - old gentleman with a history of diabetes mellitus , hypertension , and renal failure , on dialysis , who presented with emesis , dizziness , and nausea for the last few weeks . xxmaj the</td>\n",
       "      <td>xxup reason xxup for xxup consult : , a patient with non - q - wave myocardial infarction . ,history xxup of xxup present xxup illness : , xxmaj the patient is a pleasant 52-year - old gentleman with a history of diabetes mellitus , hypertension , and renal failure , on dialysis , who presented with emesis , dizziness , and nausea for the last few weeks . xxmaj the patient</td>\n",
       "    </tr>\n",
       "    <tr>\n",
       "      <th>1</th>\n",
       "      <td>an echocardiogram along with the stress test before and it was normal . xxmaj we will do an outpatient followup . xxbos xxup admitting xxup diagnosis : , xxmaj kawasaki disease . ,discharge xxup diagnosis : , xxmaj kawasaki disease , resolving . ,hospital xxup course : , xxmaj this is a 14-month - old baby boy xxmaj caucasian who came in with presumptive diagnosis of xxmaj kawasaki with fever for more</td>\n",
       "      <td>echocardiogram along with the stress test before and it was normal . xxmaj we will do an outpatient followup . xxbos xxup admitting xxup diagnosis : , xxmaj kawasaki disease . ,discharge xxup diagnosis : , xxmaj kawasaki disease , resolving . ,hospital xxup course : , xxmaj this is a 14-month - old baby boy xxmaj caucasian who came in with presumptive diagnosis of xxmaj kawasaki with fever for more than</td>\n",
       "    </tr>\n",
       "    <tr>\n",
       "      <th>2</th>\n",
       "      <td>electrocautery another xxmaj dorsey dissector was used to carefully dissect the gallbladder off the liver bed wall . xxmaj the gallbladder was removed and the bleeding from the gallbladder wall was easily controlled with electrocautery . xxmaj the abdomen was then irrigated with copious amounts of normal saline . xxmaj the gallbladder was grasped with a gallbladder grasper and removed from the subxiphoid port . xxmaj there was noted to be gallstones</td>\n",
       "      <td>another xxmaj dorsey dissector was used to carefully dissect the gallbladder off the liver bed wall . xxmaj the gallbladder was removed and the bleeding from the gallbladder wall was easily controlled with electrocautery . xxmaj the abdomen was then irrigated with copious amounts of normal saline . xxmaj the gallbladder was grasped with a gallbladder grasper and removed from the subxiphoid port . xxmaj there was noted to be gallstones within</td>\n",
       "    </tr>\n",
       "  </tbody>\n",
       "</table>"
      ],
      "text/plain": [
       "<IPython.core.display.HTML object>"
      ]
     },
     "metadata": {},
     "output_type": "display_data"
    }
   ],
   "source": [
    "dls_lm = DataBlock(\n",
    "                blocks = TextBlock.from_df('transcription', is_lm=True),\n",
    "                get_x=ColReader('text'), \n",
    "                splitter=RandomSplitter(0.1)\n",
    ").dataloaders(data_df, bs=64)    \n",
    "dls_lm.show_batch(max_n=3)"
   ]
  },
  {
   "cell_type": "code",
   "execution_count": 13,
   "id": "c974a9f6",
   "metadata": {},
   "outputs": [],
   "source": [
    "learn = language_model_learner(\n",
    "    dls_lm, AWD_LSTM, drop_mult=0.3, \n",
    "    metrics=[accuracy, Perplexity()])"
   ]
  },
  {
   "cell_type": "code",
   "execution_count": 14,
   "id": "a84880f4",
   "metadata": {},
   "outputs": [
    {
     "data": {
      "text/html": [
       "<table border=\"1\" class=\"dataframe\">\n",
       "  <thead>\n",
       "    <tr style=\"text-align: left;\">\n",
       "      <th>epoch</th>\n",
       "      <th>train_loss</th>\n",
       "      <th>valid_loss</th>\n",
       "      <th>accuracy</th>\n",
       "      <th>perplexity</th>\n",
       "      <th>time</th>\n",
       "    </tr>\n",
       "  </thead>\n",
       "  <tbody>\n",
       "    <tr>\n",
       "      <td>0</td>\n",
       "      <td>4.037568</td>\n",
       "      <td>3.925524</td>\n",
       "      <td>0.364133</td>\n",
       "      <td>50.679604</td>\n",
       "      <td>01:24</td>\n",
       "    </tr>\n",
       "  </tbody>\n",
       "</table>"
      ],
      "text/plain": [
       "<IPython.core.display.HTML object>"
      ]
     },
     "metadata": {},
     "output_type": "display_data"
    }
   ],
   "source": [
    "learn.fit_one_cycle(1)"
   ]
  },
  {
   "cell_type": "code",
   "execution_count": 15,
   "id": "625bb95b",
   "metadata": {},
   "outputs": [
    {
     "data": {
      "text/plain": [
       "Path('C:/Users/light/Documents/Fastbook/Personal-Machine-Learning-Data/mtsamples_1epoch.pth')"
      ]
     },
     "execution_count": 15,
     "metadata": {},
     "output_type": "execute_result"
    }
   ],
   "source": [
    "learn.save(data_path + 'mtsamples_1epoch')"
   ]
  },
  {
   "cell_type": "code",
   "execution_count": 16,
   "id": "9f5aecf2",
   "metadata": {},
   "outputs": [],
   "source": [
    "learn = learn.load(data_path + 'mtsamples_1epoch')"
   ]
  },
  {
   "cell_type": "code",
   "execution_count": 17,
   "id": "1a576bec",
   "metadata": {},
   "outputs": [
    {
     "data": {
      "text/html": [
       "<table border=\"1\" class=\"dataframe\">\n",
       "  <thead>\n",
       "    <tr style=\"text-align: left;\">\n",
       "      <th>epoch</th>\n",
       "      <th>train_loss</th>\n",
       "      <th>valid_loss</th>\n",
       "      <th>accuracy</th>\n",
       "      <th>perplexity</th>\n",
       "      <th>time</th>\n",
       "    </tr>\n",
       "  </thead>\n",
       "  <tbody>\n",
       "    <tr>\n",
       "      <td>0</td>\n",
       "      <td>3.168419</td>\n",
       "      <td>3.028724</td>\n",
       "      <td>0.447366</td>\n",
       "      <td>20.670843</td>\n",
       "      <td>01:24</td>\n",
       "    </tr>\n",
       "  </tbody>\n",
       "</table>"
      ],
      "text/plain": [
       "<IPython.core.display.HTML object>"
      ]
     },
     "metadata": {},
     "output_type": "display_data"
    }
   ],
   "source": [
    "learn.unfreeze()\n",
    "learn.fit_one_cycle(1)"
   ]
  },
  {
   "cell_type": "code",
   "execution_count": 18,
   "id": "113898af",
   "metadata": {},
   "outputs": [],
   "source": [
    "learn.save_encoder(data_path + 'mtsamples_finetuned')"
   ]
  },
  {
   "cell_type": "code",
   "execution_count": 19,
   "id": "6a99047b",
   "metadata": {},
   "outputs": [
    {
     "name": "stdout",
     "output_type": "stream",
     "text": [
      "Due to IPython and Windows limitation, python multiprocessing isn't available now.\n",
      "So `n_workers` has to be changed to 0 to avoid getting stuck\n",
      "Due to IPython and Windows limitation, python multiprocessing isn't available now.\n",
      "So `number_workers` is changed to 0 to avoid getting stuck\n"
     ]
    },
    {
     "data": {
      "text/html": [
       "<table border=\"1\" class=\"dataframe\">\n",
       "  <thead>\n",
       "    <tr style=\"text-align: right;\">\n",
       "      <th></th>\n",
       "      <th>text</th>\n",
       "      <th>category</th>\n",
       "    </tr>\n",
       "  </thead>\n",
       "  <tbody>\n",
       "    <tr>\n",
       "      <th>0</th>\n",
       "      <td>xxbos xxup history xxup of xxup present xxup illness : , the patient is a 79-year - old right - handed man who reports that approximately one and a half years ago , he fell down while walking in the living room from the bedroom . xxmaj at that time , he reports both legs gave away on him and he fell . xxmaj he reported that he had some lightheadedness just before he fell and was slightly confused , but was aware of what was happening around him . xxmaj he was able to get up shortly after falling and according to the patient and his son , subsequently returned back to normal . ,he was then well until the 3rd of xxmaj july 2008 when his legs again gave way on him . xxmaj this was not preceded by lightheadedness . xxmaj he was rushed to the hospital</td>\n",
       "      <td>Neurology</td>\n",
       "    </tr>\n",
       "    <tr>\n",
       "      <th>1</th>\n",
       "      <td>xxbos xxup history xxup of xxup present xxup illness : , the patient is a 79-year - old right - handed man who reports that approximately one and a half years ago , he fell down while walking in the living room from the bedroom . xxmaj at that time , he reports both legs gave away on him and he fell . xxmaj he reported that he had some lightheadedness just before he fell and was slightly confused , but was aware of what was happening around him . xxmaj he was able to get up shortly after falling and according to the patient and his son , subsequently returned back to normal . ,he was then well until the 3rd of xxmaj july 2008 when his legs again gave way on him . xxmaj this was not preceded by lightheadedness . xxmaj he was rushed to the hospital</td>\n",
       "      <td>Consult - History and Phy.</td>\n",
       "    </tr>\n",
       "    <tr>\n",
       "      <th>2</th>\n",
       "      <td>xxbos xxup preoperative xxup diagnoses:,1 . xxmaj hallux abductovalgus , right foot . ,2 . xxmaj hammer toe , right foot , second , third , fourth and fifth toes . ,3 . xxmaj tailor 's xxunk , right foot . ,4 . xxmaj degenerative joint disease , right first metatarsophalangeal joint . ,5 . xxmaj rheumatoid arthritis . ,6 . xxmaj contracted fourth right metatarsophalangeal joint . ,postoperative xxup diagnoses:,1 . xxmaj hallux abductovalgus , right foot . ,2 . xxmaj hammer toe , right foot , second , third , fourth and fifth toes . ,3 . xxmaj tailor 's xxunk , right foot . ,4 . xxmaj degenerative joint disease , right first metatarsophalangeal joint . ,5 . xxmaj rheumatoid arthritis . ,6 . xxmaj contracted fourth right metatarsophalangeal joint . ,procedures xxup performed:,1 . xxmaj bunionectomy , right foot with xxmaj biopro hemi implant , right</td>\n",
       "      <td>Orthopedic</td>\n",
       "    </tr>\n",
       "  </tbody>\n",
       "</table>"
      ],
      "text/plain": [
       "<IPython.core.display.HTML object>"
      ]
     },
     "metadata": {},
     "output_type": "display_data"
    }
   ],
   "source": [
    "dls_clas = DataBlock(\n",
    "                blocks = (TextBlock.from_df('transcription'), CategoryBlock),\n",
    "                get_x=ColReader('text'),\n",
    "                get_y=ColReader('medical_specialty'),\n",
    "                splitter=RandomSplitter(0.2)\n",
    ").dataloaders(data_df, bs=64)\n",
    "dls_clas.show_batch(max_n=3)"
   ]
  },
  {
   "cell_type": "code",
   "execution_count": 20,
   "id": "719641c2",
   "metadata": {},
   "outputs": [],
   "source": [
    "learn = text_classifier_learner(dls_clas, AWD_LSTM, drop_mult=0.5, \n",
    "                                metrics=accuracy)"
   ]
  },
  {
   "cell_type": "code",
   "execution_count": 21,
   "id": "2281c04e",
   "metadata": {},
   "outputs": [],
   "source": [
    "learn = learn.load_encoder(data_path + 'mtsamples_finetuned')"
   ]
  },
  {
   "cell_type": "code",
   "execution_count": 22,
   "id": "0b4a44f1",
   "metadata": {},
   "outputs": [
    {
     "data": {
      "text/html": [
       "<table border=\"1\" class=\"dataframe\">\n",
       "  <thead>\n",
       "    <tr style=\"text-align: left;\">\n",
       "      <th>epoch</th>\n",
       "      <th>train_loss</th>\n",
       "      <th>valid_loss</th>\n",
       "      <th>accuracy</th>\n",
       "      <th>time</th>\n",
       "    </tr>\n",
       "  </thead>\n",
       "  <tbody>\n",
       "    <tr>\n",
       "      <td>0</td>\n",
       "      <td>2.885668</td>\n",
       "      <td>2.504323</td>\n",
       "      <td>0.316502</td>\n",
       "      <td>00:20</td>\n",
       "    </tr>\n",
       "    <tr>\n",
       "      <td>1</td>\n",
       "      <td>2.423103</td>\n",
       "      <td>2.010229</td>\n",
       "      <td>0.368227</td>\n",
       "      <td>00:18</td>\n",
       "    </tr>\n",
       "    <tr>\n",
       "      <td>2</td>\n",
       "      <td>2.116047</td>\n",
       "      <td>1.860589</td>\n",
       "      <td>0.358374</td>\n",
       "      <td>00:18</td>\n",
       "    </tr>\n",
       "    <tr>\n",
       "      <td>3</td>\n",
       "      <td>1.910736</td>\n",
       "      <td>1.794819</td>\n",
       "      <td>0.360837</td>\n",
       "      <td>00:17</td>\n",
       "    </tr>\n",
       "    <tr>\n",
       "      <td>4</td>\n",
       "      <td>1.772690</td>\n",
       "      <td>1.740549</td>\n",
       "      <td>0.366995</td>\n",
       "      <td>00:12</td>\n",
       "    </tr>\n",
       "    <tr>\n",
       "      <td>5</td>\n",
       "      <td>1.669319</td>\n",
       "      <td>1.718140</td>\n",
       "      <td>0.379310</td>\n",
       "      <td>00:11</td>\n",
       "    </tr>\n",
       "    <tr>\n",
       "      <td>6</td>\n",
       "      <td>1.601618</td>\n",
       "      <td>1.692146</td>\n",
       "      <td>0.381773</td>\n",
       "      <td>00:12</td>\n",
       "    </tr>\n",
       "    <tr>\n",
       "      <td>7</td>\n",
       "      <td>1.551865</td>\n",
       "      <td>1.679192</td>\n",
       "      <td>0.375616</td>\n",
       "      <td>00:12</td>\n",
       "    </tr>\n",
       "    <tr>\n",
       "      <td>8</td>\n",
       "      <td>1.519284</td>\n",
       "      <td>1.674925</td>\n",
       "      <td>0.391626</td>\n",
       "      <td>00:12</td>\n",
       "    </tr>\n",
       "    <tr>\n",
       "      <td>9</td>\n",
       "      <td>1.491810</td>\n",
       "      <td>1.679283</td>\n",
       "      <td>0.391626</td>\n",
       "      <td>00:12</td>\n",
       "    </tr>\n",
       "  </tbody>\n",
       "</table>"
      ],
      "text/plain": [
       "<IPython.core.display.HTML object>"
      ]
     },
     "metadata": {},
     "output_type": "display_data"
    }
   ],
   "source": [
    "learn.fit_one_cycle(10)"
   ]
  },
  {
   "cell_type": "code",
   "execution_count": null,
   "id": "9de2d4e1",
   "metadata": {},
   "outputs": [],
   "source": []
  }
 ],
 "metadata": {
  "kernelspec": {
   "display_name": "Python 3",
   "language": "python",
   "name": "python3"
  },
  "language_info": {
   "codemirror_mode": {
    "name": "ipython",
    "version": 3
   },
   "file_extension": ".py",
   "mimetype": "text/x-python",
   "name": "python",
   "nbconvert_exporter": "python",
   "pygments_lexer": "ipython3",
   "version": "3.8.8"
  }
 },
 "nbformat": 4,
 "nbformat_minor": 5
}
