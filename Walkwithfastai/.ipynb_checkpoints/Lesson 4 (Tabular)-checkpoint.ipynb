{
 "cells": [
  {
   "cell_type": "markdown",
   "id": "2c5fdb0f",
   "metadata": {},
   "source": [
    "### TabNet"
   ]
  },
  {
   "cell_type": "code",
   "execution_count": null,
   "id": "5c03ea80",
   "metadata": {},
   "outputs": [],
   "source": [
    "%matplotlib inline\n",
    "from fastai.tabular.all import *"
   ]
  },
  {
   "cell_type": "code",
   "execution_count": null,
   "id": "44431b24",
   "metadata": {},
   "outputs": [],
   "source": [
    "path = Path('C:/Users/light/Documents/Fastbook/Personal-Machine-Learning-Data/Walkwithfastai Data')\n",
    "df = pd.read_csv(path/'6 class csv.csv')"
   ]
  },
  {
   "cell_type": "code",
   "execution_count": null,
   "id": "684e8e7c",
   "metadata": {},
   "outputs": [],
   "source": [
    "cat_names = ['Star color', 'Spectral Class']\n",
    "cont_names = ['Temperature (K)','Luminosity(L/Lo)','Radius(R/Ro)','Absolute magnitude(Mv)']\n",
    "procs = [Categorify, FillMissing, Normalize]\n",
    "y_names = 'Star type'\n",
    "y_block = CategoryBlock()\n",
    "splits = RandomSplitter()(range_of(df))"
   ]
  },
  {
   "cell_type": "code",
   "execution_count": null,
   "id": "1bc14318",
   "metadata": {},
   "outputs": [],
   "source": [
    "to = TabularPandas(df, procs, cat_names, cont_names, y_names, y_block, splits)\n",
    "dls = to.dataloaders(bs=1)"
   ]
  },
  {
   "cell_type": "code",
   "execution_count": null,
   "id": "db02899e",
   "metadata": {},
   "outputs": [],
   "source": [
    "dls.one_batch()"
   ]
  },
  {
   "cell_type": "code",
   "execution_count": null,
   "id": "5ac3105f",
   "metadata": {},
   "outputs": [],
   "source": [
    "learn = tabular_learner(dls, layers=[200,100],metrics=accuracy)"
   ]
  },
  {
   "cell_type": "code",
   "execution_count": null,
   "id": "f6d5f4c6",
   "metadata": {},
   "outputs": [],
   "source": [
    "from fastdot import *"
   ]
  },
  {
   "cell_type": "code",
   "execution_count": null,
   "id": "0c630046",
   "metadata": {},
   "outputs": [],
   "source": [
    "emb_szs = get_emb_sz(to); emb_szs"
   ]
  },
  {
   "cell_type": "code",
   "execution_count": null,
   "id": "ade1ca69",
   "metadata": {},
   "outputs": [],
   "source": [
    "from pytorch_tabnet.tab_network import TabNetNoEmbeddings"
   ]
  },
  {
   "cell_type": "code",
   "execution_count": null,
   "id": "c06093d5",
   "metadata": {},
   "outputs": [],
   "source": [
    "class TabNetModel(Module):\n",
    "    \"Attention model for tabular data.\"\n",
    "    def __init__(self, emb_szs, n_cont, out_sz, embed_p=0., y_range=None,\n",
    "                 n_d=8, n_a=8,\n",
    "                 n_steps=3, gamma=1.3,\n",
    "                 n_independent=2, n_shared=2, epsilon=1e-15,\n",
    "                 virtual_batch_size=128, momentum=0.02):\n",
    "        self.embeds = nn.ModuleList([Embedding(ni, nf) for ni,nf in emb_szs])\n",
    "        self.emb_drop = nn.Dropout(embed_p)\n",
    "        self.bn_cont = nn.BatchNorm1d(n_cont)\n",
    "        n_emb = sum(e.embedding_dim for e in self.embeds)\n",
    "        self.n_emb,self.n_cont,self.y_range = n_emb,n_cont,y_range\n",
    "        self.tab_net = TabNetNoEmbeddings(n_emb + n_cont, out_sz, n_d, n_a, n_steps,\n",
    "                                          gamma, n_independent, n_shared, epsilon, virtual_batch_size, momentum)\n",
    "\n",
    "    def forward(self, x_cat, x_cont, att=False):\n",
    "        if self.n_emb != 0:\n",
    "            x = [e(x_cat[:,i]) for i,e in enumerate(self.embeds)]\n",
    "            x = torch.cat(x, 1)\n",
    "            x = self.emb_drop(x)\n",
    "        if self.n_cont != 0:\n",
    "            x_cont = self.bn_cont(x_cont)\n",
    "            x = torch.cat([x, x_cont], 1) if self.n_emb != 0 else x_cont\n",
    "        x, m_loss, m_explain, masks = self.tab_net(x)\n",
    "        if self.y_range is not None:\n",
    "            x = (self.y_range[1]-self.y_range[0]) * torch.sigmoid(x) + self.y_range[0]\n",
    "        if att:\n",
    "            return x, m_loss, m_explain, masks\n",
    "        else:\n",
    "            return x"
   ]
  },
  {
   "cell_type": "code",
   "execution_count": null,
   "id": "9b61b8db",
   "metadata": {},
   "outputs": [],
   "source": [
    "dls = to.dataloaders(bs=8)"
   ]
  },
  {
   "cell_type": "code",
   "execution_count": null,
   "id": "c68e33ef",
   "metadata": {},
   "outputs": [],
   "source": [
    "net = TabNetModel(emb_szs, len(to.cont_names), dls.c, n_d=8, n_a=32, n_steps=1);"
   ]
  },
  {
   "cell_type": "code",
   "execution_count": null,
   "id": "7baf86d6",
   "metadata": {},
   "outputs": [],
   "source": [
    "learn = Learner(dls, net, CrossEntropyLossFlat(), metrics=accuracy, opt_func=ranger)"
   ]
  },
  {
   "cell_type": "code",
   "execution_count": null,
   "id": "80cb155d",
   "metadata": {},
   "outputs": [],
   "source": [
    "learn.fit_flat_cos(5, 1e-1)"
   ]
  },
  {
   "cell_type": "code",
   "execution_count": null,
   "id": "139897d9",
   "metadata": {},
   "outputs": [],
   "source": [
    "dl = learn.dls.test_dl(df.iloc[:20], bs=1)"
   ]
  },
  {
   "cell_type": "code",
   "execution_count": null,
   "id": "d401b1da",
   "metadata": {},
   "outputs": [],
   "source": [
    "batch = dl.one_batch()"
   ]
  },
  {
   "cell_type": "code",
   "execution_count": null,
   "id": "1aacde32",
   "metadata": {},
   "outputs": [],
   "source": [
    "batch"
   ]
  },
  {
   "cell_type": "code",
   "execution_count": null,
   "id": "1a305cfa",
   "metadata": {},
   "outputs": [],
   "source": [
    "from pytorch_tabnet.tab_model import *"
   ]
  },
  {
   "cell_type": "code",
   "execution_count": null,
   "id": "20ea1271",
   "metadata": {},
   "outputs": [],
   "source": [
    "cat_dims = [emb_szs[i][1] for i in range(len(emb_szs))]"
   ]
  },
  {
   "cell_type": "code",
   "execution_count": null,
   "id": "187b1000",
   "metadata": {},
   "outputs": [],
   "source": [
    "cat_dims"
   ]
  },
  {
   "cell_type": "code",
   "execution_count": null,
   "id": "b25570ae",
   "metadata": {},
   "outputs": [],
   "source": [
    "cat_idxs = [5,6]"
   ]
  },
  {
   "cell_type": "code",
   "execution_count": null,
   "id": "4e30bcb0",
   "metadata": {},
   "outputs": [],
   "source": [
    "cat_idxs"
   ]
  },
  {
   "cell_type": "code",
   "execution_count": null,
   "id": "500d156c",
   "metadata": {},
   "outputs": [],
   "source": [
    "tot = len(to.cont_names) + len(to.cont_names)"
   ]
  },
  {
   "cell_type": "code",
   "execution_count": null,
   "id": "20bc3884",
   "metadata": {},
   "outputs": [],
   "source": [
    "matrix = create_explain_matrix(tot,\n",
    "                               cat_dims,\n",
    "                               cat_idxs,\n",
    "                               32)"
   ]
  },
  {
   "cell_type": "code",
   "execution_count": null,
   "id": "7b318a71",
   "metadata": {},
   "outputs": [],
   "source": [
    "dl = learn.dls.test_dl(df.iloc[:20], bs=1)"
   ]
  },
  {
   "cell_type": "code",
   "execution_count": null,
   "id": "54c145cc",
   "metadata": {},
   "outputs": [],
   "source": [
    "@patch\n",
    "def explain(x:Learner, dl:TabDataLoader):\n",
    "    \"Get explain values for a set of predictions\"\n",
    "    dec_y = []\n",
    "    x.model.eval().cpu()\n",
    "    for batch_nb, data in enumerate(dl):\n",
    "        with torch.no_grad():\n",
    "            out, M_loss, M_explain, masks = x.model(data[0], data[1], True)\n",
    "        for key, value in masks.items():\n",
    "            masks[key] = csc_matrix.dot(value.cpu().numpy(), matrix)\n",
    "        if batch_nb == 0:\n",
    "            res_explain = csc_matrix.dot(M_explain.cpu().numpy(), matrix)\n",
    "            res_masks = masks\n",
    "        else:\n",
    "            res_explain = np.vstack([res_explain, csc_matrix.dot(M_explain.cpu().numpy(), matrix)])\n",
    "            for key, value in masks.items():\n",
    "                res_masks[key] = np.vstack([res_masks[key], value])\n",
    "\n",
    "        dec_y.append(int(learn.loss_func.decodes(out)))\n",
    "    return dec_y, res_masks, res_explain"
   ]
  },
  {
   "cell_type": "code",
   "execution_count": null,
   "id": "a3a0f379",
   "metadata": {},
   "outputs": [],
   "source": [
    "dec_y, res_masks, res_explain = learn.explain(dl)"
   ]
  },
  {
   "cell_type": "code",
   "execution_count": null,
   "id": "e6c27f80",
   "metadata": {},
   "outputs": [],
   "source": [
    "def plot_explain(masks, lbls, figsize=(12,12)):\n",
    "    \"Plots masks with `lbls` (`dls.x_names`)\"\n",
    "    fig = plt.figure(figsize=figsize)\n",
    "    ax = fig.add_axes([0.1, 0.1, 0.8, 0.8])\n",
    "    plt.yticks(np.arange(0, len(masks[0]), 1.0))\n",
    "    plt.xticks(np.arange(0, len(masks[0][0]), 1.0))\n",
    "    ax.set_xticklabels(lbls, rotation=90)\n",
    "    plt.ylabel('Sample Number')\n",
    "    plt.xlabel('Variable')\n",
    "    plt.imshow(masks[0])"
   ]
  },
  {
   "cell_type": "code",
   "execution_count": null,
   "id": "f6bd2758",
   "metadata": {},
   "outputs": [],
   "source": [
    "lbls = dls.x_names"
   ]
  },
  {
   "cell_type": "code",
   "execution_count": null,
   "id": "ec5fcd92",
   "metadata": {},
   "outputs": [],
   "source": [
    "plot_explain(res_masks, lbls)"
   ]
  },
  {
   "cell_type": "markdown",
   "id": "d7c982cf",
   "metadata": {},
   "source": [
    "### Time Series"
   ]
  },
  {
   "cell_type": "code",
   "execution_count": 1,
   "id": "fb6523e1",
   "metadata": {},
   "outputs": [],
   "source": [
    "%matplotlib inline\n",
    "from fastai.tabular.all import *"
   ]
  },
  {
   "cell_type": "code",
   "execution_count": 2,
   "id": "35da67d0",
   "metadata": {},
   "outputs": [],
   "source": [
    "from tsai.all import *"
   ]
  },
  {
   "cell_type": "code",
   "execution_count": 3,
   "id": "61cda250",
   "metadata": {},
   "outputs": [],
   "source": [
    "name = 'StarLightCurves'"
   ]
  },
  {
   "cell_type": "code",
   "execution_count": 4,
   "id": "9d4e99b1",
   "metadata": {},
   "outputs": [
    {
     "name": "stdout",
     "output_type": "stream",
     "text": [
      "Dataset: StarLightCurves\n",
      "X_train: (1000, 1, 1024)\n",
      "y_train: (1000,)\n",
      "X_valid: (8236, 1, 1024)\n",
      "y_valid: (8236,) \n",
      "\n"
     ]
    }
   ],
   "source": [
    "X_train, y_train, X_valid, y_valid = get_UCR_data(name, verbose=True, on_disk=True)"
   ]
  },
  {
   "cell_type": "code",
   "execution_count": 5,
   "id": "93befb4a",
   "metadata": {},
   "outputs": [],
   "source": [
    "X = np.concatenate((X_train, X_valid))\n",
    "y = np.concatenate((y_train, y_valid))"
   ]
  },
  {
   "cell_type": "code",
   "execution_count": 6,
   "id": "fd66ea76",
   "metadata": {},
   "outputs": [],
   "source": [
    "np.save('./data/UCR/StarLightCurves/X.npy', X)\n",
    "np.save('./data/UCR/StarLightCurves/y.npy', y)\n",
    "del X, y"
   ]
  },
  {
   "cell_type": "code",
   "execution_count": 7,
   "id": "fc15d00b",
   "metadata": {},
   "outputs": [],
   "source": [
    "X = np.load('./data/UCR/StarLightCurves/X.npy', mmap_mode='r')\n",
    "y = np.load('./data/UCR/StarLightCurves/y.npy', mmap_mode='r')"
   ]
  },
  {
   "cell_type": "code",
   "execution_count": 8,
   "id": "624f5c9c",
   "metadata": {},
   "outputs": [],
   "source": [
    "splits = (L(np.arange(len(X_train)), use_list=True),\n",
    "          L(np.arange(len(X_train), len(X)), use_list=True))"
   ]
  },
  {
   "cell_type": "code",
   "execution_count": 9,
   "id": "1fd463da",
   "metadata": {},
   "outputs": [
    {
     "data": {
      "text/plain": [
       "((#1000) [0,1,2,3,4,5,6,7,8,9...],\n",
       " (#8236) [1000,1001,1002,1003,1004,1005,1006,1007,1008,1009...])"
      ]
     },
     "execution_count": 9,
     "metadata": {},
     "output_type": "execute_result"
    }
   ],
   "source": [
    "splits"
   ]
  },
  {
   "cell_type": "code",
   "execution_count": 10,
   "id": "35deb3e0",
   "metadata": {},
   "outputs": [],
   "source": [
    "t = TSTensor(X)"
   ]
  },
  {
   "cell_type": "code",
   "execution_count": 11,
   "id": "000cbe47",
   "metadata": {},
   "outputs": [
    {
     "data": {
      "text/plain": [
       "TSTensor(samples:9236, vars:1, len:1024, device=cpu)"
      ]
     },
     "execution_count": 11,
     "metadata": {},
     "output_type": "execute_result"
    }
   ],
   "source": [
    "t"
   ]
  },
  {
   "cell_type": "code",
   "execution_count": 12,
   "id": "cc3323dc",
   "metadata": {},
   "outputs": [],
   "source": [
    "splitter = IndexSplitter(splits[1])\n",
    "getters = [ItemGetter(0), ItemGetter(1)]"
   ]
  },
  {
   "cell_type": "code",
   "execution_count": 13,
   "id": "63da0d8f",
   "metadata": {},
   "outputs": [],
   "source": [
    "dblock = DataBlock(blocks=(TSTensorBlock, CategoryBlock),\n",
    "                    getters=getters,\n",
    "                    splitter=splitter)"
   ]
  },
  {
   "cell_type": "code",
   "execution_count": 14,
   "id": "022ecf6f",
   "metadata": {},
   "outputs": [],
   "source": [
    "src = itemify(X, y)"
   ]
  },
  {
   "cell_type": "code",
   "execution_count": 15,
   "id": "132b7adf",
   "metadata": {},
   "outputs": [
    {
     "name": "stdout",
     "output_type": "stream",
     "text": [
      "Due to IPython and Windows limitation, python multiprocessing isn't available now.\n",
      "So `number_workers` is changed to 0 to avoid getting stuck\n"
     ]
    }
   ],
   "source": [
    "dls = dblock.dataloaders(src, bs=64, val_bs=128)"
   ]
  },
  {
   "cell_type": "code",
   "execution_count": 16,
   "id": "ba84491a",
   "metadata": {},
   "outputs": [
    {
     "data": {
      "image/png": "[encoded data removed]",
      "text/plain": [
       "<Figure size 432x288 with 1 Axes>"
      ]
     },
     "metadata": {
      "needs_background": "light"
     },
     "output_type": "display_data"
    },
    {
     "data": {
      "image/png": "[encoded data removed]",
      "text/plain": [
       "<Figure size 432x288 with 1 Axes>"
      ]
     },
     "metadata": {
      "needs_background": "light"
     },
     "output_type": "display_data"
    },
    {
     "data": {
      "image/png": "[encoded data removed]",
      "text/plain": [
       "<Figure size 432x288 with 1 Axes>"
      ]
     },
     "metadata": {
      "needs_background": "light"
     },
     "output_type": "display_data"
    }
   ],
   "source": [
    "dls.show_batch(max_n=3)"
   ]
  },
  {
   "cell_type": "code",
   "execution_count": 17,
   "id": "7d517bbb",
   "metadata": {},
   "outputs": [
    {
     "data": {
      "text/plain": [
       "(memmap([[0.5373029 , 0.53110296, 0.52850294, ..., 0.52640295, 0.51950294,\n",
       "          0.51140296]], dtype=float32),\n",
       " TensorCategory(2))"
      ]
     },
     "execution_count": 17,
     "metadata": {},
     "output_type": "execute_result"
    }
   ],
   "source": [
    "dls.dataset[0]"
   ]
  },
  {
   "cell_type": "code",
   "execution_count": 18,
   "id": "7af54f96",
   "metadata": {},
   "outputs": [
    {
     "data": {
      "text/plain": [
       "3"
      ]
     },
     "execution_count": 18,
     "metadata": {},
     "output_type": "execute_result"
    }
   ],
   "source": [
    "dls.c"
   ]
  },
  {
   "cell_type": "code",
   "execution_count": 19,
   "id": "680ecdfe",
   "metadata": {},
   "outputs": [],
   "source": [
    "inp_vars = dls.dataset[0][0].shape[-2]"
   ]
  },
  {
   "cell_type": "code",
   "execution_count": 20,
   "id": "56cfb94f",
   "metadata": {},
   "outputs": [
    {
     "data": {
      "text/plain": [
       "1"
      ]
     },
     "execution_count": 20,
     "metadata": {},
     "output_type": "execute_result"
    }
   ],
   "source": [
    "inp_vars"
   ]
  },
  {
   "cell_type": "code",
   "execution_count": 21,
   "id": "199befa1",
   "metadata": {},
   "outputs": [],
   "source": [
    "net = InceptionTime(inp_vars, dls.c)"
   ]
  },
  {
   "cell_type": "code",
   "execution_count": 22,
   "id": "db757f0c",
   "metadata": {},
   "outputs": [],
   "source": [
    "learn = Learner(dls, net, loss_func=CrossEntropyLossFlat(), metrics=accuracy, opt_func=ranger)"
   ]
  },
  {
   "cell_type": "code",
   "execution_count": 23,
   "id": "54742c09",
   "metadata": {},
   "outputs": [
    {
     "data": {
      "text/html": [],
      "text/plain": [
       "<IPython.core.display.HTML object>"
      ]
     },
     "metadata": {},
     "output_type": "display_data"
    },
    {
     "data": {
      "text/plain": [
       "SuggestedLRs(valley=0.0006918309954926372)"
      ]
     },
     "execution_count": 23,
     "metadata": {},
     "output_type": "execute_result"
    },
    {
     "data": {
      "image/png": "[encoded data removed]",
      "text/plain": [
       "<Figure size 432x288 with 1 Axes>"
      ]
     },
     "metadata": {
      "needs_background": "light"
     },
     "output_type": "display_data"
    }
   ],
   "source": [
    "learn.lr_find()"
   ]
  },
  {
   "cell_type": "code",
   "execution_count": 24,
   "id": "a4910327",
   "metadata": {},
   "outputs": [
    {
     "data": {
      "text/html": [
       "<table border=\"1\" class=\"dataframe\">\n",
       "  <thead>\n",
       "    <tr style=\"text-align: left;\">\n",
       "      <th>epoch</th>\n",
       "      <th>train_loss</th>\n",
       "      <th>valid_loss</th>\n",
       "      <th>accuracy</th>\n",
       "      <th>time</th>\n",
       "    </tr>\n",
       "  </thead>\n",
       "  <tbody>\n",
       "    <tr>\n",
       "      <td>0</td>\n",
       "      <td>0.772946</td>\n",
       "      <td>1.026832</td>\n",
       "      <td>0.747086</td>\n",
       "      <td>00:06</td>\n",
       "    </tr>\n",
       "    <tr>\n",
       "      <td>1</td>\n",
       "      <td>0.621135</td>\n",
       "      <td>0.810379</td>\n",
       "      <td>0.813987</td>\n",
       "      <td>00:05</td>\n",
       "    </tr>\n",
       "    <tr>\n",
       "      <td>2</td>\n",
       "      <td>0.541583</td>\n",
       "      <td>0.481864</td>\n",
       "      <td>0.845435</td>\n",
       "      <td>00:05</td>\n",
       "    </tr>\n",
       "    <tr>\n",
       "      <td>3</td>\n",
       "      <td>0.480073</td>\n",
       "      <td>0.398290</td>\n",
       "      <td>0.851870</td>\n",
       "      <td>00:05</td>\n",
       "    </tr>\n",
       "    <tr>\n",
       "      <td>4</td>\n",
       "      <td>0.426592</td>\n",
       "      <td>0.411468</td>\n",
       "      <td>0.855391</td>\n",
       "      <td>00:06</td>\n",
       "    </tr>\n",
       "    <tr>\n",
       "      <td>5</td>\n",
       "      <td>0.379652</td>\n",
       "      <td>0.286736</td>\n",
       "      <td>0.944390</td>\n",
       "      <td>00:05</td>\n",
       "    </tr>\n",
       "    <tr>\n",
       "      <td>6</td>\n",
       "      <td>0.335158</td>\n",
       "      <td>0.336766</td>\n",
       "      <td>0.856484</td>\n",
       "      <td>00:05</td>\n",
       "    </tr>\n",
       "    <tr>\n",
       "      <td>7</td>\n",
       "      <td>0.294157</td>\n",
       "      <td>0.170676</td>\n",
       "      <td>0.960782</td>\n",
       "      <td>00:06</td>\n",
       "    </tr>\n",
       "    <tr>\n",
       "      <td>8</td>\n",
       "      <td>0.256533</td>\n",
       "      <td>0.156863</td>\n",
       "      <td>0.965639</td>\n",
       "      <td>00:05</td>\n",
       "    </tr>\n",
       "    <tr>\n",
       "      <td>9</td>\n",
       "      <td>0.227841</td>\n",
       "      <td>0.143445</td>\n",
       "      <td>0.977052</td>\n",
       "      <td>00:05</td>\n",
       "    </tr>\n",
       "  </tbody>\n",
       "</table>"
      ],
      "text/plain": [
       "<IPython.core.display.HTML object>"
      ]
     },
     "metadata": {},
     "output_type": "display_data"
    }
   ],
   "source": [
    "learn.fit_flat_cos(10, 0.0006)"
   ]
  },
  {
   "cell_type": "code",
   "execution_count": null,
   "id": "12a72824",
   "metadata": {},
   "outputs": [],
   "source": []
  }
 ],
 "metadata": {
  "kernelspec": {
   "display_name": "Python 3",
   "language": "python",
   "name": "python3"
  },
  "language_info": {
   "codemirror_mode": {
    "name": "ipython",
    "version": 3
   },
   "file_extension": ".py",
   "mimetype": "text/x-python",
   "name": "python",
   "nbconvert_exporter": "python",
   "pygments_lexer": "ipython3",
   "version": "3.8.8"
  }
 },
 "nbformat": 4,
 "nbformat_minor": 5
}
