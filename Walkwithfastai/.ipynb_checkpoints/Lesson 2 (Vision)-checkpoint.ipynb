{
 "cells": [
  {
   "cell_type": "code",
   "execution_count": 1,
   "id": "a1dddc92",
   "metadata": {},
   "outputs": [],
   "source": [
    "from fastai.vision.all import *"
   ]
  },
  {
   "cell_type": "code",
   "execution_count": 2,
   "id": "6ceb74c7",
   "metadata": {},
   "outputs": [],
   "source": [
    "path = Path('C:/Users/light/Documents/Fastbook/Personal-Machine-Learning-Data/MNIST alphabet/')"
   ]
  },
  {
   "cell_type": "code",
   "execution_count": 3,
   "id": "5a718873",
   "metadata": {},
   "outputs": [],
   "source": [
    "items = get_image_files(path)"
   ]
  },
  {
   "cell_type": "code",
   "execution_count": 4,
   "id": "3ca880f4",
   "metadata": {},
   "outputs": [
    {
     "data": {
      "text/plain": [
       "Path('C:/Users/light/Documents/Fastbook/Personal-Machine-Learning-Data/MNIST alphabet/Train/#/__0_1004356.png')"
      ]
     },
     "execution_count": 4,
     "metadata": {},
     "output_type": "execute_result"
    }
   ],
   "source": [
    "items[0]"
   ]
  },
  {
   "cell_type": "code",
   "execution_count": 5,
   "id": "248ec1f4",
   "metadata": {},
   "outputs": [
    {
     "data": {
      "text/plain": [
       "<AxesSubplot:>"
      ]
     },
     "execution_count": 5,
     "metadata": {},
     "output_type": "execute_result"
    },
    {
     "data": {
      "image/png": "[encoded data removed]",
      "text/plain": [
       "<Figure size 72x72 with 1 Axes>"
      ]
     },
     "metadata": {
      "needs_background": "light"
     },
     "output_type": "display_data"
    }
   ],
   "source": [
    "im = PILImageBW.create(items[0])\n",
    "im.show()"
   ]
  },
  {
   "cell_type": "code",
   "execution_count": 6,
   "id": "ba0ede9b",
   "metadata": {},
   "outputs": [],
   "source": [
    "splits = GrandparentSplitter(train_name='Train', valid_name='Validation')"
   ]
  },
  {
   "cell_type": "code",
   "execution_count": 7,
   "id": "7730f7ee",
   "metadata": {},
   "outputs": [
    {
     "data": {
      "text/plain": [
       "(#3) [Path('C:/Users/light/Documents/Fastbook/Personal-Machine-Learning-Data/MNIST alphabet/Train/#/__0_1004356.png'),Path('C:/Users/light/Documents/Fastbook/Personal-Machine-Learning-Data/MNIST alphabet/Train/#/__0_1022082.png'),Path('C:/Users/light/Documents/Fastbook/Personal-Machine-Learning-Data/MNIST alphabet/Train/#/__0_1042459.png')]"
      ]
     },
     "execution_count": 7,
     "metadata": {},
     "output_type": "execute_result"
    }
   ],
   "source": [
    "items[:3]"
   ]
  },
  {
   "cell_type": "code",
   "execution_count": 8,
   "id": "efb8837f",
   "metadata": {},
   "outputs": [],
   "source": [
    "splits = splits(items)"
   ]
  },
  {
   "cell_type": "code",
   "execution_count": 9,
   "id": "457c6f77",
   "metadata": {},
   "outputs": [
    {
     "data": {
      "text/plain": [
       "([0, 1, 2, 3, 4], [834036, 834037, 834038, 834039, 834040])"
      ]
     },
     "execution_count": 9,
     "metadata": {},
     "output_type": "execute_result"
    }
   ],
   "source": [
    "splits[0][:5], splits[1][:5]"
   ]
  },
  {
   "cell_type": "code",
   "execution_count": 10,
   "id": "fa7291a0",
   "metadata": {},
   "outputs": [],
   "source": [
    "dsrc = Datasets(items, tfms=[[PILImageBW.create], [parent_label, Categorize]],\n",
    "                splits=splits)"
   ]
  },
  {
   "cell_type": "code",
   "execution_count": 11,
   "id": "169f7d73",
   "metadata": {},
   "outputs": [
    {
     "data": {
      "text/plain": [
       "<AxesSubplot:title={'center':'#'}>"
      ]
     },
     "execution_count": 11,
     "metadata": {},
     "output_type": "execute_result"
    },
    {
     "data": {
      "image/png": "[encoded data removed]",
      "text/plain": [
       "<Figure size 72x72 with 1 Axes>"
      ]
     },
     "metadata": {
      "needs_background": "light"
     },
     "output_type": "display_data"
    }
   ],
   "source": [
    "show_at(dsrc.train, 3)"
   ]
  },
  {
   "cell_type": "code",
   "execution_count": 12,
   "id": "72d4c437",
   "metadata": {},
   "outputs": [],
   "source": [
    "tfms = [ToTensor(), CropPad(size=32, pad_mode=PadMode.Zeros), RandomCrop(size=32)]"
   ]
  },
  {
   "cell_type": "code",
   "execution_count": 13,
   "id": "36f473cd",
   "metadata": {},
   "outputs": [],
   "source": [
    "gpu_tfms = [IntToFloatTensor(), Normalize()]"
   ]
  },
  {
   "cell_type": "code",
   "execution_count": 14,
   "id": "abf7ac34",
   "metadata": {},
   "outputs": [
    {
     "name": "stdout",
     "output_type": "stream",
     "text": [
      "Due to IPython and Windows limitation, python multiprocessing isn't available now.\n",
      "So `number_workers` is changed to 0 to avoid getting stuck\n"
     ]
    }
   ],
   "source": [
    "dls = dsrc.dataloaders(bs=4096, after_item=tfms, after_batch=gpu_tfms)"
   ]
  },
  {
   "cell_type": "code",
   "execution_count": 15,
   "id": "c4b6177d",
   "metadata": {},
   "outputs": [
    {
     "data": {
      "image/png": "[encoded data removed]",
      "text/plain": [
       "<Figure size 648x648 with 9 Axes>"
      ]
     },
     "metadata": {
      "needs_background": "light"
     },
     "output_type": "display_data"
    }
   ],
   "source": [
    "dls.show_batch()"
   ]
  },
  {
   "cell_type": "code",
   "execution_count": 16,
   "id": "a571e256",
   "metadata": {},
   "outputs": [],
   "source": [
    "xb, yb = dls.one_batch()"
   ]
  },
  {
   "cell_type": "code",
   "execution_count": 17,
   "id": "16a33ff7",
   "metadata": {},
   "outputs": [
    {
     "data": {
      "text/plain": [
       "(torch.Size([4096, 1, 32, 32]), torch.Size([4096]))"
      ]
     },
     "execution_count": 17,
     "metadata": {},
     "output_type": "execute_result"
    }
   ],
   "source": [
    "xb.shape, yb.shape"
   ]
  },
  {
   "cell_type": "code",
   "execution_count": 18,
   "id": "a74a6bb9",
   "metadata": {},
   "outputs": [
    {
     "data": {
      "text/plain": [
       "39"
      ]
     },
     "execution_count": 18,
     "metadata": {},
     "output_type": "execute_result"
    }
   ],
   "source": [
    "dls.c"
   ]
  },
  {
   "cell_type": "code",
   "execution_count": 19,
   "id": "ff483245",
   "metadata": {},
   "outputs": [],
   "source": [
    "def conv(ni, nf): return nn.Conv2d(ni, nf, kernel_size=3, stride=3, padding=1)"
   ]
  },
  {
   "cell_type": "code",
   "execution_count": 20,
   "id": "8da3481c",
   "metadata": {},
   "outputs": [],
   "source": [
    "def bn(nf): return nn.BatchNorm2d(nf)"
   ]
  },
  {
   "cell_type": "code",
   "execution_count": 21,
   "id": "3865cfca",
   "metadata": {},
   "outputs": [],
   "source": [
    "def ReLU(): return nn.ReLU(inplace=True)"
   ]
  },
  {
   "cell_type": "code",
   "execution_count": 22,
   "id": "26f6b789",
   "metadata": {},
   "outputs": [],
   "source": [
    "model = nn.Sequential(\n",
    "    conv(1,8),\n",
    "    bn(8),\n",
    "    ReLU(),\n",
    "    conv(8,16),\n",
    "    bn(16),\n",
    "    ReLU(),\n",
    "    conv(16,32),\n",
    "    bn(32),\n",
    "    ReLU(),\n",
    "    conv(32,16),\n",
    "    bn(16),\n",
    "    ReLU(),\n",
    "    conv(16,39),\n",
    "    bn(39),\n",
    "    Flatten()\n",
    ")"
   ]
  },
  {
   "cell_type": "code",
   "execution_count": 23,
   "id": "fe3d5a8a",
   "metadata": {},
   "outputs": [],
   "source": [
    "learn = Learner(dls, model, loss_func=CrossEntropyLossFlat(), metrics=accuracy)"
   ]
  },
  {
   "cell_type": "code",
   "execution_count": 24,
   "id": "d5844408",
   "metadata": {},
   "outputs": [
    {
     "data": {
      "text/html": [],
      "text/plain": [
       "<IPython.core.display.HTML object>"
      ]
     },
     "metadata": {},
     "output_type": "display_data"
    },
    {
     "data": {
      "text/plain": [
       "Sequential (Input shape: 4096)\n",
       "============================================================================\n",
       "Layer (type)         Output Shape         Param #    Trainable \n",
       "============================================================================\n",
       "                     4096 x 8 x 11 x 11  \n",
       "Conv2d                                    80         True      \n",
       "BatchNorm2d                               16         True      \n",
       "ReLU                                                           \n",
       "____________________________________________________________________________\n",
       "                     4096 x 16 x 4 x 4   \n",
       "Conv2d                                    1168       True      \n",
       "BatchNorm2d                               32         True      \n",
       "ReLU                                                           \n",
       "____________________________________________________________________________\n",
       "                     4096 x 32 x 2 x 2   \n",
       "Conv2d                                    4640       True      \n",
       "BatchNorm2d                               64         True      \n",
       "ReLU                                                           \n",
       "____________________________________________________________________________\n",
       "                     4096 x 16 x 1 x 1   \n",
       "Conv2d                                    4624       True      \n",
       "BatchNorm2d                               32         True      \n",
       "ReLU                                                           \n",
       "____________________________________________________________________________\n",
       "                     4096 x 39 x 1 x 1   \n",
       "Conv2d                                    5655       True      \n",
       "BatchNorm2d                               78         True      \n",
       "____________________________________________________________________________\n",
       "                     []                  \n",
       "Flatten                                                        \n",
       "____________________________________________________________________________\n",
       "\n",
       "Total params: 16,389\n",
       "Total trainable params: 16,389\n",
       "Total non-trainable params: 0\n",
       "\n",
       "Optimizer used: <function Adam at 0x000001BD113621F0>\n",
       "Loss function: FlattenedLoss of CrossEntropyLoss()\n",
       "\n",
       "Callbacks:\n",
       "  - TrainEvalCallback\n",
       "  - Recorder\n",
       "  - ProgressCallback"
      ]
     },
     "execution_count": 24,
     "metadata": {},
     "output_type": "execute_result"
    }
   ],
   "source": [
    "learn.summary()"
   ]
  },
  {
   "cell_type": "code",
   "execution_count": 25,
   "id": "d14af067",
   "metadata": {},
   "outputs": [],
   "source": [
    "lr_valley = learn.lr_find(suggest_funcs=valley)"
   ]
  },
  {
   "cell_type": "code",
   "execution_count": 26,
   "id": "e3c197cf",
   "metadata": {},
   "outputs": [
    {
     "data": {
      "text/html": [
       "<table border=\"1\" class=\"dataframe\">\n",
       "  <thead>\n",
       "    <tr style=\"text-align: left;\">\n",
       "      <th>epoch</th>\n",
       "      <th>train_loss</th>\n",
       "      <th>valid_loss</th>\n",
       "      <th>accuracy</th>\n",
       "      <th>time</th>\n",
       "    </tr>\n",
       "  </thead>\n",
       "  <tbody>\n",
       "    <tr>\n",
       "      <td>0</td>\n",
       "      <td>0.422696</td>\n",
       "      <td>0.537967</td>\n",
       "      <td>0.829116</td>\n",
       "      <td>18:10</td>\n",
       "    </tr>\n",
       "    <tr>\n",
       "      <td>1</td>\n",
       "      <td>0.286880</td>\n",
       "      <td>0.337371</td>\n",
       "      <td>0.892071</td>\n",
       "      <td>18:13</td>\n",
       "    </tr>\n",
       "    <tr>\n",
       "      <td>2</td>\n",
       "      <td>0.239640</td>\n",
       "      <td>0.272712</td>\n",
       "      <td>0.917510</td>\n",
       "      <td>17:45</td>\n",
       "    </tr>\n",
       "  </tbody>\n",
       "</table>"
      ],
      "text/plain": [
       "<IPython.core.display.HTML object>"
      ]
     },
     "metadata": {},
     "output_type": "display_data"
    }
   ],
   "source": [
    "learn.fit_one_cycle(3, lr_max=lr_valley)"
   ]
  },
  {
   "cell_type": "code",
   "execution_count": 27,
   "id": "133ec88f",
   "metadata": {},
   "outputs": [],
   "source": [
    "def conv2(ni, nf): return ConvLayer(ni, nf, stride=2)"
   ]
  },
  {
   "cell_type": "code",
   "execution_count": 28,
   "id": "aefbcd47",
   "metadata": {},
   "outputs": [],
   "source": [
    "net = nn.Sequential(\n",
    "    conv2(1,8),\n",
    "    conv2(8,16),\n",
    "    conv2(16,32),\n",
    "    conv2(32,16),\n",
    "    conv2(16,39),\n",
    "    Flatten()\n",
    ")"
   ]
  },
  {
   "cell_type": "code",
   "execution_count": 29,
   "id": "491a6930",
   "metadata": {},
   "outputs": [],
   "source": [
    "learn = Learner(dls, net, loss_func=CrossEntropyLossFlat(), metrics=accuracy)"
   ]
  },
  {
   "cell_type": "code",
   "execution_count": 30,
   "id": "d74b9b4d",
   "metadata": {},
   "outputs": [
    {
     "data": {
      "text/html": [
       "<table border=\"1\" class=\"dataframe\">\n",
       "  <thead>\n",
       "    <tr style=\"text-align: left;\">\n",
       "      <th>epoch</th>\n",
       "      <th>train_loss</th>\n",
       "      <th>valid_loss</th>\n",
       "      <th>accuracy</th>\n",
       "      <th>time</th>\n",
       "    </tr>\n",
       "  </thead>\n",
       "  <tbody>\n",
       "    <tr>\n",
       "      <td>0</td>\n",
       "      <td>0.329175</td>\n",
       "      <td>0.434354</td>\n",
       "      <td>0.861037</td>\n",
       "      <td>16:56</td>\n",
       "    </tr>\n",
       "    <tr>\n",
       "      <td>1</td>\n",
       "      <td>0.214197</td>\n",
       "      <td>0.262444</td>\n",
       "      <td>0.909829</td>\n",
       "      <td>16:41</td>\n",
       "    </tr>\n",
       "    <tr>\n",
       "      <td>2</td>\n",
       "      <td>0.180717</td>\n",
       "      <td>0.204743</td>\n",
       "      <td>0.937311</td>\n",
       "      <td>16:15</td>\n",
       "    </tr>\n",
       "  </tbody>\n",
       "</table>"
      ],
      "text/plain": [
       "<IPython.core.display.HTML object>"
      ]
     },
     "metadata": {},
     "output_type": "display_data"
    }
   ],
   "source": [
    "learn.fit_one_cycle(3, lr_max=lr_valley)"
   ]
  },
  {
   "cell_type": "code",
   "execution_count": 31,
   "id": "f0cb41d3",
   "metadata": {},
   "outputs": [],
   "source": [
    "class ResBlock(Module):\n",
    "    def __init__(self, nf):\n",
    "        self.conv1 = ConvLayer(nf, nf)\n",
    "        self.conv2 = ConvLayer(nf, nf)\n",
    "        \n",
    "    def forward(self, x): return x + self.conv2(self.conv1(x))"
   ]
  },
  {
   "cell_type": "code",
   "execution_count": 32,
   "id": "3735f052",
   "metadata": {},
   "outputs": [],
   "source": [
    "net = nn.Sequential(\n",
    "    conv2(1,8),\n",
    "    ResBlock(8),\n",
    "    conv2(8,16),\n",
    "    ResBlock(16),\n",
    "    conv2(16,32),\n",
    "    ResBlock(32),\n",
    "    conv2(32,16),\n",
    "    ResBlock(16),\n",
    "    conv2(16,39),\n",
    "    Flatten()\n",
    ")"
   ]
  },
  {
   "cell_type": "code",
   "execution_count": 33,
   "id": "a90257ff",
   "metadata": {},
   "outputs": [
    {
     "data": {
      "text/plain": [
       "Sequential(\n",
       "  (0): ConvLayer(\n",
       "    (0): Conv2d(1, 8, kernel_size=(3, 3), stride=(2, 2), padding=(1, 1), bias=False)\n",
       "    (1): BatchNorm2d(8, eps=1e-05, momentum=0.1, affine=True, track_running_stats=True)\n",
       "    (2): ReLU()\n",
       "  )\n",
       "  (1): ResBlock(\n",
       "    (conv1): ConvLayer(\n",
       "      (0): Conv2d(8, 8, kernel_size=(3, 3), stride=(1, 1), padding=(1, 1), bias=False)\n",
       "      (1): BatchNorm2d(8, eps=1e-05, momentum=0.1, affine=True, track_running_stats=True)\n",
       "      (2): ReLU()\n",
       "    )\n",
       "    (conv2): ConvLayer(\n",
       "      (0): Conv2d(8, 8, kernel_size=(3, 3), stride=(1, 1), padding=(1, 1), bias=False)\n",
       "      (1): BatchNorm2d(8, eps=1e-05, momentum=0.1, affine=True, track_running_stats=True)\n",
       "      (2): ReLU()\n",
       "    )\n",
       "  )\n",
       "  (2): ConvLayer(\n",
       "    (0): Conv2d(8, 16, kernel_size=(3, 3), stride=(2, 2), padding=(1, 1), bias=False)\n",
       "    (1): BatchNorm2d(16, eps=1e-05, momentum=0.1, affine=True, track_running_stats=True)\n",
       "    (2): ReLU()\n",
       "  )\n",
       "  (3): ResBlock(\n",
       "    (conv1): ConvLayer(\n",
       "      (0): Conv2d(16, 16, kernel_size=(3, 3), stride=(1, 1), padding=(1, 1), bias=False)\n",
       "      (1): BatchNorm2d(16, eps=1e-05, momentum=0.1, affine=True, track_running_stats=True)\n",
       "      (2): ReLU()\n",
       "    )\n",
       "    (conv2): ConvLayer(\n",
       "      (0): Conv2d(16, 16, kernel_size=(3, 3), stride=(1, 1), padding=(1, 1), bias=False)\n",
       "      (1): BatchNorm2d(16, eps=1e-05, momentum=0.1, affine=True, track_running_stats=True)\n",
       "      (2): ReLU()\n",
       "    )\n",
       "  )\n",
       "  (4): ConvLayer(\n",
       "    (0): Conv2d(16, 32, kernel_size=(3, 3), stride=(2, 2), padding=(1, 1), bias=False)\n",
       "    (1): BatchNorm2d(32, eps=1e-05, momentum=0.1, affine=True, track_running_stats=True)\n",
       "    (2): ReLU()\n",
       "  )\n",
       "  (5): ResBlock(\n",
       "    (conv1): ConvLayer(\n",
       "      (0): Conv2d(32, 32, kernel_size=(3, 3), stride=(1, 1), padding=(1, 1), bias=False)\n",
       "      (1): BatchNorm2d(32, eps=1e-05, momentum=0.1, affine=True, track_running_stats=True)\n",
       "      (2): ReLU()\n",
       "    )\n",
       "    (conv2): ConvLayer(\n",
       "      (0): Conv2d(32, 32, kernel_size=(3, 3), stride=(1, 1), padding=(1, 1), bias=False)\n",
       "      (1): BatchNorm2d(32, eps=1e-05, momentum=0.1, affine=True, track_running_stats=True)\n",
       "      (2): ReLU()\n",
       "    )\n",
       "  )\n",
       "  (6): ConvLayer(\n",
       "    (0): Conv2d(32, 16, kernel_size=(3, 3), stride=(2, 2), padding=(1, 1), bias=False)\n",
       "    (1): BatchNorm2d(16, eps=1e-05, momentum=0.1, affine=True, track_running_stats=True)\n",
       "    (2): ReLU()\n",
       "  )\n",
       "  (7): ResBlock(\n",
       "    (conv1): ConvLayer(\n",
       "      (0): Conv2d(16, 16, kernel_size=(3, 3), stride=(1, 1), padding=(1, 1), bias=False)\n",
       "      (1): BatchNorm2d(16, eps=1e-05, momentum=0.1, affine=True, track_running_stats=True)\n",
       "      (2): ReLU()\n",
       "    )\n",
       "    (conv2): ConvLayer(\n",
       "      (0): Conv2d(16, 16, kernel_size=(3, 3), stride=(1, 1), padding=(1, 1), bias=False)\n",
       "      (1): BatchNorm2d(16, eps=1e-05, momentum=0.1, affine=True, track_running_stats=True)\n",
       "      (2): ReLU()\n",
       "    )\n",
       "  )\n",
       "  (8): ConvLayer(\n",
       "    (0): Conv2d(16, 39, kernel_size=(3, 3), stride=(2, 2), padding=(1, 1), bias=False)\n",
       "    (1): BatchNorm2d(39, eps=1e-05, momentum=0.1, affine=True, track_running_stats=True)\n",
       "    (2): ReLU()\n",
       "  )\n",
       "  (9): Flatten(full=False)\n",
       ")"
      ]
     },
     "execution_count": 33,
     "metadata": {},
     "output_type": "execute_result"
    }
   ],
   "source": [
    "net"
   ]
  },
  {
   "cell_type": "code",
   "execution_count": 34,
   "id": "69cf33db",
   "metadata": {},
   "outputs": [],
   "source": [
    "def conv_and_res(ni, nf): return nn.Sequential(conv2(ni, nf), ResBlock(nf))"
   ]
  },
  {
   "cell_type": "code",
   "execution_count": 35,
   "id": "2c48abd3",
   "metadata": {},
   "outputs": [],
   "source": [
    "net = nn.Sequential(\n",
    "    conv_and_res(1,8),\n",
    "    conv_and_res(8,16),\n",
    "    conv_and_res(16,32),\n",
    "    conv_and_res(32,16),\n",
    "    conv(16,39),\n",
    "    Flatten()\n",
    ")"
   ]
  },
  {
   "cell_type": "code",
   "execution_count": 36,
   "id": "a7039872",
   "metadata": {},
   "outputs": [],
   "source": [
    "learn = Learner(dls, net, loss_func=CrossEntropyLossFlat(), metrics=accuracy)"
   ]
  },
  {
   "cell_type": "code",
   "execution_count": 37,
   "id": "caba0461",
   "metadata": {},
   "outputs": [],
   "source": [
    "lr_valley = learn.lr_find(suggest_funcs=valley)"
   ]
  },
  {
   "cell_type": "code",
   "execution_count": 38,
   "id": "76e0bd16",
   "metadata": {},
   "outputs": [
    {
     "data": {
      "text/html": [
       "<table border=\"1\" class=\"dataframe\">\n",
       "  <thead>\n",
       "    <tr style=\"text-align: left;\">\n",
       "      <th>epoch</th>\n",
       "      <th>train_loss</th>\n",
       "      <th>valid_loss</th>\n",
       "      <th>accuracy</th>\n",
       "      <th>time</th>\n",
       "    </tr>\n",
       "  </thead>\n",
       "  <tbody>\n",
       "    <tr>\n",
       "      <td>0</td>\n",
       "      <td>0.262061</td>\n",
       "      <td>0.271194</td>\n",
       "      <td>0.907432</td>\n",
       "      <td>17:25</td>\n",
       "    </tr>\n",
       "    <tr>\n",
       "      <td>1</td>\n",
       "      <td>0.175092</td>\n",
       "      <td>0.182813</td>\n",
       "      <td>0.944148</td>\n",
       "      <td>18:19</td>\n",
       "    </tr>\n",
       "    <tr>\n",
       "      <td>2</td>\n",
       "      <td>0.141536</td>\n",
       "      <td>0.157367</td>\n",
       "      <td>0.950897</td>\n",
       "      <td>18:45</td>\n",
       "    </tr>\n",
       "  </tbody>\n",
       "</table>"
      ],
      "text/plain": [
       "<IPython.core.display.HTML object>"
      ]
     },
     "metadata": {},
     "output_type": "display_data"
    }
   ],
   "source": [
    "learn.fit_one_cycle(3, lr_max=lr_valley)"
   ]
  },
  {
   "cell_type": "code",
   "execution_count": null,
   "id": "c3ccf966",
   "metadata": {},
   "outputs": [],
   "source": []
  }
 ],
 "metadata": {
  "kernelspec": {
   "display_name": "Python 3",
   "language": "python",
   "name": "python3"
  },
  "language_info": {
   "codemirror_mode": {
    "name": "ipython",
    "version": 3
   },
   "file_extension": ".py",
   "mimetype": "text/x-python",
   "name": "python",
   "nbconvert_exporter": "python",
   "pygments_lexer": "ipython3",
   "version": "3.8.8"
  }
 },
 "nbformat": 4,
 "nbformat_minor": 5
}
