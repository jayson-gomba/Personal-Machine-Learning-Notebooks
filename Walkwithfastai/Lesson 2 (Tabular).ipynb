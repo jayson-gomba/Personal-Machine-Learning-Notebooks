{
 "cells": [
  {
   "cell_type": "markdown",
   "id": "0429ee33",
   "metadata": {},
   "source": [
    "### Tabular Regression and Permutation Importance"
   ]
  },
  {
   "cell_type": "code",
   "execution_count": 1,
   "id": "9183c614",
   "metadata": {},
   "outputs": [],
   "source": [
    "from fastai.tabular.all import *"
   ]
  },
  {
   "cell_type": "code",
   "execution_count": 2,
   "id": "e47df9e4",
   "metadata": {},
   "outputs": [],
   "source": [
    "path = Path('C:/Users/light/Documents/Fastbook/Personal-Machine-Learning-Data/Walkwithfastai Data')"
   ]
  },
  {
   "cell_type": "code",
   "execution_count": 3,
   "id": "f38c8c6b",
   "metadata": {},
   "outputs": [],
   "source": [
    "train_df = pd.read_pickle(path/'train_clean')\n",
    "test_df = pd.read_pickle(path/'test_clean')"
   ]
  },
  {
   "cell_type": "code",
   "execution_count": 4,
   "id": "32944c50",
   "metadata": {},
   "outputs": [
    {
     "data": {
      "text/html": [
       "<div>\n",
       "<style scoped>\n",
       "    .dataframe tbody tr th:only-of-type {\n",
       "        vertical-align: middle;\n",
       "    }\n",
       "\n",
       "    .dataframe tbody tr th {\n",
       "        vertical-align: top;\n",
       "    }\n",
       "\n",
       "    .dataframe thead th {\n",
       "        text-align: right;\n",
       "    }\n",
       "</style>\n",
       "<table border=\"1\" class=\"dataframe\">\n",
       "  <thead>\n",
       "    <tr style=\"text-align: right;\">\n",
       "      <th></th>\n",
       "      <th>0</th>\n",
       "      <th>1</th>\n",
       "      <th>2</th>\n",
       "      <th>3</th>\n",
       "      <th>4</th>\n",
       "    </tr>\n",
       "  </thead>\n",
       "  <tbody>\n",
       "    <tr>\n",
       "      <th>index</th>\n",
       "      <td>0</td>\n",
       "      <td>1</td>\n",
       "      <td>2</td>\n",
       "      <td>3</td>\n",
       "      <td>4</td>\n",
       "    </tr>\n",
       "    <tr>\n",
       "      <th>Store</th>\n",
       "      <td>1</td>\n",
       "      <td>2</td>\n",
       "      <td>3</td>\n",
       "      <td>4</td>\n",
       "      <td>5</td>\n",
       "    </tr>\n",
       "    <tr>\n",
       "      <th>DayOfWeek</th>\n",
       "      <td>5</td>\n",
       "      <td>5</td>\n",
       "      <td>5</td>\n",
       "      <td>5</td>\n",
       "      <td>5</td>\n",
       "    </tr>\n",
       "    <tr>\n",
       "      <th>Date</th>\n",
       "      <td>2015-07-31 00:00:00</td>\n",
       "      <td>2015-07-31 00:00:00</td>\n",
       "      <td>2015-07-31 00:00:00</td>\n",
       "      <td>2015-07-31 00:00:00</td>\n",
       "      <td>2015-07-31 00:00:00</td>\n",
       "    </tr>\n",
       "    <tr>\n",
       "      <th>Sales</th>\n",
       "      <td>5263</td>\n",
       "      <td>6064</td>\n",
       "      <td>8314</td>\n",
       "      <td>13995</td>\n",
       "      <td>4822</td>\n",
       "    </tr>\n",
       "    <tr>\n",
       "      <th>...</th>\n",
       "      <td>...</td>\n",
       "      <td>...</td>\n",
       "      <td>...</td>\n",
       "      <td>...</td>\n",
       "      <td>...</td>\n",
       "    </tr>\n",
       "    <tr>\n",
       "      <th>StateHoliday_bw</th>\n",
       "      <td>0.0</td>\n",
       "      <td>0.0</td>\n",
       "      <td>0.0</td>\n",
       "      <td>0.0</td>\n",
       "      <td>0.0</td>\n",
       "    </tr>\n",
       "    <tr>\n",
       "      <th>Promo_bw</th>\n",
       "      <td>5.0</td>\n",
       "      <td>5.0</td>\n",
       "      <td>5.0</td>\n",
       "      <td>5.0</td>\n",
       "      <td>5.0</td>\n",
       "    </tr>\n",
       "    <tr>\n",
       "      <th>SchoolHoliday_fw</th>\n",
       "      <td>7.0</td>\n",
       "      <td>1.0</td>\n",
       "      <td>5.0</td>\n",
       "      <td>1.0</td>\n",
       "      <td>1.0</td>\n",
       "    </tr>\n",
       "    <tr>\n",
       "      <th>StateHoliday_fw</th>\n",
       "      <td>0.0</td>\n",
       "      <td>0.0</td>\n",
       "      <td>0.0</td>\n",
       "      <td>0.0</td>\n",
       "      <td>0.0</td>\n",
       "    </tr>\n",
       "    <tr>\n",
       "      <th>Promo_fw</th>\n",
       "      <td>5.0</td>\n",
       "      <td>1.0</td>\n",
       "      <td>5.0</td>\n",
       "      <td>1.0</td>\n",
       "      <td>1.0</td>\n",
       "    </tr>\n",
       "  </tbody>\n",
       "</table>\n",
       "<p>93 rows × 5 columns</p>\n",
       "</div>"
      ],
      "text/plain": [
       "                                    0                    1  \\\n",
       "index                               0                    1   \n",
       "Store                               1                    2   \n",
       "DayOfWeek                           5                    5   \n",
       "Date              2015-07-31 00:00:00  2015-07-31 00:00:00   \n",
       "Sales                            5263                 6064   \n",
       "...                               ...                  ...   \n",
       "StateHoliday_bw                   0.0                  0.0   \n",
       "Promo_bw                          5.0                  5.0   \n",
       "SchoolHoliday_fw                  7.0                  1.0   \n",
       "StateHoliday_fw                   0.0                  0.0   \n",
       "Promo_fw                          5.0                  1.0   \n",
       "\n",
       "                                    2                    3  \\\n",
       "index                               2                    3   \n",
       "Store                               3                    4   \n",
       "DayOfWeek                           5                    5   \n",
       "Date              2015-07-31 00:00:00  2015-07-31 00:00:00   \n",
       "Sales                            8314                13995   \n",
       "...                               ...                  ...   \n",
       "StateHoliday_bw                   0.0                  0.0   \n",
       "Promo_bw                          5.0                  5.0   \n",
       "SchoolHoliday_fw                  5.0                  1.0   \n",
       "StateHoliday_fw                   0.0                  0.0   \n",
       "Promo_fw                          5.0                  1.0   \n",
       "\n",
       "                                    4  \n",
       "index                               4  \n",
       "Store                               5  \n",
       "DayOfWeek                           5  \n",
       "Date              2015-07-31 00:00:00  \n",
       "Sales                            4822  \n",
       "...                               ...  \n",
       "StateHoliday_bw                   0.0  \n",
       "Promo_bw                          5.0  \n",
       "SchoolHoliday_fw                  1.0  \n",
       "StateHoliday_fw                   0.0  \n",
       "Promo_fw                          1.0  \n",
       "\n",
       "[93 rows x 5 columns]"
      ]
     },
     "execution_count": 4,
     "metadata": {},
     "output_type": "execute_result"
    }
   ],
   "source": [
    "train_df.head().T"
   ]
  },
  {
   "cell_type": "code",
   "execution_count": 5,
   "id": "f8c7fbbe",
   "metadata": {},
   "outputs": [],
   "source": [
    "cat_vars = ['Store', 'DayOfWeek', 'Year', 'Month', 'Day', 'StateHoliday', 'CompetitionMonthsOpen',\n",
    "    'Promo2Weeks', 'StoreType', 'Assortment', 'PromoInterval', 'CompetitionOpenSinceYear', 'Promo2SinceYear',\n",
    "    'State', 'Week', 'Events', 'Promo_fw', 'Promo_bw', 'StateHoliday_fw', 'StateHoliday_bw',\n",
    "    'SchoolHoliday_fw', 'SchoolHoliday_bw', 'Promo', 'SchoolHoliday']\n",
    "\n",
    "cont_vars = ['CompetitionDistance', 'Max_TemperatureC', 'Mean_TemperatureC', 'Min_TemperatureC',\n",
    "   'Max_Humidity', 'Mean_Humidity', 'Min_Humidity', 'Max_Wind_SpeedKm_h', \n",
    "   'Mean_Wind_SpeedKm_h', 'CloudCover', 'trend', 'trend_DE',\n",
    "   'AfterStateHoliday', 'BeforeStateHoliday']\n",
    "   \n",
    "dep_var = 'Sales'"
   ]
  },
  {
   "cell_type": "code",
   "execution_count": 6,
   "id": "4be15c2a",
   "metadata": {},
   "outputs": [],
   "source": [
    "train_df[dep_var] = np.log(train_df[dep_var])"
   ]
  },
  {
   "cell_type": "code",
   "execution_count": 7,
   "id": "5ceb8ddf",
   "metadata": {},
   "outputs": [],
   "source": [
    "procs = [FillMissing, Normalize, Categorify]"
   ]
  },
  {
   "cell_type": "code",
   "execution_count": 8,
   "id": "a673c52f",
   "metadata": {},
   "outputs": [
    {
     "data": {
      "text/plain": [
       "(844338, 41088)"
      ]
     },
     "execution_count": 8,
     "metadata": {},
     "output_type": "execute_result"
    }
   ],
   "source": [
    "len(train_df), len(test_df)"
   ]
  },
  {
   "cell_type": "code",
   "execution_count": 9,
   "id": "7679ed21",
   "metadata": {},
   "outputs": [
    {
     "data": {
      "text/plain": [
       "(Timestamp('2015-08-01 00:00:00'), Timestamp('2015-09-17 00:00:00'))"
      ]
     },
     "execution_count": 9,
     "metadata": {},
     "output_type": "execute_result"
    }
   ],
   "source": [
    "test_df['Date'].min(), test_df['Date'].max()"
   ]
  },
  {
   "cell_type": "code",
   "execution_count": 10,
   "id": "7ed43d81",
   "metadata": {},
   "outputs": [],
   "source": [
    "idx = train_df['Date'][(train_df['Date']==train_df['Date'][len(test_df)])].index.max()"
   ]
  },
  {
   "cell_type": "code",
   "execution_count": 11,
   "id": "00ca91e7",
   "metadata": {},
   "outputs": [
    {
     "data": {
      "text/plain": [
       "41395"
      ]
     },
     "execution_count": 11,
     "metadata": {},
     "output_type": "execute_result"
    }
   ],
   "source": [
    "idx"
   ]
  },
  {
   "cell_type": "code",
   "execution_count": 12,
   "id": "14bf251a",
   "metadata": {},
   "outputs": [],
   "source": [
    "splits = (L(range(idx, len(train_df))),L(range(idx)))"
   ]
  },
  {
   "cell_type": "code",
   "execution_count": 13,
   "id": "c1224784",
   "metadata": {},
   "outputs": [
    {
     "data": {
      "text/plain": [
       "((#802943) [41395,41396,41397,41398,41399,41400,41401,41402,41403,41404...],\n",
       " (#41395) [0,1,2,3,4,5,6,7,8,9...])"
      ]
     },
     "execution_count": 13,
     "metadata": {},
     "output_type": "execute_result"
    }
   ],
   "source": [
    "splits"
   ]
  },
  {
   "cell_type": "code",
   "execution_count": 14,
   "id": "7974553a",
   "metadata": {},
   "outputs": [],
   "source": [
    "pd.options.mode.chained_assignment=None"
   ]
  },
  {
   "cell_type": "code",
   "execution_count": 15,
   "id": "5f372174",
   "metadata": {},
   "outputs": [],
   "source": [
    "to = TabularPandas(train_df, procs, cat_vars, cont_vars, dep_var, y_block=RegressionBlock(),\n",
    "                   splits=splits, inplace=True, reduce_memory=True)"
   ]
  },
  {
   "cell_type": "code",
   "execution_count": 16,
   "id": "75b855e7",
   "metadata": {},
   "outputs": [],
   "source": [
    "dls = to.dataloaders(bs=512)"
   ]
  },
  {
   "cell_type": "code",
   "execution_count": 17,
   "id": "113a5bb3",
   "metadata": {},
   "outputs": [
    {
     "data": {
      "text/html": [
       "<table border=\"1\" class=\"dataframe\">\n",
       "  <thead>\n",
       "    <tr style=\"text-align: right;\">\n",
       "      <th></th>\n",
       "      <th>Store</th>\n",
       "      <th>DayOfWeek</th>\n",
       "      <th>Year</th>\n",
       "      <th>Month</th>\n",
       "      <th>Day</th>\n",
       "      <th>StateHoliday</th>\n",
       "      <th>CompetitionMonthsOpen</th>\n",
       "      <th>Promo2Weeks</th>\n",
       "      <th>StoreType</th>\n",
       "      <th>Assortment</th>\n",
       "      <th>PromoInterval</th>\n",
       "      <th>CompetitionOpenSinceYear</th>\n",
       "      <th>Promo2SinceYear</th>\n",
       "      <th>State</th>\n",
       "      <th>Week</th>\n",
       "      <th>Events</th>\n",
       "      <th>Promo_fw</th>\n",
       "      <th>Promo_bw</th>\n",
       "      <th>StateHoliday_fw</th>\n",
       "      <th>StateHoliday_bw</th>\n",
       "      <th>SchoolHoliday_fw</th>\n",
       "      <th>SchoolHoliday_bw</th>\n",
       "      <th>Promo</th>\n",
       "      <th>SchoolHoliday</th>\n",
       "      <th>CompetitionDistance_na</th>\n",
       "      <th>CloudCover_na</th>\n",
       "      <th>CompetitionDistance</th>\n",
       "      <th>Max_TemperatureC</th>\n",
       "      <th>Mean_TemperatureC</th>\n",
       "      <th>Min_TemperatureC</th>\n",
       "      <th>Max_Humidity</th>\n",
       "      <th>Mean_Humidity</th>\n",
       "      <th>Min_Humidity</th>\n",
       "      <th>Max_Wind_SpeedKm_h</th>\n",
       "      <th>Mean_Wind_SpeedKm_h</th>\n",
       "      <th>CloudCover</th>\n",
       "      <th>trend</th>\n",
       "      <th>trend_DE</th>\n",
       "      <th>AfterStateHoliday</th>\n",
       "      <th>BeforeStateHoliday</th>\n",
       "      <th>Sales</th>\n",
       "    </tr>\n",
       "  </thead>\n",
       "  <tbody>\n",
       "    <tr>\n",
       "      <th>0</th>\n",
       "      <td>804</td>\n",
       "      <td>5</td>\n",
       "      <td>2015</td>\n",
       "      <td>6</td>\n",
       "      <td>12</td>\n",
       "      <td>False</td>\n",
       "      <td>0</td>\n",
       "      <td>25</td>\n",
       "      <td>c</td>\n",
       "      <td>c</td>\n",
       "      <td>Jan,Apr,Jul,Oct</td>\n",
       "      <td>1900</td>\n",
       "      <td>2013</td>\n",
       "      <td>BY</td>\n",
       "      <td>24</td>\n",
       "      <td>Fog</td>\n",
       "      <td>4.0</td>\n",
       "      <td>0.0</td>\n",
       "      <td>0.0</td>\n",
       "      <td>0.0</td>\n",
       "      <td>0.0</td>\n",
       "      <td>0.0</td>\n",
       "      <td>0</td>\n",
       "      <td>0</td>\n",
       "      <td>False</td>\n",
       "      <td>False</td>\n",
       "      <td>2099.999907</td>\n",
       "      <td>28.000000</td>\n",
       "      <td>20.000000</td>\n",
       "      <td>12.0</td>\n",
       "      <td>100.0</td>\n",
       "      <td>69.000000</td>\n",
       "      <td>35.000000</td>\n",
       "      <td>11.0</td>\n",
       "      <td>5.0</td>\n",
       "      <td>2.0</td>\n",
       "      <td>88.000000</td>\n",
       "      <td>82.0</td>\n",
       "      <td>8.000000</td>\n",
       "      <td>-64.000000</td>\n",
       "      <td>8.411611</td>\n",
       "    </tr>\n",
       "    <tr>\n",
       "      <th>1</th>\n",
       "      <td>602</td>\n",
       "      <td>6</td>\n",
       "      <td>2013</td>\n",
       "      <td>6</td>\n",
       "      <td>29</td>\n",
       "      <td>False</td>\n",
       "      <td>24</td>\n",
       "      <td>25</td>\n",
       "      <td>a</td>\n",
       "      <td>a</td>\n",
       "      <td>Mar,Jun,Sept,Dec</td>\n",
       "      <td>2001</td>\n",
       "      <td>2012</td>\n",
       "      <td>HE</td>\n",
       "      <td>26</td>\n",
       "      <td>Rain</td>\n",
       "      <td>5.0</td>\n",
       "      <td>0.0</td>\n",
       "      <td>0.0</td>\n",
       "      <td>0.0</td>\n",
       "      <td>0.0</td>\n",
       "      <td>0.0</td>\n",
       "      <td>0</td>\n",
       "      <td>0</td>\n",
       "      <td>False</td>\n",
       "      <td>False</td>\n",
       "      <td>2710.000058</td>\n",
       "      <td>21.000000</td>\n",
       "      <td>17.000000</td>\n",
       "      <td>13.0</td>\n",
       "      <td>100.0</td>\n",
       "      <td>74.000000</td>\n",
       "      <td>42.000000</td>\n",
       "      <td>29.0</td>\n",
       "      <td>14.0</td>\n",
       "      <td>6.0</td>\n",
       "      <td>61.000000</td>\n",
       "      <td>66.0</td>\n",
       "      <td>30.000000</td>\n",
       "      <td>-96.000000</td>\n",
       "      <td>8.440312</td>\n",
       "    </tr>\n",
       "    <tr>\n",
       "      <th>2</th>\n",
       "      <td>876</td>\n",
       "      <td>4</td>\n",
       "      <td>2013</td>\n",
       "      <td>9</td>\n",
       "      <td>12</td>\n",
       "      <td>False</td>\n",
       "      <td>24</td>\n",
       "      <td>0</td>\n",
       "      <td>a</td>\n",
       "      <td>a</td>\n",
       "      <td>Feb,May,Aug,Nov</td>\n",
       "      <td>2005</td>\n",
       "      <td>2015</td>\n",
       "      <td>ST</td>\n",
       "      <td>37</td>\n",
       "      <td>Rain</td>\n",
       "      <td>2.0</td>\n",
       "      <td>4.0</td>\n",
       "      <td>0.0</td>\n",
       "      <td>0.0</td>\n",
       "      <td>0.0</td>\n",
       "      <td>0.0</td>\n",
       "      <td>1</td>\n",
       "      <td>0</td>\n",
       "      <td>False</td>\n",
       "      <td>False</td>\n",
       "      <td>21789.999947</td>\n",
       "      <td>17.000000</td>\n",
       "      <td>14.000000</td>\n",
       "      <td>11.0</td>\n",
       "      <td>100.0</td>\n",
       "      <td>87.000000</td>\n",
       "      <td>62.000000</td>\n",
       "      <td>11.0</td>\n",
       "      <td>5.0</td>\n",
       "      <td>8.0</td>\n",
       "      <td>45.999999</td>\n",
       "      <td>51.0</td>\n",
       "      <td>114.999997</td>\n",
       "      <td>-21.000000</td>\n",
       "      <td>9.391829</td>\n",
       "    </tr>\n",
       "    <tr>\n",
       "      <th>3</th>\n",
       "      <td>850</td>\n",
       "      <td>1</td>\n",
       "      <td>2013</td>\n",
       "      <td>11</td>\n",
       "      <td>25</td>\n",
       "      <td>False</td>\n",
       "      <td>24</td>\n",
       "      <td>17</td>\n",
       "      <td>d</td>\n",
       "      <td>a</td>\n",
       "      <td>Jan,Apr,Jul,Oct</td>\n",
       "      <td>2007</td>\n",
       "      <td>2013</td>\n",
       "      <td>NW</td>\n",
       "      <td>48</td>\n",
       "      <td>Rain</td>\n",
       "      <td>0.0</td>\n",
       "      <td>4.0</td>\n",
       "      <td>0.0</td>\n",
       "      <td>0.0</td>\n",
       "      <td>0.0</td>\n",
       "      <td>0.0</td>\n",
       "      <td>0</td>\n",
       "      <td>0</td>\n",
       "      <td>False</td>\n",
       "      <td>False</td>\n",
       "      <td>1120.000048</td>\n",
       "      <td>6.000000</td>\n",
       "      <td>2.000000</td>\n",
       "      <td>-1.0</td>\n",
       "      <td>98.0</td>\n",
       "      <td>85.000000</td>\n",
       "      <td>72.000000</td>\n",
       "      <td>21.0</td>\n",
       "      <td>10.0</td>\n",
       "      <td>6.0</td>\n",
       "      <td>75.000000</td>\n",
       "      <td>76.0</td>\n",
       "      <td>24.000000</td>\n",
       "      <td>-30.000000</td>\n",
       "      <td>8.534837</td>\n",
       "    </tr>\n",
       "    <tr>\n",
       "      <th>4</th>\n",
       "      <td>226</td>\n",
       "      <td>5</td>\n",
       "      <td>2014</td>\n",
       "      <td>9</td>\n",
       "      <td>12</td>\n",
       "      <td>False</td>\n",
       "      <td>0</td>\n",
       "      <td>0</td>\n",
       "      <td>a</td>\n",
       "      <td>a</td>\n",
       "      <td>#na#</td>\n",
       "      <td>1900</td>\n",
       "      <td>1900</td>\n",
       "      <td>HE</td>\n",
       "      <td>37</td>\n",
       "      <td>Rain</td>\n",
       "      <td>4.0</td>\n",
       "      <td>0.0</td>\n",
       "      <td>0.0</td>\n",
       "      <td>0.0</td>\n",
       "      <td>0.0</td>\n",
       "      <td>0.0</td>\n",
       "      <td>0</td>\n",
       "      <td>0</td>\n",
       "      <td>False</td>\n",
       "      <td>False</td>\n",
       "      <td>449.999844</td>\n",
       "      <td>18.000000</td>\n",
       "      <td>15.000000</td>\n",
       "      <td>12.0</td>\n",
       "      <td>100.0</td>\n",
       "      <td>82.000000</td>\n",
       "      <td>56.000000</td>\n",
       "      <td>24.0</td>\n",
       "      <td>16.0</td>\n",
       "      <td>7.0</td>\n",
       "      <td>73.000000</td>\n",
       "      <td>70.0</td>\n",
       "      <td>84.999999</td>\n",
       "      <td>-21.000000</td>\n",
       "      <td>8.631593</td>\n",
       "    </tr>\n",
       "    <tr>\n",
       "      <th>5</th>\n",
       "      <td>663</td>\n",
       "      <td>3</td>\n",
       "      <td>2013</td>\n",
       "      <td>1</td>\n",
       "      <td>30</td>\n",
       "      <td>False</td>\n",
       "      <td>24</td>\n",
       "      <td>0</td>\n",
       "      <td>a</td>\n",
       "      <td>c</td>\n",
       "      <td>#na#</td>\n",
       "      <td>2005</td>\n",
       "      <td>1900</td>\n",
       "      <td>BW</td>\n",
       "      <td>5</td>\n",
       "      <td>Rain</td>\n",
       "      <td>2.0</td>\n",
       "      <td>2.0</td>\n",
       "      <td>0.0</td>\n",
       "      <td>0.0</td>\n",
       "      <td>0.0</td>\n",
       "      <td>0.0</td>\n",
       "      <td>0</td>\n",
       "      <td>0</td>\n",
       "      <td>False</td>\n",
       "      <td>False</td>\n",
       "      <td>7860.000115</td>\n",
       "      <td>15.000000</td>\n",
       "      <td>11.000000</td>\n",
       "      <td>7.0</td>\n",
       "      <td>88.0</td>\n",
       "      <td>75.000000</td>\n",
       "      <td>56.000000</td>\n",
       "      <td>39.0</td>\n",
       "      <td>21.0</td>\n",
       "      <td>6.0</td>\n",
       "      <td>55.000000</td>\n",
       "      <td>58.0</td>\n",
       "      <td>24.000000</td>\n",
       "      <td>-57.999999</td>\n",
       "      <td>7.751905</td>\n",
       "    </tr>\n",
       "    <tr>\n",
       "      <th>6</th>\n",
       "      <td>781</td>\n",
       "      <td>6</td>\n",
       "      <td>2014</td>\n",
       "      <td>7</td>\n",
       "      <td>19</td>\n",
       "      <td>False</td>\n",
       "      <td>24</td>\n",
       "      <td>0</td>\n",
       "      <td>a</td>\n",
       "      <td>a</td>\n",
       "      <td>#na#</td>\n",
       "      <td>2007</td>\n",
       "      <td>1900</td>\n",
       "      <td>ST</td>\n",
       "      <td>29</td>\n",
       "      <td>#na#</td>\n",
       "      <td>0.0</td>\n",
       "      <td>5.0</td>\n",
       "      <td>0.0</td>\n",
       "      <td>0.0</td>\n",
       "      <td>5.0</td>\n",
       "      <td>0.0</td>\n",
       "      <td>0</td>\n",
       "      <td>0</td>\n",
       "      <td>False</td>\n",
       "      <td>True</td>\n",
       "      <td>630.000003</td>\n",
       "      <td>33.000001</td>\n",
       "      <td>24.000001</td>\n",
       "      <td>16.0</td>\n",
       "      <td>88.0</td>\n",
       "      <td>40.999999</td>\n",
       "      <td>12.000001</td>\n",
       "      <td>11.0</td>\n",
       "      <td>6.0</td>\n",
       "      <td>6.0</td>\n",
       "      <td>61.000000</td>\n",
       "      <td>65.0</td>\n",
       "      <td>40.000000</td>\n",
       "      <td>-75.999998</td>\n",
       "      <td>7.547502</td>\n",
       "    </tr>\n",
       "    <tr>\n",
       "      <th>7</th>\n",
       "      <td>468</td>\n",
       "      <td>4</td>\n",
       "      <td>2013</td>\n",
       "      <td>4</td>\n",
       "      <td>25</td>\n",
       "      <td>False</td>\n",
       "      <td>7</td>\n",
       "      <td>0</td>\n",
       "      <td>c</td>\n",
       "      <td>c</td>\n",
       "      <td>#na#</td>\n",
       "      <td>2012</td>\n",
       "      <td>1900</td>\n",
       "      <td>SH</td>\n",
       "      <td>17</td>\n",
       "      <td>#na#</td>\n",
       "      <td>5.0</td>\n",
       "      <td>4.0</td>\n",
       "      <td>1.0</td>\n",
       "      <td>0.0</td>\n",
       "      <td>0.0</td>\n",
       "      <td>0.0</td>\n",
       "      <td>1</td>\n",
       "      <td>0</td>\n",
       "      <td>False</td>\n",
       "      <td>False</td>\n",
       "      <td>5260.000001</td>\n",
       "      <td>19.000000</td>\n",
       "      <td>14.000000</td>\n",
       "      <td>9.0</td>\n",
       "      <td>100.0</td>\n",
       "      <td>83.000000</td>\n",
       "      <td>56.000000</td>\n",
       "      <td>10.0</td>\n",
       "      <td>6.0</td>\n",
       "      <td>6.0</td>\n",
       "      <td>45.999999</td>\n",
       "      <td>52.0</td>\n",
       "      <td>24.000000</td>\n",
       "      <td>-6.000000</td>\n",
       "      <td>8.558719</td>\n",
       "    </tr>\n",
       "    <tr>\n",
       "      <th>8</th>\n",
       "      <td>907</td>\n",
       "      <td>2</td>\n",
       "      <td>2013</td>\n",
       "      <td>6</td>\n",
       "      <td>25</td>\n",
       "      <td>False</td>\n",
       "      <td>0</td>\n",
       "      <td>0</td>\n",
       "      <td>a</td>\n",
       "      <td>c</td>\n",
       "      <td>#na#</td>\n",
       "      <td>1900</td>\n",
       "      <td>1900</td>\n",
       "      <td>NW</td>\n",
       "      <td>26</td>\n",
       "      <td>Rain</td>\n",
       "      <td>1.0</td>\n",
       "      <td>3.0</td>\n",
       "      <td>0.0</td>\n",
       "      <td>0.0</td>\n",
       "      <td>0.0</td>\n",
       "      <td>0.0</td>\n",
       "      <td>0</td>\n",
       "      <td>0</td>\n",
       "      <td>False</td>\n",
       "      <td>False</td>\n",
       "      <td>249.999977</td>\n",
       "      <td>17.000000</td>\n",
       "      <td>14.000000</td>\n",
       "      <td>11.0</td>\n",
       "      <td>94.0</td>\n",
       "      <td>72.000000</td>\n",
       "      <td>44.000000</td>\n",
       "      <td>23.0</td>\n",
       "      <td>13.0</td>\n",
       "      <td>6.0</td>\n",
       "      <td>69.000000</td>\n",
       "      <td>66.0</td>\n",
       "      <td>26.000000</td>\n",
       "      <td>-100.000000</td>\n",
       "      <td>8.481359</td>\n",
       "    </tr>\n",
       "    <tr>\n",
       "      <th>9</th>\n",
       "      <td>292</td>\n",
       "      <td>4</td>\n",
       "      <td>2015</td>\n",
       "      <td>5</td>\n",
       "      <td>7</td>\n",
       "      <td>False</td>\n",
       "      <td>24</td>\n",
       "      <td>0</td>\n",
       "      <td>a</td>\n",
       "      <td>a</td>\n",
       "      <td>#na#</td>\n",
       "      <td>2009</td>\n",
       "      <td>1900</td>\n",
       "      <td>BE</td>\n",
       "      <td>19</td>\n",
       "      <td>Rain</td>\n",
       "      <td>2.0</td>\n",
       "      <td>5.0</td>\n",
       "      <td>0.0</td>\n",
       "      <td>1.0</td>\n",
       "      <td>0.0</td>\n",
       "      <td>0.0</td>\n",
       "      <td>1</td>\n",
       "      <td>0</td>\n",
       "      <td>False</td>\n",
       "      <td>False</td>\n",
       "      <td>1099.999876</td>\n",
       "      <td>18.000000</td>\n",
       "      <td>13.000000</td>\n",
       "      <td>9.0</td>\n",
       "      <td>87.0</td>\n",
       "      <td>60.000000</td>\n",
       "      <td>33.000000</td>\n",
       "      <td>37.0</td>\n",
       "      <td>16.0</td>\n",
       "      <td>4.0</td>\n",
       "      <td>61.000000</td>\n",
       "      <td>67.0</td>\n",
       "      <td>6.000002</td>\n",
       "      <td>-7.000001</td>\n",
       "      <td>8.880029</td>\n",
       "    </tr>\n",
       "  </tbody>\n",
       "</table>"
      ],
      "text/plain": [
       "<IPython.core.display.HTML object>"
      ]
     },
     "metadata": {},
     "output_type": "display_data"
    }
   ],
   "source": [
    "dls.show_batch()"
   ]
  },
  {
   "cell_type": "code",
   "execution_count": 18,
   "id": "5e33ce0f",
   "metadata": {},
   "outputs": [],
   "source": [
    "max_log_y = np.max(train_df['Sales'])*1.2"
   ]
  },
  {
   "cell_type": "code",
   "execution_count": 19,
   "id": "2a840a45",
   "metadata": {},
   "outputs": [
    {
     "data": {
      "text/plain": [
       "12.7616122408592"
      ]
     },
     "execution_count": 19,
     "metadata": {},
     "output_type": "execute_result"
    }
   ],
   "source": [
    "max_log_y"
   ]
  },
  {
   "cell_type": "code",
   "execution_count": 20,
   "id": "c84e9950",
   "metadata": {},
   "outputs": [
    {
     "data": {
      "text/plain": [
       "tensor([ 0.0000, 12.7616])"
      ]
     },
     "execution_count": 20,
     "metadata": {},
     "output_type": "execute_result"
    }
   ],
   "source": [
    "y_range = torch.tensor([0, max_log_y]); y_range"
   ]
  },
  {
   "cell_type": "code",
   "execution_count": 21,
   "id": "ef788429",
   "metadata": {},
   "outputs": [],
   "source": [
    "tc = tabular_config(ps=[0.001, 0.01], embed_p=0.04, y_range=y_range)\n",
    "learn = tabular_learner(dls, layers=[1000,500],\n",
    "                        metrics=exp_rmspe,\n",
    "                        config=tc,\n",
    "                        loss_func=MSELossFlat())"
   ]
  },
  {
   "cell_type": "code",
   "execution_count": 22,
   "id": "beca3c0f",
   "metadata": {},
   "outputs": [
    {
     "data": {
      "text/html": [],
      "text/plain": [
       "<IPython.core.display.HTML object>"
      ]
     },
     "metadata": {},
     "output_type": "display_data"
    },
    {
     "data": {
      "text/plain": [
       "TabularModel (Input shape: 512 x 26)\n",
       "============================================================================\n",
       "Layer (type)         Output Shape         Param #    Trainable \n",
       "============================================================================\n",
       "                     512 x 81            \n",
       "Embedding                                 90396      True      \n",
       "____________________________________________________________________________\n",
       "                     512 x 5             \n",
       "Embedding                                 40         True      \n",
       "____________________________________________________________________________\n",
       "                     512 x 3             \n",
       "Embedding                                 12         True      \n",
       "____________________________________________________________________________\n",
       "                     512 x 7             \n",
       "Embedding                                 91         True      \n",
       "____________________________________________________________________________\n",
       "                     512 x 11            \n",
       "Embedding                                 352        True      \n",
       "____________________________________________________________________________\n",
       "                     512 x 3             \n",
       "Embedding                                 9          True      \n",
       "____________________________________________________________________________\n",
       "                     512 x 10            \n",
       "Embedding                                 260        True      \n",
       "Embedding                                 270        True      \n",
       "____________________________________________________________________________\n",
       "                     512 x 4             \n",
       "Embedding                                 20         True      \n",
       "____________________________________________________________________________\n",
       "                     512 x 3             \n",
       "Embedding                                 12         True      \n",
       "Embedding                                 12         True      \n",
       "____________________________________________________________________________\n",
       "                     512 x 9             \n",
       "Embedding                                 216        True      \n",
       "____________________________________________________________________________\n",
       "                     512 x 5             \n",
       "Embedding                                 45         True      \n",
       "____________________________________________________________________________\n",
       "                     512 x 7             \n",
       "Embedding                                 91         True      \n",
       "____________________________________________________________________________\n",
       "                     512 x 15            \n",
       "Embedding                                 795        True      \n",
       "____________________________________________________________________________\n",
       "                     512 x 9             \n",
       "Embedding                                 198        True      \n",
       "____________________________________________________________________________\n",
       "                     512 x 5             \n",
       "Embedding                                 35         True      \n",
       "Embedding                                 35         True      \n",
       "____________________________________________________________________________\n",
       "                     512 x 3             \n",
       "Embedding                                 12         True      \n",
       "Embedding                                 12         True      \n",
       "____________________________________________________________________________\n",
       "                     512 x 5             \n",
       "Embedding                                 45         True      \n",
       "Embedding                                 45         True      \n",
       "____________________________________________________________________________\n",
       "                     512 x 3             \n",
       "Embedding                                 9          True      \n",
       "Embedding                                 9          True      \n",
       "Embedding                                 9          True      \n",
       "Embedding                                 9          True      \n",
       "Dropout                                                        \n",
       "BatchNorm1d                               28         True      \n",
       "____________________________________________________________________________\n",
       "                     512 x 1000          \n",
       "Linear                                    237000     True      \n",
       "ReLU                                                           \n",
       "BatchNorm1d                               2000       True      \n",
       "Dropout                                                        \n",
       "____________________________________________________________________________\n",
       "                     512 x 500           \n",
       "Linear                                    500000     True      \n",
       "ReLU                                                           \n",
       "BatchNorm1d                               1000       True      \n",
       "Dropout                                                        \n",
       "____________________________________________________________________________\n",
       "                     512 x 1             \n",
       "Linear                                    501        True      \n",
       "SigmoidRange                                                   \n",
       "____________________________________________________________________________\n",
       "\n",
       "Total params: 833,568\n",
       "Total trainable params: 833,568\n",
       "Total non-trainable params: 0\n",
       "\n",
       "Optimizer used: <function Adam at 0x000001491848C820>\n",
       "Loss function: FlattenedLoss of MSELoss()\n",
       "\n",
       "Callbacks:\n",
       "  - TrainEvalCallback\n",
       "  - Recorder\n",
       "  - ProgressCallback"
      ]
     },
     "execution_count": 22,
     "metadata": {},
     "output_type": "execute_result"
    }
   ],
   "source": [
    "learn.summary()"
   ]
  },
  {
   "cell_type": "code",
   "execution_count": 23,
   "id": "bc598bbe",
   "metadata": {},
   "outputs": [
    {
     "data": {
      "text/html": [],
      "text/plain": [
       "<IPython.core.display.HTML object>"
      ]
     },
     "metadata": {},
     "output_type": "display_data"
    },
    {
     "data": {
      "image/png": "[encoded data removed]",
      "text/plain": [
       "<Figure size 640x480 with 1 Axes>"
      ]
     },
     "metadata": {},
     "output_type": "display_data"
    }
   ],
   "source": [
    "learn.lr_find()\n",
    "plt.show()"
   ]
  },
  {
   "cell_type": "code",
   "execution_count": 24,
   "id": "d4e6e228",
   "metadata": {},
   "outputs": [
    {
     "data": {
      "text/html": [
       "<table border=\"1\" class=\"dataframe\">\n",
       "  <thead>\n",
       "    <tr style=\"text-align: left;\">\n",
       "      <th>epoch</th>\n",
       "      <th>train_loss</th>\n",
       "      <th>valid_loss</th>\n",
       "      <th>_exp_rmspe</th>\n",
       "      <th>time</th>\n",
       "    </tr>\n",
       "  </thead>\n",
       "  <tbody>\n",
       "    <tr>\n",
       "      <td>0</td>\n",
       "      <td>0.051658</td>\n",
       "      <td>0.063986</td>\n",
       "      <td>0.227495</td>\n",
       "      <td>00:30</td>\n",
       "    </tr>\n",
       "    <tr>\n",
       "      <td>1</td>\n",
       "      <td>0.035360</td>\n",
       "      <td>0.029447</td>\n",
       "      <td>0.159546</td>\n",
       "      <td>00:30</td>\n",
       "    </tr>\n",
       "    <tr>\n",
       "      <td>2</td>\n",
       "      <td>0.015455</td>\n",
       "      <td>0.015797</td>\n",
       "      <td>0.134377</td>\n",
       "      <td>00:30</td>\n",
       "    </tr>\n",
       "    <tr>\n",
       "      <td>3</td>\n",
       "      <td>0.014315</td>\n",
       "      <td>0.013872</td>\n",
       "      <td>0.119532</td>\n",
       "      <td>00:29</td>\n",
       "    </tr>\n",
       "    <tr>\n",
       "      <td>4</td>\n",
       "      <td>0.011774</td>\n",
       "      <td>0.013150</td>\n",
       "      <td>0.123288</td>\n",
       "      <td>00:30</td>\n",
       "    </tr>\n",
       "    <tr>\n",
       "      <td>5</td>\n",
       "      <td>0.010654</td>\n",
       "      <td>0.011851</td>\n",
       "      <td>0.111622</td>\n",
       "      <td>00:29</td>\n",
       "    </tr>\n",
       "    <tr>\n",
       "      <td>6</td>\n",
       "      <td>0.009731</td>\n",
       "      <td>0.013207</td>\n",
       "      <td>0.112490</td>\n",
       "      <td>00:29</td>\n",
       "    </tr>\n",
       "    <tr>\n",
       "      <td>7</td>\n",
       "      <td>0.008138</td>\n",
       "      <td>0.011462</td>\n",
       "      <td>0.111313</td>\n",
       "      <td>00:30</td>\n",
       "    </tr>\n",
       "    <tr>\n",
       "      <td>8</td>\n",
       "      <td>0.007691</td>\n",
       "      <td>0.010746</td>\n",
       "      <td>0.107279</td>\n",
       "      <td>00:30</td>\n",
       "    </tr>\n",
       "    <tr>\n",
       "      <td>9</td>\n",
       "      <td>0.006944</td>\n",
       "      <td>0.010734</td>\n",
       "      <td>0.106895</td>\n",
       "      <td>00:31</td>\n",
       "    </tr>\n",
       "  </tbody>\n",
       "</table>"
      ],
      "text/plain": [
       "<IPython.core.display.HTML object>"
      ]
     },
     "metadata": {},
     "output_type": "display_data"
    }
   ],
   "source": [
    "learn.fit_one_cycle(10, 3e-3, wd=0.2)"
   ]
  },
  {
   "cell_type": "code",
   "execution_count": 25,
   "id": "c5c13171",
   "metadata": {},
   "outputs": [],
   "source": [
    "learn.export(path/'myRegressionModel')"
   ]
  },
  {
   "cell_type": "code",
   "execution_count": 26,
   "id": "7a9e4474",
   "metadata": {},
   "outputs": [],
   "source": [
    "del learn"
   ]
  },
  {
   "cell_type": "code",
   "execution_count": 27,
   "id": "4d7a62bd",
   "metadata": {},
   "outputs": [],
   "source": [
    "learn = load_learner(path/'myRegressionModel')"
   ]
  },
  {
   "cell_type": "code",
   "execution_count": 28,
   "id": "a3872468",
   "metadata": {},
   "outputs": [],
   "source": [
    "dl = learn.dls.test_dl(test_df)"
   ]
  },
  {
   "cell_type": "code",
   "execution_count": 29,
   "id": "fdf4f246",
   "metadata": {},
   "outputs": [
    {
     "data": {
      "text/html": [],
      "text/plain": [
       "<IPython.core.display.HTML object>"
      ]
     },
     "metadata": {},
     "output_type": "display_data"
    }
   ],
   "source": [
    "raw_test_preds = learn.get_preds(dl=dl)"
   ]
  },
  {
   "cell_type": "code",
   "execution_count": 30,
   "id": "d4df19ce",
   "metadata": {},
   "outputs": [
    {
     "data": {
      "text/plain": [
       "(tensor([[ 8.3877],\n",
       "         [ 8.8539],\n",
       "         [ 9.1443],\n",
       "         ...,\n",
       "         [ 8.7794],\n",
       "         [10.0853],\n",
       "         [ 8.8963]]),\n",
       " None)"
      ]
     },
     "execution_count": 30,
     "metadata": {},
     "output_type": "execute_result"
    }
   ],
   "source": [
    "raw_test_preds"
   ]
  },
  {
   "cell_type": "code",
   "execution_count": 31,
   "id": "73edde6e",
   "metadata": {},
   "outputs": [
    {
     "data": {
      "text/html": [],
      "text/plain": [
       "<IPython.core.display.HTML object>"
      ]
     },
     "metadata": {},
     "output_type": "display_data"
    },
    {
     "data": {
      "text/plain": [
       "(#2) [None,None]"
      ]
     },
     "execution_count": 31,
     "metadata": {},
     "output_type": "execute_result"
    }
   ],
   "source": [
    "learn.validate(dl=dl)"
   ]
  },
  {
   "cell_type": "code",
   "execution_count": 32,
   "id": "bf2cfd50",
   "metadata": {},
   "outputs": [
    {
     "data": {
      "text/plain": [
       "tensor([[ 4392.8413],\n",
       "        [ 7001.4014],\n",
       "        [ 9361.1221],\n",
       "        ...,\n",
       "        [ 6499.1182],\n",
       "        [23987.4746],\n",
       "        [ 7305.1064]])"
      ]
     },
     "execution_count": 32,
     "metadata": {},
     "output_type": "execute_result"
    }
   ],
   "source": [
    "np.exp(raw_test_preds[0])"
   ]
  },
  {
   "cell_type": "code",
   "execution_count": 33,
   "id": "f1ecb792",
   "metadata": {},
   "outputs": [],
   "source": [
    "test_preds = np.exp(raw_test_preds[0]).numpy().T[0]"
   ]
  },
  {
   "cell_type": "code",
   "execution_count": 34,
   "id": "e2e077ea",
   "metadata": {},
   "outputs": [
    {
     "data": {
      "text/plain": [
       "array([[ 8.387732 ],\n",
       "       [ 8.853866 ],\n",
       "       [ 9.1443205],\n",
       "       ...,\n",
       "       [ 8.779422 ],\n",
       "       [10.085287 ],\n",
       "       [ 8.896329 ]], dtype=float32)"
      ]
     },
     "execution_count": 34,
     "metadata": {},
     "output_type": "execute_result"
    }
   ],
   "source": [
    "raw_test_preds[0].numpy()"
   ]
  },
  {
   "cell_type": "code",
   "execution_count": 35,
   "id": "63ecbd63",
   "metadata": {},
   "outputs": [
    {
     "data": {
      "text/plain": [
       "array([ 4392.8413,  7001.4014,  9361.122 , ...,  6499.118 , 23987.475 ,\n",
       "        7305.1064], dtype=float32)"
      ]
     },
     "execution_count": 35,
     "metadata": {},
     "output_type": "execute_result"
    }
   ],
   "source": [
    "test_preds"
   ]
  },
  {
   "cell_type": "code",
   "execution_count": 36,
   "id": "1080cd4a",
   "metadata": {},
   "outputs": [],
   "source": [
    "test_df['Sales'] = test_preds\n",
    "test_df[['Id','Sales']] = test_df[['Id','Sales']].astype('int')"
   ]
  },
  {
   "cell_type": "code",
   "execution_count": 37,
   "id": "c28c005f",
   "metadata": {},
   "outputs": [],
   "source": [
    "test_df[['Id','Sales']].to_csv(path/'submission.csv', index=False)"
   ]
  },
  {
   "cell_type": "code",
   "execution_count": 38,
   "id": "472041d3",
   "metadata": {},
   "outputs": [],
   "source": [
    "class PermutationImportance():\n",
    "    \"Calculate and plot the permutation importance\"\n",
    "    def __init__(self, learn:Learner, df=None, bs=None):\n",
    "        \"Initialize with a test dataframe, a learner, and a metric\"\n",
    "        self.learn = learn\n",
    "        self.df = df\n",
    "        bs = bs if bs is not None else learn.dls.bs\n",
    "        if self.df is not None:\n",
    "            self.dl = learn.dls.test_dl(self.df, bs=bs)\n",
    "        else:\n",
    "            self.dl = learn.dls[1]\n",
    "        self.x_names = learn.dls.x_names.filter(lambda x: '_na' not in x)\n",
    "        self.na = learn.dls.x_names.filter(lambda x: '_na' in x)\n",
    "        self.y = dls.y_names\n",
    "        self.results = self.calc_feat_importance()\n",
    "        self.plot_importance(self.ord_dic_to_df(self.results))\n",
    "\n",
    "    def measure_col(self, name:str):\n",
    "        \"Measures change after column shuffle\"\n",
    "        col = [name]\n",
    "        if f'{name}_na' in self.na: col.append(name)\n",
    "        orig = self.dl.items[col].values\n",
    "        perm = np.random.permutation(len(orig))\n",
    "        self.dl.items[col] = self.dl.items[col].values[perm]\n",
    "        metric = learn.validate(dl=self.dl)[1]\n",
    "        self.dl.items[col] = orig\n",
    "        return metric\n",
    "\n",
    "    def calc_feat_importance(self):\n",
    "        \"Calculates permutation importance by shuffling a column on a percentage scale\"\n",
    "        print('Getting base error')\n",
    "        base_error = self.learn.validate(dl=self.dl)[1]\n",
    "        self.importance = {}\n",
    "        pbar = progress_bar(self.x_names)\n",
    "        print('Calculating Permutation Importance')\n",
    "        for col in pbar:\n",
    "            self.importance[col] = self.measure_col(col)\n",
    "        for key, value in self.importance.items():\n",
    "            self.importance[key] = (base_error-value)/base_error #this can be adjusted\n",
    "        return OrderedDict(sorted(self.importance.items(), key=lambda kv: kv[1], reverse=True))\n",
    "\n",
    "    def ord_dic_to_df(self, dict:OrderedDict):\n",
    "        return pd.DataFrame([[k, v] for k, v in dict.items()], columns=['feature', 'importance'])\n",
    "\n",
    "    def plot_importance(self, df:pd.DataFrame, limit=20, asc=False, **kwargs):\n",
    "        \"Plot importance with an optional limit to how many variables shown\"\n",
    "        df_copy = df.copy()\n",
    "        df_copy['feature'] = df_copy['feature'].str.slice(0,25)\n",
    "        df_copy = df_copy.sort_values(by='importance', ascending=asc)[:limit].sort_values(by='importance', ascending=not(asc))\n",
    "        ax = df_copy.plot.barh(x='feature', y='importance', sort_columns=True, **kwargs)\n",
    "        for p in ax.patches:\n",
    "            ax.annotate(f'{p.get_width():.4f}', ((p.get_width() * 1.005), p.get_y()  * 1.005))"
   ]
  },
  {
   "cell_type": "code",
   "execution_count": 39,
   "id": "a153baaf",
   "metadata": {},
   "outputs": [
    {
     "name": "stdout",
     "output_type": "stream",
     "text": [
      "Getting base error\n"
     ]
    },
    {
     "data": {
      "text/html": [],
      "text/plain": [
       "<IPython.core.display.HTML object>"
      ]
     },
     "metadata": {},
     "output_type": "display_data"
    },
    {
     "name": "stdout",
     "output_type": "stream",
     "text": [
      "Calculating Permutation Importance\n"
     ]
    },
    {
     "data": {
      "text/html": [
       "\n",
       "    <div>\n",
       "        <style>\n",
       "            /* Turns off some styling */\n",
       "            progress {\n",
       "                /* gets rid of default border in Firefox and Opera. */\n",
       "                border: none;\n",
       "                /* Needs to be in here for Safari polyfill so background images work as expected. */\n",
       "                background-size: auto;\n",
       "            }\n",
       "            .progress-bar-interrupted, .progress-bar-interrupted::-webkit-progress-bar {\n",
       "                background: #F44336;\n",
       "            }\n",
       "        </style>\n",
       "      <progress value='38' class='' max='38' style='width:300px; height:20px; vertical-align: middle;'></progress>\n",
       "      100.00% [38/38 00:05<00:00]\n",
       "    </div>\n",
       "    "
      ],
      "text/plain": [
       "<IPython.core.display.HTML object>"
      ]
     },
     "metadata": {},
     "output_type": "display_data"
    },
    {
     "data": {
      "text/html": [],
      "text/plain": [
       "<IPython.core.display.HTML object>"
      ]
     },
     "metadata": {},
     "output_type": "display_data"
    },
    {
     "data": {
      "text/html": [],
      "text/plain": [
       "<IPython.core.display.HTML object>"
      ]
     },
     "metadata": {},
     "output_type": "display_data"
    },
    {
     "data": {
      "text/html": [],
      "text/plain": [
       "<IPython.core.display.HTML object>"
      ]
     },
     "metadata": {},
     "output_type": "display_data"
    },
    {
     "data": {
      "text/html": [],
      "text/plain": [
       "<IPython.core.display.HTML object>"
      ]
     },
     "metadata": {},
     "output_type": "display_data"
    },
    {
     "data": {
      "text/html": [],
      "text/plain": [
       "<IPython.core.display.HTML object>"
      ]
     },
     "metadata": {},
     "output_type": "display_data"
    },
    {
     "data": {
      "text/html": [],
      "text/plain": [
       "<IPython.core.display.HTML object>"
      ]
     },
     "metadata": {},
     "output_type": "display_data"
    },
    {
     "data": {
      "text/html": [],
      "text/plain": [
       "<IPython.core.display.HTML object>"
      ]
     },
     "metadata": {},
     "output_type": "display_data"
    },
    {
     "data": {
      "text/html": [],
      "text/plain": [
       "<IPython.core.display.HTML object>"
      ]
     },
     "metadata": {},
     "output_type": "display_data"
    },
    {
     "data": {
      "text/html": [],
      "text/plain": [
       "<IPython.core.display.HTML object>"
      ]
     },
     "metadata": {},
     "output_type": "display_data"
    },
    {
     "data": {
      "text/html": [],
      "text/plain": [
       "<IPython.core.display.HTML object>"
      ]
     },
     "metadata": {},
     "output_type": "display_data"
    },
    {
     "data": {
      "text/html": [],
      "text/plain": [
       "<IPython.core.display.HTML object>"
      ]
     },
     "metadata": {},
     "output_type": "display_data"
    },
    {
     "data": {
      "text/html": [],
      "text/plain": [
       "<IPython.core.display.HTML object>"
      ]
     },
     "metadata": {},
     "output_type": "display_data"
    },
    {
     "data": {
      "text/html": [],
      "text/plain": [
       "<IPython.core.display.HTML object>"
      ]
     },
     "metadata": {},
     "output_type": "display_data"
    },
    {
     "data": {
      "text/html": [],
      "text/plain": [
       "<IPython.core.display.HTML object>"
      ]
     },
     "metadata": {},
     "output_type": "display_data"
    },
    {
     "data": {
      "text/html": [],
      "text/plain": [
       "<IPython.core.display.HTML object>"
      ]
     },
     "metadata": {},
     "output_type": "display_data"
    },
    {
     "data": {
      "text/html": [],
      "text/plain": [
       "<IPython.core.display.HTML object>"
      ]
     },
     "metadata": {},
     "output_type": "display_data"
    },
    {
     "data": {
      "text/html": [],
      "text/plain": [
       "<IPython.core.display.HTML object>"
      ]
     },
     "metadata": {},
     "output_type": "display_data"
    },
    {
     "data": {
      "text/html": [],
      "text/plain": [
       "<IPython.core.display.HTML object>"
      ]
     },
     "metadata": {},
     "output_type": "display_data"
    },
    {
     "data": {
      "text/html": [],
      "text/plain": [
       "<IPython.core.display.HTML object>"
      ]
     },
     "metadata": {},
     "output_type": "display_data"
    },
    {
     "data": {
      "text/html": [],
      "text/plain": [
       "<IPython.core.display.HTML object>"
      ]
     },
     "metadata": {},
     "output_type": "display_data"
    },
    {
     "data": {
      "text/html": [],
      "text/plain": [
       "<IPython.core.display.HTML object>"
      ]
     },
     "metadata": {},
     "output_type": "display_data"
    },
    {
     "data": {
      "text/html": [],
      "text/plain": [
       "<IPython.core.display.HTML object>"
      ]
     },
     "metadata": {},
     "output_type": "display_data"
    },
    {
     "data": {
      "text/html": [],
      "text/plain": [
       "<IPython.core.display.HTML object>"
      ]
     },
     "metadata": {},
     "output_type": "display_data"
    },
    {
     "data": {
      "text/html": [],
      "text/plain": [
       "<IPython.core.display.HTML object>"
      ]
     },
     "metadata": {},
     "output_type": "display_data"
    },
    {
     "data": {
      "text/html": [],
      "text/plain": [
       "<IPython.core.display.HTML object>"
      ]
     },
     "metadata": {},
     "output_type": "display_data"
    },
    {
     "data": {
      "text/html": [],
      "text/plain": [
       "<IPython.core.display.HTML object>"
      ]
     },
     "metadata": {},
     "output_type": "display_data"
    },
    {
     "data": {
      "text/html": [],
      "text/plain": [
       "<IPython.core.display.HTML object>"
      ]
     },
     "metadata": {},
     "output_type": "display_data"
    },
    {
     "data": {
      "text/html": [],
      "text/plain": [
       "<IPython.core.display.HTML object>"
      ]
     },
     "metadata": {},
     "output_type": "display_data"
    },
    {
     "data": {
      "text/html": [],
      "text/plain": [
       "<IPython.core.display.HTML object>"
      ]
     },
     "metadata": {},
     "output_type": "display_data"
    },
    {
     "data": {
      "text/html": [],
      "text/plain": [
       "<IPython.core.display.HTML object>"
      ]
     },
     "metadata": {},
     "output_type": "display_data"
    },
    {
     "data": {
      "text/html": [],
      "text/plain": [
       "<IPython.core.display.HTML object>"
      ]
     },
     "metadata": {},
     "output_type": "display_data"
    },
    {
     "data": {
      "text/html": [],
      "text/plain": [
       "<IPython.core.display.HTML object>"
      ]
     },
     "metadata": {},
     "output_type": "display_data"
    },
    {
     "data": {
      "text/html": [],
      "text/plain": [
       "<IPython.core.display.HTML object>"
      ]
     },
     "metadata": {},
     "output_type": "display_data"
    },
    {
     "data": {
      "text/html": [],
      "text/plain": [
       "<IPython.core.display.HTML object>"
      ]
     },
     "metadata": {},
     "output_type": "display_data"
    },
    {
     "data": {
      "text/html": [],
      "text/plain": [
       "<IPython.core.display.HTML object>"
      ]
     },
     "metadata": {},
     "output_type": "display_data"
    },
    {
     "data": {
      "text/html": [],
      "text/plain": [
       "<IPython.core.display.HTML object>"
      ]
     },
     "metadata": {},
     "output_type": "display_data"
    },
    {
     "data": {
      "text/html": [],
      "text/plain": [
       "<IPython.core.display.HTML object>"
      ]
     },
     "metadata": {},
     "output_type": "display_data"
    },
    {
     "data": {
      "text/html": [],
      "text/plain": [
       "<IPython.core.display.HTML object>"
      ]
     },
     "metadata": {},
     "output_type": "display_data"
    },
    {
     "data": {
      "image/png": "[encoded data removed]",
      "text/plain": [
       "<Figure size 640x480 with 1 Axes>"
      ]
     },
     "metadata": {},
     "output_type": "display_data"
    }
   ],
   "source": [
    "res = PermutationImportance(learn, train_df.iloc[:1000], bs=64)\n",
    "plt.show()"
   ]
  },
  {
   "cell_type": "code",
   "execution_count": 40,
   "id": "5f5d1ed2",
   "metadata": {},
   "outputs": [
    {
     "data": {
      "text/plain": [
       "{'Store': -5.196768624060944,\n",
       " 'DayOfWeek': 0.0,\n",
       " 'Year': 0.0,\n",
       " 'Month': 0.0,\n",
       " 'Day': 0.0,\n",
       " 'StateHoliday': 0.0,\n",
       " 'CompetitionMonthsOpen': -0.013269172259676571,\n",
       " 'Promo2Weeks': -0.03123375910525178,\n",
       " 'StoreType': -0.025573534426167145,\n",
       " 'Assortment': -0.053925407094846785,\n",
       " 'PromoInterval': -0.08735122325835094,\n",
       " 'CompetitionOpenSinceYear': -0.000830927115435084,\n",
       " 'Promo2SinceYear': -0.0010038353824753004,\n",
       " 'State': -0.0022895382955737697,\n",
       " 'Week': 0.0,\n",
       " 'Events': 0.003858174556019696,\n",
       " 'Promo_fw': -0.03495706685269814,\n",
       " 'Promo_bw': 0.0,\n",
       " 'StateHoliday_fw': 0.0,\n",
       " 'StateHoliday_bw': 0.0,\n",
       " 'SchoolHoliday_fw': -0.028162157291756425,\n",
       " 'SchoolHoliday_bw': -0.051701293548963904,\n",
       " 'Promo': 0.0,\n",
       " 'SchoolHoliday': -0.00587715937542812,\n",
       " 'CompetitionDistance': -0.006201167659611589,\n",
       " 'Max_TemperatureC': -0.010885678120561744,\n",
       " 'Mean_TemperatureC': 0.0017049788152528867,\n",
       " 'Min_TemperatureC': -0.004234899775104472,\n",
       " 'Max_Humidity': 0.0200881036898657,\n",
       " 'Mean_Humidity': -0.00023964479116100152,\n",
       " 'Min_Humidity': 0.0019363430303251912,\n",
       " 'Max_Wind_SpeedKm_h': -0.002750053106367935,\n",
       " 'Mean_Wind_SpeedKm_h': -0.005134449090403313,\n",
       " 'CloudCover': 0.0014225373833166397,\n",
       " 'trend': -0.001161166328160542,\n",
       " 'trend_DE': 0.0,\n",
       " 'AfterStateHoliday': -0.0026920070878451883,\n",
       " 'BeforeStateHoliday': 0.00015651108666655899}"
      ]
     },
     "execution_count": 40,
     "metadata": {},
     "output_type": "execute_result"
    }
   ],
   "source": [
    "res.importance"
   ]
  },
  {
   "cell_type": "markdown",
   "id": "49488f27",
   "metadata": {},
   "source": [
    "### Ensembling"
   ]
  },
  {
   "cell_type": "code",
   "execution_count": 41,
   "id": "e81bbd7f",
   "metadata": {},
   "outputs": [],
   "source": [
    "%matplotlib inline\n",
    "from fastai.tabular.all import *"
   ]
  },
  {
   "cell_type": "code",
   "execution_count": 42,
   "id": "60810308",
   "metadata": {},
   "outputs": [],
   "source": [
    "path = Path('C:/Users/light/Documents/Fastbook/Personal-Machine-Learning-Data/Walkwithfastai Data')\n",
    "df = pd.read_csv(path/'6 class csv.csv')"
   ]
  },
  {
   "cell_type": "code",
   "execution_count": 43,
   "id": "e89a0d8f",
   "metadata": {},
   "outputs": [],
   "source": [
    "cat_names = ['Star color', 'Spectral Class']\n",
    "cont_names = ['Temperature (K)','Luminosity(L/Lo)','Radius(R/Ro)','Absolute magnitude(Mv)']\n",
    "procs = [Categorify, FillMissing, Normalize]\n",
    "y_names = 'Star type'\n",
    "y_block = CategoryBlock()\n",
    "splits = RandomSplitter()(range_of(df))"
   ]
  },
  {
   "cell_type": "code",
   "execution_count": 44,
   "id": "54ddf1f9",
   "metadata": {},
   "outputs": [],
   "source": [
    "to = TabularPandas(df, procs=procs, cat_names=cat_names, cont_names=cont_names, y_names=y_names, y_block=y_block, splits=splits)"
   ]
  },
  {
   "cell_type": "code",
   "execution_count": 47,
   "id": "bf1fe9b2",
   "metadata": {},
   "outputs": [],
   "source": [
    "import xgboost as xgb"
   ]
  },
  {
   "cell_type": "code",
   "execution_count": 48,
   "id": "1ff3d4e7",
   "metadata": {},
   "outputs": [],
   "source": [
    "X_train, y_train = to.train.xs, to.train.ys.values.ravel()\n",
    "X_test, y_test = to.valid.xs, to.valid.ys.values.ravel()"
   ]
  },
  {
   "cell_type": "code",
   "execution_count": 49,
   "id": "2aa76b33",
   "metadata": {},
   "outputs": [],
   "source": [
    "model = xgb.XGBClassifier(n_estimators=100, max_depth=8, learning_rate=0.1, subsample=0.5)"
   ]
  },
  {
   "cell_type": "code",
   "execution_count": 50,
   "id": "ee0e82a9",
   "metadata": {},
   "outputs": [],
   "source": [
    "xgb_model = model.fit(X_train, y_train)"
   ]
  },
  {
   "cell_type": "code",
   "execution_count": 51,
   "id": "74f3193a",
   "metadata": {},
   "outputs": [],
   "source": [
    "xgb_preds = xgb_model.predict_proba(X_test)"
   ]
  },
  {
   "cell_type": "code",
   "execution_count": 52,
   "id": "ce492e23",
   "metadata": {},
   "outputs": [
    {
     "data": {
      "text/plain": [
       "array([[0.00349843, 0.00754113, 0.00348019, 0.00414853, 0.01390156,\n",
       "        0.9674301 ],\n",
       "       [0.00532041, 0.9784635 , 0.00445148, 0.00441098, 0.00295174,\n",
       "        0.00440197],\n",
       "       [0.00419484, 0.00612045, 0.97344357, 0.00924816, 0.00286644,\n",
       "        0.00412655],\n",
       "       [0.00540794, 0.00472103, 0.00537974, 0.975476  , 0.00369538,\n",
       "        0.0053199 ],\n",
       "       [0.00419949, 0.00612724, 0.97452265, 0.00814984, 0.00286962,\n",
       "        0.00413112],\n",
       "       [0.00426129, 0.00372003, 0.00423907, 0.98077685, 0.00281089,\n",
       "        0.00419192],\n",
       "       [0.9780651 , 0.00905842, 0.00353471, 0.00350254, 0.00234384,\n",
       "        0.00349539],\n",
       "       [0.00418743, 0.00560776, 0.9717229 , 0.01150125, 0.00286138,\n",
       "        0.00411925],\n",
       "       [0.9615699 , 0.02629983, 0.00332985, 0.00329955, 0.002208  ,\n",
       "        0.00329281],\n",
       "       [0.01019267, 0.95579606, 0.0093364 , 0.00925144, 0.00619089,\n",
       "        0.00923255],\n",
       "       [0.00427283, 0.9820654 , 0.00375029, 0.00371617, 0.00248679,\n",
       "        0.00370858],\n",
       "       [0.00294008, 0.00565506, 0.00292474, 0.00348641, 0.01084448,\n",
       "        0.97414917],\n",
       "       [0.00460294, 0.00566644, 0.97368616, 0.00904979, 0.00286716,\n",
       "        0.00412758],\n",
       "       [0.00293152, 0.00255916, 0.00291623, 0.00862935, 0.01164884,\n",
       "        0.97131497],\n",
       "       [0.00304542, 0.00728303, 0.00291716, 0.00347738, 0.01165256,\n",
       "        0.97162443],\n",
       "       [0.00483537, 0.00422119, 0.00481015, 0.9780725 , 0.00330413,\n",
       "        0.00475665],\n",
       "       [0.00419305, 0.00611784, 0.9730276 , 0.0097709 , 0.00276588,\n",
       "        0.00412478],\n",
       "       [0.97795266, 0.00874353, 0.00431901, 0.00336869, 0.00225426,\n",
       "        0.00336181],\n",
       "       [0.00290315, 0.0025344 , 0.00288801, 0.00998053, 0.01977831,\n",
       "        0.96191555],\n",
       "       [0.97749925, 0.01012215, 0.00339805, 0.00336713, 0.00225322,\n",
       "        0.00336025],\n",
       "       [0.00483537, 0.00422119, 0.00481015, 0.9780725 , 0.00330413,\n",
       "        0.00475665],\n",
       "       [0.00508591, 0.0044399 , 0.00505938, 0.03421339, 0.9461983 ,\n",
       "        0.0050031 ],\n",
       "       [0.00553492, 0.9768593 , 0.00483296, 0.00478898, 0.0032047 ,\n",
       "        0.0047792 ],\n",
       "       [0.9759906 , 0.01033232, 0.00429469, 0.00351775, 0.00235402,\n",
       "        0.00351057],\n",
       "       [0.0040135 , 0.9819816 , 0.00384447, 0.00380949, 0.00254924,\n",
       "        0.0038017 ],\n",
       "       [0.00500226, 0.00436687, 0.00497617, 0.97743416, 0.00329966,\n",
       "        0.00492082],\n",
       "       [0.00292832, 0.00255636, 0.00291304, 0.00949649, 0.01185252,\n",
       "        0.9702533 ],\n",
       "       [0.00483537, 0.00422119, 0.00481015, 0.9780725 , 0.00330413,\n",
       "        0.00475665],\n",
       "       [0.00305109, 0.00266354, 0.00303517, 0.00485765, 0.02022287,\n",
       "        0.9661697 ],\n",
       "       [0.10040748, 0.28785846, 0.09988378, 0.34684542, 0.06623217,\n",
       "        0.09877274],\n",
       "       [0.00483537, 0.00422119, 0.00481015, 0.9780725 , 0.00330413,\n",
       "        0.00475665],\n",
       "       [0.00437738, 0.0058745 , 0.97137547, 0.01149372, 0.00276118,\n",
       "        0.00411778],\n",
       "       [0.00438773, 0.00588839, 0.9736727 , 0.00905651, 0.00286712,\n",
       "        0.00412752],\n",
       "       [0.00368419, 0.00321623, 0.00366498, 0.01297494, 0.01407722,\n",
       "        0.9623825 ],\n",
       "       [0.0046061 , 0.00589251, 0.97435343, 0.00814843, 0.00286912,\n",
       "        0.0041304 ],\n",
       "       [0.00755903, 0.9683967 , 0.00660036, 0.0065403 , 0.00437665,\n",
       "        0.00652694],\n",
       "       [0.02032659, 0.01774471, 0.02022057, 0.7657928 , 0.15591975,\n",
       "        0.01999565],\n",
       "       [0.00419295, 0.00611769, 0.9730042 , 0.00969527, 0.00286515,\n",
       "        0.00412468],\n",
       "       [0.00859289, 0.00750142, 0.00854807, 0.95513505, 0.01176956,\n",
       "        0.00845299],\n",
       "       [0.00283954, 0.00247887, 0.00282473, 0.00385421, 0.9852093 ,\n",
       "        0.00279331],\n",
       "       [0.01256525, 0.9454215 , 0.01153299, 0.01142805, 0.00764744,\n",
       "        0.01140471],\n",
       "       [0.00419376, 0.00611887, 0.9731914 , 0.00950484, 0.0028657 ,\n",
       "        0.00412548],\n",
       "       [0.00472336, 0.9801743 , 0.00414572, 0.004108  , 0.002749  ,\n",
       "        0.00409961],\n",
       "       [0.00419728, 0.006124  , 0.97400814, 0.00867356, 0.0028681 ,\n",
       "        0.00412894],\n",
       "       [0.01662488, 0.93270385, 0.01390971, 0.01378314, 0.00922342,\n",
       "        0.01375499],\n",
       "       [0.00565099, 0.00493321, 0.00562152, 0.97437376, 0.00386147,\n",
       "        0.00555899],\n",
       "       [0.00566815, 0.00494818, 0.00563859, 0.97429603, 0.00387319,\n",
       "        0.00557587],\n",
       "       [0.00291545, 0.00254513, 0.00290025, 0.01364699, 0.01200108,\n",
       "        0.96599114]], dtype=float32)"
      ]
     },
     "execution_count": 52,
     "metadata": {},
     "output_type": "execute_result"
    }
   ],
   "source": [
    "xgb_preds"
   ]
  },
  {
   "cell_type": "code",
   "execution_count": 53,
   "id": "b3964117",
   "metadata": {},
   "outputs": [
    {
     "data": {
      "text/plain": [
       "TensorBase(1.)"
      ]
     },
     "execution_count": 53,
     "metadata": {},
     "output_type": "execute_result"
    }
   ],
   "source": [
    "accuracy(tensor(xgb_preds), tensor(y_test))"
   ]
  },
  {
   "cell_type": "code",
   "execution_count": 54,
   "id": "cda8be66",
   "metadata": {},
   "outputs": [],
   "source": [
    "from xgboost import plot_importance"
   ]
  },
  {
   "cell_type": "code",
   "execution_count": 55,
   "id": "002068d6",
   "metadata": {},
   "outputs": [
    {
     "data": {
      "text/plain": [
       "<AxesSubplot:title={'center':'Feature importance'}, xlabel='F score', ylabel='Features'>"
      ]
     },
     "execution_count": 55,
     "metadata": {},
     "output_type": "execute_result"
    },
    {
     "data": {
      "image/png": "[encoded data removed]",
      "text/plain": [
       "<Figure size 432x288 with 1 Axes>"
      ]
     },
     "metadata": {
      "needs_background": "light"
     },
     "output_type": "display_data"
    }
   ],
   "source": [
    "plot_importance(xgb_model)"
   ]
  },
  {
   "cell_type": "code",
   "execution_count": 56,
   "id": "550dd8bd",
   "metadata": {},
   "outputs": [],
   "source": [
    "dls = to.dataloaders()"
   ]
  },
  {
   "cell_type": "code",
   "execution_count": 57,
   "id": "81ffa1c3",
   "metadata": {},
   "outputs": [],
   "source": [
    "learn = tabular_learner(dls, layers=[200,100], metrics=accuracy)"
   ]
  },
  {
   "cell_type": "code",
   "execution_count": 58,
   "id": "48e58d46",
   "metadata": {},
   "outputs": [
    {
     "data": {
      "text/html": [
       "<table border=\"1\" class=\"dataframe\">\n",
       "  <thead>\n",
       "    <tr style=\"text-align: left;\">\n",
       "      <th>epoch</th>\n",
       "      <th>train_loss</th>\n",
       "      <th>valid_loss</th>\n",
       "      <th>accuracy</th>\n",
       "      <th>time</th>\n",
       "    </tr>\n",
       "  </thead>\n",
       "  <tbody>\n",
       "    <tr>\n",
       "      <td>0</td>\n",
       "      <td>0.950692</td>\n",
       "      <td>1.358864</td>\n",
       "      <td>0.666667</td>\n",
       "      <td>00:00</td>\n",
       "    </tr>\n",
       "    <tr>\n",
       "      <td>1</td>\n",
       "      <td>0.595945</td>\n",
       "      <td>1.034471</td>\n",
       "      <td>0.729167</td>\n",
       "      <td>00:00</td>\n",
       "    </tr>\n",
       "    <tr>\n",
       "      <td>2</td>\n",
       "      <td>0.443665</td>\n",
       "      <td>0.805670</td>\n",
       "      <td>0.770833</td>\n",
       "      <td>00:00</td>\n",
       "    </tr>\n",
       "    <tr>\n",
       "      <td>3</td>\n",
       "      <td>0.350124</td>\n",
       "      <td>0.585578</td>\n",
       "      <td>0.854167</td>\n",
       "      <td>00:00</td>\n",
       "    </tr>\n",
       "    <tr>\n",
       "      <td>4</td>\n",
       "      <td>0.289619</td>\n",
       "      <td>0.426682</td>\n",
       "      <td>0.937500</td>\n",
       "      <td>00:00</td>\n",
       "    </tr>\n",
       "  </tbody>\n",
       "</table>"
      ],
      "text/plain": [
       "<IPython.core.display.HTML object>"
      ]
     },
     "metadata": {},
     "output_type": "display_data"
    }
   ],
   "source": [
    "learn.fit(5, 1e-2)"
   ]
  },
  {
   "cell_type": "code",
   "execution_count": 59,
   "id": "0d6dce70",
   "metadata": {},
   "outputs": [
    {
     "data": {
      "text/html": [],
      "text/plain": [
       "<IPython.core.display.HTML object>"
      ]
     },
     "metadata": {},
     "output_type": "display_data"
    }
   ],
   "source": [
    "nn_preds = learn.get_preds()[0]"
   ]
  },
  {
   "cell_type": "code",
   "execution_count": 60,
   "id": "d86a7064",
   "metadata": {},
   "outputs": [
    {
     "data": {
      "text/plain": [
       "tensor([[0.0142, 0.0119, 0.0097, 0.0054, 0.0229, 0.9358],\n",
       "        [0.1910, 0.6107, 0.1038, 0.0247, 0.0281, 0.0417],\n",
       "        [0.0386, 0.0538, 0.8224, 0.0299, 0.0308, 0.0245],\n",
       "        [0.0143, 0.0656, 0.1076, 0.6080, 0.1588, 0.0457],\n",
       "        [0.0482, 0.1294, 0.6969, 0.0427, 0.0492, 0.0335],\n",
       "        [0.0143, 0.1887, 0.1672, 0.4849, 0.1049, 0.0401],\n",
       "        [0.3876, 0.4072, 0.1283, 0.0150, 0.0235, 0.0384],\n",
       "        [0.0338, 0.0203, 0.8625, 0.0392, 0.0193, 0.0248],\n",
       "        [0.4126, 0.4065, 0.1098, 0.0134, 0.0214, 0.0363],\n",
       "        [0.1369, 0.6594, 0.1015, 0.0300, 0.0303, 0.0420],\n",
       "        [0.1316, 0.6801, 0.0897, 0.0290, 0.0289, 0.0407],\n",
       "        [0.0103, 0.0140, 0.0074, 0.0074, 0.0185, 0.9424],\n",
       "        [0.0708, 0.0966, 0.7398, 0.0306, 0.0347, 0.0275],\n",
       "        [0.0095, 0.0079, 0.0066, 0.0052, 0.0201, 0.9506],\n",
       "        [0.0117, 0.0107, 0.0080, 0.0053, 0.0205, 0.9438],\n",
       "        [0.0239, 0.0288, 0.1137, 0.6144, 0.1341, 0.0851],\n",
       "        [0.0258, 0.0437, 0.8460, 0.0382, 0.0265, 0.0199],\n",
       "        [0.4618, 0.3479, 0.1227, 0.0120, 0.0206, 0.0350],\n",
       "        [0.0082, 0.0031, 0.0086, 0.0207, 0.0412, 0.9182],\n",
       "        [0.7220, 0.1552, 0.0867, 0.0048, 0.0107, 0.0206],\n",
       "        [0.0224, 0.0305, 0.1136, 0.6244, 0.1308, 0.0782],\n",
       "        [0.0243, 0.0030, 0.0072, 0.0285, 0.5017, 0.4353],\n",
       "        [0.2553, 0.5291, 0.1239, 0.0215, 0.0279, 0.0423],\n",
       "        [0.3595, 0.4562, 0.1080, 0.0154, 0.0229, 0.0380],\n",
       "        [0.0982, 0.7011, 0.0934, 0.0348, 0.0315, 0.0410],\n",
       "        [0.0133, 0.1464, 0.1557, 0.5248, 0.1197, 0.0402],\n",
       "        [0.0106, 0.0042, 0.0060, 0.0032, 0.0318, 0.9442],\n",
       "        [0.0197, 0.0383, 0.1031, 0.6247, 0.1480, 0.0663],\n",
       "        [0.0242, 0.0302, 0.0386, 0.0372, 0.1213, 0.7485],\n",
       "        [0.0187, 0.2774, 0.1526, 0.4030, 0.1037, 0.0447],\n",
       "        [0.0206, 0.0363, 0.1107, 0.6226, 0.1400, 0.0697],\n",
       "        [0.0625, 0.0937, 0.7486, 0.0320, 0.0359, 0.0274],\n",
       "        [0.0579, 0.0545, 0.8143, 0.0216, 0.0282, 0.0235],\n",
       "        [0.0372, 0.0632, 0.0638, 0.0634, 0.2001, 0.5723],\n",
       "        [0.0673, 0.0852, 0.7600, 0.0273, 0.0340, 0.0261],\n",
       "        [0.2005, 0.5807, 0.1207, 0.0253, 0.0297, 0.0431],\n",
       "        [0.0319, 0.0222, 0.0656, 0.3741, 0.3668, 0.1393],\n",
       "        [0.0356, 0.0807, 0.7750, 0.0428, 0.0382, 0.0277],\n",
       "        [0.0333, 0.0352, 0.0891, 0.3268, 0.3805, 0.1351],\n",
       "        [0.0128, 0.0190, 0.0240, 0.0298, 0.8627, 0.0517],\n",
       "        [0.0788, 0.7521, 0.0689, 0.0339, 0.0285, 0.0377],\n",
       "        [0.0346, 0.0398, 0.8479, 0.0291, 0.0263, 0.0223],\n",
       "        [0.1486, 0.6664, 0.0894, 0.0270, 0.0280, 0.0407],\n",
       "        [0.0523, 0.0890, 0.7594, 0.0314, 0.0387, 0.0291],\n",
       "        [0.2394, 0.5772, 0.0970, 0.0207, 0.0256, 0.0401],\n",
       "        [0.0109, 0.0852, 0.1132, 0.6342, 0.1193, 0.0371],\n",
       "        [0.0118, 0.0726, 0.1340, 0.6287, 0.1153, 0.0376],\n",
       "        [0.0068, 0.0037, 0.0082, 0.0105, 0.0264, 0.9443]])"
      ]
     },
     "execution_count": 60,
     "metadata": {},
     "output_type": "execute_result"
    }
   ],
   "source": [
    "nn_preds"
   ]
  },
  {
   "cell_type": "code",
   "execution_count": 61,
   "id": "ab1f6601",
   "metadata": {},
   "outputs": [
    {
     "name": "stdout",
     "output_type": "stream",
     "text": [
      "Getting base error\n"
     ]
    },
    {
     "data": {
      "text/html": [],
      "text/plain": [
       "<IPython.core.display.HTML object>"
      ]
     },
     "metadata": {},
     "output_type": "display_data"
    },
    {
     "name": "stdout",
     "output_type": "stream",
     "text": [
      "Calculating Permutation Importance\n"
     ]
    },
    {
     "data": {
      "text/html": [
       "\n",
       "    <div>\n",
       "        <style>\n",
       "            /* Turns off some styling */\n",
       "            progress {\n",
       "                /* gets rid of default border in Firefox and Opera. */\n",
       "                border: none;\n",
       "                /* Needs to be in here for Safari polyfill so background images work as expected. */\n",
       "                background-size: auto;\n",
       "            }\n",
       "            .progress-bar-interrupted, .progress-bar-interrupted::-webkit-progress-bar {\n",
       "                background: #F44336;\n",
       "            }\n",
       "        </style>\n",
       "      <progress value='6' class='' max='6' style='width:300px; height:20px; vertical-align: middle;'></progress>\n",
       "      100.00% [6/6 00:00<00:00]\n",
       "    </div>\n",
       "    "
      ],
      "text/plain": [
       "<IPython.core.display.HTML object>"
      ]
     },
     "metadata": {},
     "output_type": "display_data"
    },
    {
     "data": {
      "text/html": [],
      "text/plain": [
       "<IPython.core.display.HTML object>"
      ]
     },
     "metadata": {},
     "output_type": "display_data"
    },
    {
     "data": {
      "text/html": [],
      "text/plain": [
       "<IPython.core.display.HTML object>"
      ]
     },
     "metadata": {},
     "output_type": "display_data"
    },
    {
     "data": {
      "text/html": [],
      "text/plain": [
       "<IPython.core.display.HTML object>"
      ]
     },
     "metadata": {},
     "output_type": "display_data"
    },
    {
     "data": {
      "text/html": [],
      "text/plain": [
       "<IPython.core.display.HTML object>"
      ]
     },
     "metadata": {},
     "output_type": "display_data"
    },
    {
     "data": {
      "text/html": [],
      "text/plain": [
       "<IPython.core.display.HTML object>"
      ]
     },
     "metadata": {},
     "output_type": "display_data"
    },
    {
     "data": {
      "text/html": [],
      "text/plain": [
       "<IPython.core.display.HTML object>"
      ]
     },
     "metadata": {},
     "output_type": "display_data"
    },
    {
     "data": {
      "image/png": "[encoded data removed]",
      "text/plain": [
       "<Figure size 432x288 with 1 Axes>"
      ]
     },
     "metadata": {
      "needs_background": "light"
     },
     "output_type": "display_data"
    }
   ],
   "source": [
    "imp = PermutationImportance(learn)"
   ]
  },
  {
   "cell_type": "code",
   "execution_count": 62,
   "id": "752046af",
   "metadata": {},
   "outputs": [],
   "source": [
    "avgs = (nn_preds + xgb_preds) / 2"
   ]
  },
  {
   "cell_type": "code",
   "execution_count": 63,
   "id": "6de967de",
   "metadata": {},
   "outputs": [
    {
     "data": {
      "text/plain": [
       "tensor([[0.0088, 0.0097, 0.0066, 0.0048, 0.0184, 0.9516],\n",
       "        [0.0982, 0.7946, 0.0541, 0.0145, 0.0155, 0.0230],\n",
       "        [0.0214, 0.0300, 0.8979, 0.0196, 0.0168, 0.0143],\n",
       "        [0.0098, 0.0352, 0.0565, 0.7917, 0.0812, 0.0255],\n",
       "        [0.0262, 0.0678, 0.8357, 0.0254, 0.0260, 0.0188],\n",
       "        [0.0093, 0.0962, 0.0857, 0.7328, 0.0538, 0.0221],\n",
       "        [0.6828, 0.2081, 0.0659, 0.0092, 0.0129, 0.0210],\n",
       "        [0.0190, 0.0130, 0.9171, 0.0254, 0.0111, 0.0145],\n",
       "        [0.6871, 0.2164, 0.0566, 0.0084, 0.0118, 0.0198],\n",
       "        [0.0735, 0.8076, 0.0554, 0.0196, 0.0182, 0.0256],\n",
       "        [0.0680, 0.8311, 0.0467, 0.0164, 0.0157, 0.0222],\n",
       "        [0.0066, 0.0098, 0.0052, 0.0054, 0.0147, 0.9583],\n",
       "        [0.0377, 0.0511, 0.8567, 0.0198, 0.0188, 0.0158],\n",
       "        [0.0062, 0.0052, 0.0048, 0.0069, 0.0159, 0.9610],\n",
       "        [0.0074, 0.0090, 0.0055, 0.0044, 0.0161, 0.9577],\n",
       "        [0.0144, 0.0165, 0.0592, 0.7963, 0.0687, 0.0449],\n",
       "        [0.0150, 0.0249, 0.9095, 0.0240, 0.0146, 0.0120],\n",
       "        [0.7199, 0.1783, 0.0635, 0.0077, 0.0115, 0.0192],\n",
       "        [0.0056, 0.0028, 0.0058, 0.0154, 0.0305, 0.9401],\n",
       "        [0.8498, 0.0826, 0.0450, 0.0041, 0.0065, 0.0120],\n",
       "        [0.0136, 0.0174, 0.0592, 0.8013, 0.0670, 0.0415],\n",
       "        [0.0147, 0.0037, 0.0061, 0.0313, 0.7240, 0.2201],\n",
       "        [0.1304, 0.7530, 0.0644, 0.0132, 0.0155, 0.0235],\n",
       "        [0.6677, 0.2333, 0.0562, 0.0095, 0.0126, 0.0207],\n",
       "        [0.0511, 0.8415, 0.0486, 0.0193, 0.0170, 0.0224],\n",
       "        [0.0091, 0.0754, 0.0803, 0.7511, 0.0615, 0.0225],\n",
       "        [0.0068, 0.0034, 0.0044, 0.0064, 0.0218, 0.9572],\n",
       "        [0.0123, 0.0213, 0.0540, 0.8014, 0.0756, 0.0355],\n",
       "        [0.0136, 0.0164, 0.0208, 0.0210, 0.0708, 0.8573],\n",
       "        [0.0595, 0.2826, 0.1262, 0.3749, 0.0849, 0.0717],\n",
       "        [0.0127, 0.0203, 0.0578, 0.8003, 0.0717, 0.0372],\n",
       "        [0.0334, 0.0498, 0.8600, 0.0217, 0.0193, 0.0157],\n",
       "        [0.0312, 0.0302, 0.8940, 0.0153, 0.0155, 0.0138],\n",
       "        [0.0204, 0.0332, 0.0337, 0.0382, 0.1071, 0.7673],\n",
       "        [0.0359, 0.0455, 0.8672, 0.0177, 0.0185, 0.0151],\n",
       "        [0.1040, 0.7745, 0.0637, 0.0159, 0.0170, 0.0248],\n",
       "        [0.0261, 0.0200, 0.0429, 0.5699, 0.2614, 0.0797],\n",
       "        [0.0199, 0.0434, 0.8740, 0.0262, 0.0205, 0.0159],\n",
       "        [0.0210, 0.0213, 0.0488, 0.6410, 0.1961, 0.0718],\n",
       "        [0.0078, 0.0107, 0.0134, 0.0168, 0.9240, 0.0273],\n",
       "        [0.0457, 0.8488, 0.0402, 0.0227, 0.0181, 0.0245],\n",
       "        [0.0194, 0.0230, 0.9106, 0.0193, 0.0146, 0.0132],\n",
       "        [0.0767, 0.8233, 0.0468, 0.0155, 0.0154, 0.0224],\n",
       "        [0.0282, 0.0476, 0.8667, 0.0201, 0.0208, 0.0166],\n",
       "        [0.1280, 0.7550, 0.0555, 0.0173, 0.0174, 0.0269],\n",
       "        [0.0083, 0.0451, 0.0594, 0.8043, 0.0616, 0.0213],\n",
       "        [0.0088, 0.0388, 0.0698, 0.8015, 0.0596, 0.0216],\n",
       "        [0.0049, 0.0031, 0.0055, 0.0121, 0.0192, 0.9552]])"
      ]
     },
     "execution_count": 63,
     "metadata": {},
     "output_type": "execute_result"
    }
   ],
   "source": [
    "avgs"
   ]
  },
  {
   "cell_type": "code",
   "execution_count": 64,
   "id": "7e365317",
   "metadata": {},
   "outputs": [],
   "source": [
    "argmax = avgs.argmax(dim=1)"
   ]
  },
  {
   "cell_type": "code",
   "execution_count": 65,
   "id": "bf97c239",
   "metadata": {},
   "outputs": [
    {
     "data": {
      "text/plain": [
       "tensor([5, 1, 2, 3, 2, 3, 0, 2, 0, 1, 1, 5, 2, 5, 5, 3, 2, 0, 5, 0, 3, 4, 1, 0,\n",
       "        1, 3, 5, 3, 5, 3, 3, 2, 2, 5, 2, 1, 3, 2, 3, 4, 1, 2, 1, 2, 1, 3, 3, 5])"
      ]
     },
     "execution_count": 65,
     "metadata": {},
     "output_type": "execute_result"
    }
   ],
   "source": [
    "argmax"
   ]
  },
  {
   "cell_type": "code",
   "execution_count": 66,
   "id": "c8f89922",
   "metadata": {},
   "outputs": [
    {
     "data": {
      "text/plain": [
       "array([5, 1, 2, 3, 2, 3, 0, 2, 0, 1, 1, 5, 2, 5, 5, 3, 2, 0, 5, 0, 3, 4,\n",
       "       1, 0, 1, 3, 5, 3, 5, 3, 3, 2, 2, 5, 2, 1, 3, 2, 3, 4, 1, 2, 1, 2,\n",
       "       1, 3, 3, 5], dtype=int8)"
      ]
     },
     "execution_count": 66,
     "metadata": {},
     "output_type": "execute_result"
    }
   ],
   "source": [
    "y_test"
   ]
  },
  {
   "cell_type": "code",
   "execution_count": 67,
   "id": "c0027d4e",
   "metadata": {},
   "outputs": [
    {
     "data": {
      "text/plain": [
       "TensorBase(0.9375)"
      ]
     },
     "execution_count": 67,
     "metadata": {},
     "output_type": "execute_result"
    }
   ],
   "source": [
    "accuracy(tensor(nn_preds), tensor(y_test))"
   ]
  },
  {
   "cell_type": "code",
   "execution_count": 68,
   "id": "95e1831c",
   "metadata": {},
   "outputs": [
    {
     "data": {
      "text/plain": [
       "TensorBase(1.)"
      ]
     },
     "execution_count": 68,
     "metadata": {},
     "output_type": "execute_result"
    }
   ],
   "source": [
    "accuracy(tensor(xgb_preds), tensor(y_test))"
   ]
  },
  {
   "cell_type": "code",
   "execution_count": 69,
   "id": "d022e4e6",
   "metadata": {},
   "outputs": [
    {
     "data": {
      "text/plain": [
       "TensorBase(1.)"
      ]
     },
     "execution_count": 69,
     "metadata": {},
     "output_type": "execute_result"
    }
   ],
   "source": [
    "accuracy(tensor(avgs), tensor(y_test))"
   ]
  },
  {
   "cell_type": "code",
   "execution_count": 70,
   "id": "f7fa7ec8",
   "metadata": {},
   "outputs": [],
   "source": [
    "from sklearn.ensemble import RandomForestClassifier"
   ]
  },
  {
   "cell_type": "code",
   "execution_count": 71,
   "id": "c3987938",
   "metadata": {},
   "outputs": [],
   "source": [
    "tree = RandomForestClassifier(n_estimators=100)"
   ]
  },
  {
   "cell_type": "code",
   "execution_count": 72,
   "id": "1fbd9349",
   "metadata": {},
   "outputs": [
    {
     "data": {
      "text/plain": [
       "RandomForestClassifier()"
      ]
     },
     "execution_count": 72,
     "metadata": {},
     "output_type": "execute_result"
    }
   ],
   "source": [
    "tree.fit(X_train, y_train)"
   ]
  },
  {
   "cell_type": "code",
   "execution_count": 80,
   "id": "afcbf8fe",
   "metadata": {},
   "outputs": [],
   "source": [
    "from rfpimp import *"
   ]
  },
  {
   "cell_type": "code",
   "execution_count": 81,
   "id": "17f356e5",
   "metadata": {},
   "outputs": [],
   "source": [
    "imp = importances(tree, X_test, to.valid.ys)"
   ]
  },
  {
   "cell_type": "code",
   "execution_count": 82,
   "id": "fc23e01a",
   "metadata": {},
   "outputs": [
    {
     "data": {
      "image/svg+xml": [
       "<?xml version=\"1.0\" encoding=\"utf-8\" standalone=\"no\"?>\n",
       "<!DOCTYPE svg PUBLIC \"-//W3C//DTD SVG 1.1//EN\"\n",
       "  \"http://www.w3.org/Graphics/SVG/1.1/DTD/svg11.dtd\">\n",
       "<!-- Created with matplotlib (https://matplotlib.org/) -->\n",
       "<svg height=\"86.078125pt\" version=\"1.1\" viewBox=\"0 0 266.546875 86.078125\" width=\"266.546875pt\" xmlns=\"http://www.w3.org/2000/svg\" xmlns:xlink=\"http://www.w3.org/1999/xlink\">\n",
       " <metadata>\n",
       "  <rdf:RDF xmlns:cc=\"http://creativecommons.org/ns#\" xmlns:dc=\"http://purl.org/dc/elements/1.1/\" xmlns:rdf=\"http://www.w3.org/1999/02/22-rdf-syntax-ns#\">\n",
       "   <cc:Work>\n",
       "    <dc:type rdf:resource=\"http://purl.org/dc/dcmitype/StillImage\"/>\n",
       "    <dc:date>2022-02-10T21:36:20.331988</dc:date>\n",
       "    <dc:format>image/svg+xml</dc:format>\n",
       "    <dc:creator>\n",
       "     <cc:Agent>\n",
       "      <dc:title>Matplotlib v3.3.4, https://matplotlib.org/</dc:title>\n",
       "     </cc:Agent>\n",
       "    </dc:creator>\n",
       "   </cc:Work>\n",
       "  </rdf:RDF>\n",
       " </metadata>\n",
       " <defs>\n",
       "  <style type=\"text/css\">*{stroke-linecap:butt;stroke-linejoin:round;}</style>\n",
       " </defs>\n",
       " <g id=\"figure_1\">\n",
       "  <g id=\"patch_1\">\n",
       "   <path d=\"M 0 86.078125 \n",
       "L 266.546875 86.078125 \n",
       "L 266.546875 0 \n",
       "L 0 0 \n",
       "z\n",
       "\" style=\"fill:none;\"/>\n",
       "  </g>\n",
       "  <g id=\"axes_1\">\n",
       "   <g id=\"patch_2\">\n",
       "    <path d=\"M 130.326563 69.4 \n",
       "L 255.414063 69.4 \n",
       "L 255.414063 0 \n",
       "L 130.326563 0 \n",
       "z\n",
       "\" style=\"fill:#ffffff;\"/>\n",
       "   </g>\n",
       "   <g id=\"patch_3\">\n",
       "    <path clip-path=\"url(#pe872dbca44)\" d=\"M 131.972451 1.035821 \n",
       "L 251.985129 1.035821 \n",
       "L 251.985129 11.39403 \n",
       "L 131.972451 11.39403 \n",
       "z\n",
       "\" style=\"fill:#d9e6f5;stroke:#444443;stroke-linejoin:miter;stroke-width:0.5;\"/>\n",
       "   </g>\n",
       "   <g id=\"patch_4\">\n",
       "    <path clip-path=\"url(#pe872dbca44)\" d=\"M 131.972451 12.429851 \n",
       "L 131.972451 12.429851 \n",
       "L 131.972451 22.78806 \n",
       "L 131.972451 22.78806 \n",
       "z\n",
       "\" style=\"fill:#d9e6f5;stroke:#444443;stroke-linejoin:miter;stroke-width:0.5;\"/>\n",
       "   </g>\n",
       "   <g id=\"patch_5\">\n",
       "    <path clip-path=\"url(#pe872dbca44)\" d=\"M 131.972451 23.823881 \n",
       "L 131.972451 23.823881 \n",
       "L 131.972451 34.18209 \n",
       "L 131.972451 34.18209 \n",
       "z\n",
       "\" style=\"fill:#d9e6f5;stroke:#444443;stroke-linejoin:miter;stroke-width:0.5;\"/>\n",
       "   </g>\n",
       "   <g id=\"patch_6\">\n",
       "    <path clip-path=\"url(#pe872dbca44)\" d=\"M 131.972451 35.21791 \n",
       "L 131.972451 35.21791 \n",
       "L 131.972451 45.576119 \n",
       "L 131.972451 45.576119 \n",
       "z\n",
       "\" style=\"fill:#d9e6f5;stroke:#444443;stroke-linejoin:miter;stroke-width:0.5;\"/>\n",
       "   </g>\n",
       "   <g id=\"patch_7\">\n",
       "    <path clip-path=\"url(#pe872dbca44)\" d=\"M 131.972451 46.61194 \n",
       "L 131.972451 46.61194 \n",
       "L 131.972451 56.970149 \n",
       "L 131.972451 56.970149 \n",
       "z\n",
       "\" style=\"fill:#d9e6f5;stroke:#444443;stroke-linejoin:miter;stroke-width:0.5;\"/>\n",
       "   </g>\n",
       "   <g id=\"patch_8\">\n",
       "    <path clip-path=\"url(#pe872dbca44)\" d=\"M 131.972451 58.00597 \n",
       "L 131.972451 58.00597 \n",
       "L 131.972451 68.364179 \n",
       "L 131.972451 68.364179 \n",
       "z\n",
       "\" style=\"fill:#d9e6f5;stroke:#444443;stroke-linejoin:miter;stroke-width:0.5;\"/>\n",
       "   </g>\n",
       "   <g id=\"matplotlib.axis_1\">\n",
       "    <g id=\"xtick_1\">\n",
       "     <g id=\"line2d_1\">\n",
       "      <defs>\n",
       "       <path d=\"M 0 0 \n",
       "L 0 3.5 \n",
       "\" id=\"mcbfd4a57a0\" style=\"stroke:#000000;stroke-width:0.8;\"/>\n",
       "      </defs>\n",
       "      <g>\n",
       "       <use style=\"stroke:#000000;stroke-width:0.8;\" x=\"131.972451\" xlink:href=\"#mcbfd4a57a0\" y=\"69.4\"/>\n",
       "      </g>\n",
       "     </g>\n",
       "     <g id=\"text_1\">\n",
       "      <!-- 0.00 -->\n",
       "      <g style=\"fill:#444443;\" transform=\"translate(120.839638 83.998437)scale(0.1 -0.1)\">\n",
       "       <defs>\n",
       "        <path d=\"M 31.78125 66.40625 \n",
       "Q 24.171875 66.40625 20.328125 58.90625 \n",
       "Q 16.5 51.421875 16.5 36.375 \n",
       "Q 16.5 21.390625 20.328125 13.890625 \n",
       "Q 24.171875 6.390625 31.78125 6.390625 \n",
       "Q 39.453125 6.390625 43.28125 13.890625 \n",
       "Q 47.125 21.390625 47.125 36.375 \n",
       "Q 47.125 51.421875 43.28125 58.90625 \n",
       "Q 39.453125 66.40625 31.78125 66.40625 \n",
       "z\n",
       "M 31.78125 74.21875 \n",
       "Q 44.046875 74.21875 50.515625 64.515625 \n",
       "Q 56.984375 54.828125 56.984375 36.375 \n",
       "Q 56.984375 17.96875 50.515625 8.265625 \n",
       "Q 44.046875 -1.421875 31.78125 -1.421875 \n",
       "Q 19.53125 -1.421875 13.0625 8.265625 \n",
       "Q 6.59375 17.96875 6.59375 36.375 \n",
       "Q 6.59375 54.828125 13.0625 64.515625 \n",
       "Q 19.53125 74.21875 31.78125 74.21875 \n",
       "z\n",
       "\" id=\"DejaVuSans-48\"/>\n",
       "        <path d=\"M 10.6875 12.40625 \n",
       "L 21 12.40625 \n",
       "L 21 0 \n",
       "L 10.6875 0 \n",
       "z\n",
       "\" id=\"DejaVuSans-46\"/>\n",
       "       </defs>\n",
       "       <use xlink:href=\"#DejaVuSans-48\"/>\n",
       "       <use x=\"63.623047\" xlink:href=\"#DejaVuSans-46\"/>\n",
       "       <use x=\"95.410156\" xlink:href=\"#DejaVuSans-48\"/>\n",
       "       <use x=\"159.033203\" xlink:href=\"#DejaVuSans-48\"/>\n",
       "      </g>\n",
       "     </g>\n",
       "    </g>\n",
       "    <g id=\"xtick_2\">\n",
       "     <g id=\"line2d_2\">\n",
       "      <g>\n",
       "       <use style=\"stroke:#000000;stroke-width:0.8;\" x=\"255.414063\" xlink:href=\"#mcbfd4a57a0\" y=\"69.4\"/>\n",
       "      </g>\n",
       "     </g>\n",
       "     <g id=\"text_2\">\n",
       "      <!-- 0.15 -->\n",
       "      <g style=\"fill:#444443;\" transform=\"translate(244.28125 83.998437)scale(0.1 -0.1)\">\n",
       "       <defs>\n",
       "        <path d=\"M 12.40625 8.296875 \n",
       "L 28.515625 8.296875 \n",
       "L 28.515625 63.921875 \n",
       "L 10.984375 60.40625 \n",
       "L 10.984375 69.390625 \n",
       "L 28.421875 72.90625 \n",
       "L 38.28125 72.90625 \n",
       "L 38.28125 8.296875 \n",
       "L 54.390625 8.296875 \n",
       "L 54.390625 0 \n",
       "L 12.40625 0 \n",
       "z\n",
       "\" id=\"DejaVuSans-49\"/>\n",
       "        <path d=\"M 10.796875 72.90625 \n",
       "L 49.515625 72.90625 \n",
       "L 49.515625 64.59375 \n",
       "L 19.828125 64.59375 \n",
       "L 19.828125 46.734375 \n",
       "Q 21.96875 47.46875 24.109375 47.828125 \n",
       "Q 26.265625 48.1875 28.421875 48.1875 \n",
       "Q 40.625 48.1875 47.75 41.5 \n",
       "Q 54.890625 34.8125 54.890625 23.390625 \n",
       "Q 54.890625 11.625 47.5625 5.09375 \n",
       "Q 40.234375 -1.421875 26.90625 -1.421875 \n",
       "Q 22.3125 -1.421875 17.546875 -0.640625 \n",
       "Q 12.796875 0.140625 7.71875 1.703125 \n",
       "L 7.71875 11.625 \n",
       "Q 12.109375 9.234375 16.796875 8.0625 \n",
       "Q 21.484375 6.890625 26.703125 6.890625 \n",
       "Q 35.15625 6.890625 40.078125 11.328125 \n",
       "Q 45.015625 15.765625 45.015625 23.390625 \n",
       "Q 45.015625 31 40.078125 35.4375 \n",
       "Q 35.15625 39.890625 26.703125 39.890625 \n",
       "Q 22.75 39.890625 18.8125 39.015625 \n",
       "Q 14.890625 38.140625 10.796875 36.28125 \n",
       "z\n",
       "\" id=\"DejaVuSans-53\"/>\n",
       "       </defs>\n",
       "       <use xlink:href=\"#DejaVuSans-48\"/>\n",
       "       <use x=\"63.623047\" xlink:href=\"#DejaVuSans-46\"/>\n",
       "       <use x=\"95.410156\" xlink:href=\"#DejaVuSans-49\"/>\n",
       "       <use x=\"159.033203\" xlink:href=\"#DejaVuSans-53\"/>\n",
       "      </g>\n",
       "     </g>\n",
       "    </g>\n",
       "   </g>\n",
       "   <g id=\"matplotlib.axis_2\">\n",
       "    <g id=\"ytick_1\">\n",
       "     <g id=\"line2d_3\">\n",
       "      <defs>\n",
       "       <path d=\"M 0 0 \n",
       "L -3.5 0 \n",
       "\" id=\"m212b8788f8\" style=\"stroke:#000000;stroke-width:0.8;\"/>\n",
       "      </defs>\n",
       "      <g>\n",
       "       <use style=\"stroke:#000000;stroke-width:0.8;\" x=\"130.326563\" xlink:href=\"#m212b8788f8\" y=\"6.214925\"/>\n",
       "      </g>\n",
       "     </g>\n",
       "     <g id=\"text_3\">\n",
       "      <!-- Absolute magnitude(Mv) -->\n",
       "      <g style=\"fill:#444443;\" transform=\"translate(0 10.014144)scale(0.1 -0.1)\">\n",
       "       <defs>\n",
       "        <path d=\"M 34.1875 63.1875 \n",
       "L 20.796875 26.90625 \n",
       "L 47.609375 26.90625 \n",
       "z\n",
       "M 28.609375 72.90625 \n",
       "L 39.796875 72.90625 \n",
       "L 67.578125 0 \n",
       "L 57.328125 0 \n",
       "L 50.6875 18.703125 \n",
       "L 17.828125 18.703125 \n",
       "L 11.1875 0 \n",
       "L 0.78125 0 \n",
       "z\n",
       "\" id=\"DejaVuSans-65\"/>\n",
       "        <path d=\"M 48.6875 27.296875 \n",
       "Q 48.6875 37.203125 44.609375 42.84375 \n",
       "Q 40.53125 48.484375 33.40625 48.484375 \n",
       "Q 26.265625 48.484375 22.1875 42.84375 \n",
       "Q 18.109375 37.203125 18.109375 27.296875 \n",
       "Q 18.109375 17.390625 22.1875 11.75 \n",
       "Q 26.265625 6.109375 33.40625 6.109375 \n",
       "Q 40.53125 6.109375 44.609375 11.75 \n",
       "Q 48.6875 17.390625 48.6875 27.296875 \n",
       "z\n",
       "M 18.109375 46.390625 \n",
       "Q 20.953125 51.265625 25.265625 53.625 \n",
       "Q 29.59375 56 35.59375 56 \n",
       "Q 45.5625 56 51.78125 48.09375 \n",
       "Q 58.015625 40.1875 58.015625 27.296875 \n",
       "Q 58.015625 14.40625 51.78125 6.484375 \n",
       "Q 45.5625 -1.421875 35.59375 -1.421875 \n",
       "Q 29.59375 -1.421875 25.265625 0.953125 \n",
       "Q 20.953125 3.328125 18.109375 8.203125 \n",
       "L 18.109375 0 \n",
       "L 9.078125 0 \n",
       "L 9.078125 75.984375 \n",
       "L 18.109375 75.984375 \n",
       "z\n",
       "\" id=\"DejaVuSans-98\"/>\n",
       "        <path d=\"M 44.28125 53.078125 \n",
       "L 44.28125 44.578125 \n",
       "Q 40.484375 46.53125 36.375 47.5 \n",
       "Q 32.28125 48.484375 27.875 48.484375 \n",
       "Q 21.1875 48.484375 17.84375 46.4375 \n",
       "Q 14.5 44.390625 14.5 40.28125 \n",
       "Q 14.5 37.15625 16.890625 35.375 \n",
       "Q 19.28125 33.59375 26.515625 31.984375 \n",
       "L 29.59375 31.296875 \n",
       "Q 39.15625 29.25 43.1875 25.515625 \n",
       "Q 47.21875 21.78125 47.21875 15.09375 \n",
       "Q 47.21875 7.46875 41.1875 3.015625 \n",
       "Q 35.15625 -1.421875 24.609375 -1.421875 \n",
       "Q 20.21875 -1.421875 15.453125 -0.5625 \n",
       "Q 10.6875 0.296875 5.421875 2 \n",
       "L 5.421875 11.28125 \n",
       "Q 10.40625 8.6875 15.234375 7.390625 \n",
       "Q 20.0625 6.109375 24.8125 6.109375 \n",
       "Q 31.15625 6.109375 34.5625 8.28125 \n",
       "Q 37.984375 10.453125 37.984375 14.40625 \n",
       "Q 37.984375 18.0625 35.515625 20.015625 \n",
       "Q 33.0625 21.96875 24.703125 23.78125 \n",
       "L 21.578125 24.515625 \n",
       "Q 13.234375 26.265625 9.515625 29.90625 \n",
       "Q 5.8125 33.546875 5.8125 39.890625 \n",
       "Q 5.8125 47.609375 11.28125 51.796875 \n",
       "Q 16.75 56 26.8125 56 \n",
       "Q 31.78125 56 36.171875 55.265625 \n",
       "Q 40.578125 54.546875 44.28125 53.078125 \n",
       "z\n",
       "\" id=\"DejaVuSans-115\"/>\n",
       "        <path d=\"M 30.609375 48.390625 \n",
       "Q 23.390625 48.390625 19.1875 42.75 \n",
       "Q 14.984375 37.109375 14.984375 27.296875 \n",
       "Q 14.984375 17.484375 19.15625 11.84375 \n",
       "Q 23.34375 6.203125 30.609375 6.203125 \n",
       "Q 37.796875 6.203125 41.984375 11.859375 \n",
       "Q 46.1875 17.53125 46.1875 27.296875 \n",
       "Q 46.1875 37.015625 41.984375 42.703125 \n",
       "Q 37.796875 48.390625 30.609375 48.390625 \n",
       "z\n",
       "M 30.609375 56 \n",
       "Q 42.328125 56 49.015625 48.375 \n",
       "Q 55.71875 40.765625 55.71875 27.296875 \n",
       "Q 55.71875 13.875 49.015625 6.21875 \n",
       "Q 42.328125 -1.421875 30.609375 -1.421875 \n",
       "Q 18.84375 -1.421875 12.171875 6.21875 \n",
       "Q 5.515625 13.875 5.515625 27.296875 \n",
       "Q 5.515625 40.765625 12.171875 48.375 \n",
       "Q 18.84375 56 30.609375 56 \n",
       "z\n",
       "\" id=\"DejaVuSans-111\"/>\n",
       "        <path d=\"M 9.421875 75.984375 \n",
       "L 18.40625 75.984375 \n",
       "L 18.40625 0 \n",
       "L 9.421875 0 \n",
       "z\n",
       "\" id=\"DejaVuSans-108\"/>\n",
       "        <path d=\"M 8.5 21.578125 \n",
       "L 8.5 54.6875 \n",
       "L 17.484375 54.6875 \n",
       "L 17.484375 21.921875 \n",
       "Q 17.484375 14.15625 20.5 10.265625 \n",
       "Q 23.53125 6.390625 29.59375 6.390625 \n",
       "Q 36.859375 6.390625 41.078125 11.03125 \n",
       "Q 45.3125 15.671875 45.3125 23.6875 \n",
       "L 45.3125 54.6875 \n",
       "L 54.296875 54.6875 \n",
       "L 54.296875 0 \n",
       "L 45.3125 0 \n",
       "L 45.3125 8.40625 \n",
       "Q 42.046875 3.421875 37.71875 1 \n",
       "Q 33.40625 -1.421875 27.6875 -1.421875 \n",
       "Q 18.265625 -1.421875 13.375 4.4375 \n",
       "Q 8.5 10.296875 8.5 21.578125 \n",
       "z\n",
       "M 31.109375 56 \n",
       "z\n",
       "\" id=\"DejaVuSans-117\"/>\n",
       "        <path d=\"M 18.3125 70.21875 \n",
       "L 18.3125 54.6875 \n",
       "L 36.8125 54.6875 \n",
       "L 36.8125 47.703125 \n",
       "L 18.3125 47.703125 \n",
       "L 18.3125 18.015625 \n",
       "Q 18.3125 11.328125 20.140625 9.421875 \n",
       "Q 21.96875 7.515625 27.59375 7.515625 \n",
       "L 36.8125 7.515625 \n",
       "L 36.8125 0 \n",
       "L 27.59375 0 \n",
       "Q 17.1875 0 13.234375 3.875 \n",
       "Q 9.28125 7.765625 9.28125 18.015625 \n",
       "L 9.28125 47.703125 \n",
       "L 2.6875 47.703125 \n",
       "L 2.6875 54.6875 \n",
       "L 9.28125 54.6875 \n",
       "L 9.28125 70.21875 \n",
       "z\n",
       "\" id=\"DejaVuSans-116\"/>\n",
       "        <path d=\"M 56.203125 29.59375 \n",
       "L 56.203125 25.203125 \n",
       "L 14.890625 25.203125 \n",
       "Q 15.484375 15.921875 20.484375 11.0625 \n",
       "Q 25.484375 6.203125 34.421875 6.203125 \n",
       "Q 39.59375 6.203125 44.453125 7.46875 \n",
       "Q 49.3125 8.734375 54.109375 11.28125 \n",
       "L 54.109375 2.78125 \n",
       "Q 49.265625 0.734375 44.1875 -0.34375 \n",
       "Q 39.109375 -1.421875 33.890625 -1.421875 \n",
       "Q 20.796875 -1.421875 13.15625 6.1875 \n",
       "Q 5.515625 13.8125 5.515625 26.8125 \n",
       "Q 5.515625 40.234375 12.765625 48.109375 \n",
       "Q 20.015625 56 32.328125 56 \n",
       "Q 43.359375 56 49.78125 48.890625 \n",
       "Q 56.203125 41.796875 56.203125 29.59375 \n",
       "z\n",
       "M 47.21875 32.234375 \n",
       "Q 47.125 39.59375 43.09375 43.984375 \n",
       "Q 39.0625 48.390625 32.421875 48.390625 \n",
       "Q 24.90625 48.390625 20.390625 44.140625 \n",
       "Q 15.875 39.890625 15.1875 32.171875 \n",
       "z\n",
       "\" id=\"DejaVuSans-101\"/>\n",
       "        <path id=\"DejaVuSans-32\"/>\n",
       "        <path d=\"M 52 44.1875 \n",
       "Q 55.375 50.25 60.0625 53.125 \n",
       "Q 64.75 56 71.09375 56 \n",
       "Q 79.640625 56 84.28125 50.015625 \n",
       "Q 88.921875 44.046875 88.921875 33.015625 \n",
       "L 88.921875 0 \n",
       "L 79.890625 0 \n",
       "L 79.890625 32.71875 \n",
       "Q 79.890625 40.578125 77.09375 44.375 \n",
       "Q 74.3125 48.1875 68.609375 48.1875 \n",
       "Q 61.625 48.1875 57.5625 43.546875 \n",
       "Q 53.515625 38.921875 53.515625 30.90625 \n",
       "L 53.515625 0 \n",
       "L 44.484375 0 \n",
       "L 44.484375 32.71875 \n",
       "Q 44.484375 40.625 41.703125 44.40625 \n",
       "Q 38.921875 48.1875 33.109375 48.1875 \n",
       "Q 26.21875 48.1875 22.15625 43.53125 \n",
       "Q 18.109375 38.875 18.109375 30.90625 \n",
       "L 18.109375 0 \n",
       "L 9.078125 0 \n",
       "L 9.078125 54.6875 \n",
       "L 18.109375 54.6875 \n",
       "L 18.109375 46.1875 \n",
       "Q 21.1875 51.21875 25.484375 53.609375 \n",
       "Q 29.78125 56 35.6875 56 \n",
       "Q 41.65625 56 45.828125 52.96875 \n",
       "Q 50 49.953125 52 44.1875 \n",
       "z\n",
       "\" id=\"DejaVuSans-109\"/>\n",
       "        <path d=\"M 34.28125 27.484375 \n",
       "Q 23.390625 27.484375 19.1875 25 \n",
       "Q 14.984375 22.515625 14.984375 16.5 \n",
       "Q 14.984375 11.71875 18.140625 8.90625 \n",
       "Q 21.296875 6.109375 26.703125 6.109375 \n",
       "Q 34.1875 6.109375 38.703125 11.40625 \n",
       "Q 43.21875 16.703125 43.21875 25.484375 \n",
       "L 43.21875 27.484375 \n",
       "z\n",
       "M 52.203125 31.203125 \n",
       "L 52.203125 0 \n",
       "L 43.21875 0 \n",
       "L 43.21875 8.296875 \n",
       "Q 40.140625 3.328125 35.546875 0.953125 \n",
       "Q 30.953125 -1.421875 24.3125 -1.421875 \n",
       "Q 15.921875 -1.421875 10.953125 3.296875 \n",
       "Q 6 8.015625 6 15.921875 \n",
       "Q 6 25.140625 12.171875 29.828125 \n",
       "Q 18.359375 34.515625 30.609375 34.515625 \n",
       "L 43.21875 34.515625 \n",
       "L 43.21875 35.40625 \n",
       "Q 43.21875 41.609375 39.140625 45 \n",
       "Q 35.0625 48.390625 27.6875 48.390625 \n",
       "Q 23 48.390625 18.546875 47.265625 \n",
       "Q 14.109375 46.140625 10.015625 43.890625 \n",
       "L 10.015625 52.203125 \n",
       "Q 14.9375 54.109375 19.578125 55.046875 \n",
       "Q 24.21875 56 28.609375 56 \n",
       "Q 40.484375 56 46.34375 49.84375 \n",
       "Q 52.203125 43.703125 52.203125 31.203125 \n",
       "z\n",
       "\" id=\"DejaVuSans-97\"/>\n",
       "        <path d=\"M 45.40625 27.984375 \n",
       "Q 45.40625 37.75 41.375 43.109375 \n",
       "Q 37.359375 48.484375 30.078125 48.484375 \n",
       "Q 22.859375 48.484375 18.828125 43.109375 \n",
       "Q 14.796875 37.75 14.796875 27.984375 \n",
       "Q 14.796875 18.265625 18.828125 12.890625 \n",
       "Q 22.859375 7.515625 30.078125 7.515625 \n",
       "Q 37.359375 7.515625 41.375 12.890625 \n",
       "Q 45.40625 18.265625 45.40625 27.984375 \n",
       "z\n",
       "M 54.390625 6.78125 \n",
       "Q 54.390625 -7.171875 48.1875 -13.984375 \n",
       "Q 42 -20.796875 29.203125 -20.796875 \n",
       "Q 24.46875 -20.796875 20.265625 -20.09375 \n",
       "Q 16.0625 -19.390625 12.109375 -17.921875 \n",
       "L 12.109375 -9.1875 \n",
       "Q 16.0625 -11.328125 19.921875 -12.34375 \n",
       "Q 23.78125 -13.375 27.78125 -13.375 \n",
       "Q 36.625 -13.375 41.015625 -8.765625 \n",
       "Q 45.40625 -4.15625 45.40625 5.171875 \n",
       "L 45.40625 9.625 \n",
       "Q 42.625 4.78125 38.28125 2.390625 \n",
       "Q 33.9375 0 27.875 0 \n",
       "Q 17.828125 0 11.671875 7.65625 \n",
       "Q 5.515625 15.328125 5.515625 27.984375 \n",
       "Q 5.515625 40.671875 11.671875 48.328125 \n",
       "Q 17.828125 56 27.875 56 \n",
       "Q 33.9375 56 38.28125 53.609375 \n",
       "Q 42.625 51.21875 45.40625 46.390625 \n",
       "L 45.40625 54.6875 \n",
       "L 54.390625 54.6875 \n",
       "z\n",
       "\" id=\"DejaVuSans-103\"/>\n",
       "        <path d=\"M 54.890625 33.015625 \n",
       "L 54.890625 0 \n",
       "L 45.90625 0 \n",
       "L 45.90625 32.71875 \n",
       "Q 45.90625 40.484375 42.875 44.328125 \n",
       "Q 39.84375 48.1875 33.796875 48.1875 \n",
       "Q 26.515625 48.1875 22.3125 43.546875 \n",
       "Q 18.109375 38.921875 18.109375 30.90625 \n",
       "L 18.109375 0 \n",
       "L 9.078125 0 \n",
       "L 9.078125 54.6875 \n",
       "L 18.109375 54.6875 \n",
       "L 18.109375 46.1875 \n",
       "Q 21.34375 51.125 25.703125 53.5625 \n",
       "Q 30.078125 56 35.796875 56 \n",
       "Q 45.21875 56 50.046875 50.171875 \n",
       "Q 54.890625 44.34375 54.890625 33.015625 \n",
       "z\n",
       "\" id=\"DejaVuSans-110\"/>\n",
       "        <path d=\"M 9.421875 54.6875 \n",
       "L 18.40625 54.6875 \n",
       "L 18.40625 0 \n",
       "L 9.421875 0 \n",
       "z\n",
       "M 9.421875 75.984375 \n",
       "L 18.40625 75.984375 \n",
       "L 18.40625 64.59375 \n",
       "L 9.421875 64.59375 \n",
       "z\n",
       "\" id=\"DejaVuSans-105\"/>\n",
       "        <path d=\"M 45.40625 46.390625 \n",
       "L 45.40625 75.984375 \n",
       "L 54.390625 75.984375 \n",
       "L 54.390625 0 \n",
       "L 45.40625 0 \n",
       "L 45.40625 8.203125 \n",
       "Q 42.578125 3.328125 38.25 0.953125 \n",
       "Q 33.9375 -1.421875 27.875 -1.421875 \n",
       "Q 17.96875 -1.421875 11.734375 6.484375 \n",
       "Q 5.515625 14.40625 5.515625 27.296875 \n",
       "Q 5.515625 40.1875 11.734375 48.09375 \n",
       "Q 17.96875 56 27.875 56 \n",
       "Q 33.9375 56 38.25 53.625 \n",
       "Q 42.578125 51.265625 45.40625 46.390625 \n",
       "z\n",
       "M 14.796875 27.296875 \n",
       "Q 14.796875 17.390625 18.875 11.75 \n",
       "Q 22.953125 6.109375 30.078125 6.109375 \n",
       "Q 37.203125 6.109375 41.296875 11.75 \n",
       "Q 45.40625 17.390625 45.40625 27.296875 \n",
       "Q 45.40625 37.203125 41.296875 42.84375 \n",
       "Q 37.203125 48.484375 30.078125 48.484375 \n",
       "Q 22.953125 48.484375 18.875 42.84375 \n",
       "Q 14.796875 37.203125 14.796875 27.296875 \n",
       "z\n",
       "\" id=\"DejaVuSans-100\"/>\n",
       "        <path d=\"M 31 75.875 \n",
       "Q 24.46875 64.65625 21.28125 53.65625 \n",
       "Q 18.109375 42.671875 18.109375 31.390625 \n",
       "Q 18.109375 20.125 21.3125 9.0625 \n",
       "Q 24.515625 -2 31 -13.1875 \n",
       "L 23.1875 -13.1875 \n",
       "Q 15.875 -1.703125 12.234375 9.375 \n",
       "Q 8.59375 20.453125 8.59375 31.390625 \n",
       "Q 8.59375 42.28125 12.203125 53.3125 \n",
       "Q 15.828125 64.359375 23.1875 75.875 \n",
       "z\n",
       "\" id=\"DejaVuSans-40\"/>\n",
       "        <path d=\"M 9.8125 72.90625 \n",
       "L 24.515625 72.90625 \n",
       "L 43.109375 23.296875 \n",
       "L 61.8125 72.90625 \n",
       "L 76.515625 72.90625 \n",
       "L 76.515625 0 \n",
       "L 66.890625 0 \n",
       "L 66.890625 64.015625 \n",
       "L 48.09375 14.015625 \n",
       "L 38.1875 14.015625 \n",
       "L 19.390625 64.015625 \n",
       "L 19.390625 0 \n",
       "L 9.8125 0 \n",
       "z\n",
       "\" id=\"DejaVuSans-77\"/>\n",
       "        <path d=\"M 2.984375 54.6875 \n",
       "L 12.5 54.6875 \n",
       "L 29.59375 8.796875 \n",
       "L 46.6875 54.6875 \n",
       "L 56.203125 54.6875 \n",
       "L 35.6875 0 \n",
       "L 23.484375 0 \n",
       "z\n",
       "\" id=\"DejaVuSans-118\"/>\n",
       "        <path d=\"M 8.015625 75.875 \n",
       "L 15.828125 75.875 \n",
       "Q 23.140625 64.359375 26.78125 53.3125 \n",
       "Q 30.421875 42.28125 30.421875 31.390625 \n",
       "Q 30.421875 20.453125 26.78125 9.375 \n",
       "Q 23.140625 -1.703125 15.828125 -13.1875 \n",
       "L 8.015625 -13.1875 \n",
       "Q 14.5 -2 17.703125 9.0625 \n",
       "Q 20.90625 20.125 20.90625 31.390625 \n",
       "Q 20.90625 42.671875 17.703125 53.65625 \n",
       "Q 14.5 64.65625 8.015625 75.875 \n",
       "z\n",
       "\" id=\"DejaVuSans-41\"/>\n",
       "       </defs>\n",
       "       <use xlink:href=\"#DejaVuSans-65\"/>\n",
       "       <use x=\"68.408203\" xlink:href=\"#DejaVuSans-98\"/>\n",
       "       <use x=\"131.884766\" xlink:href=\"#DejaVuSans-115\"/>\n",
       "       <use x=\"183.984375\" xlink:href=\"#DejaVuSans-111\"/>\n",
       "       <use x=\"245.166016\" xlink:href=\"#DejaVuSans-108\"/>\n",
       "       <use x=\"272.949219\" xlink:href=\"#DejaVuSans-117\"/>\n",
       "       <use x=\"336.328125\" xlink:href=\"#DejaVuSans-116\"/>\n",
       "       <use x=\"375.537109\" xlink:href=\"#DejaVuSans-101\"/>\n",
       "       <use x=\"437.060547\" xlink:href=\"#DejaVuSans-32\"/>\n",
       "       <use x=\"468.847656\" xlink:href=\"#DejaVuSans-109\"/>\n",
       "       <use x=\"566.259766\" xlink:href=\"#DejaVuSans-97\"/>\n",
       "       <use x=\"627.539062\" xlink:href=\"#DejaVuSans-103\"/>\n",
       "       <use x=\"691.015625\" xlink:href=\"#DejaVuSans-110\"/>\n",
       "       <use x=\"754.394531\" xlink:href=\"#DejaVuSans-105\"/>\n",
       "       <use x=\"782.177734\" xlink:href=\"#DejaVuSans-116\"/>\n",
       "       <use x=\"821.386719\" xlink:href=\"#DejaVuSans-117\"/>\n",
       "       <use x=\"884.765625\" xlink:href=\"#DejaVuSans-100\"/>\n",
       "       <use x=\"948.242188\" xlink:href=\"#DejaVuSans-101\"/>\n",
       "       <use x=\"1009.765625\" xlink:href=\"#DejaVuSans-40\"/>\n",
       "       <use x=\"1048.779297\" xlink:href=\"#DejaVuSans-77\"/>\n",
       "       <use x=\"1135.058594\" xlink:href=\"#DejaVuSans-118\"/>\n",
       "       <use x=\"1194.238281\" xlink:href=\"#DejaVuSans-41\"/>\n",
       "      </g>\n",
       "     </g>\n",
       "    </g>\n",
       "    <g id=\"ytick_2\">\n",
       "     <g id=\"line2d_4\">\n",
       "      <g>\n",
       "       <use style=\"stroke:#000000;stroke-width:0.8;\" x=\"130.326563\" xlink:href=\"#m212b8788f8\" y=\"17.608955\"/>\n",
       "      </g>\n",
       "     </g>\n",
       "     <g id=\"text_4\">\n",
       "      <!-- Star color -->\n",
       "      <g style=\"fill:#444443;\" transform=\"translate(75.015625 21.408174)scale(0.1 -0.1)\">\n",
       "       <defs>\n",
       "        <path d=\"M 53.515625 70.515625 \n",
       "L 53.515625 60.890625 \n",
       "Q 47.90625 63.578125 42.921875 64.890625 \n",
       "Q 37.9375 66.21875 33.296875 66.21875 \n",
       "Q 25.25 66.21875 20.875 63.09375 \n",
       "Q 16.5 59.96875 16.5 54.203125 \n",
       "Q 16.5 49.359375 19.40625 46.890625 \n",
       "Q 22.3125 44.4375 30.421875 42.921875 \n",
       "L 36.375 41.703125 \n",
       "Q 47.40625 39.59375 52.65625 34.296875 \n",
       "Q 57.90625 29 57.90625 20.125 \n",
       "Q 57.90625 9.515625 50.796875 4.046875 \n",
       "Q 43.703125 -1.421875 29.984375 -1.421875 \n",
       "Q 24.8125 -1.421875 18.96875 -0.25 \n",
       "Q 13.140625 0.921875 6.890625 3.21875 \n",
       "L 6.890625 13.375 \n",
       "Q 12.890625 10.015625 18.65625 8.296875 \n",
       "Q 24.421875 6.59375 29.984375 6.59375 \n",
       "Q 38.421875 6.59375 43.015625 9.90625 \n",
       "Q 47.609375 13.234375 47.609375 19.390625 \n",
       "Q 47.609375 24.75 44.3125 27.78125 \n",
       "Q 41.015625 30.8125 33.5 32.328125 \n",
       "L 27.484375 33.5 \n",
       "Q 16.453125 35.6875 11.515625 40.375 \n",
       "Q 6.59375 45.0625 6.59375 53.421875 \n",
       "Q 6.59375 63.09375 13.40625 68.65625 \n",
       "Q 20.21875 74.21875 32.171875 74.21875 \n",
       "Q 37.3125 74.21875 42.625 73.28125 \n",
       "Q 47.953125 72.359375 53.515625 70.515625 \n",
       "z\n",
       "\" id=\"DejaVuSans-83\"/>\n",
       "        <path d=\"M 41.109375 46.296875 \n",
       "Q 39.59375 47.171875 37.8125 47.578125 \n",
       "Q 36.03125 48 33.890625 48 \n",
       "Q 26.265625 48 22.1875 43.046875 \n",
       "Q 18.109375 38.09375 18.109375 28.8125 \n",
       "L 18.109375 0 \n",
       "L 9.078125 0 \n",
       "L 9.078125 54.6875 \n",
       "L 18.109375 54.6875 \n",
       "L 18.109375 46.1875 \n",
       "Q 20.953125 51.171875 25.484375 53.578125 \n",
       "Q 30.03125 56 36.53125 56 \n",
       "Q 37.453125 56 38.578125 55.875 \n",
       "Q 39.703125 55.765625 41.0625 55.515625 \n",
       "z\n",
       "\" id=\"DejaVuSans-114\"/>\n",
       "        <path d=\"M 48.78125 52.59375 \n",
       "L 48.78125 44.1875 \n",
       "Q 44.96875 46.296875 41.140625 47.34375 \n",
       "Q 37.3125 48.390625 33.40625 48.390625 \n",
       "Q 24.65625 48.390625 19.8125 42.84375 \n",
       "Q 14.984375 37.3125 14.984375 27.296875 \n",
       "Q 14.984375 17.28125 19.8125 11.734375 \n",
       "Q 24.65625 6.203125 33.40625 6.203125 \n",
       "Q 37.3125 6.203125 41.140625 7.25 \n",
       "Q 44.96875 8.296875 48.78125 10.40625 \n",
       "L 48.78125 2.09375 \n",
       "Q 45.015625 0.34375 40.984375 -0.53125 \n",
       "Q 36.96875 -1.421875 32.421875 -1.421875 \n",
       "Q 20.0625 -1.421875 12.78125 6.34375 \n",
       "Q 5.515625 14.109375 5.515625 27.296875 \n",
       "Q 5.515625 40.671875 12.859375 48.328125 \n",
       "Q 20.21875 56 33.015625 56 \n",
       "Q 37.15625 56 41.109375 55.140625 \n",
       "Q 45.0625 54.296875 48.78125 52.59375 \n",
       "z\n",
       "\" id=\"DejaVuSans-99\"/>\n",
       "       </defs>\n",
       "       <use xlink:href=\"#DejaVuSans-83\"/>\n",
       "       <use x=\"63.476562\" xlink:href=\"#DejaVuSans-116\"/>\n",
       "       <use x=\"102.685547\" xlink:href=\"#DejaVuSans-97\"/>\n",
       "       <use x=\"163.964844\" xlink:href=\"#DejaVuSans-114\"/>\n",
       "       <use x=\"205.078125\" xlink:href=\"#DejaVuSans-32\"/>\n",
       "       <use x=\"236.865234\" xlink:href=\"#DejaVuSans-99\"/>\n",
       "       <use x=\"291.845703\" xlink:href=\"#DejaVuSans-111\"/>\n",
       "       <use x=\"353.027344\" xlink:href=\"#DejaVuSans-108\"/>\n",
       "       <use x=\"380.810547\" xlink:href=\"#DejaVuSans-111\"/>\n",
       "       <use x=\"441.992188\" xlink:href=\"#DejaVuSans-114\"/>\n",
       "      </g>\n",
       "     </g>\n",
       "    </g>\n",
       "    <g id=\"ytick_3\">\n",
       "     <g id=\"line2d_5\">\n",
       "      <g>\n",
       "       <use style=\"stroke:#000000;stroke-width:0.8;\" x=\"130.326563\" xlink:href=\"#m212b8788f8\" y=\"29.002985\"/>\n",
       "      </g>\n",
       "     </g>\n",
       "     <g id=\"text_5\">\n",
       "      <!-- Spectral Class -->\n",
       "      <g style=\"fill:#444443;\" transform=\"translate(52.554688 32.802204)scale(0.1 -0.1)\">\n",
       "       <defs>\n",
       "        <path d=\"M 18.109375 8.203125 \n",
       "L 18.109375 -20.796875 \n",
       "L 9.078125 -20.796875 \n",
       "L 9.078125 54.6875 \n",
       "L 18.109375 54.6875 \n",
       "L 18.109375 46.390625 \n",
       "Q 20.953125 51.265625 25.265625 53.625 \n",
       "Q 29.59375 56 35.59375 56 \n",
       "Q 45.5625 56 51.78125 48.09375 \n",
       "Q 58.015625 40.1875 58.015625 27.296875 \n",
       "Q 58.015625 14.40625 51.78125 6.484375 \n",
       "Q 45.5625 -1.421875 35.59375 -1.421875 \n",
       "Q 29.59375 -1.421875 25.265625 0.953125 \n",
       "Q 20.953125 3.328125 18.109375 8.203125 \n",
       "z\n",
       "M 48.6875 27.296875 \n",
       "Q 48.6875 37.203125 44.609375 42.84375 \n",
       "Q 40.53125 48.484375 33.40625 48.484375 \n",
       "Q 26.265625 48.484375 22.1875 42.84375 \n",
       "Q 18.109375 37.203125 18.109375 27.296875 \n",
       "Q 18.109375 17.390625 22.1875 11.75 \n",
       "Q 26.265625 6.109375 33.40625 6.109375 \n",
       "Q 40.53125 6.109375 44.609375 11.75 \n",
       "Q 48.6875 17.390625 48.6875 27.296875 \n",
       "z\n",
       "\" id=\"DejaVuSans-112\"/>\n",
       "        <path d=\"M 64.40625 67.28125 \n",
       "L 64.40625 56.890625 \n",
       "Q 59.421875 61.53125 53.78125 63.8125 \n",
       "Q 48.140625 66.109375 41.796875 66.109375 \n",
       "Q 29.296875 66.109375 22.65625 58.46875 \n",
       "Q 16.015625 50.828125 16.015625 36.375 \n",
       "Q 16.015625 21.96875 22.65625 14.328125 \n",
       "Q 29.296875 6.6875 41.796875 6.6875 \n",
       "Q 48.140625 6.6875 53.78125 8.984375 \n",
       "Q 59.421875 11.28125 64.40625 15.921875 \n",
       "L 64.40625 5.609375 \n",
       "Q 59.234375 2.09375 53.4375 0.328125 \n",
       "Q 47.65625 -1.421875 41.21875 -1.421875 \n",
       "Q 24.65625 -1.421875 15.125 8.703125 \n",
       "Q 5.609375 18.84375 5.609375 36.375 \n",
       "Q 5.609375 53.953125 15.125 64.078125 \n",
       "Q 24.65625 74.21875 41.21875 74.21875 \n",
       "Q 47.75 74.21875 53.53125 72.484375 \n",
       "Q 59.328125 70.75 64.40625 67.28125 \n",
       "z\n",
       "\" id=\"DejaVuSans-67\"/>\n",
       "       </defs>\n",
       "       <use xlink:href=\"#DejaVuSans-83\"/>\n",
       "       <use x=\"63.476562\" xlink:href=\"#DejaVuSans-112\"/>\n",
       "       <use x=\"126.953125\" xlink:href=\"#DejaVuSans-101\"/>\n",
       "       <use x=\"188.476562\" xlink:href=\"#DejaVuSans-99\"/>\n",
       "       <use x=\"243.457031\" xlink:href=\"#DejaVuSans-116\"/>\n",
       "       <use x=\"282.666016\" xlink:href=\"#DejaVuSans-114\"/>\n",
       "       <use x=\"323.779297\" xlink:href=\"#DejaVuSans-97\"/>\n",
       "       <use x=\"385.058594\" xlink:href=\"#DejaVuSans-108\"/>\n",
       "       <use x=\"412.841797\" xlink:href=\"#DejaVuSans-32\"/>\n",
       "       <use x=\"444.628906\" xlink:href=\"#DejaVuSans-67\"/>\n",
       "       <use x=\"514.453125\" xlink:href=\"#DejaVuSans-108\"/>\n",
       "       <use x=\"542.236328\" xlink:href=\"#DejaVuSans-97\"/>\n",
       "       <use x=\"603.515625\" xlink:href=\"#DejaVuSans-115\"/>\n",
       "       <use x=\"655.615234\" xlink:href=\"#DejaVuSans-115\"/>\n",
       "      </g>\n",
       "     </g>\n",
       "    </g>\n",
       "    <g id=\"ytick_4\">\n",
       "     <g id=\"line2d_6\">\n",
       "      <g>\n",
       "       <use style=\"stroke:#000000;stroke-width:0.8;\" x=\"130.326563\" xlink:href=\"#m212b8788f8\" y=\"40.397015\"/>\n",
       "      </g>\n",
       "     </g>\n",
       "     <g id=\"text_6\">\n",
       "      <!-- Temperature (K) -->\n",
       "      <g style=\"fill:#444443;\" transform=\"translate(42.448438 44.196234)scale(0.1 -0.1)\">\n",
       "       <defs>\n",
       "        <path d=\"M -0.296875 72.90625 \n",
       "L 61.375 72.90625 \n",
       "L 61.375 64.59375 \n",
       "L 35.5 64.59375 \n",
       "L 35.5 0 \n",
       "L 25.59375 0 \n",
       "L 25.59375 64.59375 \n",
       "L -0.296875 64.59375 \n",
       "z\n",
       "\" id=\"DejaVuSans-84\"/>\n",
       "        <path d=\"M 9.8125 72.90625 \n",
       "L 19.671875 72.90625 \n",
       "L 19.671875 42.09375 \n",
       "L 52.390625 72.90625 \n",
       "L 65.09375 72.90625 \n",
       "L 28.90625 38.921875 \n",
       "L 67.671875 0 \n",
       "L 54.6875 0 \n",
       "L 19.671875 35.109375 \n",
       "L 19.671875 0 \n",
       "L 9.8125 0 \n",
       "z\n",
       "\" id=\"DejaVuSans-75\"/>\n",
       "       </defs>\n",
       "       <use xlink:href=\"#DejaVuSans-84\"/>\n",
       "       <use x=\"44.083984\" xlink:href=\"#DejaVuSans-101\"/>\n",
       "       <use x=\"105.607422\" xlink:href=\"#DejaVuSans-109\"/>\n",
       "       <use x=\"203.019531\" xlink:href=\"#DejaVuSans-112\"/>\n",
       "       <use x=\"266.496094\" xlink:href=\"#DejaVuSans-101\"/>\n",
       "       <use x=\"328.019531\" xlink:href=\"#DejaVuSans-114\"/>\n",
       "       <use x=\"369.132812\" xlink:href=\"#DejaVuSans-97\"/>\n",
       "       <use x=\"430.412109\" xlink:href=\"#DejaVuSans-116\"/>\n",
       "       <use x=\"469.621094\" xlink:href=\"#DejaVuSans-117\"/>\n",
       "       <use x=\"533\" xlink:href=\"#DejaVuSans-114\"/>\n",
       "       <use x=\"571.863281\" xlink:href=\"#DejaVuSans-101\"/>\n",
       "       <use x=\"633.386719\" xlink:href=\"#DejaVuSans-32\"/>\n",
       "       <use x=\"665.173828\" xlink:href=\"#DejaVuSans-40\"/>\n",
       "       <use x=\"704.1875\" xlink:href=\"#DejaVuSans-75\"/>\n",
       "       <use x=\"769.763672\" xlink:href=\"#DejaVuSans-41\"/>\n",
       "      </g>\n",
       "     </g>\n",
       "    </g>\n",
       "    <g id=\"ytick_5\">\n",
       "     <g id=\"line2d_7\">\n",
       "      <g>\n",
       "       <use style=\"stroke:#000000;stroke-width:0.8;\" x=\"130.326563\" xlink:href=\"#m212b8788f8\" y=\"51.791045\"/>\n",
       "      </g>\n",
       "     </g>\n",
       "     <g id=\"text_7\">\n",
       "      <!-- Luminosity(L/Lo) -->\n",
       "      <g style=\"fill:#444443;\" transform=\"translate(40.53125 55.590264)scale(0.1 -0.1)\">\n",
       "       <defs>\n",
       "        <path d=\"M 9.8125 72.90625 \n",
       "L 19.671875 72.90625 \n",
       "L 19.671875 8.296875 \n",
       "L 55.171875 8.296875 \n",
       "L 55.171875 0 \n",
       "L 9.8125 0 \n",
       "z\n",
       "\" id=\"DejaVuSans-76\"/>\n",
       "        <path d=\"M 32.171875 -5.078125 \n",
       "Q 28.375 -14.84375 24.75 -17.8125 \n",
       "Q 21.140625 -20.796875 15.09375 -20.796875 \n",
       "L 7.90625 -20.796875 \n",
       "L 7.90625 -13.28125 \n",
       "L 13.1875 -13.28125 \n",
       "Q 16.890625 -13.28125 18.9375 -11.515625 \n",
       "Q 21 -9.765625 23.484375 -3.21875 \n",
       "L 25.09375 0.875 \n",
       "L 2.984375 54.6875 \n",
       "L 12.5 54.6875 \n",
       "L 29.59375 11.921875 \n",
       "L 46.6875 54.6875 \n",
       "L 56.203125 54.6875 \n",
       "z\n",
       "\" id=\"DejaVuSans-121\"/>\n",
       "        <path d=\"M 25.390625 72.90625 \n",
       "L 33.6875 72.90625 \n",
       "L 8.296875 -9.28125 \n",
       "L 0 -9.28125 \n",
       "z\n",
       "\" id=\"DejaVuSans-47\"/>\n",
       "       </defs>\n",
       "       <use xlink:href=\"#DejaVuSans-76\"/>\n",
       "       <use x=\"53.962891\" xlink:href=\"#DejaVuSans-117\"/>\n",
       "       <use x=\"117.341797\" xlink:href=\"#DejaVuSans-109\"/>\n",
       "       <use x=\"214.753906\" xlink:href=\"#DejaVuSans-105\"/>\n",
       "       <use x=\"242.537109\" xlink:href=\"#DejaVuSans-110\"/>\n",
       "       <use x=\"305.916016\" xlink:href=\"#DejaVuSans-111\"/>\n",
       "       <use x=\"367.097656\" xlink:href=\"#DejaVuSans-115\"/>\n",
       "       <use x=\"419.197266\" xlink:href=\"#DejaVuSans-105\"/>\n",
       "       <use x=\"446.980469\" xlink:href=\"#DejaVuSans-116\"/>\n",
       "       <use x=\"486.189453\" xlink:href=\"#DejaVuSans-121\"/>\n",
       "       <use x=\"545.369141\" xlink:href=\"#DejaVuSans-40\"/>\n",
       "       <use x=\"584.382812\" xlink:href=\"#DejaVuSans-76\"/>\n",
       "       <use x=\"640.095703\" xlink:href=\"#DejaVuSans-47\"/>\n",
       "       <use x=\"673.787109\" xlink:href=\"#DejaVuSans-76\"/>\n",
       "       <use x=\"727.75\" xlink:href=\"#DejaVuSans-111\"/>\n",
       "       <use x=\"788.931641\" xlink:href=\"#DejaVuSans-41\"/>\n",
       "      </g>\n",
       "     </g>\n",
       "    </g>\n",
       "    <g id=\"ytick_6\">\n",
       "     <g id=\"line2d_8\">\n",
       "      <g>\n",
       "       <use style=\"stroke:#000000;stroke-width:0.8;\" x=\"130.326563\" xlink:href=\"#m212b8788f8\" y=\"63.185075\"/>\n",
       "      </g>\n",
       "     </g>\n",
       "     <g id=\"text_8\">\n",
       "      <!-- Radius(R/Ro) -->\n",
       "      <g style=\"fill:#444443;\" transform=\"translate(59.064063 66.984293)scale(0.1 -0.1)\">\n",
       "       <defs>\n",
       "        <path d=\"M 44.390625 34.1875 \n",
       "Q 47.5625 33.109375 50.5625 29.59375 \n",
       "Q 53.5625 26.078125 56.59375 19.921875 \n",
       "L 66.609375 0 \n",
       "L 56 0 \n",
       "L 46.6875 18.703125 \n",
       "Q 43.0625 26.03125 39.671875 28.421875 \n",
       "Q 36.28125 30.8125 30.421875 30.8125 \n",
       "L 19.671875 30.8125 \n",
       "L 19.671875 0 \n",
       "L 9.8125 0 \n",
       "L 9.8125 72.90625 \n",
       "L 32.078125 72.90625 \n",
       "Q 44.578125 72.90625 50.734375 67.671875 \n",
       "Q 56.890625 62.453125 56.890625 51.90625 \n",
       "Q 56.890625 45.015625 53.6875 40.46875 \n",
       "Q 50.484375 35.9375 44.390625 34.1875 \n",
       "z\n",
       "M 19.671875 64.796875 \n",
       "L 19.671875 38.921875 \n",
       "L 32.078125 38.921875 \n",
       "Q 39.203125 38.921875 42.84375 42.21875 \n",
       "Q 46.484375 45.515625 46.484375 51.90625 \n",
       "Q 46.484375 58.296875 42.84375 61.546875 \n",
       "Q 39.203125 64.796875 32.078125 64.796875 \n",
       "z\n",
       "\" id=\"DejaVuSans-82\"/>\n",
       "       </defs>\n",
       "       <use xlink:href=\"#DejaVuSans-82\"/>\n",
       "       <use x=\"67.232422\" xlink:href=\"#DejaVuSans-97\"/>\n",
       "       <use x=\"128.511719\" xlink:href=\"#DejaVuSans-100\"/>\n",
       "       <use x=\"191.988281\" xlink:href=\"#DejaVuSans-105\"/>\n",
       "       <use x=\"219.771484\" xlink:href=\"#DejaVuSans-117\"/>\n",
       "       <use x=\"283.150391\" xlink:href=\"#DejaVuSans-115\"/>\n",
       "       <use x=\"335.25\" xlink:href=\"#DejaVuSans-40\"/>\n",
       "       <use x=\"374.263672\" xlink:href=\"#DejaVuSans-82\"/>\n",
       "       <use x=\"443.746094\" xlink:href=\"#DejaVuSans-47\"/>\n",
       "       <use x=\"477.4375\" xlink:href=\"#DejaVuSans-82\"/>\n",
       "       <use x=\"542.419922\" xlink:href=\"#DejaVuSans-111\"/>\n",
       "       <use x=\"603.601562\" xlink:href=\"#DejaVuSans-41\"/>\n",
       "      </g>\n",
       "     </g>\n",
       "    </g>\n",
       "   </g>\n",
       "   <g id=\"patch_9\">\n",
       "    <path d=\"M 130.326563 69.4 \n",
       "L 130.326563 0 \n",
       "\" style=\"fill:none;stroke:#000000;stroke-linecap:square;stroke-linejoin:miter;stroke-width:0.3;\"/>\n",
       "   </g>\n",
       "   <g id=\"patch_10\">\n",
       "    <path d=\"M 255.414063 69.4 \n",
       "L 255.414063 0 \n",
       "\" style=\"fill:none;stroke:#000000;stroke-linecap:square;stroke-linejoin:miter;stroke-width:0.3;\"/>\n",
       "   </g>\n",
       "   <g id=\"patch_11\">\n",
       "    <path d=\"M 130.326563 69.4 \n",
       "L 255.414063 69.4 \n",
       "\" style=\"fill:none;stroke:#000000;stroke-linecap:square;stroke-linejoin:miter;stroke-width:0.3;\"/>\n",
       "   </g>\n",
       "   <g id=\"patch_12\">\n",
       "    <path d=\"M 130.326563 0 \n",
       "L 255.414063 0 \n",
       "\" style=\"fill:none;stroke:#000000;stroke-linecap:square;stroke-linejoin:miter;stroke-width:0.3;\"/>\n",
       "   </g>\n",
       "  </g>\n",
       " </g>\n",
       " <defs>\n",
       "  <clipPath id=\"pe872dbca44\">\n",
       "   <rect height=\"69.4\" width=\"125.0875\" x=\"130.326563\" y=\"0\"/>\n",
       "  </clipPath>\n",
       " </defs>\n",
       "</svg>\n"
      ],
      "text/plain": [
       "<rfpimp.PimpViz at 0x14989cb3910>"
      ]
     },
     "execution_count": 82,
     "metadata": {},
     "output_type": "execute_result"
    }
   ],
   "source": [
    "plot_importances(imp)"
   ]
  },
  {
   "cell_type": "code",
   "execution_count": 83,
   "id": "05bdd64c",
   "metadata": {},
   "outputs": [],
   "source": [
    "forest_preds = tree.predict_proba(X_test)"
   ]
  },
  {
   "cell_type": "code",
   "execution_count": 84,
   "id": "4bd681e8",
   "metadata": {},
   "outputs": [
    {
     "data": {
      "text/plain": [
       "array([[0.        , 0.        , 0.        , 0.        , 0.02      ,\n",
       "        0.98      ],\n",
       "       [0.01018638, 0.98981362, 0.        , 0.        , 0.        ,\n",
       "        0.        ],\n",
       "       [0.        , 0.        , 1.        , 0.        , 0.        ,\n",
       "        0.        ],\n",
       "       [0.        , 0.        , 0.        , 1.        , 0.        ,\n",
       "        0.        ],\n",
       "       [0.        , 0.        , 1.        , 0.        , 0.        ,\n",
       "        0.        ],\n",
       "       [0.        , 0.        , 0.        , 1.        , 0.        ,\n",
       "        0.        ],\n",
       "       [0.94930403, 0.05069597, 0.        , 0.        , 0.        ,\n",
       "        0.        ],\n",
       "       [0.        , 0.        , 0.99      , 0.01      , 0.        ,\n",
       "        0.        ],\n",
       "       [0.95018638, 0.03981362, 0.        , 0.        , 0.01      ,\n",
       "        0.        ],\n",
       "       [0.16018638, 0.83981362, 0.        , 0.        , 0.        ,\n",
       "        0.        ],\n",
       "       [0.04018638, 0.94981362, 0.        , 0.        , 0.01      ,\n",
       "        0.        ],\n",
       "       [0.        , 0.        , 0.        , 0.        , 0.        ,\n",
       "        1.        ],\n",
       "       [0.        , 0.        , 1.        , 0.        , 0.        ,\n",
       "        0.        ],\n",
       "       [0.        , 0.        , 0.        , 0.        , 0.02      ,\n",
       "        0.98      ],\n",
       "       [0.        , 0.        , 0.        , 0.        , 0.01      ,\n",
       "        0.99      ],\n",
       "       [0.        , 0.        , 0.        , 0.96      , 0.03      ,\n",
       "        0.01      ],\n",
       "       [0.        , 0.        , 1.        , 0.        , 0.        ,\n",
       "        0.        ],\n",
       "       [0.95930403, 0.04069597, 0.        , 0.        , 0.        ,\n",
       "        0.        ],\n",
       "       [0.        , 0.        , 0.        , 0.01      , 0.04      ,\n",
       "        0.95      ],\n",
       "       [0.98930403, 0.01069597, 0.        , 0.        , 0.        ,\n",
       "        0.        ],\n",
       "       [0.        , 0.        , 0.        , 0.96      , 0.03      ,\n",
       "        0.01      ],\n",
       "       [0.        , 0.        , 0.        , 0.1       , 0.85      ,\n",
       "        0.05      ],\n",
       "       [0.01018638, 0.98981362, 0.        , 0.        , 0.        ,\n",
       "        0.        ],\n",
       "       [0.98930403, 0.01069597, 0.        , 0.        , 0.        ,\n",
       "        0.        ],\n",
       "       [0.01018638, 0.98981362, 0.        , 0.        , 0.        ,\n",
       "        0.        ],\n",
       "       [0.        , 0.        , 0.01      , 0.99      , 0.        ,\n",
       "        0.        ],\n",
       "       [0.        , 0.        , 0.        , 0.        , 0.01      ,\n",
       "        0.99      ],\n",
       "       [0.        , 0.        , 0.        , 0.98      , 0.01      ,\n",
       "        0.01      ],\n",
       "       [0.        , 0.        , 0.        , 0.        , 0.14      ,\n",
       "        0.86      ],\n",
       "       [0.00358974, 0.55641026, 0.09      , 0.35      , 0.        ,\n",
       "        0.        ],\n",
       "       [0.        , 0.        , 0.        , 0.98      , 0.01      ,\n",
       "        0.01      ],\n",
       "       [0.        , 0.        , 1.        , 0.        , 0.        ,\n",
       "        0.        ],\n",
       "       [0.        , 0.        , 1.        , 0.        , 0.        ,\n",
       "        0.        ],\n",
       "       [0.        , 0.        , 0.        , 0.02      , 0.01      ,\n",
       "        0.97      ],\n",
       "       [0.        , 0.        , 1.        , 0.        , 0.        ,\n",
       "        0.        ],\n",
       "       [0.01018638, 0.98981362, 0.        , 0.        , 0.        ,\n",
       "        0.        ],\n",
       "       [0.        , 0.        , 0.        , 0.88      , 0.11      ,\n",
       "        0.01      ],\n",
       "       [0.        , 0.        , 1.        , 0.        , 0.        ,\n",
       "        0.        ],\n",
       "       [0.        , 0.        , 0.        , 0.86      , 0.09      ,\n",
       "        0.05      ],\n",
       "       [0.        , 0.        , 0.        , 0.        , 1.        ,\n",
       "        0.        ],\n",
       "       [0.28659664, 0.71340336, 0.        , 0.        , 0.        ,\n",
       "        0.        ],\n",
       "       [0.        , 0.        , 1.        , 0.        , 0.        ,\n",
       "        0.        ],\n",
       "       [0.10659664, 0.89340336, 0.        , 0.        , 0.        ,\n",
       "        0.        ],\n",
       "       [0.        , 0.        , 1.        , 0.        , 0.        ,\n",
       "        0.        ],\n",
       "       [0.33659664, 0.66340336, 0.        , 0.        , 0.        ,\n",
       "        0.        ],\n",
       "       [0.        , 0.        , 0.        , 1.        , 0.        ,\n",
       "        0.        ],\n",
       "       [0.        , 0.        , 0.        , 1.        , 0.        ,\n",
       "        0.        ],\n",
       "       [0.        , 0.        , 0.        , 0.        , 0.        ,\n",
       "        1.        ]])"
      ]
     },
     "execution_count": 84,
     "metadata": {},
     "output_type": "execute_result"
    }
   ],
   "source": [
    "forest_preds"
   ]
  },
  {
   "cell_type": "code",
   "execution_count": 85,
   "id": "4d313ce4",
   "metadata": {},
   "outputs": [],
   "source": [
    "avgs = (nn_preds + xgb_preds + forest_preds) / 3"
   ]
  },
  {
   "cell_type": "code",
   "execution_count": 87,
   "id": "7fa5e0a2",
   "metadata": {},
   "outputs": [
    {
     "data": {
      "text/plain": [
       "TensorBase(0.9792)"
      ]
     },
     "execution_count": 87,
     "metadata": {},
     "output_type": "execute_result"
    }
   ],
   "source": [
    "accuracy(tensor(avgs), tensor(y_test))"
   ]
  },
  {
   "cell_type": "markdown",
   "id": "b5a8ee24",
   "metadata": {},
   "source": [
    "### Bayesian Optimization"
   ]
  },
  {
   "cell_type": "code",
   "execution_count": 2,
   "id": "b6739941",
   "metadata": {},
   "outputs": [],
   "source": [
    "%matplotlib inline\n",
    "from fastai.tabular.all import *"
   ]
  },
  {
   "cell_type": "code",
   "execution_count": 3,
   "id": "a10ac389",
   "metadata": {},
   "outputs": [],
   "source": [
    "path = Path('C:/Users/light/Documents/Fastbook/Personal-Machine-Learning-Data/Walkwithfastai Data')\n",
    "df = pd.read_csv(path/'6 class csv.csv')"
   ]
  },
  {
   "cell_type": "code",
   "execution_count": 5,
   "id": "9686b124",
   "metadata": {},
   "outputs": [],
   "source": [
    "from bayes_opt import BayesianOptimization"
   ]
  },
  {
   "cell_type": "code",
   "execution_count": 6,
   "id": "e786290e",
   "metadata": {},
   "outputs": [],
   "source": [
    "def fit_with(lr:float, wd:float, dp:float, n_layers:float, layer_1:float, layer_2:float, layer_3:float):\n",
    "    print(lr, wd, dp)\n",
    "    if round(n_layers) == 2:\n",
    "        layers = [round(layer_1), round(layer_2)]\n",
    "    elif int(n_layers) == 3:\n",
    "        layers = [round(layer_1), round(layer_2), round(layer_3)]\n",
    "    else:\n",
    "        layers = [round(layer_1)]\n",
    "    config = tabular_config(embed_p=float(dp), ps=float(wd))\n",
    "    learn = tabular_learner(dls, layers=layers, metrics=accuracy, config=config)\n",
    "    \n",
    "    with learn.no_bar() and learn.no_logging():\n",
    "        learn.fit(5, lr=float(lr))\n",
    "    \n",
    "    acc = float(learn.validate()[1])\n",
    "    \n",
    "    return acc"
   ]
  },
  {
   "cell_type": "code",
   "execution_count": 7,
   "id": "50c10fc0",
   "metadata": {},
   "outputs": [],
   "source": [
    "cat_names = ['Star color', 'Spectral Class']\n",
    "cont_names = ['Temperature (K)','Luminosity(L/Lo)','Radius(R/Ro)','Absolute magnitude(Mv)']\n",
    "procs = [Categorify, FillMissing, Normalize]\n",
    "y_names = 'Star type'\n",
    "y_block = CategoryBlock()\n",
    "splits = RandomSplitter()(range_of(df))"
   ]
  },
  {
   "cell_type": "code",
   "execution_count": 8,
   "id": "94b56e1e",
   "metadata": {},
   "outputs": [],
   "source": [
    "to = TabularPandas(df, procs=procs, cat_names=cat_names, cont_names=cont_names, y_names=y_names, y_block=y_block, splits=splits)"
   ]
  },
  {
   "cell_type": "code",
   "execution_count": 9,
   "id": "62c39dc2",
   "metadata": {},
   "outputs": [],
   "source": [
    "dls = to.dataloaders(bs=512)"
   ]
  },
  {
   "cell_type": "code",
   "execution_count": 16,
   "id": "09b293a9",
   "metadata": {},
   "outputs": [],
   "source": [
    "hps = {'lr': (1e-05, 1e-01),\n",
    "       'wd':(4e-4, 0.4),\n",
    "       'dp':(0.01, 0.5),\n",
    "       'n_layers':(1,3),\n",
    "       'layer_1':(50, 200),\n",
    "       'layer_2':(100, 1000),\n",
    "       'layer_3':(200, 2000)}"
   ]
  },
  {
   "cell_type": "code",
   "execution_count": 17,
   "id": "7ac4b6d3",
   "metadata": {},
   "outputs": [],
   "source": [
    "optim = BayesianOptimization(\n",
    "        f=fit_with,\n",
    "        pbounds=hps,\n",
    "        verbose=2,\n",
    "        random_state=1\n",
    ")"
   ]
  },
  {
   "cell_type": "code",
   "execution_count": 18,
   "id": "97338de5",
   "metadata": {},
   "outputs": [
    {
     "name": "stdout",
     "output_type": "stream",
     "text": [
      "|   iter    |  target   |    dp     |  layer_1  |  layer_2  |  layer_3  |    lr     | n_layers  |    wd     |\n",
      "-------------------------------------------------------------------------------------------------------------\n",
      "0.014684121522803134 0.07482958046651729 0.21434078230426126\n"
     ]
    },
    {
     "data": {
      "text/html": [],
      "text/plain": [
       "<IPython.core.display.HTML object>"
      ]
     },
     "metadata": {},
     "output_type": "display_data"
    },
    {
     "name": "stderr",
     "output_type": "stream",
     "text": [
      "C:\\Users\\light\\anaconda3\\envs\\mymlenv\\lib\\site-packages\\fastprogress\\fastprogress.py:74: UserWarning: Your generator is empty.\n",
      "  warn(\"Your generator is empty.\")\n"
     ]
    },
    {
     "data": {
      "text/html": [],
      "text/plain": [
       "<IPython.core.display.HTML object>"
      ]
     },
     "metadata": {},
     "output_type": "display_data"
    },
    {
     "name": "stdout",
     "output_type": "stream",
     "text": [
      "| \u001b[0m 1       \u001b[0m | \u001b[0m 0.1042  \u001b[0m | \u001b[0m 0.2143  \u001b[0m | \u001b[0m 158.0   \u001b[0m | \u001b[0m 100.1   \u001b[0m | \u001b[0m 744.2   \u001b[0m | \u001b[0m 0.01468 \u001b[0m | \u001b[0m 1.185   \u001b[0m | \u001b[0m 0.07483 \u001b[0m |\n",
      "0.06852509784467198 0.3512957275818218 0.1793247562510934\n"
     ]
    },
    {
     "data": {
      "text/html": [],
      "text/plain": [
       "<IPython.core.display.HTML object>"
      ]
     },
     "metadata": {},
     "output_type": "display_data"
    },
    {
     "data": {
      "text/html": [],
      "text/plain": [
       "<IPython.core.display.HTML object>"
      ]
     },
     "metadata": {},
     "output_type": "display_data"
    },
    {
     "name": "stdout",
     "output_type": "stream",
     "text": [
      "| \u001b[95m 2       \u001b[0m | \u001b[95m 0.1667  \u001b[0m | \u001b[95m 0.1793  \u001b[0m | \u001b[95m 109.5   \u001b[0m | \u001b[95m 584.9   \u001b[0m | \u001b[95m 954.6   \u001b[0m | \u001b[95m 0.06853 \u001b[0m | \u001b[95m 1.409   \u001b[0m | \u001b[95m 0.3513  \u001b[0m |\n",
      "0.014047289990137426 0.32037752964274446 0.02341992066698382\n"
     ]
    },
    {
     "data": {
      "text/html": [],
      "text/plain": [
       "<IPython.core.display.HTML object>"
      ]
     },
     "metadata": {},
     "output_type": "display_data"
    },
    {
     "data": {
      "text/html": [],
      "text/plain": [
       "<IPython.core.display.HTML object>"
      ]
     },
     "metadata": {},
     "output_type": "display_data"
    },
    {
     "name": "stdout",
     "output_type": "stream",
     "text": [
      "| \u001b[95m 3       \u001b[0m | \u001b[95m 0.2292  \u001b[0m | \u001b[95m 0.02342 \u001b[0m | \u001b[95m 150.6   \u001b[0m | \u001b[95m 475.6   \u001b[0m | \u001b[95m 1.206e+0\u001b[0m | \u001b[95m 0.01405 \u001b[0m | \u001b[95m 1.396   \u001b[0m | \u001b[95m 0.3204  \u001b[0m |\n",
      "0.0894617202837497 0.016006291379859792 0.4844481721025048\n"
     ]
    },
    {
     "data": {
      "text/html": [],
      "text/plain": [
       "<IPython.core.display.HTML object>"
      ]
     },
     "metadata": {},
     "output_type": "display_data"
    },
    {
     "data": {
      "text/html": [],
      "text/plain": [
       "<IPython.core.display.HTML object>"
      ]
     },
     "metadata": {},
     "output_type": "display_data"
    },
    {
     "name": "stdout",
     "output_type": "stream",
     "text": [
      "| \u001b[0m 4       \u001b[0m | \u001b[0m 0.2292  \u001b[0m | \u001b[0m 0.4844  \u001b[0m | \u001b[0m 97.01   \u001b[0m | \u001b[0m 723.1   \u001b[0m | \u001b[0m 1.778e+0\u001b[0m | \u001b[0m 0.08946 \u001b[0m | \u001b[0m 1.17    \u001b[0m | \u001b[0m 0.01601 \u001b[0m |\n",
      "0.0957893741197487 0.27687409473460917 0.09321690558663875\n"
     ]
    },
    {
     "data": {
      "text/html": [],
      "text/plain": [
       "<IPython.core.display.HTML object>"
      ]
     },
     "metadata": {},
     "output_type": "display_data"
    },
    {
     "data": {
      "text/html": [],
      "text/plain": [
       "<IPython.core.display.HTML object>"
      ]
     },
     "metadata": {},
     "output_type": "display_data"
    },
    {
     "name": "stdout",
     "output_type": "stream",
     "text": [
      "| \u001b[0m 5       \u001b[0m | \u001b[0m 0.0625  \u001b[0m | \u001b[0m 0.09322 \u001b[0m | \u001b[0m 181.7   \u001b[0m | \u001b[0m 188.5   \u001b[0m | \u001b[0m 958.0   \u001b[0m | \u001b[0m 0.09579 \u001b[0m | \u001b[0m 2.066   \u001b[0m | \u001b[0m 0.2769  \u001b[0m |\n",
      "0.04735306057745478 0.18904425865954713 0.23004945112343766\n"
     ]
    },
    {
     "data": {
      "text/html": [],
      "text/plain": [
       "<IPython.core.display.HTML object>"
      ]
     },
     "metadata": {},
     "output_type": "display_data"
    },
    {
     "name": "stderr",
     "output_type": "stream",
     "text": [
      "C:\\Users\\light\\anaconda3\\envs\\mymlenv\\lib\\site-packages\\fastprogress\\fastprogress.py:74: UserWarning: Your generator is empty.\n",
      "  warn(\"Your generator is empty.\")\n"
     ]
    },
    {
     "data": {
      "text/html": [],
      "text/plain": [
       "<IPython.core.display.HTML object>"
      ]
     },
     "metadata": {},
     "output_type": "display_data"
    },
    {
     "name": "stdout",
     "output_type": "stream",
     "text": [
      "| \u001b[0m 6       \u001b[0m | \u001b[0m 0.2083  \u001b[0m | \u001b[0m 0.23    \u001b[0m | \u001b[0m 124.3   \u001b[0m | \u001b[0m 601.2   \u001b[0m | \u001b[0m 1.465e+0\u001b[0m | \u001b[0m 0.04735 \u001b[0m | \u001b[0m 1.25    \u001b[0m | \u001b[0m 0.189   \u001b[0m |\n",
      "0.07057137870206037 0.2133891870128658 0.02360293397969781\n"
     ]
    },
    {
     "data": {
      "text/html": [],
      "text/plain": [
       "<IPython.core.display.HTML object>"
      ]
     },
     "metadata": {},
     "output_type": "display_data"
    },
    {
     "name": "stderr",
     "output_type": "stream",
     "text": [
      "C:\\Users\\light\\anaconda3\\envs\\mymlenv\\lib\\site-packages\\fastprogress\\fastprogress.py:74: UserWarning: Your generator is empty.\n",
      "  warn(\"Your generator is empty.\")\n"
     ]
    },
    {
     "data": {
      "text/html": [],
      "text/plain": [
       "<IPython.core.display.HTML object>"
      ]
     },
     "metadata": {},
     "output_type": "display_data"
    },
    {
     "name": "stdout",
     "output_type": "stream",
     "text": [
      "| \u001b[0m 7       \u001b[0m | \u001b[0m 0.02083 \u001b[0m | \u001b[0m 0.0236  \u001b[0m | \u001b[0m 123.0   \u001b[0m | \u001b[0m 426.6   \u001b[0m | \u001b[0m 1.853e+0\u001b[0m | \u001b[0m 0.07057 \u001b[0m | \u001b[0m 2.061   \u001b[0m | \u001b[0m 0.2134  \u001b[0m |\n",
      "0.09994884711566795 0.3116058590004377 0.39676173577890395\n"
     ]
    },
    {
     "data": {
      "text/html": [],
      "text/plain": [
       "<IPython.core.display.HTML object>"
      ]
     },
     "metadata": {},
     "output_type": "display_data"
    },
    {
     "name": "stderr",
     "output_type": "stream",
     "text": [
      "C:\\Users\\light\\anaconda3\\envs\\mymlenv\\lib\\site-packages\\fastprogress\\fastprogress.py:74: UserWarning: Your generator is empty.\n",
      "  warn(\"Your generator is empty.\")\n"
     ]
    },
    {
     "data": {
      "text/html": [],
      "text/plain": [
       "<IPython.core.display.HTML object>"
      ]
     },
     "metadata": {},
     "output_type": "display_data"
    },
    {
     "name": "stdout",
     "output_type": "stream",
     "text": [
      "| \u001b[0m 8       \u001b[0m | \u001b[0m 0.1875  \u001b[0m | \u001b[0m 0.3968  \u001b[0m | \u001b[0m 94.61   \u001b[0m | \u001b[0m 700.3   \u001b[0m | \u001b[0m 1.786e+0\u001b[0m | \u001b[0m 0.09995 \u001b[0m | \u001b[0m 1.248   \u001b[0m | \u001b[0m 0.3116  \u001b[0m |\n",
      "0.02436074222272172 0.21341741840711553 0.4766156384138025\n"
     ]
    },
    {
     "data": {
      "text/html": [],
      "text/plain": [
       "<IPython.core.display.HTML object>"
      ]
     },
     "metadata": {},
     "output_type": "display_data"
    },
    {
     "name": "stderr",
     "output_type": "stream",
     "text": [
      "C:\\Users\\light\\anaconda3\\envs\\mymlenv\\lib\\site-packages\\fastprogress\\fastprogress.py:74: UserWarning: Your generator is empty.\n",
      "  warn(\"Your generator is empty.\")\n"
     ]
    },
    {
     "data": {
      "text/html": [],
      "text/plain": [
       "<IPython.core.display.HTML object>"
      ]
     },
     "metadata": {},
     "output_type": "display_data"
    },
    {
     "name": "stdout",
     "output_type": "stream",
     "text": [
      "| \u001b[0m 9       \u001b[0m | \u001b[0m 0.08333 \u001b[0m | \u001b[0m 0.4766  \u001b[0m | \u001b[0m 100.7   \u001b[0m | \u001b[0m 769.3   \u001b[0m | \u001b[0m 1.727e+0\u001b[0m | \u001b[0m 0.02436 \u001b[0m | \u001b[0m 1.578   \u001b[0m | \u001b[0m 0.2134  \u001b[0m |\n",
      "0.09989429397143877 0.39982150607727196 0.04658927032075681\n"
     ]
    },
    {
     "data": {
      "text/html": [],
      "text/plain": [
       "<IPython.core.display.HTML object>"
      ]
     },
     "metadata": {},
     "output_type": "display_data"
    },
    {
     "name": "stderr",
     "output_type": "stream",
     "text": [
      "C:\\Users\\light\\anaconda3\\envs\\mymlenv\\lib\\site-packages\\fastprogress\\fastprogress.py:74: UserWarning: Your generator is empty.\n",
      "  warn(\"Your generator is empty.\")\n"
     ]
    },
    {
     "data": {
      "text/html": [],
      "text/plain": [
       "<IPython.core.display.HTML object>"
      ]
     },
     "metadata": {},
     "output_type": "display_data"
    },
    {
     "name": "stdout",
     "output_type": "stream",
     "text": [
      "| \u001b[0m 10      \u001b[0m | \u001b[0m 0.125   \u001b[0m | \u001b[0m 0.04659 \u001b[0m | \u001b[0m 157.4   \u001b[0m | \u001b[0m 448.6   \u001b[0m | \u001b[0m 1.227e+0\u001b[0m | \u001b[0m 0.09989 \u001b[0m | \u001b[0m 2.99    \u001b[0m | \u001b[0m 0.3998  \u001b[0m |\n",
      "1e-05 0.26129411161727073 0.01\n"
     ]
    },
    {
     "data": {
      "text/html": [],
      "text/plain": [
       "<IPython.core.display.HTML object>"
      ]
     },
     "metadata": {},
     "output_type": "display_data"
    },
    {
     "name": "stderr",
     "output_type": "stream",
     "text": [
      "C:\\Users\\light\\anaconda3\\envs\\mymlenv\\lib\\site-packages\\fastprogress\\fastprogress.py:74: UserWarning: Your generator is empty.\n",
      "  warn(\"Your generator is empty.\")\n"
     ]
    },
    {
     "data": {
      "text/html": [],
      "text/plain": [
       "<IPython.core.display.HTML object>"
      ]
     },
     "metadata": {},
     "output_type": "display_data"
    },
    {
     "name": "stdout",
     "output_type": "stream",
     "text": [
      "| \u001b[0m 11      \u001b[0m | \u001b[0m 0.125   \u001b[0m | \u001b[0m 0.01    \u001b[0m | \u001b[0m 145.5   \u001b[0m | \u001b[0m 494.5   \u001b[0m | \u001b[0m 1.191e+0\u001b[0m | \u001b[0m 1e-05   \u001b[0m | \u001b[0m 1.0     \u001b[0m | \u001b[0m 0.2613  \u001b[0m |\n",
      "0.04331711298927622 0.15805626020440297 0.4660220346907158\n"
     ]
    },
    {
     "data": {
      "text/html": [],
      "text/plain": [
       "<IPython.core.display.HTML object>"
      ]
     },
     "metadata": {},
     "output_type": "display_data"
    },
    {
     "name": "stderr",
     "output_type": "stream",
     "text": [
      "C:\\Users\\light\\anaconda3\\envs\\mymlenv\\lib\\site-packages\\fastprogress\\fastprogress.py:74: UserWarning: Your generator is empty.\n",
      "  warn(\"Your generator is empty.\")\n"
     ]
    },
    {
     "data": {
      "text/html": [],
      "text/plain": [
       "<IPython.core.display.HTML object>"
      ]
     },
     "metadata": {},
     "output_type": "display_data"
    },
    {
     "name": "stdout",
     "output_type": "stream",
     "text": [
      "| \u001b[0m 12      \u001b[0m | \u001b[0m 0.2083  \u001b[0m | \u001b[0m 0.466   \u001b[0m | \u001b[0m 120.4   \u001b[0m | \u001b[0m 588.1   \u001b[0m | \u001b[0m 950.2   \u001b[0m | \u001b[0m 0.04332 \u001b[0m | \u001b[0m 2.42    \u001b[0m | \u001b[0m 0.1581  \u001b[0m |\n",
      "0.02235958690754078 0.3902041264163 0.03170654605573251\n"
     ]
    },
    {
     "data": {
      "text/html": [],
      "text/plain": [
       "<IPython.core.display.HTML object>"
      ]
     },
     "metadata": {},
     "output_type": "display_data"
    },
    {
     "name": "stderr",
     "output_type": "stream",
     "text": [
      "C:\\Users\\light\\anaconda3\\envs\\mymlenv\\lib\\site-packages\\fastprogress\\fastprogress.py:74: UserWarning: Your generator is empty.\n",
      "  warn(\"Your generator is empty.\")\n"
     ]
    },
    {
     "data": {
      "text/html": [],
      "text/plain": [
       "<IPython.core.display.HTML object>"
      ]
     },
     "metadata": {},
     "output_type": "display_data"
    },
    {
     "name": "stdout",
     "output_type": "stream",
     "text": [
      "| \u001b[0m 13      \u001b[0m | \u001b[0m 0.125   \u001b[0m | \u001b[0m 0.03171 \u001b[0m | \u001b[0m 99.02   \u001b[0m | \u001b[0m 731.1   \u001b[0m | \u001b[0m 1.762e+0\u001b[0m | \u001b[0m 0.02236 \u001b[0m | \u001b[0m 2.946   \u001b[0m | \u001b[0m 0.3902  \u001b[0m |\n",
      "0.04232924700305578 0.21784565629756647 0.06676687350672701\n"
     ]
    },
    {
     "data": {
      "text/html": [],
      "text/plain": [
       "<IPython.core.display.HTML object>"
      ]
     },
     "metadata": {},
     "output_type": "display_data"
    },
    {
     "name": "stderr",
     "output_type": "stream",
     "text": [
      "C:\\Users\\light\\anaconda3\\envs\\mymlenv\\lib\\site-packages\\fastprogress\\fastprogress.py:74: UserWarning: Your generator is empty.\n",
      "  warn(\"Your generator is empty.\")\n"
     ]
    },
    {
     "data": {
      "text/html": [],
      "text/plain": [
       "<IPython.core.display.HTML object>"
      ]
     },
     "metadata": {},
     "output_type": "display_data"
    },
    {
     "name": "stdout",
     "output_type": "stream",
     "text": [
      "| \u001b[0m 14      \u001b[0m | \u001b[0m 0.2083  \u001b[0m | \u001b[0m 0.06677 \u001b[0m | \u001b[0m 92.45   \u001b[0m | \u001b[0m 711.6   \u001b[0m | \u001b[0m 1.795e+0\u001b[0m | \u001b[0m 0.04233 \u001b[0m | \u001b[0m 2.384   \u001b[0m | \u001b[0m 0.2178  \u001b[0m |\n",
      "0.06378592397086283 0.2360940719683367 0.3692124287761676\n"
     ]
    },
    {
     "data": {
      "text/html": [],
      "text/plain": [
       "<IPython.core.display.HTML object>"
      ]
     },
     "metadata": {},
     "output_type": "display_data"
    },
    {
     "name": "stderr",
     "output_type": "stream",
     "text": [
      "C:\\Users\\light\\anaconda3\\envs\\mymlenv\\lib\\site-packages\\fastprogress\\fastprogress.py:74: UserWarning: Your generator is empty.\n",
      "  warn(\"Your generator is empty.\")\n"
     ]
    },
    {
     "data": {
      "text/html": [],
      "text/plain": [
       "<IPython.core.display.HTML object>"
      ]
     },
     "metadata": {},
     "output_type": "display_data"
    },
    {
     "name": "stdout",
     "output_type": "stream",
     "text": [
      "| \u001b[0m 15      \u001b[0m | \u001b[0m 0.0     \u001b[0m | \u001b[0m 0.3692  \u001b[0m | \u001b[0m 85.98   \u001b[0m | \u001b[0m 722.8   \u001b[0m | \u001b[0m 1.786e+0\u001b[0m | \u001b[0m 0.06379 \u001b[0m | \u001b[0m 1.356   \u001b[0m | \u001b[0m 0.2361  \u001b[0m |\n",
      "=============================================================================================================\n",
      "Wall time: 8.79 s\n"
     ]
    }
   ],
   "source": [
    "%time optim.maximize(n_iter=10)"
   ]
  },
  {
   "cell_type": "code",
   "execution_count": 19,
   "id": "e4643b11",
   "metadata": {},
   "outputs": [
    {
     "name": "stdout",
     "output_type": "stream",
     "text": [
      "{'target': 0.2291666716337204, 'params': {'dp': 0.02341992066698382, 'layer_1': 150.57012652676033, 'layer_2': 475.57432213041426, 'layer_3': 1205.6416912023528, 'lr': 0.014047289990137426, 'n_layers': 1.3962029781697576, 'wd': 0.32037752964274446}}\n"
     ]
    }
   ],
   "source": [
    "print(optim.max)"
   ]
  },
  {
   "cell_type": "code",
   "execution_count": null,
   "id": "f65d583d",
   "metadata": {},
   "outputs": [],
   "source": []
  }
 ],
 "metadata": {
  "kernelspec": {
   "display_name": "Python 3",
   "language": "python",
   "name": "python3"
  },
  "language_info": {
   "codemirror_mode": {
    "name": "ipython",
    "version": 3
   },
   "file_extension": ".py",
   "mimetype": "text/x-python",
   "name": "python",
   "nbconvert_exporter": "python",
   "pygments_lexer": "ipython3",
   "version": "3.8.8"
  }
 },
 "nbformat": 4,
 "nbformat_minor": 5
}
