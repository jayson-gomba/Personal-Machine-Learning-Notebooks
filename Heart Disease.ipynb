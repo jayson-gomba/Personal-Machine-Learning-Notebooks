{
 "cells": [
  {
   "cell_type": "code",
   "execution_count": 1,
   "id": "f71807f0",
   "metadata": {},
   "outputs": [],
   "source": [
    "import torch\n",
    "import torch.nn as nn\n",
    "import torch.nn.functional as F\n",
    "import numpy as np\n",
    "import pandas as pd\n",
    "import tensorflow as tf\n",
    "\n",
    "from torch.utils.data import Dataset, DataLoader\n",
    "from sklearn.model_selection import train_test_split\n",
    "from sklearn.ensemble import RandomForestClassifier\n",
    "from sklearn.metrics import accuracy_score\n",
    "from tensorflow.keras.layers import Dense\n",
    "from tensorflow.keras import Model\n",
    "import pickle"
   ]
  },
  {
   "cell_type": "code",
   "execution_count": 2,
   "id": "3ac89cd0",
   "metadata": {},
   "outputs": [],
   "source": [
    "df = pd.read_csv('processed-cleveland-heart-disease.csv')"
   ]
  },
  {
   "cell_type": "code",
   "execution_count": 3,
   "id": "aa727b75",
   "metadata": {},
   "outputs": [
    {
     "data": {
      "text/plain": [
       "Index(['age', 'sex', 'cp', 'trestbps', 'chol', 'fbs', 'restecg', 'thalach',\n",
       "       'exang', 'oldpeak', 'slope', 'ca', 'thal', 'target'],\n",
       "      dtype='object')"
      ]
     },
     "execution_count": 3,
     "metadata": {},
     "output_type": "execute_result"
    }
   ],
   "source": [
    "df.columns"
   ]
  },
  {
   "cell_type": "code",
   "execution_count": 4,
   "id": "84f04ea8",
   "metadata": {},
   "outputs": [
    {
     "data": {
      "text/html": [
       "<div>\n",
       "<style scoped>\n",
       "    .dataframe tbody tr th:only-of-type {\n",
       "        vertical-align: middle;\n",
       "    }\n",
       "\n",
       "    .dataframe tbody tr th {\n",
       "        vertical-align: top;\n",
       "    }\n",
       "\n",
       "    .dataframe thead th {\n",
       "        text-align: right;\n",
       "    }\n",
       "</style>\n",
       "<table border=\"1\" class=\"dataframe\">\n",
       "  <thead>\n",
       "    <tr style=\"text-align: right;\">\n",
       "      <th></th>\n",
       "      <th>age</th>\n",
       "      <th>sex</th>\n",
       "      <th>cp</th>\n",
       "      <th>trestbps</th>\n",
       "      <th>chol</th>\n",
       "      <th>fbs</th>\n",
       "      <th>restecg</th>\n",
       "      <th>thalach</th>\n",
       "      <th>exang</th>\n",
       "      <th>oldpeak</th>\n",
       "      <th>slope</th>\n",
       "      <th>ca</th>\n",
       "      <th>thal</th>\n",
       "      <th>target</th>\n",
       "    </tr>\n",
       "  </thead>\n",
       "  <tbody>\n",
       "    <tr>\n",
       "      <th>0</th>\n",
       "      <td>63.0</td>\n",
       "      <td>1.0</td>\n",
       "      <td>1.0</td>\n",
       "      <td>145.0</td>\n",
       "      <td>233.0</td>\n",
       "      <td>1.0</td>\n",
       "      <td>2.0</td>\n",
       "      <td>150.0</td>\n",
       "      <td>0.0</td>\n",
       "      <td>2.3</td>\n",
       "      <td>3.0</td>\n",
       "      <td>0.0</td>\n",
       "      <td>6.0</td>\n",
       "      <td>0</td>\n",
       "    </tr>\n",
       "    <tr>\n",
       "      <th>1</th>\n",
       "      <td>67.0</td>\n",
       "      <td>1.0</td>\n",
       "      <td>4.0</td>\n",
       "      <td>160.0</td>\n",
       "      <td>286.0</td>\n",
       "      <td>0.0</td>\n",
       "      <td>2.0</td>\n",
       "      <td>108.0</td>\n",
       "      <td>1.0</td>\n",
       "      <td>1.5</td>\n",
       "      <td>2.0</td>\n",
       "      <td>3.0</td>\n",
       "      <td>3.0</td>\n",
       "      <td>2</td>\n",
       "    </tr>\n",
       "    <tr>\n",
       "      <th>2</th>\n",
       "      <td>67.0</td>\n",
       "      <td>1.0</td>\n",
       "      <td>4.0</td>\n",
       "      <td>120.0</td>\n",
       "      <td>229.0</td>\n",
       "      <td>0.0</td>\n",
       "      <td>2.0</td>\n",
       "      <td>129.0</td>\n",
       "      <td>1.0</td>\n",
       "      <td>2.6</td>\n",
       "      <td>2.0</td>\n",
       "      <td>2.0</td>\n",
       "      <td>7.0</td>\n",
       "      <td>1</td>\n",
       "    </tr>\n",
       "    <tr>\n",
       "      <th>3</th>\n",
       "      <td>37.0</td>\n",
       "      <td>1.0</td>\n",
       "      <td>3.0</td>\n",
       "      <td>130.0</td>\n",
       "      <td>250.0</td>\n",
       "      <td>0.0</td>\n",
       "      <td>0.0</td>\n",
       "      <td>187.0</td>\n",
       "      <td>0.0</td>\n",
       "      <td>3.5</td>\n",
       "      <td>3.0</td>\n",
       "      <td>0.0</td>\n",
       "      <td>3.0</td>\n",
       "      <td>0</td>\n",
       "    </tr>\n",
       "    <tr>\n",
       "      <th>4</th>\n",
       "      <td>41.0</td>\n",
       "      <td>0.0</td>\n",
       "      <td>2.0</td>\n",
       "      <td>130.0</td>\n",
       "      <td>204.0</td>\n",
       "      <td>0.0</td>\n",
       "      <td>2.0</td>\n",
       "      <td>172.0</td>\n",
       "      <td>0.0</td>\n",
       "      <td>1.4</td>\n",
       "      <td>1.0</td>\n",
       "      <td>0.0</td>\n",
       "      <td>3.0</td>\n",
       "      <td>0</td>\n",
       "    </tr>\n",
       "  </tbody>\n",
       "</table>\n",
       "</div>"
      ],
      "text/plain": [
       "    age  sex   cp  trestbps   chol  fbs  restecg  thalach  exang  oldpeak  \\\n",
       "0  63.0  1.0  1.0     145.0  233.0  1.0      2.0    150.0    0.0      2.3   \n",
       "1  67.0  1.0  4.0     160.0  286.0  0.0      2.0    108.0    1.0      1.5   \n",
       "2  67.0  1.0  4.0     120.0  229.0  0.0      2.0    129.0    1.0      2.6   \n",
       "3  37.0  1.0  3.0     130.0  250.0  0.0      0.0    187.0    0.0      3.5   \n",
       "4  41.0  0.0  2.0     130.0  204.0  0.0      2.0    172.0    0.0      1.4   \n",
       "\n",
       "   slope   ca  thal  target  \n",
       "0    3.0  0.0   6.0       0  \n",
       "1    2.0  3.0   3.0       2  \n",
       "2    2.0  2.0   7.0       1  \n",
       "3    3.0  0.0   3.0       0  \n",
       "4    1.0  0.0   3.0       0  "
      ]
     },
     "execution_count": 4,
     "metadata": {},
     "output_type": "execute_result"
    }
   ],
   "source": [
    "df.head()"
   ]
  },
  {
   "cell_type": "code",
   "execution_count": 5,
   "id": "56b349c1",
   "metadata": {},
   "outputs": [
    {
     "data": {
      "text/html": [
       "<div>\n",
       "<style scoped>\n",
       "    .dataframe tbody tr th:only-of-type {\n",
       "        vertical-align: middle;\n",
       "    }\n",
       "\n",
       "    .dataframe tbody tr th {\n",
       "        vertical-align: top;\n",
       "    }\n",
       "\n",
       "    .dataframe thead th {\n",
       "        text-align: right;\n",
       "    }\n",
       "</style>\n",
       "<table border=\"1\" class=\"dataframe\">\n",
       "  <thead>\n",
       "    <tr style=\"text-align: right;\">\n",
       "      <th></th>\n",
       "      <th>age</th>\n",
       "      <th>sex</th>\n",
       "      <th>cp</th>\n",
       "      <th>trestbps</th>\n",
       "      <th>chol</th>\n",
       "      <th>fbs</th>\n",
       "      <th>restecg</th>\n",
       "      <th>thalach</th>\n",
       "      <th>exang</th>\n",
       "      <th>oldpeak</th>\n",
       "      <th>slope</th>\n",
       "      <th>ca</th>\n",
       "      <th>thal</th>\n",
       "      <th>target</th>\n",
       "    </tr>\n",
       "  </thead>\n",
       "  <tbody>\n",
       "    <tr>\n",
       "      <th>298</th>\n",
       "      <td>45.0</td>\n",
       "      <td>1.0</td>\n",
       "      <td>1.0</td>\n",
       "      <td>110.0</td>\n",
       "      <td>264.0</td>\n",
       "      <td>0.0</td>\n",
       "      <td>0.0</td>\n",
       "      <td>132.0</td>\n",
       "      <td>0.0</td>\n",
       "      <td>1.2</td>\n",
       "      <td>2.0</td>\n",
       "      <td>0.0</td>\n",
       "      <td>7.0</td>\n",
       "      <td>1</td>\n",
       "    </tr>\n",
       "    <tr>\n",
       "      <th>299</th>\n",
       "      <td>68.0</td>\n",
       "      <td>1.0</td>\n",
       "      <td>4.0</td>\n",
       "      <td>144.0</td>\n",
       "      <td>193.0</td>\n",
       "      <td>1.0</td>\n",
       "      <td>0.0</td>\n",
       "      <td>141.0</td>\n",
       "      <td>0.0</td>\n",
       "      <td>3.4</td>\n",
       "      <td>2.0</td>\n",
       "      <td>2.0</td>\n",
       "      <td>7.0</td>\n",
       "      <td>2</td>\n",
       "    </tr>\n",
       "    <tr>\n",
       "      <th>300</th>\n",
       "      <td>57.0</td>\n",
       "      <td>1.0</td>\n",
       "      <td>4.0</td>\n",
       "      <td>130.0</td>\n",
       "      <td>131.0</td>\n",
       "      <td>0.0</td>\n",
       "      <td>0.0</td>\n",
       "      <td>115.0</td>\n",
       "      <td>1.0</td>\n",
       "      <td>1.2</td>\n",
       "      <td>2.0</td>\n",
       "      <td>1.0</td>\n",
       "      <td>7.0</td>\n",
       "      <td>3</td>\n",
       "    </tr>\n",
       "    <tr>\n",
       "      <th>301</th>\n",
       "      <td>57.0</td>\n",
       "      <td>0.0</td>\n",
       "      <td>2.0</td>\n",
       "      <td>130.0</td>\n",
       "      <td>236.0</td>\n",
       "      <td>0.0</td>\n",
       "      <td>2.0</td>\n",
       "      <td>174.0</td>\n",
       "      <td>0.0</td>\n",
       "      <td>0.0</td>\n",
       "      <td>2.0</td>\n",
       "      <td>1.0</td>\n",
       "      <td>3.0</td>\n",
       "      <td>1</td>\n",
       "    </tr>\n",
       "    <tr>\n",
       "      <th>302</th>\n",
       "      <td>38.0</td>\n",
       "      <td>1.0</td>\n",
       "      <td>3.0</td>\n",
       "      <td>138.0</td>\n",
       "      <td>175.0</td>\n",
       "      <td>0.0</td>\n",
       "      <td>0.0</td>\n",
       "      <td>173.0</td>\n",
       "      <td>0.0</td>\n",
       "      <td>0.0</td>\n",
       "      <td>1.0</td>\n",
       "      <td>0.0</td>\n",
       "      <td>3.0</td>\n",
       "      <td>0</td>\n",
       "    </tr>\n",
       "  </tbody>\n",
       "</table>\n",
       "</div>"
      ],
      "text/plain": [
       "      age  sex   cp  trestbps   chol  fbs  restecg  thalach  exang  oldpeak  \\\n",
       "298  45.0  1.0  1.0     110.0  264.0  0.0      0.0    132.0    0.0      1.2   \n",
       "299  68.0  1.0  4.0     144.0  193.0  1.0      0.0    141.0    0.0      3.4   \n",
       "300  57.0  1.0  4.0     130.0  131.0  0.0      0.0    115.0    1.0      1.2   \n",
       "301  57.0  0.0  2.0     130.0  236.0  0.0      2.0    174.0    0.0      0.0   \n",
       "302  38.0  1.0  3.0     138.0  175.0  0.0      0.0    173.0    0.0      0.0   \n",
       "\n",
       "     slope   ca  thal  target  \n",
       "298    2.0  0.0   7.0       1  \n",
       "299    2.0  2.0   7.0       2  \n",
       "300    2.0  1.0   7.0       3  \n",
       "301    2.0  1.0   3.0       1  \n",
       "302    1.0  0.0   3.0       0  "
      ]
     },
     "execution_count": 5,
     "metadata": {},
     "output_type": "execute_result"
    }
   ],
   "source": [
    "df.tail()"
   ]
  },
  {
   "cell_type": "code",
   "execution_count": 6,
   "id": "aff4ee71",
   "metadata": {},
   "outputs": [
    {
     "name": "stdout",
     "output_type": "stream",
     "text": [
      "<class 'pandas.core.frame.DataFrame'>\n",
      "RangeIndex: 303 entries, 0 to 302\n",
      "Data columns (total 14 columns):\n",
      " #   Column    Non-Null Count  Dtype  \n",
      "---  ------    --------------  -----  \n",
      " 0   age       303 non-null    float64\n",
      " 1   sex       303 non-null    float64\n",
      " 2   cp        303 non-null    float64\n",
      " 3   trestbps  303 non-null    float64\n",
      " 4   chol      303 non-null    float64\n",
      " 5   fbs       303 non-null    float64\n",
      " 6   restecg   303 non-null    float64\n",
      " 7   thalach   303 non-null    float64\n",
      " 8   exang     303 non-null    float64\n",
      " 9   oldpeak   303 non-null    float64\n",
      " 10  slope     303 non-null    float64\n",
      " 11  ca        303 non-null    float64\n",
      " 12  thal      303 non-null    float64\n",
      " 13  target    303 non-null    int64  \n",
      "dtypes: float64(13), int64(1)\n",
      "memory usage: 33.3 KB\n"
     ]
    }
   ],
   "source": [
    "df.info()"
   ]
  },
  {
   "cell_type": "code",
   "execution_count": 7,
   "id": "ac824635",
   "metadata": {},
   "outputs": [],
   "source": [
    "df['target'].where(df['target'] <= 1, 1, inplace=True)"
   ]
  },
  {
   "cell_type": "code",
   "execution_count": 8,
   "id": "fdea3036",
   "metadata": {},
   "outputs": [],
   "source": [
    "X = df.drop(\"target\", axis=1).values\n",
    "y = df[\"target\"].values"
   ]
  },
  {
   "cell_type": "code",
   "execution_count": 9,
   "id": "1b79599c",
   "metadata": {},
   "outputs": [],
   "source": [
    "X_train, X_test, y_train, y_test = train_test_split(X, y, test_size=0.30)"
   ]
  },
  {
   "cell_type": "code",
   "execution_count": 10,
   "id": "ba2be726",
   "metadata": {},
   "outputs": [],
   "source": [
    "# from sklearn.preprocessing import MinMaxScaler\n",
    "# sc = MinMaxScaler((-1, 1))\n",
    "# X_train = sc.fit_transform(X_train)\n",
    "# X_test = sc.transform(X_test)"
   ]
  },
  {
   "cell_type": "markdown",
   "id": "7efe9533",
   "metadata": {},
   "source": [
    "### Sklearn Random Forest Classifier"
   ]
  },
  {
   "cell_type": "code",
   "execution_count": 11,
   "id": "c03e6f54",
   "metadata": {},
   "outputs": [
    {
     "data": {
      "text/plain": [
       "RandomForestClassifier()"
      ]
     },
     "execution_count": 11,
     "metadata": {},
     "output_type": "execute_result"
    }
   ],
   "source": [
    "rfc = RandomForestClassifier()\n",
    "rfc.fit(X_train, y_train)"
   ]
  },
  {
   "cell_type": "code",
   "execution_count": 12,
   "id": "e83e9cd5",
   "metadata": {},
   "outputs": [
    {
     "data": {
      "text/plain": [
       "0.6043956043956044"
      ]
     },
     "execution_count": 12,
     "metadata": {},
     "output_type": "execute_result"
    }
   ],
   "source": [
    "rfc.score(X_test, y_test)"
   ]
  },
  {
   "cell_type": "code",
   "execution_count": 13,
   "id": "c59fb8c0",
   "metadata": {},
   "outputs": [],
   "source": [
    "y_pred_test = rfc.predict(X_test)"
   ]
  },
  {
   "cell_type": "code",
   "execution_count": 14,
   "id": "800595dc",
   "metadata": {},
   "outputs": [
    {
     "data": {
      "text/plain": [
       "0.6043956043956044"
      ]
     },
     "execution_count": 14,
     "metadata": {},
     "output_type": "execute_result"
    }
   ],
   "source": [
    "accuracy_score(y_pred_test, y_test)"
   ]
  },
  {
   "cell_type": "code",
   "execution_count": 15,
   "id": "510629e9",
   "metadata": {},
   "outputs": [],
   "source": [
    "from skl2onnx import convert_sklearn\n",
    "from skl2onnx.common.data_types import FloatTensorType, Int64TensorType"
   ]
  },
  {
   "cell_type": "code",
   "execution_count": 16,
   "id": "d7c227a2",
   "metadata": {},
   "outputs": [],
   "source": [
    "initial_type = [('input', FloatTensorType([None, 21]))]\n",
    "final_type = [('label', Int64TensorType([None, 3])), ('output', FloatTensorType([None, 1]))]\n",
    "\n",
    "#sklonnx = convert_sklearn(rfc, initial_types=initial_type)\n",
    "sklonnx = convert_sklearn(rfc, initial_types=initial_type, final_types=final_type, options={'zipmap':False})\n",
    "with open(\"cleveland_heart_disease_skl.onnx\", \"wb\") as f:\n",
    "    f.write(sklonnx.SerializeToString())"
   ]
  },
  {
   "cell_type": "code",
   "execution_count": 17,
   "id": "8707cd19",
   "metadata": {},
   "outputs": [],
   "source": [
    "import onnxruntime as rt\n",
    "sess = rt.InferenceSession(\"cleveland_heart_disease_skl.onnx\")\n",
    "input_name = sess.get_inputs()[0].name\n",
    "label_name = sess.get_outputs()[0].name\n",
    "pred_onx = sess.run([label_name], {input_name: X_test.astype(np.float32)})[0]"
   ]
  },
  {
   "cell_type": "code",
   "execution_count": 18,
   "id": "75068506",
   "metadata": {},
   "outputs": [
    {
     "data": {
      "text/plain": [
       "0.9498432601880877"
      ]
     },
     "execution_count": 18,
     "metadata": {},
     "output_type": "execute_result"
    }
   ],
   "source": [
    "accuracy_score(pred_onx, y_test)"
   ]
  },
  {
   "cell_type": "markdown",
   "id": "fa7f670e",
   "metadata": {},
   "source": [
    "### Pytorch Neural Network Classifier"
   ]
  },
  {
   "cell_type": "code",
   "execution_count": 19,
   "id": "8f0c00c6",
   "metadata": {},
   "outputs": [],
   "source": [
    "X_train_t = torch.FloatTensor(X_train) \n",
    "X_test_t = torch.FloatTensor(X_test)\n",
    "y_train_t = torch.tensor(y_train).long()\n",
    "y_test_t = torch.tensor(y_test).long()"
   ]
  },
  {
   "cell_type": "code",
   "execution_count": 20,
   "id": "0d73ee55",
   "metadata": {},
   "outputs": [],
   "source": [
    "class PModel(nn.Module):\n",
    "    def __init__(self, input_features=21, hidden_layer_1=100, hidden_layer_2=100, output_features=4):\n",
    "        super().__init__()\n",
    "        self.fc1 = nn.Linear(input_features, hidden_layer_1)\n",
    "        self.fc2 = nn.Linear(hidden_layer_1, hidden_layer_2)\n",
    "        self.out = nn.Linear(hidden_layer_2, output_features)\n",
    "        \n",
    "    def forward(self, x):\n",
    "        x = F.relu(self.fc1(x))\n",
    "        x = F.relu(self.fc2(x))\n",
    "        x = self.out(x)\n",
    "        return x"
   ]
  },
  {
   "cell_type": "code",
   "execution_count": 21,
   "id": "8c07fec6",
   "metadata": {},
   "outputs": [
    {
     "data": {
      "text/plain": [
       "PModel(\n",
       "  (fc1): Linear(in_features=21, out_features=100, bias=True)\n",
       "  (fc2): Linear(in_features=100, out_features=100, bias=True)\n",
       "  (out): Linear(in_features=100, out_features=4, bias=True)\n",
       ")"
      ]
     },
     "execution_count": 21,
     "metadata": {},
     "output_type": "execute_result"
    }
   ],
   "source": [
    "model = PModel()\n",
    "model"
   ]
  },
  {
   "cell_type": "code",
   "execution_count": 22,
   "id": "af1d8286",
   "metadata": {},
   "outputs": [],
   "source": [
    "criterion = nn.CrossEntropyLoss()\n",
    "optimizer = torch.optim.Adam(model.parameters())"
   ]
  },
  {
   "cell_type": "code",
   "execution_count": 23,
   "id": "14bef8b1",
   "metadata": {},
   "outputs": [
    {
     "name": "stdout",
     "output_type": "stream",
     "text": [
      "epoch:  0 loss:     0.9877\n",
      "epoch:  1 loss:     3.0609\n",
      "epoch:  2 loss:     0.7220\n",
      "epoch:  3 loss:     0.9681\n",
      "epoch:  4 loss:     1.1465\n",
      "epoch:  5 loss:     1.2489\n",
      "epoch:  6 loss:     1.2932\n",
      "epoch:  7 loss:     1.2887\n",
      "epoch:  8 loss:     1.2412\n",
      "epoch:  9 loss:     1.1644\n",
      "epoch: 10 loss:     1.0558\n",
      "epoch: 11 loss:     0.9431\n",
      "epoch: 12 loss:     0.8137\n",
      "epoch: 13 loss:     0.6892\n",
      "epoch: 14 loss:     0.5736\n",
      "epoch: 15 loss:     0.4956\n",
      "epoch: 16 loss:     0.5076\n",
      "epoch: 17 loss:     0.6044\n",
      "epoch: 18 loss:     0.6401\n",
      "epoch: 19 loss:     0.5478\n",
      "epoch: 20 loss:     0.4543\n",
      "epoch: 21 loss:     0.4306\n",
      "epoch: 22 loss:     0.4429\n",
      "epoch: 23 loss:     0.4577\n",
      "epoch: 24 loss:     0.4630\n",
      "epoch: 25 loss:     0.4531\n",
      "epoch: 26 loss:     0.4295\n",
      "epoch: 27 loss:     0.4047\n",
      "epoch: 28 loss:     0.3898\n",
      "epoch: 29 loss:     0.3933\n",
      "epoch: 30 loss:     0.4133\n",
      "epoch: 31 loss:     0.4223\n",
      "epoch: 32 loss:     0.4151\n",
      "epoch: 33 loss:     0.3971\n",
      "epoch: 34 loss:     0.3815\n",
      "epoch: 35 loss:     0.3779\n",
      "epoch: 36 loss:     0.3792\n",
      "epoch: 37 loss:     0.3823\n",
      "epoch: 38 loss:     0.3804\n",
      "epoch: 39 loss:     0.3736\n",
      "epoch: 40 loss:     0.3660\n",
      "epoch: 41 loss:     0.3601\n",
      "epoch: 42 loss:     0.3610\n",
      "epoch: 43 loss:     0.3662\n",
      "epoch: 44 loss:     0.3695\n",
      "epoch: 45 loss:     0.3678\n",
      "epoch: 46 loss:     0.3615\n",
      "epoch: 47 loss:     0.3568\n",
      "epoch: 48 loss:     0.3553\n",
      "epoch: 49 loss:     0.3558\n",
      "epoch: 50 loss:     0.3566\n",
      "epoch: 51 loss:     0.3551\n",
      "epoch: 52 loss:     0.3523\n",
      "epoch: 53 loss:     0.3496\n",
      "epoch: 54 loss:     0.3484\n",
      "epoch: 55 loss:     0.3491\n",
      "epoch: 56 loss:     0.3499\n",
      "epoch: 57 loss:     0.3498\n",
      "epoch: 58 loss:     0.3479\n",
      "epoch: 59 loss:     0.3459\n",
      "epoch: 60 loss:     0.3444\n",
      "epoch: 61 loss:     0.3440\n",
      "epoch: 62 loss:     0.3437\n",
      "epoch: 63 loss:     0.3432\n",
      "epoch: 64 loss:     0.3421\n",
      "epoch: 65 loss:     0.3408\n",
      "epoch: 66 loss:     0.3401\n",
      "epoch: 67 loss:     0.3399\n",
      "epoch: 68 loss:     0.3398\n",
      "epoch: 69 loss:     0.3392\n",
      "epoch: 70 loss:     0.3382\n",
      "epoch: 71 loss:     0.3373\n",
      "epoch: 72 loss:     0.3367\n",
      "epoch: 73 loss:     0.3364\n",
      "epoch: 74 loss:     0.3360\n",
      "epoch: 75 loss:     0.3353\n",
      "epoch: 76 loss:     0.3347\n",
      "epoch: 77 loss:     0.3342\n",
      "epoch: 78 loss:     0.3339\n",
      "epoch: 79 loss:     0.3335\n",
      "epoch: 80 loss:     0.3331\n",
      "epoch: 81 loss:     0.3324\n",
      "epoch: 82 loss:     0.3318\n",
      "epoch: 83 loss:     0.3313\n",
      "epoch: 84 loss:     0.3310\n",
      "epoch: 85 loss:     0.3305\n",
      "epoch: 86 loss:     0.3300\n",
      "epoch: 87 loss:     0.3295\n",
      "epoch: 88 loss:     0.3290\n",
      "epoch: 89 loss:     0.3286\n",
      "epoch: 90 loss:     0.3282\n",
      "epoch: 91 loss:     0.3277\n",
      "epoch: 92 loss:     0.3272\n",
      "epoch: 93 loss:     0.3268\n",
      "epoch: 94 loss:     0.3263\n",
      "epoch: 95 loss:     0.3259\n",
      "epoch: 96 loss:     0.3255\n",
      "epoch: 97 loss:     0.3250\n",
      "epoch: 98 loss:     0.3246\n",
      "epoch: 99 loss:     0.3241\n",
      "epoch: 100 loss:     0.3237\n",
      "epoch: 101 loss:     0.3232\n",
      "epoch: 102 loss:     0.3228\n",
      "epoch: 103 loss:     0.3224\n",
      "epoch: 104 loss:     0.3219\n",
      "epoch: 105 loss:     0.3215\n",
      "epoch: 106 loss:     0.3210\n",
      "epoch: 107 loss:     0.3206\n",
      "epoch: 108 loss:     0.3202\n",
      "epoch: 109 loss:     0.3197\n",
      "epoch: 110 loss:     0.3193\n",
      "epoch: 111 loss:     0.3189\n",
      "epoch: 112 loss:     0.3185\n",
      "epoch: 113 loss:     0.3181\n",
      "epoch: 114 loss:     0.3176\n",
      "epoch: 115 loss:     0.3172\n",
      "epoch: 116 loss:     0.3168\n",
      "epoch: 117 loss:     0.3163\n",
      "epoch: 118 loss:     0.3158\n",
      "epoch: 119 loss:     0.3154\n",
      "epoch: 120 loss:     0.3149\n",
      "epoch: 121 loss:     0.3145\n",
      "epoch: 122 loss:     0.3140\n",
      "epoch: 123 loss:     0.3135\n",
      "epoch: 124 loss:     0.3130\n",
      "epoch: 125 loss:     0.3126\n",
      "epoch: 126 loss:     0.3121\n",
      "epoch: 127 loss:     0.3117\n",
      "epoch: 128 loss:     0.3112\n",
      "epoch: 129 loss:     0.3107\n",
      "epoch: 130 loss:     0.3102\n",
      "epoch: 131 loss:     0.3097\n",
      "epoch: 132 loss:     0.3093\n",
      "epoch: 133 loss:     0.3088\n",
      "epoch: 134 loss:     0.3083\n",
      "epoch: 135 loss:     0.3079\n",
      "epoch: 136 loss:     0.3074\n",
      "epoch: 137 loss:     0.3069\n",
      "epoch: 138 loss:     0.3064\n",
      "epoch: 139 loss:     0.3059\n",
      "epoch: 140 loss:     0.3054\n",
      "epoch: 141 loss:     0.3049\n",
      "epoch: 142 loss:     0.3044\n",
      "epoch: 143 loss:     0.3039\n",
      "epoch: 144 loss:     0.3034\n",
      "epoch: 145 loss:     0.3029\n",
      "epoch: 146 loss:     0.3024\n",
      "epoch: 147 loss:     0.3019\n",
      "epoch: 148 loss:     0.3014\n",
      "epoch: 149 loss:     0.3009\n",
      "epoch: 150 loss:     0.3004\n",
      "epoch: 151 loss:     0.3000\n",
      "epoch: 152 loss:     0.2995\n",
      "epoch: 153 loss:     0.2990\n",
      "epoch: 154 loss:     0.2985\n",
      "epoch: 155 loss:     0.2981\n",
      "epoch: 156 loss:     0.2976\n",
      "epoch: 157 loss:     0.2971\n",
      "epoch: 158 loss:     0.2966\n",
      "epoch: 159 loss:     0.2961\n",
      "epoch: 160 loss:     0.2957\n",
      "epoch: 161 loss:     0.2952\n",
      "epoch: 162 loss:     0.2947\n",
      "epoch: 163 loss:     0.2942\n",
      "epoch: 164 loss:     0.2937\n",
      "epoch: 165 loss:     0.2932\n",
      "epoch: 166 loss:     0.2927\n",
      "epoch: 167 loss:     0.2922\n",
      "epoch: 168 loss:     0.2917\n",
      "epoch: 169 loss:     0.2912\n",
      "epoch: 170 loss:     0.2907\n",
      "epoch: 171 loss:     0.2902\n",
      "epoch: 172 loss:     0.2897\n",
      "epoch: 173 loss:     0.2892\n",
      "epoch: 174 loss:     0.2888\n",
      "epoch: 175 loss:     0.2882\n",
      "epoch: 176 loss:     0.2878\n",
      "epoch: 177 loss:     0.2873\n",
      "epoch: 178 loss:     0.2869\n",
      "epoch: 179 loss:     0.2865\n",
      "epoch: 180 loss:     0.2863\n",
      "epoch: 181 loss:     0.2865\n",
      "epoch: 182 loss:     0.2876\n",
      "epoch: 183 loss:     0.2910\n",
      "epoch: 184 loss:     0.2955\n",
      "epoch: 185 loss:     0.3044\n",
      "epoch: 186 loss:     0.2964\n",
      "epoch: 187 loss:     0.2874\n",
      "epoch: 188 loss:     0.2826\n",
      "epoch: 189 loss:     0.2878\n",
      "epoch: 190 loss:     0.2945\n",
      "epoch: 191 loss:     0.2873\n",
      "epoch: 192 loss:     0.2811\n",
      "epoch: 193 loss:     0.2819\n",
      "epoch: 194 loss:     0.2858\n",
      "epoch: 195 loss:     0.2868\n",
      "epoch: 196 loss:     0.2810\n",
      "epoch: 197 loss:     0.2788\n",
      "epoch: 198 loss:     0.2815\n",
      "epoch: 199 loss:     0.2822\n",
      "epoch: 200 loss:     0.2799\n"
     ]
    }
   ],
   "source": [
    "epochs = 201\n",
    "losses = []\n",
    "\n",
    "for i in range(epochs):\n",
    "    y_pred = model(X_train_t)\n",
    "    loss = criterion(y_pred, y_train_t)\n",
    "    losses.append(loss)\n",
    "    print(f'epoch: {i:2} loss: {loss.item():10.4f}')\n",
    "    \n",
    "    optimizer.zero_grad()\n",
    "    loss.backward()\n",
    "    optimizer.step()"
   ]
  },
  {
   "cell_type": "code",
   "execution_count": 24,
   "id": "ec1dd26e",
   "metadata": {},
   "outputs": [],
   "source": [
    "pred_nn_test = model(X_test_t)\n",
    "_, preds_nn_y = torch.max(pred_nn_test, 1)"
   ]
  },
  {
   "cell_type": "code",
   "execution_count": 25,
   "id": "18c81d87",
   "metadata": {},
   "outputs": [
    {
     "data": {
      "text/plain": [
       "tensor([1, 1, 1, 1, 3, 1, 1, 1, 1, 1, 1, 1, 1, 1, 2, 1, 3, 1, 1, 1, 1, 1, 1, 2,\n",
       "        1, 3, 1, 1, 3, 1, 3, 1, 1, 1, 1, 2, 1, 1, 1, 1, 1, 1, 1, 1, 1, 1, 1, 1,\n",
       "        1, 1, 1, 3, 3, 1, 2, 1, 1, 1, 1, 1, 1, 1, 1, 1, 1, 1, 1, 1, 1, 3, 1, 1,\n",
       "        1, 1, 1, 1, 2, 1, 1, 1, 1, 1, 3, 1, 1, 1, 1, 2, 1, 1, 1, 1, 1, 1, 3, 1,\n",
       "        1, 1, 1, 1, 1, 1, 1, 1, 1, 1, 1, 2, 1, 1, 1, 1, 1, 1, 1, 2, 3, 2, 1, 3,\n",
       "        2, 1, 2, 1, 1, 1, 3, 1, 1, 1, 1, 1, 3, 1, 1, 1, 1, 3, 2, 1, 1, 1, 1, 1,\n",
       "        1, 1, 1, 1, 2, 2, 1, 1, 2, 1, 1, 1, 1, 3, 1, 1, 3, 1, 1, 1, 2, 2, 1, 1,\n",
       "        1, 3, 1, 1, 1, 1, 1, 1, 3, 1, 1, 1, 1, 1, 1, 1, 1, 1, 3, 1, 1, 1, 1, 2,\n",
       "        2, 1, 1, 3, 1, 3, 2, 1, 1, 1, 1, 1, 2, 1, 1, 1, 3, 1, 3, 1, 2, 1, 1, 1,\n",
       "        1, 1, 1, 1, 2, 1, 1, 1, 1, 1, 1, 1, 1, 2, 3, 1, 1, 1, 1, 1, 2, 1, 1, 1,\n",
       "        3, 1, 2, 2, 2, 1, 1, 2, 1, 2, 1, 2, 2, 1, 1, 1, 1, 1, 1, 1, 1, 1, 1, 3,\n",
       "        1, 2, 1, 1, 1, 1, 1, 3, 2, 1, 1, 1, 1, 1, 1, 1, 1, 1, 3, 2, 1, 3, 1, 1,\n",
       "        1, 2, 1, 3, 1, 1, 1, 1, 3, 1, 1, 1, 2, 1, 1, 1, 1, 1, 1, 1, 1, 1, 1, 1,\n",
       "        1, 1, 1, 1, 1, 1, 1, 2, 1, 3, 1, 1, 1, 2, 1, 1, 1, 2, 2, 3, 1, 1, 1, 1,\n",
       "        3, 1, 1, 1, 1, 1, 1, 1, 1, 1, 1, 2, 1, 1, 1, 1, 1, 1, 1, 1, 1, 1, 1, 1,\n",
       "        2, 1, 1, 1, 1, 2, 1, 2, 1, 1, 1, 1, 1, 1, 1, 1, 1, 1, 3, 1, 1, 1, 1, 1,\n",
       "        1, 1, 1, 1, 1, 1, 1, 1, 1, 3, 3, 1, 1, 1, 1, 2, 1, 1, 1, 1, 1, 1, 1, 1,\n",
       "        1, 1, 1, 2, 1, 1, 1, 3, 1, 1, 1, 1, 3, 1, 2, 1, 1, 1, 1, 1, 3, 1, 1, 1,\n",
       "        2, 1, 1, 2, 1, 1, 1, 1, 1, 1, 1, 1, 1, 1, 1, 2, 1, 2, 1, 3, 3, 1, 1, 1,\n",
       "        1, 1, 1, 1, 1, 1, 3, 1, 1, 3, 3, 1, 1, 2, 1, 1, 1, 1, 1, 1, 1, 1, 1, 1,\n",
       "        1, 1, 3, 1, 1, 2, 1, 1, 1, 2, 1, 1, 1, 1, 1, 1, 1, 1, 1, 1, 1, 2, 1, 1,\n",
       "        1, 1, 1, 1, 2, 1, 1, 1, 2, 1, 1, 3, 1, 1, 1, 1, 3, 1, 3, 1, 1, 1, 1, 1,\n",
       "        1, 1, 1, 1, 2, 1, 1, 1, 1, 1, 1, 1, 1, 2, 1, 1, 1, 1, 3, 1, 1, 1, 1, 1,\n",
       "        2, 1, 1, 1, 1, 1, 3, 1, 1, 1, 1, 1, 1, 1, 1, 1, 1, 1, 1, 1, 1, 1, 1, 1,\n",
       "        1, 2, 1, 1, 1, 1, 3, 1, 1, 1, 1, 3, 1, 1, 1, 3, 1, 1, 1, 1, 1, 1, 1, 1,\n",
       "        1, 2, 2, 1, 1, 1, 1, 1, 1, 3, 1, 1, 1, 1, 1, 1, 1, 1, 1, 1, 1, 1, 1, 1,\n",
       "        2, 3, 1, 3, 1, 1, 1, 1, 1, 1, 1, 1, 1, 1])"
      ]
     },
     "execution_count": 25,
     "metadata": {},
     "output_type": "execute_result"
    }
   ],
   "source": [
    "preds_nn_y"
   ]
  },
  {
   "cell_type": "code",
   "execution_count": 26,
   "id": "bd9dcb17",
   "metadata": {},
   "outputs": [
    {
     "data": {
      "text/plain": [
       "0.8714733542319749"
      ]
     },
     "execution_count": 26,
     "metadata": {},
     "output_type": "execute_result"
    }
   ],
   "source": [
    "accuracy_score(y_test_t, preds_nn_y)"
   ]
  },
  {
   "cell_type": "code",
   "execution_count": 27,
   "id": "6411b82f",
   "metadata": {},
   "outputs": [
    {
     "data": {
      "text/plain": [
       "PModel(\n",
       "  (fc1): Linear(in_features=21, out_features=100, bias=True)\n",
       "  (fc2): Linear(in_features=100, out_features=100, bias=True)\n",
       "  (out): Linear(in_features=100, out_features=4, bias=True)\n",
       ")"
      ]
     },
     "execution_count": 27,
     "metadata": {},
     "output_type": "execute_result"
    }
   ],
   "source": [
    "model.eval()"
   ]
  },
  {
   "cell_type": "code",
   "execution_count": 28,
   "id": "2fc7b4a8",
   "metadata": {},
   "outputs": [],
   "source": [
    "dummy_input = torch.rand(1, 21, requires_grad=False)"
   ]
  },
  {
   "cell_type": "code",
   "execution_count": 29,
   "id": "fcfdc8dd",
   "metadata": {},
   "outputs": [],
   "source": [
    "torch.onnx.export(\n",
    "    model, \n",
    "    dummy_input,\n",
    "    \"fetal_health_pyt.onnx\",\n",
    "    export_params=True,\n",
    "    input_names=[\"input\"],\n",
    "    output_names=[\"output\"],\n",
    "    opset_version=9,\n",
    "    dynamic_axes={'input' : {0 : 'batch_size'}, \n",
    "                  'output' : {0 : 'batch_size'}})"
   ]
  },
  {
   "cell_type": "code",
   "execution_count": 30,
   "id": "b6fff8dd",
   "metadata": {},
   "outputs": [],
   "source": [
    "import onnx\n",
    "\n",
    "onnx_model = onnx.load(\"cleveland_heart_disease_pyt.onnx\")\n",
    "onnx.checker.check_model(onnx_model)"
   ]
  },
  {
   "cell_type": "code",
   "execution_count": 31,
   "id": "0ba03f03",
   "metadata": {},
   "outputs": [],
   "source": [
    "sess_nn = rt.InferenceSession(\"cleveland_heart_disease_pyt.onnx\")\n",
    "def to_numpy(tensor):\n",
    "    return tensor.detach().cpu().numpy()\n",
    "\n",
    "input_name_nn = sess_nn.get_inputs()[0].name\n",
    "label_name_nn = sess_nn.get_outputs()[0].name\n",
    "pred_onx_nn = sess_nn.run([label_name_nn], {input_name_nn: to_numpy(X_test_t)})"
   ]
  },
  {
   "cell_type": "code",
   "execution_count": 32,
   "id": "2a4b0d94",
   "metadata": {},
   "outputs": [],
   "source": [
    "preds_nn = np.argmax(pred_onx_nn, axis=-1).squeeze()"
   ]
  },
  {
   "cell_type": "code",
   "execution_count": 33,
   "id": "9179742f",
   "metadata": {},
   "outputs": [
    {
     "data": {
      "text/plain": [
       "0.8714733542319749"
      ]
     },
     "execution_count": 33,
     "metadata": {},
     "output_type": "execute_result"
    }
   ],
   "source": [
    "accuracy_score(y_test_t, preds_nn)"
   ]
  },
  {
   "cell_type": "markdown",
   "id": "b8d17f5d",
   "metadata": {},
   "source": [
    "### Tensorflow Neural Network Classifier"
   ]
  },
  {
   "cell_type": "code",
   "execution_count": null,
   "id": "b3752b16",
   "metadata": {},
   "outputs": [],
   "source": [
    "train_ds = tf.data.Dataset.from_tensor_slices((X_train, y_train)).shuffle(len(X_train)).batch(32)\n",
    "\n",
    "test_ds = tf.data.Dataset.from_tensor_slices((X_test, y_test)).batch(32)"
   ]
  },
  {
   "cell_type": "code",
   "execution_count": null,
   "id": "0444f840",
   "metadata": {},
   "outputs": [],
   "source": [
    "class TModel(Model):\n",
    "    def __init__(self):\n",
    "        super(TModel, self).__init__()\n",
    "        self.d1 = Dense(units=21, activation='relu')\n",
    "        self.d2 = Dense(100, activation='relu')\n",
    "        self.d3 = Dense(100, activation='relu')\n",
    "        self.d4 = Dense(4)\n",
    "        \n",
    "    def call(self, x):\n",
    "        x = self.d1(x)\n",
    "        x = self.d2(x)\n",
    "        x = self.d3(x)\n",
    "        return self.d4(x)\n",
    "    \n",
    "tmodel = TModel()"
   ]
  },
  {
   "cell_type": "code",
   "execution_count": null,
   "id": "eca80386",
   "metadata": {},
   "outputs": [],
   "source": [
    "t_loss_object = tf.keras.losses.SparseCategoricalCrossentropy(from_logits=True)\n",
    "t_optimizer = tf.keras.optimizers.Adam()"
   ]
  },
  {
   "cell_type": "code",
   "execution_count": null,
   "id": "60ce7adf",
   "metadata": {},
   "outputs": [],
   "source": [
    "train_loss = tf.keras.metrics.Mean(name='train_loss')\n",
    "train_accuracy = tf.keras.metrics.SparseCategoricalAccuracy(name='train_accuracy')\n",
    "\n",
    "test_loss = tf.keras.metrics.Mean(name='test_loss')\n",
    "test_accuracy = tf.keras.metrics.SparseCategoricalAccuracy(name='test_accuracy')"
   ]
  },
  {
   "cell_type": "code",
   "execution_count": null,
   "id": "fc94d5c1",
   "metadata": {},
   "outputs": [],
   "source": [
    "@tf.function\n",
    "def train_step(data, labels):\n",
    "    with tf.GradientTape() as tape:\n",
    "        t_predictions = tmodel(data, training=True)\n",
    "        t_loss = t_loss_object(labels, t_predictions)\n",
    "    t_gradients = tape.gradient(t_loss, tmodel.trainable_variables)\n",
    "    t_optimizer.apply_gradients(zip(t_gradients, tmodel.trainable_variables))\n",
    "    \n",
    "    train_loss(t_loss)\n",
    "    train_accuracy(labels, t_predictions)\n",
    "        "
   ]
  },
  {
   "cell_type": "code",
   "execution_count": null,
   "id": "9f4978b6",
   "metadata": {},
   "outputs": [],
   "source": [
    "@tf.function\n",
    "def test_step(data, labels):\n",
    "    t_predictions = tmodel(data, training=False)\n",
    "    tt_loss = t_loss_object(labels, t_predictions)\n",
    "\n",
    "    test_loss(tt_loss)\n",
    "    test_accuracy(labels, t_predictions)"
   ]
  },
  {
   "cell_type": "code",
   "execution_count": null,
   "id": "272684bd",
   "metadata": {},
   "outputs": [],
   "source": [
    "EPOCHS = 201\n",
    "\n",
    "for epoch in range(EPOCHS):\n",
    "    # Reset the metrics at the start of the next epoch\n",
    "    train_loss.reset_states()\n",
    "    train_accuracy.reset_states()\n",
    "    test_loss.reset_states()\n",
    "    test_accuracy.reset_states()\n",
    "\n",
    "    for data, labels in train_ds:\n",
    "        train_step(data, labels)\n",
    "\n",
    "    for test_data, test_labels in test_ds:\n",
    "        test_step(test_data, test_labels)\n",
    "\n",
    "    print(\n",
    "    f'Epoch {epoch + 1}, '\n",
    "    f'Loss: {train_loss.result()}, '\n",
    "    f'Accuracy: {train_accuracy.result() * 100}, '\n",
    "    f'Test Loss: {test_loss.result()}, '\n",
    "    f'Test Accuracy: {test_accuracy.result() * 100}'\n",
    "    )"
   ]
  },
  {
   "cell_type": "code",
   "execution_count": null,
   "id": "10d3c762",
   "metadata": {},
   "outputs": [],
   "source": [
    "#pip install -U tf2onnx"
   ]
  },
  {
   "cell_type": "code",
   "execution_count": null,
   "id": "54a1217a",
   "metadata": {},
   "outputs": [],
   "source": [
    "tmodel.summary()"
   ]
  },
  {
   "cell_type": "code",
   "execution_count": null,
   "id": "dc5075be",
   "metadata": {},
   "outputs": [],
   "source": [
    "import tf2onnx"
   ]
  },
  {
   "cell_type": "code",
   "execution_count": null,
   "id": "0dbea554",
   "metadata": {},
   "outputs": [],
   "source": [
    "input_spec = (tf.TensorSpec((None,13), tf.float64, name=\"input\"),)\n",
    "output_path = \"cleveland_heart_disease_tf.onnx\"\n",
    "\n",
    "model_proto, _ = tf2onnx.convert.from_keras(tmodel, input_signature=input_spec, opset=9, output_path=output_path)\n",
    "output_names = [n.name for n in model_proto.graph.output]"
   ]
  },
  {
   "cell_type": "code",
   "execution_count": null,
   "id": "937113d0",
   "metadata": {},
   "outputs": [],
   "source": [
    "sess_tf = rt.InferenceSession(\"cleveland_heart_disease_tf.onnx\")\n",
    "onnx_pred_tf = sess_tf.run(output_names, {\"input\": X_test})"
   ]
  },
  {
   "cell_type": "code",
   "execution_count": null,
   "id": "681c6e0d",
   "metadata": {},
   "outputs": [],
   "source": [
    "preds_tf = np.argmax(onnx_pred_tf, axis=-1).squeeze()"
   ]
  },
  {
   "cell_type": "code",
   "execution_count": null,
   "id": "707be641",
   "metadata": {},
   "outputs": [],
   "source": [
    "accuracy_score(y_test, preds_tf)"
   ]
  },
  {
   "cell_type": "code",
   "execution_count": null,
   "id": "bc7a93f0",
   "metadata": {},
   "outputs": [],
   "source": []
  }
 ],
 "metadata": {
  "kernelspec": {
   "display_name": "Python 3",
   "language": "python",
   "name": "python3"
  },
  "language_info": {
   "codemirror_mode": {
    "name": "ipython",
    "version": 3
   },
   "file_extension": ".py",
   "mimetype": "text/x-python",
   "name": "python",
   "nbconvert_exporter": "python",
   "pygments_lexer": "ipython3",
   "version": "3.8.8"
  }
 },
 "nbformat": 4,
 "nbformat_minor": 5
}
