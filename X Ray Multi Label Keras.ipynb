{
 "cells": [
  {
   "cell_type": "code",
   "execution_count": 1,
   "id": "49431bdc",
   "metadata": {},
   "outputs": [],
   "source": [
    "import matplotlib.pyplot as plt\n",
    "import numpy as np\n",
    "import pandas as pd\n",
    "import os\n",
    "import PIL\n",
    "import pathlib as pl\n",
    "import tensorflow as tf\n",
    "import warnings\n",
    "warnings.filterwarnings('ignore')"
   ]
  },
  {
   "cell_type": "code",
   "execution_count": null,
   "id": "d236a490",
   "metadata": {},
   "outputs": [],
   "source": [
    "data_path = 'C:/Users/light/Documents/Fastbook/Personal-Machine-Learning-Data/'"
   ]
  },
  {
   "cell_type": "code",
   "execution_count": 2,
   "id": "7b8ba0fd",
   "metadata": {},
   "outputs": [],
   "source": [
    "data_dir = pl.Path(data_path + 'X Ray Images/images/')"
   ]
  },
  {
   "cell_type": "code",
   "execution_count": 3,
   "id": "ab964b4d",
   "metadata": {},
   "outputs": [],
   "source": [
    "BATCH_SIZE = 64\n",
    "IMAGE_SIZE = (224, 224)\n",
    "IMG_SHAPE = IMAGE_SIZE + (3,)"
   ]
  },
  {
   "cell_type": "code",
   "execution_count": 4,
   "id": "9ebc78d2",
   "metadata": {},
   "outputs": [],
   "source": [
    "train_df = pd.read_csv('X Ray Images/labels.csv')"
   ]
  },
  {
   "cell_type": "code",
   "execution_count": 5,
   "id": "69b56ced",
   "metadata": {},
   "outputs": [],
   "source": [
    "train_df['Finding Labels'] = train_df['Finding Labels'].apply(lambda x:x.split('|'))"
   ]
  },
  {
   "cell_type": "code",
   "execution_count": 6,
   "id": "f453701c",
   "metadata": {},
   "outputs": [],
   "source": [
    "class_names = ['Atelectasis', 'Cardiomegaly', 'Consolidation', 'Edema', 'Effusion'\n",
    "                 , 'Emphysema', 'Fibrosis', 'Hernia', 'Infiltration', 'Mass'\n",
    "                 , 'No Finding', 'Nodule', 'Pleural_Thickening', 'Pneumonia', 'Pneumothorax']"
   ]
  },
  {
   "cell_type": "code",
   "execution_count": 7,
   "id": "4de1aafb",
   "metadata": {},
   "outputs": [],
   "source": [
    "datagen = tf.keras.preprocessing.image.ImageDataGenerator()"
   ]
  },
  {
   "cell_type": "code",
   "execution_count": 8,
   "id": "622c82f2",
   "metadata": {},
   "outputs": [
    {
     "name": "stdout",
     "output_type": "stream",
     "text": [
      "Found 4000 validated image filenames belonging to 15 classes.\n"
     ]
    }
   ],
   "source": [
    "train_ds = datagen.flow_from_dataframe(\n",
    "     dataframe = train_df[:4000]\n",
    "    ,directory = data_dir\n",
    "    ,x_col = 'Image Index'\n",
    "    ,y_col = 'Finding Labels'\n",
    "    #,subset = 'training'\n",
    "    ,class_mode = 'categorical'\n",
    "    ,classes = class_names\n",
    "    ,batch_size = BATCH_SIZE\n",
    "    ,target_size = IMAGE_SIZE\n",
    ")"
   ]
  },
  {
   "cell_type": "code",
   "execution_count": 9,
   "id": "c1682a8d",
   "metadata": {},
   "outputs": [
    {
     "name": "stdout",
     "output_type": "stream",
     "text": [
      "Found 1200 validated image filenames belonging to 15 classes.\n"
     ]
    }
   ],
   "source": [
    "val_ds = datagen.flow_from_dataframe(\n",
    "     dataframe = train_df[4000:5200]\n",
    "    ,directory = data_dir\n",
    "    ,x_col = 'Image Index'\n",
    "    ,y_col = 'Finding Labels'\n",
    "    #,subset = 'validation'\n",
    "    ,class_mode = 'categorical'\n",
    "    ,classes = class_names\n",
    "    ,batch_size = BATCH_SIZE\n",
    "    ,target_size = IMAGE_SIZE\n",
    ")"
   ]
  },
  {
   "cell_type": "code",
   "execution_count": 10,
   "id": "c153fc24",
   "metadata": {},
   "outputs": [],
   "source": [
    "test_datagen = tf.keras.preprocessing.image.ImageDataGenerator()"
   ]
  },
  {
   "cell_type": "code",
   "execution_count": 11,
   "id": "d5bf6b1f",
   "metadata": {},
   "outputs": [
    {
     "name": "stdout",
     "output_type": "stream",
     "text": [
      "Found 406 validated image filenames.\n"
     ]
    }
   ],
   "source": [
    "test_ds = test_datagen.flow_from_dataframe(\n",
    "    dataframe = train_df[5200:]\n",
    "    ,directory = data_dir\n",
    "    ,x_col = 'Image Index'\n",
    "    ,class_mode = None\n",
    "    ,batch_size = BATCH_SIZE\n",
    "    ,target_size = IMAGE_SIZE\n",
    ")"
   ]
  },
  {
   "cell_type": "code",
   "execution_count": 12,
   "id": "559ba55f",
   "metadata": {},
   "outputs": [],
   "source": [
    "num_classes = len(class_names)"
   ]
  },
  {
   "cell_type": "code",
   "execution_count": 13,
   "id": "810d206d",
   "metadata": {},
   "outputs": [],
   "source": [
    "base_model = tf.keras.applications.mobilenet_v2.MobileNetV2(input_shape=IMG_SHAPE,\n",
    "                                               include_top=False,\n",
    "                                               weights='imagenet')"
   ]
  },
  {
   "cell_type": "code",
   "execution_count": 14,
   "id": "8ff8ea98",
   "metadata": {},
   "outputs": [
    {
     "name": "stdout",
     "output_type": "stream",
     "text": [
      "(64, 7, 7, 1280)\n"
     ]
    }
   ],
   "source": [
    "image_batch, label_batch = next(iter(train_ds))\n",
    "feature_batch = base_model(image_batch)\n",
    "print(feature_batch.shape)"
   ]
  },
  {
   "cell_type": "code",
   "execution_count": 15,
   "id": "97a14e66",
   "metadata": {},
   "outputs": [],
   "source": [
    "base_model.trainable = False"
   ]
  },
  {
   "cell_type": "code",
   "execution_count": 16,
   "id": "6cf96c01",
   "metadata": {},
   "outputs": [
    {
     "name": "stdout",
     "output_type": "stream",
     "text": [
      "(64, 1280)\n"
     ]
    }
   ],
   "source": [
    "global_average_layer = tf.keras.layers.GlobalAveragePooling2D()\n",
    "feature_batch_average = global_average_layer(feature_batch)\n",
    "print(feature_batch_average.shape)"
   ]
  },
  {
   "cell_type": "code",
   "execution_count": 17,
   "id": "34571b94",
   "metadata": {},
   "outputs": [
    {
     "name": "stdout",
     "output_type": "stream",
     "text": [
      "(64, 15)\n"
     ]
    }
   ],
   "source": [
    "prediction_layer = tf.keras.layers.Dense(num_classes, activation='sigmoid')\n",
    "prediction_batch = prediction_layer(feature_batch_average)\n",
    "print(prediction_batch.shape)"
   ]
  },
  {
   "cell_type": "code",
   "execution_count": 18,
   "id": "20d5596f",
   "metadata": {},
   "outputs": [],
   "source": [
    "inputs = tf.keras.Input(shape=IMG_SHAPE)\n",
    "x = base_model(inputs, training=False)\n",
    "x = global_average_layer(x)\n",
    "x = tf.keras.layers.Dropout(0.2)(x)\n",
    "outputs = prediction_layer(x)\n",
    "model = tf.keras.Model(inputs, outputs)"
   ]
  },
  {
   "cell_type": "code",
   "execution_count": 19,
   "id": "422861af",
   "metadata": {},
   "outputs": [],
   "source": [
    "base_learning_rate = 1e-04\n",
    "model.compile(optimizer=tf.keras.optimizers.Adam(learning_rate=base_learning_rate),\n",
    "              loss=tf.keras.losses.BinaryCrossentropy(),\n",
    "              metrics=['accuracy'])"
   ]
  },
  {
   "cell_type": "code",
   "execution_count": 20,
   "id": "1a1f13e3",
   "metadata": {},
   "outputs": [],
   "source": [
    "initial_epochs = 8\n",
    "\n",
    "# loss0, accuracy0 = model.evaluate(val_ds)\n",
    "# print(\"initial loss: {:.2f}\".format(loss0))\n",
    "# print(\"initial accuracy: {:.2f}\".format(accuracy0))"
   ]
  },
  {
   "cell_type": "code",
   "execution_count": 21,
   "id": "4a43a6a2",
   "metadata": {},
   "outputs": [
    {
     "name": "stdout",
     "output_type": "stream",
     "text": [
      "Epoch 1/8\n",
      "63/63 [==============================] - 69s 1s/step - loss: 0.5006 - accuracy: 0.0948 - val_loss: 0.2943 - val_accuracy: 0.4158\n",
      "Epoch 2/8\n",
      "63/63 [==============================] - 63s 998ms/step - loss: 0.2594 - accuracy: 0.4922 - val_loss: 0.2456 - val_accuracy: 0.5108\n",
      "Epoch 3/8\n",
      "63/63 [==============================] - 60s 950ms/step - loss: 0.2333 - accuracy: 0.5422 - val_loss: 0.2370 - val_accuracy: 0.5117\n",
      "Epoch 4/8\n",
      "63/63 [==============================] - 60s 951ms/step - loss: 0.2268 - accuracy: 0.5465 - val_loss: 0.2345 - val_accuracy: 0.5117\n",
      "Epoch 5/8\n",
      "63/63 [==============================] - 54s 864ms/step - loss: 0.2248 - accuracy: 0.5447 - val_loss: 0.2323 - val_accuracy: 0.5125\n",
      "Epoch 6/8\n",
      "63/63 [==============================] - 54s 858ms/step - loss: 0.2210 - accuracy: 0.5480 - val_loss: 0.2311 - val_accuracy: 0.5125\n",
      "Epoch 7/8\n",
      "63/63 [==============================] - 54s 864ms/step - loss: 0.2209 - accuracy: 0.5480 - val_loss: 0.2306 - val_accuracy: 0.5125\n",
      "Epoch 8/8\n",
      "63/63 [==============================] - 53s 843ms/step - loss: 0.2189 - accuracy: 0.5468 - val_loss: 0.2298 - val_accuracy: 0.5133\n"
     ]
    }
   ],
   "source": [
    "history = model.fit_generator(\n",
    "                    generator=train_ds\n",
    "                    ,epochs=initial_epochs\n",
    "                    ,validation_data=val_ds)"
   ]
  },
  {
   "cell_type": "code",
   "execution_count": 22,
   "id": "167efaa6",
   "metadata": {},
   "outputs": [
    {
     "data": {
      "image/png": "[encoded data removed]",
      "text/plain": [
       "<Figure size 576x576 with 2 Axes>"
      ]
     },
     "metadata": {
      "needs_background": "light"
     },
     "output_type": "display_data"
    }
   ],
   "source": [
    "acc = history.history['accuracy']\n",
    "val_acc = history.history['val_accuracy']\n",
    "\n",
    "loss = history.history['loss']\n",
    "val_loss = history.history['val_loss']\n",
    "\n",
    "plt.figure(figsize=(8, 8))\n",
    "plt.subplot(2, 1, 1)\n",
    "plt.plot(acc, label='Training Accuracy')\n",
    "plt.plot(val_acc, label='Validation Accuracy')\n",
    "plt.legend(loc='lower right')\n",
    "plt.ylabel('Accuracy')\n",
    "plt.ylim([min(plt.ylim()),1])\n",
    "plt.title('Training and Validation Accuracy')\n",
    "\n",
    "plt.subplot(2, 1, 2)\n",
    "plt.plot(loss, label='Training Loss')\n",
    "plt.plot(val_loss, label='Validation Loss')\n",
    "plt.legend(loc='upper right')\n",
    "plt.ylabel('Cross Entropy')\n",
    "plt.ylim([0,10.0])\n",
    "plt.title('Training and Validation Loss')\n",
    "plt.xlabel('epoch')\n",
    "plt.show()"
   ]
  },
  {
   "cell_type": "code",
   "execution_count": 23,
   "id": "2abb9288",
   "metadata": {},
   "outputs": [],
   "source": [
    "base_model.trainable = True"
   ]
  },
  {
   "cell_type": "code",
   "execution_count": 24,
   "id": "6c82e25f",
   "metadata": {},
   "outputs": [
    {
     "name": "stdout",
     "output_type": "stream",
     "text": [
      "Number of layers in the base model:  154\n"
     ]
    }
   ],
   "source": [
    "print(\"Number of layers in the base model: \", len(base_model.layers))"
   ]
  },
  {
   "cell_type": "code",
   "execution_count": 25,
   "id": "8c0a4636",
   "metadata": {},
   "outputs": [],
   "source": [
    "# Fine-tune from this layer onwards\n",
    "fine_tune_at = 100\n",
    "\n",
    "# Freeze all the layers before the `fine_tune_at` layer\n",
    "for layer in base_model.layers[:fine_tune_at]:\n",
    "    layer.trainable =  False"
   ]
  },
  {
   "cell_type": "code",
   "execution_count": 26,
   "id": "827baff6",
   "metadata": {},
   "outputs": [],
   "source": [
    "model.compile(loss=tf.keras.losses.BinaryCrossentropy(),\n",
    "              optimizer = tf.keras.optimizers.RMSprop(learning_rate=base_learning_rate/10),\n",
    "              metrics=['accuracy'])"
   ]
  },
  {
   "cell_type": "code",
   "execution_count": 27,
   "id": "b16161cf",
   "metadata": {},
   "outputs": [
    {
     "data": {
      "text/plain": [
       "56"
      ]
     },
     "execution_count": 27,
     "metadata": {},
     "output_type": "execute_result"
    }
   ],
   "source": [
    "len(model.trainable_variables)"
   ]
  },
  {
   "cell_type": "code",
   "execution_count": 28,
   "id": "af9fa132",
   "metadata": {},
   "outputs": [
    {
     "name": "stdout",
     "output_type": "stream",
     "text": [
      "Epoch 8/12\n",
      "63/63 [==============================] - 57s 851ms/step - loss: 0.2157 - accuracy: 0.5485 - val_loss: 0.2208 - val_accuracy: 0.5058\n",
      "Epoch 9/12\n",
      "63/63 [==============================] - 53s 836ms/step - loss: 0.2102 - accuracy: 0.5475 - val_loss: 0.2186 - val_accuracy: 0.5067\n",
      "Epoch 10/12\n",
      "63/63 [==============================] - 53s 838ms/step - loss: 0.2071 - accuracy: 0.5495 - val_loss: 0.2222 - val_accuracy: 0.5108\n",
      "Epoch 11/12\n",
      "63/63 [==============================] - 53s 847ms/step - loss: 0.2047 - accuracy: 0.5533 - val_loss: 0.2171 - val_accuracy: 0.5075\n",
      "Epoch 12/12\n",
      "63/63 [==============================] - 54s 857ms/step - loss: 0.2030 - accuracy: 0.5510 - val_loss: 0.2217 - val_accuracy: 0.5117\n"
     ]
    }
   ],
   "source": [
    "fine_tune_epochs = 4\n",
    "total_epochs =  initial_epochs + fine_tune_epochs\n",
    "\n",
    "history_fine = model.fit_generator(\n",
    "                         generator=train_ds,\n",
    "                         epochs=total_epochs,\n",
    "                         initial_epoch=history.epoch[-1],\n",
    "                         validation_data=val_ds)"
   ]
  },
  {
   "cell_type": "code",
   "execution_count": 29,
   "id": "a8336031",
   "metadata": {},
   "outputs": [],
   "source": [
    "acc += history_fine.history['accuracy']\n",
    "val_acc += history_fine.history['val_accuracy']\n",
    "\n",
    "loss += history_fine.history['loss']\n",
    "val_loss += history_fine.history['val_loss']"
   ]
  },
  {
   "cell_type": "code",
   "execution_count": 30,
   "id": "17ef09d5",
   "metadata": {},
   "outputs": [
    {
     "data": {
      "image/png": "[encoded data removed]",
      "text/plain": [
       "<Figure size 576x576 with 2 Axes>"
      ]
     },
     "metadata": {
      "needs_background": "light"
     },
     "output_type": "display_data"
    }
   ],
   "source": [
    "plt.figure(figsize=(8, 8))\n",
    "plt.subplot(2, 1, 1)\n",
    "plt.plot(acc, label='Training Accuracy')\n",
    "plt.plot(val_acc, label='Validation Accuracy')\n",
    "plt.ylim([0, 1])\n",
    "plt.plot([initial_epochs-1,initial_epochs-1],\n",
    "          plt.ylim(), label='Start Fine Tuning')\n",
    "plt.legend(loc='lower right')\n",
    "plt.title('Training and Validation Accuracy')\n",
    "\n",
    "plt.subplot(2, 1, 2)\n",
    "plt.plot(loss, label='Training Loss')\n",
    "plt.plot(val_loss, label='Validation Loss')\n",
    "plt.ylim([0, 10.0])\n",
    "plt.plot([initial_epochs-1,initial_epochs-1],\n",
    "         plt.ylim(), label='Start Fine Tuning')\n",
    "plt.legend(loc='upper right')\n",
    "plt.title('Training and Validation Loss')\n",
    "plt.xlabel('epoch')\n",
    "plt.show()"
   ]
  },
  {
   "cell_type": "code",
   "execution_count": null,
   "id": "82e09405",
   "metadata": {},
   "outputs": [],
   "source": []
  },
  {
   "cell_type": "code",
   "execution_count": 22,
   "id": "6196bf98",
   "metadata": {},
   "outputs": [
    {
     "name": "stdout",
     "output_type": "stream",
     "text": [
      "7/7 [==============================] - 7s 930ms/step\n"
     ]
    }
   ],
   "source": [
    "test_ds.reset()\n",
    "pred=model.predict_generator(test_ds,\n",
    "verbose=1)"
   ]
  },
  {
   "cell_type": "code",
   "execution_count": 23,
   "id": "9bd507a7",
   "metadata": {},
   "outputs": [],
   "source": [
    "pred_bool = (pred > 0.5)"
   ]
  },
  {
   "cell_type": "code",
   "execution_count": 24,
   "id": "eed1c96b",
   "metadata": {},
   "outputs": [],
   "source": [
    "predictions=[]\n",
    "labels = train_ds.class_indices\n",
    "labels = dict((v,k) for k,v in labels.items())\n",
    "for row in pred_bool:\n",
    "    l=[]\n",
    "    for index,cls in enumerate(row):\n",
    "        if cls:\n",
    "            l.append(labels[index])\n",
    "    predictions.append(\",\".join(l))\n",
    "filenames=test_ds.filenames\n",
    "results=pd.DataFrame({\"Filename\":filenames,\n",
    "                      \"Predictions\":predictions})\n",
    "#results.to_csv(\"results.csv\",index=False)"
   ]
  },
  {
   "cell_type": "code",
   "execution_count": 25,
   "id": "f129baeb",
   "metadata": {},
   "outputs": [
    {
     "data": {
      "text/html": [
       "<div>\n",
       "<style scoped>\n",
       "    .dataframe tbody tr th:only-of-type {\n",
       "        vertical-align: middle;\n",
       "    }\n",
       "\n",
       "    .dataframe tbody tr th {\n",
       "        vertical-align: top;\n",
       "    }\n",
       "\n",
       "    .dataframe thead th {\n",
       "        text-align: right;\n",
       "    }\n",
       "</style>\n",
       "<table border=\"1\" class=\"dataframe\">\n",
       "  <thead>\n",
       "    <tr style=\"text-align: right;\">\n",
       "      <th></th>\n",
       "      <th>Filename</th>\n",
       "      <th>Predictions</th>\n",
       "    </tr>\n",
       "  </thead>\n",
       "  <tbody>\n",
       "    <tr>\n",
       "      <th>0</th>\n",
       "      <td>00027757_000.png</td>\n",
       "      <td>No Finding</td>\n",
       "    </tr>\n",
       "    <tr>\n",
       "      <th>1</th>\n",
       "      <td>00027757_002.png</td>\n",
       "      <td>No Finding</td>\n",
       "    </tr>\n",
       "    <tr>\n",
       "      <th>2</th>\n",
       "      <td>00027763_001.png</td>\n",
       "      <td></td>\n",
       "    </tr>\n",
       "    <tr>\n",
       "      <th>3</th>\n",
       "      <td>00027765_000.png</td>\n",
       "      <td>No Finding</td>\n",
       "    </tr>\n",
       "    <tr>\n",
       "      <th>4</th>\n",
       "      <td>00027782_002.png</td>\n",
       "      <td></td>\n",
       "    </tr>\n",
       "    <tr>\n",
       "      <th>...</th>\n",
       "      <td>...</td>\n",
       "      <td>...</td>\n",
       "    </tr>\n",
       "    <tr>\n",
       "      <th>401</th>\n",
       "      <td>00030712_000.png</td>\n",
       "      <td>No Finding</td>\n",
       "    </tr>\n",
       "    <tr>\n",
       "      <th>402</th>\n",
       "      <td>00030786_005.png</td>\n",
       "      <td></td>\n",
       "    </tr>\n",
       "    <tr>\n",
       "      <th>403</th>\n",
       "      <td>00030789_000.png</td>\n",
       "      <td>No Finding</td>\n",
       "    </tr>\n",
       "    <tr>\n",
       "      <th>404</th>\n",
       "      <td>00030792_000.png</td>\n",
       "      <td>No Finding</td>\n",
       "    </tr>\n",
       "    <tr>\n",
       "      <th>405</th>\n",
       "      <td>00030797_000.png</td>\n",
       "      <td>No Finding</td>\n",
       "    </tr>\n",
       "  </tbody>\n",
       "</table>\n",
       "<p>406 rows × 2 columns</p>\n",
       "</div>"
      ],
      "text/plain": [
       "             Filename Predictions\n",
       "0    00027757_000.png  No Finding\n",
       "1    00027757_002.png  No Finding\n",
       "2    00027763_001.png            \n",
       "3    00027765_000.png  No Finding\n",
       "4    00027782_002.png            \n",
       "..                ...         ...\n",
       "401  00030712_000.png  No Finding\n",
       "402  00030786_005.png            \n",
       "403  00030789_000.png  No Finding\n",
       "404  00030792_000.png  No Finding\n",
       "405  00030797_000.png  No Finding\n",
       "\n",
       "[406 rows x 2 columns]"
      ]
     },
     "execution_count": 25,
     "metadata": {},
     "output_type": "execute_result"
    }
   ],
   "source": [
    "results"
   ]
  },
  {
   "cell_type": "code",
   "execution_count": 26,
   "id": "77b358f6",
   "metadata": {},
   "outputs": [
    {
     "name": "stdout",
     "output_type": "stream",
     "text": [
      "INFO:tensorflow:Assets written to: x_ray_keras_mobilenet_v2\\assets\n"
     ]
    }
   ],
   "source": [
    "model.save('x_ray_keras_mobilenet_v2')"
   ]
  },
  {
   "cell_type": "code",
   "execution_count": 27,
   "id": "13faacec",
   "metadata": {},
   "outputs": [],
   "source": [
    "new_model = tf.keras.models.load_model('x_ray_keras_mobilenet_v2')"
   ]
  },
  {
   "cell_type": "code",
   "execution_count": 28,
   "id": "6bdd0d87",
   "metadata": {},
   "outputs": [],
   "source": [
    "import tf2onnx\n",
    "import onnxruntime as rt"
   ]
  },
  {
   "cell_type": "code",
   "execution_count": 29,
   "id": "f5874458",
   "metadata": {},
   "outputs": [
    {
     "name": "stdout",
     "output_type": "stream",
     "text": [
      "WARNING:tensorflow:From C:\\Users\\light\\anaconda3\\envs\\mymlenv\\lib\\site-packages\\tf2onnx\\tf_loader.py:703: extract_sub_graph (from tensorflow.python.framework.graph_util_impl) is deprecated and will be removed in a future version.\n",
      "Instructions for updating:\n",
      "Use `tf.compat.v1.graph_util.extract_sub_graph`\n"
     ]
    }
   ],
   "source": [
    "spec = (tf.TensorSpec((None, 224, 224, 3), tf.float32, name=\"input\"),)\n",
    "output_path = \"x_ray_keras_mobilenet_v2.onnx\"\n",
    "\n",
    "model_proto, _ = tf2onnx.convert.from_keras(new_model, input_signature=spec, output_path=output_path)\n",
    "output_names = [n.name for n in model_proto.graph.output]"
   ]
  },
  {
   "cell_type": "code",
   "execution_count": 32,
   "id": "f05344d0",
   "metadata": {},
   "outputs": [],
   "source": [
    "from tensorflow.keras.preprocessing import image\n",
    "img_path = 'X Ray Images/images/00000017_001.png'\n",
    "\n",
    "img = image.load_img(img_path, target_size=(224, 224))\n",
    "\n",
    "x = image.img_to_array(img)\n",
    "x = np.expand_dims(x, axis=0)"
   ]
  },
  {
   "cell_type": "code",
   "execution_count": 33,
   "id": "e6ed0966",
   "metadata": {},
   "outputs": [
    {
     "name": "stdout",
     "output_type": "stream",
     "text": [
      "ONNX Predicted: [array([[4.2935941e-02, 1.0199892e-02, 2.0113846e-02, 1.8554997e-02,\n",
      "        8.4862262e-02, 6.0551665e-03, 4.1497136e-03, 2.3654129e-08,\n",
      "        8.7445587e-02, 3.4770187e-02, 6.5092003e-01, 1.0828029e-02,\n",
      "        3.8091682e-03, 7.7331281e-04, 2.4581844e-02]], dtype=float32)]\n"
     ]
    }
   ],
   "source": [
    "providers = ['CPUExecutionProvider']\n",
    "m = rt.InferenceSession(output_path, providers=providers)\n",
    "onnx_pred = m.run(output_names, {\"input\": x})\n",
    "\n",
    "#onnx_pred= tf.math.argmax(onnx_pred[0], axis=1)\n",
    "\n",
    "print('ONNX Predicted:', onnx_pred)\n",
    "\n",
    "# make sure ONNX and keras have the same results\n",
    "#np.testing.assert_allclose(preds, onnx_pred)"
   ]
  },
  {
   "cell_type": "code",
   "execution_count": null,
   "id": "8ce7b588",
   "metadata": {},
   "outputs": [],
   "source": []
  }
 ],
 "metadata": {
  "kernelspec": {
   "display_name": "Python 3",
   "language": "python",
   "name": "python3"
  },
  "language_info": {
   "codemirror_mode": {
    "name": "ipython",
    "version": 3
   },
   "file_extension": ".py",
   "mimetype": "text/x-python",
   "name": "python",
   "nbconvert_exporter": "python",
   "pygments_lexer": "ipython3",
   "version": "3.8.8"
  }
 },
 "nbformat": 4,
 "nbformat_minor": 5
}
