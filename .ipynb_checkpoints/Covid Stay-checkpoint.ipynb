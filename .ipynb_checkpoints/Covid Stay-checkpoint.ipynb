{
 "cells": [
  {
   "cell_type": "code",
   "execution_count": 1,
   "id": "f71807f0",
   "metadata": {},
   "outputs": [],
   "source": [
    "from fastai.tabular.all import *\n",
    "import seaborn as sns\n",
    "%matplotlib inline\n",
    "import matplotlib.pyplot as plt\n",
    "from utils import *\n",
    "from pandas.api.types import is_string_dtype, is_numeric_dtype, is_categorical_dtype\n",
    "from sklearn.ensemble import RandomForestClassifier\n",
    "from sklearn.tree import DecisionTreeClassifier\n",
    "from sklearn.inspection import plot_partial_dependence\n",
    "from sklearn.metrics import *\n",
    "from dtreeviz.trees import *\n",
    "from IPython.display import Image, display_svg, SVG\n",
    "import warnings\n",
    "warnings.simplefilter('ignore', FutureWarning)\n",
    "from treeinterpreter import treeinterpreter\n",
    "from waterfall_chart import plot as waterfall\n",
    "\n",
    "pd.options.display.max_rows = 20\n",
    "pd.options.display.max_columns = 8"
   ]
  },
  {
   "cell_type": "code",
   "execution_count": 2,
   "id": "3ac89cd0",
   "metadata": {},
   "outputs": [],
   "source": [
    "df = pd.read_csv('C:/Users/light/Desktop/archive_txt_2/host_train.csv')"
   ]
  },
  {
   "cell_type": "code",
   "execution_count": 3,
   "id": "aa727b75",
   "metadata": {},
   "outputs": [
    {
     "data": {
      "text/plain": [
       "Index(['case_id', 'Hospital', 'Hospital_type', 'Hospital_city',\n",
       "       'Hospital_region', 'Available_Extra_Rooms_in_Hospital', 'Department',\n",
       "       'Ward_Type', 'Ward_Facility', 'Bed_Grade', 'patientid',\n",
       "       'City_Code_Patient', 'Type of Admission', 'Illness_Severity',\n",
       "       'Patient_Visitors', 'Age', 'Admission_Deposit', 'Stay_Days'],\n",
       "      dtype='object')"
      ]
     },
     "execution_count": 3,
     "metadata": {},
     "output_type": "execute_result"
    }
   ],
   "source": [
    "df.columns"
   ]
  },
  {
   "cell_type": "code",
   "execution_count": 4,
   "id": "84f04ea8",
   "metadata": {},
   "outputs": [
    {
     "data": {
      "text/html": [
       "<div>\n",
       "<style scoped>\n",
       "    .dataframe tbody tr th:only-of-type {\n",
       "        vertical-align: middle;\n",
       "    }\n",
       "\n",
       "    .dataframe tbody tr th {\n",
       "        vertical-align: top;\n",
       "    }\n",
       "\n",
       "    .dataframe thead th {\n",
       "        text-align: right;\n",
       "    }\n",
       "</style>\n",
       "<table border=\"1\" class=\"dataframe\">\n",
       "  <thead>\n",
       "    <tr style=\"text-align: right;\">\n",
       "      <th></th>\n",
       "      <th>case_id</th>\n",
       "      <th>Hospital</th>\n",
       "      <th>Hospital_type</th>\n",
       "      <th>Hospital_city</th>\n",
       "      <th>...</th>\n",
       "      <th>Patient_Visitors</th>\n",
       "      <th>Age</th>\n",
       "      <th>Admission_Deposit</th>\n",
       "      <th>Stay_Days</th>\n",
       "    </tr>\n",
       "  </thead>\n",
       "  <tbody>\n",
       "    <tr>\n",
       "      <th>0</th>\n",
       "      <td>1</td>\n",
       "      <td>8</td>\n",
       "      <td>2</td>\n",
       "      <td>3</td>\n",
       "      <td>...</td>\n",
       "      <td>2</td>\n",
       "      <td>51-60</td>\n",
       "      <td>4911.0</td>\n",
       "      <td>0-10</td>\n",
       "    </tr>\n",
       "    <tr>\n",
       "      <th>1</th>\n",
       "      <td>2</td>\n",
       "      <td>2</td>\n",
       "      <td>2</td>\n",
       "      <td>5</td>\n",
       "      <td>...</td>\n",
       "      <td>2</td>\n",
       "      <td>51-60</td>\n",
       "      <td>5954.0</td>\n",
       "      <td>41-50</td>\n",
       "    </tr>\n",
       "    <tr>\n",
       "      <th>2</th>\n",
       "      <td>3</td>\n",
       "      <td>10</td>\n",
       "      <td>4</td>\n",
       "      <td>1</td>\n",
       "      <td>...</td>\n",
       "      <td>2</td>\n",
       "      <td>51-60</td>\n",
       "      <td>4745.0</td>\n",
       "      <td>31-40</td>\n",
       "    </tr>\n",
       "    <tr>\n",
       "      <th>3</th>\n",
       "      <td>4</td>\n",
       "      <td>26</td>\n",
       "      <td>1</td>\n",
       "      <td>2</td>\n",
       "      <td>...</td>\n",
       "      <td>2</td>\n",
       "      <td>51-60</td>\n",
       "      <td>7272.0</td>\n",
       "      <td>41-50</td>\n",
       "    </tr>\n",
       "    <tr>\n",
       "      <th>4</th>\n",
       "      <td>5</td>\n",
       "      <td>26</td>\n",
       "      <td>1</td>\n",
       "      <td>2</td>\n",
       "      <td>...</td>\n",
       "      <td>2</td>\n",
       "      <td>51-60</td>\n",
       "      <td>5558.0</td>\n",
       "      <td>41-50</td>\n",
       "    </tr>\n",
       "  </tbody>\n",
       "</table>\n",
       "<p>5 rows × 18 columns</p>\n",
       "</div>"
      ],
      "text/plain": [
       "   case_id  Hospital  Hospital_type  Hospital_city  ...  Patient_Visitors  \\\n",
       "0        1         8              2              3  ...                 2   \n",
       "1        2         2              2              5  ...                 2   \n",
       "2        3        10              4              1  ...                 2   \n",
       "3        4        26              1              2  ...                 2   \n",
       "4        5        26              1              2  ...                 2   \n",
       "\n",
       "     Age Admission_Deposit Stay_Days  \n",
       "0  51-60            4911.0      0-10  \n",
       "1  51-60            5954.0     41-50  \n",
       "2  51-60            4745.0     31-40  \n",
       "3  51-60            7272.0     41-50  \n",
       "4  51-60            5558.0     41-50  \n",
       "\n",
       "[5 rows x 18 columns]"
      ]
     },
     "execution_count": 4,
     "metadata": {},
     "output_type": "execute_result"
    }
   ],
   "source": [
    "df.head()"
   ]
  },
  {
   "cell_type": "code",
   "execution_count": 5,
   "id": "ac824635",
   "metadata": {},
   "outputs": [],
   "source": [
    "df = df.drop(columns=['case_id', 'Admission_Deposit', 'patientid'])"
   ]
  },
  {
   "cell_type": "code",
   "execution_count": 6,
   "id": "0d555370",
   "metadata": {},
   "outputs": [
    {
     "data": {
      "text/html": [
       "<div>\n",
       "<style scoped>\n",
       "    .dataframe tbody tr th:only-of-type {\n",
       "        vertical-align: middle;\n",
       "    }\n",
       "\n",
       "    .dataframe tbody tr th {\n",
       "        vertical-align: top;\n",
       "    }\n",
       "\n",
       "    .dataframe thead th {\n",
       "        text-align: right;\n",
       "    }\n",
       "</style>\n",
       "<table border=\"1\" class=\"dataframe\">\n",
       "  <thead>\n",
       "    <tr style=\"text-align: right;\">\n",
       "      <th></th>\n",
       "      <th>Hospital</th>\n",
       "      <th>Hospital_type</th>\n",
       "      <th>Hospital_city</th>\n",
       "      <th>Hospital_region</th>\n",
       "      <th>...</th>\n",
       "      <th>Illness_Severity</th>\n",
       "      <th>Patient_Visitors</th>\n",
       "      <th>Age</th>\n",
       "      <th>Stay_Days</th>\n",
       "    </tr>\n",
       "  </thead>\n",
       "  <tbody>\n",
       "    <tr>\n",
       "      <th>0</th>\n",
       "      <td>8</td>\n",
       "      <td>2</td>\n",
       "      <td>3</td>\n",
       "      <td>2</td>\n",
       "      <td>...</td>\n",
       "      <td>Extreme</td>\n",
       "      <td>2</td>\n",
       "      <td>51-60</td>\n",
       "      <td>0-10</td>\n",
       "    </tr>\n",
       "    <tr>\n",
       "      <th>1</th>\n",
       "      <td>2</td>\n",
       "      <td>2</td>\n",
       "      <td>5</td>\n",
       "      <td>2</td>\n",
       "      <td>...</td>\n",
       "      <td>Extreme</td>\n",
       "      <td>2</td>\n",
       "      <td>51-60</td>\n",
       "      <td>41-50</td>\n",
       "    </tr>\n",
       "    <tr>\n",
       "      <th>2</th>\n",
       "      <td>10</td>\n",
       "      <td>4</td>\n",
       "      <td>1</td>\n",
       "      <td>0</td>\n",
       "      <td>...</td>\n",
       "      <td>Extreme</td>\n",
       "      <td>2</td>\n",
       "      <td>51-60</td>\n",
       "      <td>31-40</td>\n",
       "    </tr>\n",
       "    <tr>\n",
       "      <th>3</th>\n",
       "      <td>26</td>\n",
       "      <td>1</td>\n",
       "      <td>2</td>\n",
       "      <td>1</td>\n",
       "      <td>...</td>\n",
       "      <td>Extreme</td>\n",
       "      <td>2</td>\n",
       "      <td>51-60</td>\n",
       "      <td>41-50</td>\n",
       "    </tr>\n",
       "    <tr>\n",
       "      <th>4</th>\n",
       "      <td>26</td>\n",
       "      <td>1</td>\n",
       "      <td>2</td>\n",
       "      <td>1</td>\n",
       "      <td>...</td>\n",
       "      <td>Extreme</td>\n",
       "      <td>2</td>\n",
       "      <td>51-60</td>\n",
       "      <td>41-50</td>\n",
       "    </tr>\n",
       "  </tbody>\n",
       "</table>\n",
       "<p>5 rows × 15 columns</p>\n",
       "</div>"
      ],
      "text/plain": [
       "   Hospital  Hospital_type  Hospital_city  Hospital_region  ...  \\\n",
       "0         8              2              3                2  ...   \n",
       "1         2              2              5                2  ...   \n",
       "2        10              4              1                0  ...   \n",
       "3        26              1              2                1  ...   \n",
       "4        26              1              2                1  ...   \n",
       "\n",
       "   Illness_Severity Patient_Visitors    Age Stay_Days  \n",
       "0           Extreme                2  51-60      0-10  \n",
       "1           Extreme                2  51-60     41-50  \n",
       "2           Extreme                2  51-60     31-40  \n",
       "3           Extreme                2  51-60     41-50  \n",
       "4           Extreme                2  51-60     41-50  \n",
       "\n",
       "[5 rows x 15 columns]"
      ]
     },
     "execution_count": 6,
     "metadata": {},
     "output_type": "execute_result"
    }
   ],
   "source": [
    "df.head()"
   ]
  },
  {
   "cell_type": "code",
   "execution_count": 7,
   "id": "057195c1",
   "metadata": {},
   "outputs": [
    {
     "name": "stdout",
     "output_type": "stream",
     "text": [
      "<class 'pandas.core.frame.DataFrame'>\n",
      "RangeIndex: 318438 entries, 0 to 318437\n",
      "Data columns (total 15 columns):\n",
      " #   Column                             Non-Null Count   Dtype  \n",
      "---  ------                             --------------   -----  \n",
      " 0   Hospital                           318438 non-null  int64  \n",
      " 1   Hospital_type                      318438 non-null  int64  \n",
      " 2   Hospital_city                      318438 non-null  int64  \n",
      " 3   Hospital_region                    318438 non-null  int64  \n",
      " 4   Available_Extra_Rooms_in_Hospital  318438 non-null  int64  \n",
      " 5   Department                         318438 non-null  object \n",
      " 6   Ward_Type                          318438 non-null  object \n",
      " 7   Ward_Facility                      318438 non-null  object \n",
      " 8   Bed_Grade                          318325 non-null  float64\n",
      " 9   City_Code_Patient                  313906 non-null  float64\n",
      " 10  Type of Admission                  318438 non-null  object \n",
      " 11  Illness_Severity                   318438 non-null  object \n",
      " 12  Patient_Visitors                   318438 non-null  int64  \n",
      " 13  Age                                318438 non-null  object \n",
      " 14  Stay_Days                          318438 non-null  object \n",
      "dtypes: float64(2), int64(6), object(7)\n",
      "memory usage: 36.4+ MB\n"
     ]
    }
   ],
   "source": [
    "df.info()"
   ]
  },
  {
   "cell_type": "code",
   "execution_count": 8,
   "id": "bc7a93f0",
   "metadata": {},
   "outputs": [
    {
     "data": {
      "text/plain": [
       "array(['Extreme', 'Moderate', 'Minor'], dtype=object)"
      ]
     },
     "execution_count": 8,
     "metadata": {},
     "output_type": "execute_result"
    }
   ],
   "source": [
    "df['Illness_Severity'].unique()"
   ]
  },
  {
   "cell_type": "code",
   "execution_count": 9,
   "id": "17cce0d4",
   "metadata": {},
   "outputs": [],
   "source": [
    "illness_severity = 'Extreme', 'Moderate', 'Minor'"
   ]
  },
  {
   "cell_type": "code",
   "execution_count": 10,
   "id": "116fc444",
   "metadata": {},
   "outputs": [],
   "source": [
    "df['Illness_Severity'] = df['Illness_Severity'].astype('category')\n",
    "df['Illness_Severity'].cat.set_categories(illness_severity, ordered=True, inplace=True)"
   ]
  },
  {
   "cell_type": "code",
   "execution_count": 11,
   "id": "97a0fe01",
   "metadata": {},
   "outputs": [],
   "source": [
    "dep_var = 'Stay_Days'"
   ]
  },
  {
   "cell_type": "code",
   "execution_count": 12,
   "id": "8f19573f",
   "metadata": {},
   "outputs": [],
   "source": [
    "procs = [Categorify, FillMissing]"
   ]
  },
  {
   "cell_type": "code",
   "execution_count": 13,
   "id": "d95bf6c3",
   "metadata": {},
   "outputs": [
    {
     "data": {
      "text/plain": [
       "(['Hospital',\n",
       "  'Hospital_type',\n",
       "  'Hospital_city',\n",
       "  'Hospital_region',\n",
       "  'Available_Extra_Rooms_in_Hospital',\n",
       "  'Bed_Grade',\n",
       "  'City_Code_Patient',\n",
       "  'Patient_Visitors'],\n",
       " ['Department',\n",
       "  'Ward_Type',\n",
       "  'Ward_Facility',\n",
       "  'Type of Admission',\n",
       "  'Illness_Severity',\n",
       "  'Age'])"
      ]
     },
     "execution_count": 13,
     "metadata": {},
     "output_type": "execute_result"
    }
   ],
   "source": [
    "cont,cat = cont_cat_split(df, 1, dep_var=dep_var)\n",
    "cont,cat"
   ]
  },
  {
   "cell_type": "code",
   "execution_count": 14,
   "id": "dfcf5994",
   "metadata": {},
   "outputs": [],
   "source": [
    "splits = RandomSplitter(valid_pct=0.2)(range_of(df))"
   ]
  },
  {
   "cell_type": "code",
   "execution_count": 15,
   "id": "6b4e6a53",
   "metadata": {},
   "outputs": [],
   "source": [
    "to = TabularPandas(df, procs, cat, cont, y_names=dep_var, splits=splits)"
   ]
  },
  {
   "cell_type": "code",
   "execution_count": 16,
   "id": "9bdf70f1",
   "metadata": {},
   "outputs": [
    {
     "data": {
      "text/plain": [
       "(254751, 63687)"
      ]
     },
     "execution_count": 16,
     "metadata": {},
     "output_type": "execute_result"
    }
   ],
   "source": [
    "len(to.train),len(to.valid)"
   ]
  },
  {
   "cell_type": "code",
   "execution_count": 17,
   "id": "3f22a6be",
   "metadata": {},
   "outputs": [
    {
     "data": {
      "text/html": [
       "<table border=\"1\" class=\"dataframe\">\n",
       "  <thead>\n",
       "    <tr style=\"text-align: right;\">\n",
       "      <th></th>\n",
       "      <th>Department</th>\n",
       "      <th>Ward_Type</th>\n",
       "      <th>Ward_Facility</th>\n",
       "      <th>Type of Admission</th>\n",
       "      <th>Illness_Severity</th>\n",
       "      <th>Age</th>\n",
       "      <th>Bed_Grade_na</th>\n",
       "      <th>City_Code_Patient_na</th>\n",
       "      <th>Hospital</th>\n",
       "      <th>Hospital_type</th>\n",
       "      <th>Hospital_city</th>\n",
       "      <th>Hospital_region</th>\n",
       "      <th>Available_Extra_Rooms_in_Hospital</th>\n",
       "      <th>Bed_Grade</th>\n",
       "      <th>City_Code_Patient</th>\n",
       "      <th>Patient_Visitors</th>\n",
       "      <th>Stay_Days</th>\n",
       "    </tr>\n",
       "  </thead>\n",
       "  <tbody>\n",
       "    <tr>\n",
       "      <th>308282</th>\n",
       "      <td>gynecology</td>\n",
       "      <td>R</td>\n",
       "      <td>B</td>\n",
       "      <td>Urgent</td>\n",
       "      <td>Moderate</td>\n",
       "      <td>21-30</td>\n",
       "      <td>False</td>\n",
       "      <td>False</td>\n",
       "      <td>12</td>\n",
       "      <td>0</td>\n",
       "      <td>9</td>\n",
       "      <td>1</td>\n",
       "      <td>4</td>\n",
       "      <td>2.0</td>\n",
       "      <td>7.0</td>\n",
       "      <td>2</td>\n",
       "      <td>11-20</td>\n",
       "    </tr>\n",
       "    <tr>\n",
       "      <th>315736</th>\n",
       "      <td>gynecology</td>\n",
       "      <td>R</td>\n",
       "      <td>C</td>\n",
       "      <td>Trauma</td>\n",
       "      <td>Minor</td>\n",
       "      <td>21-30</td>\n",
       "      <td>False</td>\n",
       "      <td>False</td>\n",
       "      <td>27</td>\n",
       "      <td>0</td>\n",
       "      <td>7</td>\n",
       "      <td>1</td>\n",
       "      <td>4</td>\n",
       "      <td>3.0</td>\n",
       "      <td>8.0</td>\n",
       "      <td>2</td>\n",
       "      <td>11-20</td>\n",
       "    </tr>\n",
       "    <tr>\n",
       "      <th>230013</th>\n",
       "      <td>gynecology</td>\n",
       "      <td>Q</td>\n",
       "      <td>E</td>\n",
       "      <td>Trauma</td>\n",
       "      <td>Moderate</td>\n",
       "      <td>31-40</td>\n",
       "      <td>False</td>\n",
       "      <td>False</td>\n",
       "      <td>14</td>\n",
       "      <td>0</td>\n",
       "      <td>1</td>\n",
       "      <td>0</td>\n",
       "      <td>4</td>\n",
       "      <td>2.0</td>\n",
       "      <td>7.0</td>\n",
       "      <td>4</td>\n",
       "      <td>11-20</td>\n",
       "    </tr>\n",
       "  </tbody>\n",
       "</table>"
      ],
      "text/plain": [
       "<IPython.core.display.HTML object>"
      ]
     },
     "metadata": {},
     "output_type": "display_data"
    }
   ],
   "source": [
    "to.show(3)"
   ]
  },
  {
   "cell_type": "code",
   "execution_count": 18,
   "id": "69f684e1",
   "metadata": {},
   "outputs": [
    {
     "data": {
      "text/html": [
       "<div>\n",
       "<style scoped>\n",
       "    .dataframe tbody tr th:only-of-type {\n",
       "        vertical-align: middle;\n",
       "    }\n",
       "\n",
       "    .dataframe tbody tr th {\n",
       "        vertical-align: top;\n",
       "    }\n",
       "\n",
       "    .dataframe thead th {\n",
       "        text-align: right;\n",
       "    }\n",
       "</style>\n",
       "<table border=\"1\" class=\"dataframe\">\n",
       "  <thead>\n",
       "    <tr style=\"text-align: right;\">\n",
       "      <th></th>\n",
       "      <th>Hospital</th>\n",
       "      <th>Hospital_type</th>\n",
       "      <th>Hospital_city</th>\n",
       "      <th>Hospital_region</th>\n",
       "      <th>...</th>\n",
       "      <th>Age</th>\n",
       "      <th>Stay_Days</th>\n",
       "      <th>Bed_Grade_na</th>\n",
       "      <th>City_Code_Patient_na</th>\n",
       "    </tr>\n",
       "  </thead>\n",
       "  <tbody>\n",
       "    <tr>\n",
       "      <th>308282</th>\n",
       "      <td>12</td>\n",
       "      <td>0</td>\n",
       "      <td>9</td>\n",
       "      <td>1</td>\n",
       "      <td>...</td>\n",
       "      <td>3</td>\n",
       "      <td>1</td>\n",
       "      <td>1</td>\n",
       "      <td>1</td>\n",
       "    </tr>\n",
       "    <tr>\n",
       "      <th>315736</th>\n",
       "      <td>27</td>\n",
       "      <td>0</td>\n",
       "      <td>7</td>\n",
       "      <td>1</td>\n",
       "      <td>...</td>\n",
       "      <td>3</td>\n",
       "      <td>1</td>\n",
       "      <td>1</td>\n",
       "      <td>1</td>\n",
       "    </tr>\n",
       "    <tr>\n",
       "      <th>230013</th>\n",
       "      <td>14</td>\n",
       "      <td>0</td>\n",
       "      <td>1</td>\n",
       "      <td>0</td>\n",
       "      <td>...</td>\n",
       "      <td>4</td>\n",
       "      <td>1</td>\n",
       "      <td>1</td>\n",
       "      <td>1</td>\n",
       "    </tr>\n",
       "  </tbody>\n",
       "</table>\n",
       "<p>3 rows × 17 columns</p>\n",
       "</div>"
      ],
      "text/plain": [
       "        Hospital  Hospital_type  Hospital_city  Hospital_region  ...  Age  \\\n",
       "308282        12              0              9                1  ...    3   \n",
       "315736        27              0              7                1  ...    3   \n",
       "230013        14              0              1                0  ...    4   \n",
       "\n",
       "        Stay_Days  Bed_Grade_na  City_Code_Patient_na  \n",
       "308282          1             1                     1  \n",
       "315736          1             1                     1  \n",
       "230013          1             1                     1  \n",
       "\n",
       "[3 rows x 17 columns]"
      ]
     },
     "execution_count": 18,
     "metadata": {},
     "output_type": "execute_result"
    }
   ],
   "source": [
    "to.items.head(3)"
   ]
  },
  {
   "cell_type": "code",
   "execution_count": 19,
   "id": "b3913c29",
   "metadata": {},
   "outputs": [
    {
     "data": {
      "text/plain": [
       "['#na#', 'Extreme', 'Moderate', 'Minor']"
      ]
     },
     "execution_count": 19,
     "metadata": {},
     "output_type": "execute_result"
    }
   ],
   "source": [
    "to.classes['Illness_Severity']"
   ]
  },
  {
   "cell_type": "code",
   "execution_count": 20,
   "id": "1b4799f0",
   "metadata": {},
   "outputs": [],
   "source": [
    "xs,y = to.train.xs,to.train.y\n",
    "valid_xs,valid_y = to.valid.xs,to.valid.y"
   ]
  },
  {
   "cell_type": "code",
   "execution_count": 21,
   "id": "4f2d05af",
   "metadata": {},
   "outputs": [],
   "source": [
    "m = DecisionTreeClassifier(max_leaf_nodes=4)\n",
    "m.fit(xs, y);"
   ]
  },
  {
   "cell_type": "code",
   "execution_count": 22,
   "id": "77131089",
   "metadata": {},
   "outputs": [
    {
     "data": {
      "image/svg+xml": [
       "<?xml version=\"1.0\" encoding=\"UTF-8\" standalone=\"no\"?>\r\n",
       "<!DOCTYPE svg PUBLIC \"-//W3C//DTD SVG 1.1//EN\"\r\n",
       " \"http://www.w3.org/Graphics/SVG/1.1/DTD/svg11.dtd\">\r\n",
       "<!-- Generated by graphviz version 2.38.0 (20140413.2041)\r\n",
       " -->\r\n",
       "<!-- Title: Tree Pages: 1 -->\r\n",
       "<svg width=\"720pt\" height=\"434pt\"\r\n",
       " viewBox=\"0.00 0.00 720.00 433.64\" xmlns=\"http://www.w3.org/2000/svg\" xmlns:xlink=\"http://www.w3.org/1999/xlink\">\r\n",
       "<g id=\"graph0\" class=\"graph\" transform=\"scale(0.364834 0.364834) rotate(0) translate(4 1184.58)\">\r\n",
       "<title>Tree</title>\r\n",
       "<polygon fill=\"white\" stroke=\"none\" points=\"-4,4 -4,-1184.58 1969.5,-1184.58 1969.5,4 -4,4\"/>\r\n",
       "<!-- 0 -->\r\n",
       "<g id=\"node1\" class=\"node\"><title>0</title>\r\n",
       "<path fill=\"#fafef7\" stroke=\"black\" d=\"M777.5,-1107C777.5,-1107 249.5,-1107 249.5,-1107 243.5,-1107 237.5,-1101 237.5,-1095 237.5,-1095 237.5,-1051 237.5,-1051 237.5,-1045 243.5,-1039 249.5,-1039 249.5,-1039 777.5,-1039 777.5,-1039 783.5,-1039 789.5,-1045 789.5,-1051 789.5,-1051 789.5,-1095 789.5,-1095 789.5,-1101 783.5,-1107 777.5,-1107\"/>\r\n",
       "<text text-anchor=\"start\" x=\"446\" y=\"-1091.8\" font-family=\"Helvetica,sans-Serif\" font-size=\"14.00\">Patient_Visitors ≤ 3.5</text>\r\n",
       "<text text-anchor=\"start\" x=\"480\" y=\"-1076.8\" font-family=\"Helvetica,sans-Serif\" font-size=\"14.00\">gini = 0.81</text>\r\n",
       "<text text-anchor=\"start\" x=\"453.5\" y=\"-1061.8\" font-family=\"Helvetica,sans-Serif\" font-size=\"14.00\">samples = 254751</text>\r\n",
       "<text text-anchor=\"start\" x=\"245.5\" y=\"-1046.8\" font-family=\"Helvetica,sans-Serif\" font-size=\"14.00\">value = [18827, 62432, 70211, 43920, 9378, 28156, 2201, 8218, 3875, 2176, 5357]</text>\r\n",
       "</g>\r\n",
       "<!-- 1 -->\r\n",
       "<g id=\"node2\" class=\"node\"><title>1</title>\r\n",
       "<path fill=\"#f7fdf0\" stroke=\"black\" d=\"M507,-110.5C507,-110.5 12,-110.5 12,-110.5 6,-110.5 0,-104.5 0,-98.5 0,-98.5 0,-69.5 0,-69.5 0,-63.5 6,-57.5 12,-57.5 12,-57.5 507,-57.5 507,-57.5 513,-57.5 519,-63.5 519,-69.5 519,-69.5 519,-98.5 519,-98.5 519,-104.5 513,-110.5 507,-110.5\"/>\r\n",
       "<text text-anchor=\"start\" x=\"226\" y=\"-95.3\" font-family=\"Helvetica,sans-Serif\" font-size=\"14.00\">gini = 0.75</text>\r\n",
       "<text text-anchor=\"start\" x=\"199.5\" y=\"-80.3\" font-family=\"Helvetica,sans-Serif\" font-size=\"14.00\">samples = 159138</text>\r\n",
       "<text text-anchor=\"start\" x=\"8\" y=\"-65.3\" font-family=\"Helvetica,sans-Serif\" font-size=\"14.00\">value = [15697, 47632, 56008, 22519, 6485, 6610, 1286, 1548, 351, 407, 595]</text>\r\n",
       "</g>\r\n",
       "<!-- 0&#45;&gt;1 -->\r\n",
       "<g id=\"edge1\" class=\"edge\"><title>0&#45;&gt;1</title>\r\n",
       "<path fill=\"none\" stroke=\"black\" d=\"M504.976,-1038.88C466.434,-889.111 308.602,-275.803 268.699,-120.746\"/>\r\n",
       "<polygon fill=\"black\" stroke=\"black\" points=\"272.02,-119.606 266.138,-110.794 265.241,-121.351 272.02,-119.606\"/>\r\n",
       "<text text-anchor=\"middle\" x=\"253.424\" y=\"-128.62\" font-family=\"Helvetica,sans-Serif\" font-size=\"14.00\">True</text>\r\n",
       "</g>\r\n",
       "<!-- 2 -->\r\n",
       "<g id=\"node3\" class=\"node\"><title>2</title>\r\n",
       "<path fill=\"#ffffff\" stroke=\"black\" d=\"M1256.5,-777C1256.5,-777 744.5,-777 744.5,-777 738.5,-777 732.5,-771 732.5,-765 732.5,-765 732.5,-721 732.5,-721 732.5,-715 738.5,-709 744.5,-709 744.5,-709 1256.5,-709 1256.5,-709 1262.5,-709 1268.5,-715 1268.5,-721 1268.5,-721 1268.5,-765 1268.5,-765 1268.5,-771 1262.5,-777 1256.5,-777\"/>\r\n",
       "<text text-anchor=\"start\" x=\"945\" y=\"-761.8\" font-family=\"Helvetica,sans-Serif\" font-size=\"14.00\">Ward_Type ≤ 2.5</text>\r\n",
       "<text text-anchor=\"start\" x=\"967\" y=\"-746.8\" font-family=\"Helvetica,sans-Serif\" font-size=\"14.00\">gini = 0.84</text>\r\n",
       "<text text-anchor=\"start\" x=\"944.5\" y=\"-731.8\" font-family=\"Helvetica,sans-Serif\" font-size=\"14.00\">samples = 95613</text>\r\n",
       "<text text-anchor=\"start\" x=\"740.5\" y=\"-716.8\" font-family=\"Helvetica,sans-Serif\" font-size=\"14.00\">value = [3130, 14800, 14203, 21401, 2893, 21546, 915, 6670, 3524, 1769, 4762]</text>\r\n",
       "</g>\r\n",
       "<!-- 0&#45;&gt;2 -->\r\n",
       "<g id=\"edge2\" class=\"edge\"><title>0&#45;&gt;2</title>\r\n",
       "<path fill=\"none\" stroke=\"black\" d=\"M562.876,-1038.74C653.6,-977.641 846.346,-847.825 942.883,-782.806\"/>\r\n",
       "<polygon fill=\"black\" stroke=\"black\" points=\"945.017,-785.589 951.356,-777.099 941.106,-779.783 945.017,-785.589\"/>\r\n",
       "<text text-anchor=\"middle\" x=\"946.569\" y=\"-797.937\" font-family=\"Helvetica,sans-Serif\" font-size=\"14.00\">False</text>\r\n",
       "</g>\r\n",
       "<!-- 3 -->\r\n",
       "<g id=\"node4\" class=\"node\"><title>3</title>\r\n",
       "<path fill=\"#fafef6\" stroke=\"black\" d=\"M1235.5,-448C1235.5,-448 765.5,-448 765.5,-448 759.5,-448 753.5,-442 753.5,-436 753.5,-436 753.5,-392 753.5,-392 753.5,-386 759.5,-380 765.5,-380 765.5,-380 1235.5,-380 1235.5,-380 1241.5,-380 1247.5,-386 1247.5,-392 1247.5,-392 1247.5,-436 1247.5,-436 1247.5,-442 1241.5,-448 1235.5,-448\"/>\r\n",
       "<text text-anchor=\"start\" x=\"933\" y=\"-432.8\" font-family=\"Helvetica,sans-Serif\" font-size=\"14.00\">Patient_Visitors ≤ 4.5</text>\r\n",
       "<text text-anchor=\"start\" x=\"967\" y=\"-417.8\" font-family=\"Helvetica,sans-Serif\" font-size=\"14.00\">gini = 0.81</text>\r\n",
       "<text text-anchor=\"start\" x=\"944.5\" y=\"-402.8\" font-family=\"Helvetica,sans-Serif\" font-size=\"14.00\">samples = 44353</text>\r\n",
       "<text text-anchor=\"start\" x=\"761.5\" y=\"-387.8\" font-family=\"Helvetica,sans-Serif\" font-size=\"14.00\">value = [3083, 11066, 12659, 7794, 1901, 4273, 430, 1426, 588, 324, 809]</text>\r\n",
       "</g>\r\n",
       "<!-- 2&#45;&gt;3 -->\r\n",
       "<g id=\"edge3\" class=\"edge\"><title>2&#45;&gt;3</title>\r\n",
       "<path fill=\"none\" stroke=\"black\" d=\"M1000.5,-708.846C1000.5,-649.354 1000.5,-524.527 1000.5,-458.342\"/>\r\n",
       "<polygon fill=\"black\" stroke=\"black\" points=\"1004,-458.242 1000.5,-448.242 997,-458.242 1004,-458.242\"/>\r\n",
       "</g>\r\n",
       "<!-- 4 -->\r\n",
       "<g id=\"node7\" class=\"node\"><title>4</title>\r\n",
       "<path fill=\"#ecfafc\" stroke=\"black\" d=\"M1953.5,-110.5C1953.5,-110.5 1483.5,-110.5 1483.5,-110.5 1477.5,-110.5 1471.5,-104.5 1471.5,-98.5 1471.5,-98.5 1471.5,-69.5 1471.5,-69.5 1471.5,-63.5 1477.5,-57.5 1483.5,-57.5 1483.5,-57.5 1953.5,-57.5 1953.5,-57.5 1959.5,-57.5 1965.5,-63.5 1965.5,-69.5 1965.5,-69.5 1965.5,-98.5 1965.5,-98.5 1965.5,-104.5 1959.5,-110.5 1953.5,-110.5\"/>\r\n",
       "<text text-anchor=\"start\" x=\"1685\" y=\"-95.3\" font-family=\"Helvetica,sans-Serif\" font-size=\"14.00\">gini = 0.79</text>\r\n",
       "<text text-anchor=\"start\" x=\"1662.5\" y=\"-80.3\" font-family=\"Helvetica,sans-Serif\" font-size=\"14.00\">samples = 51260</text>\r\n",
       "<text text-anchor=\"start\" x=\"1479.5\" y=\"-65.3\" font-family=\"Helvetica,sans-Serif\" font-size=\"14.00\">value = [47, 3734, 1544, 13607, 992, 17273, 485, 5244, 2936, 1445, 3953]</text>\r\n",
       "</g>\r\n",
       "<!-- 2&#45;&gt;4 -->\r\n",
       "<g id=\"edge6\" class=\"edge\"><title>2&#45;&gt;4</title>\r\n",
       "<path fill=\"none\" stroke=\"black\" d=\"M1036.6,-708.969C1159.45,-596.554 1560.47,-229.603 1682.77,-117.696\"/>\r\n",
       "<polygon fill=\"black\" stroke=\"black\" points=\"1685.4,-120.032 1690.42,-110.699 1680.67,-114.867 1685.4,-120.032\"/>\r\n",
       "</g>\r\n",
       "<!-- 5 -->\r\n",
       "<g id=\"node5\" class=\"node\"><title>5</title>\r\n",
       "<path fill=\"#f7fdf1\" stroke=\"black\" d=\"M986,-110.5C986,-110.5 549,-110.5 549,-110.5 543,-110.5 537,-104.5 537,-98.5 537,-98.5 537,-69.5 537,-69.5 537,-63.5 543,-57.5 549,-57.5 549,-57.5 986,-57.5 986,-57.5 992,-57.5 998,-63.5 998,-69.5 998,-69.5 998,-98.5 998,-98.5 998,-104.5 992,-110.5 986,-110.5\"/>\r\n",
       "<text text-anchor=\"start\" x=\"734\" y=\"-95.3\" font-family=\"Helvetica,sans-Serif\" font-size=\"14.00\">gini = 0.75</text>\r\n",
       "<text text-anchor=\"start\" x=\"711.5\" y=\"-80.3\" font-family=\"Helvetica,sans-Serif\" font-size=\"14.00\">samples = 33657</text>\r\n",
       "<text text-anchor=\"start\" x=\"545\" y=\"-65.3\" font-family=\"Helvetica,sans-Serif\" font-size=\"14.00\">value = [2966, 10093, 11796, 4926, 1593, 1350, 276, 434, 55, 95, 73]</text>\r\n",
       "</g>\r\n",
       "<!-- 3&#45;&gt;5 -->\r\n",
       "<g id=\"edge4\" class=\"edge\"><title>3&#45;&gt;5</title>\r\n",
       "<path fill=\"none\" stroke=\"black\" d=\"M976.876,-379.745C932.457,-317.214 836.918,-182.722 791.906,-119.357\"/>\r\n",
       "<polygon fill=\"black\" stroke=\"black\" points=\"794.545,-117.028 785.9,-110.902 788.838,-121.082 794.545,-117.028\"/>\r\n",
       "</g>\r\n",
       "<!-- 6 -->\r\n",
       "<g id=\"node6\" class=\"node\"><title>6</title>\r\n",
       "<path fill=\"#feffff\" stroke=\"black\" d=\"M1441,-110.5C1441,-110.5 1028,-110.5 1028,-110.5 1022,-110.5 1016,-104.5 1016,-98.5 1016,-98.5 1016,-69.5 1016,-69.5 1016,-63.5 1022,-57.5 1028,-57.5 1028,-57.5 1441,-57.5 1441,-57.5 1447,-57.5 1453,-63.5 1453,-69.5 1453,-69.5 1453,-98.5 1453,-98.5 1453,-104.5 1447,-110.5 1441,-110.5\"/>\r\n",
       "<text text-anchor=\"start\" x=\"1201\" y=\"-95.3\" font-family=\"Helvetica,sans-Serif\" font-size=\"14.00\">gini = 0.82</text>\r\n",
       "<text text-anchor=\"start\" x=\"1178.5\" y=\"-80.3\" font-family=\"Helvetica,sans-Serif\" font-size=\"14.00\">samples = 10696</text>\r\n",
       "<text text-anchor=\"start\" x=\"1024\" y=\"-65.3\" font-family=\"Helvetica,sans-Serif\" font-size=\"14.00\">value = [117, 973, 863, 2868, 308, 2923, 154, 992, 533, 229, 736]</text>\r\n",
       "</g>\r\n",
       "<!-- 3&#45;&gt;6 -->\r\n",
       "<g id=\"edge5\" class=\"edge\"><title>3&#45;&gt;6</title>\r\n",
       "<path fill=\"none\" stroke=\"black\" d=\"M1024.22,-379.745C1068.84,-317.214 1164.78,-182.722 1209.99,-119.357\"/>\r\n",
       "<polygon fill=\"black\" stroke=\"black\" points=\"1213.06,-121.076 1216.02,-110.902 1207.36,-117.01 1213.06,-121.076\"/>\r\n",
       "</g>\r\n",
       "</g>\r\n",
       "</svg>\r\n"
      ],
      "text/plain": [
       "<graphviz.files.Source at 0x1ffef3ce7c0>"
      ]
     },
     "execution_count": 22,
     "metadata": {},
     "output_type": "execute_result"
    }
   ],
   "source": [
    "draw_tree(m, xs, size=10, leaves_parallel=True, precision=2)"
   ]
  },
  {
   "cell_type": "code",
   "execution_count": 23,
   "id": "d3b8f9bb",
   "metadata": {},
   "outputs": [],
   "source": [
    "m = DecisionTreeClassifier()\n",
    "m.fit(xs, y);"
   ]
  },
  {
   "cell_type": "code",
   "execution_count": 24,
   "id": "ee311298",
   "metadata": {},
   "outputs": [
    {
     "data": {
      "text/plain": [
       "0.8622694317196007"
      ]
     },
     "execution_count": 24,
     "metadata": {},
     "output_type": "execute_result"
    }
   ],
   "source": [
    "m.score(xs, y)"
   ]
  },
  {
   "cell_type": "code",
   "execution_count": 25,
   "id": "e36d48e3",
   "metadata": {},
   "outputs": [
    {
     "data": {
      "text/plain": [
       "0.3187620707522728"
      ]
     },
     "execution_count": 25,
     "metadata": {},
     "output_type": "execute_result"
    }
   ],
   "source": [
    "m.score(valid_xs, valid_y)"
   ]
  },
  {
   "cell_type": "code",
   "execution_count": 26,
   "id": "973a8684",
   "metadata": {},
   "outputs": [
    {
     "data": {
      "text/plain": [
       "(139610, 254751)"
      ]
     },
     "execution_count": 26,
     "metadata": {},
     "output_type": "execute_result"
    }
   ],
   "source": [
    "m.get_n_leaves(), len(xs)"
   ]
  },
  {
   "cell_type": "code",
   "execution_count": 27,
   "id": "d962c607",
   "metadata": {},
   "outputs": [
    {
     "data": {
      "text/plain": [
       "(0.43887953334824986, 0.4030649897153265)"
      ]
     },
     "execution_count": 27,
     "metadata": {},
     "output_type": "execute_result"
    }
   ],
   "source": [
    "m = DecisionTreeClassifier(min_samples_leaf=48)\n",
    "m.fit(xs, y);\n",
    "m.score(xs, y), m.score(valid_xs, valid_y)"
   ]
  },
  {
   "cell_type": "code",
   "execution_count": 28,
   "id": "57b6bb8b",
   "metadata": {},
   "outputs": [
    {
     "data": {
      "text/plain": [
       "3770"
      ]
     },
     "execution_count": 28,
     "metadata": {},
     "output_type": "execute_result"
    }
   ],
   "source": [
    "m.get_n_leaves()"
   ]
  },
  {
   "cell_type": "code",
   "execution_count": 29,
   "id": "50260cca",
   "metadata": {},
   "outputs": [],
   "source": [
    "def rf(xs, y, n_estimators=40, max_samples=200_000,\n",
    "       max_features=0.5, min_samples_leaf=5, **kwargs):\n",
    "    return RandomForestClassifier(n_jobs=-1, n_estimators=n_estimators,\n",
    "        max_samples=max_samples, max_features=max_features,\n",
    "        min_samples_leaf=min_samples_leaf, oob_score=True).fit(xs, y)"
   ]
  },
  {
   "cell_type": "code",
   "execution_count": 30,
   "id": "759b937a",
   "metadata": {},
   "outputs": [],
   "source": [
    "m = rf(xs, y);"
   ]
  },
  {
   "cell_type": "code",
   "execution_count": 31,
   "id": "d71826d1",
   "metadata": {},
   "outputs": [
    {
     "data": {
      "text/plain": [
       "(0.5607868075100785, 0.40786973793709863)"
      ]
     },
     "execution_count": 31,
     "metadata": {},
     "output_type": "execute_result"
    }
   ],
   "source": [
    "m.score(xs, y), m.score(valid_xs, valid_y)"
   ]
  },
  {
   "cell_type": "code",
   "execution_count": 32,
   "id": "5074faa8",
   "metadata": {},
   "outputs": [],
   "source": [
    "preds = np.stack([t.predict(valid_xs) for t in m.estimators_])"
   ]
  },
  {
   "cell_type": "code",
   "execution_count": 33,
   "id": "a6025f2b",
   "metadata": {},
   "outputs": [
    {
     "data": {
      "text/plain": [
       "0.1362130419080817"
      ]
     },
     "execution_count": 33,
     "metadata": {},
     "output_type": "execute_result"
    }
   ],
   "source": [
    "accuracy_score(np.amax(preds, axis=0), valid_y)"
   ]
  },
  {
   "cell_type": "code",
   "execution_count": 34,
   "id": "80d614ef",
   "metadata": {},
   "outputs": [
    {
     "data": {
      "text/plain": [
       "[<matplotlib.lines.Line2D at 0x1fff5c6b2e0>]"
      ]
     },
     "execution_count": 34,
     "metadata": {},
     "output_type": "execute_result"
    },
    {
     "data": {
      "image/png": "[encoded data removed]",
      "text/plain": [
       "<Figure size 432x288 with 1 Axes>"
      ]
     },
     "metadata": {
      "needs_background": "light"
     },
     "output_type": "display_data"
    }
   ],
   "source": [
    "plt.plot([accuracy_score(np.amax(preds[:i+1], axis=0), valid_y) for i in range(40)])"
   ]
  },
  {
   "cell_type": "code",
   "execution_count": 35,
   "id": "8c7ee8dd",
   "metadata": {},
   "outputs": [
    {
     "data": {
      "text/plain": [
       "0.4055567985994167"
      ]
     },
     "execution_count": 35,
     "metadata": {},
     "output_type": "execute_result"
    }
   ],
   "source": [
    "accuracy_score((m.oob_decision_function_).argmax(axis=-1), y)"
   ]
  },
  {
   "cell_type": "code",
   "execution_count": 36,
   "id": "8aa26b4b",
   "metadata": {},
   "outputs": [],
   "source": [
    "preds = np.stack([t.predict(valid_xs) for t in m.estimators_])"
   ]
  },
  {
   "cell_type": "code",
   "execution_count": 37,
   "id": "420b8e5b",
   "metadata": {},
   "outputs": [
    {
     "data": {
      "text/plain": [
       "(40, 63687)"
      ]
     },
     "execution_count": 37,
     "metadata": {},
     "output_type": "execute_result"
    }
   ],
   "source": [
    "preds.shape"
   ]
  },
  {
   "cell_type": "code",
   "execution_count": 38,
   "id": "4a76f5ce",
   "metadata": {},
   "outputs": [],
   "source": [
    "preds_std = preds.std(0)"
   ]
  },
  {
   "cell_type": "code",
   "execution_count": 39,
   "id": "dfe2db3a",
   "metadata": {},
   "outputs": [
    {
     "data": {
      "text/plain": [
       "array([1.18083657, 1.26095202, 0.84815977, 0.61997984, 0.82120339])"
      ]
     },
     "execution_count": 39,
     "metadata": {},
     "output_type": "execute_result"
    }
   ],
   "source": [
    "preds_std[:5]"
   ]
  },
  {
   "cell_type": "code",
   "execution_count": 40,
   "id": "0728e737",
   "metadata": {},
   "outputs": [],
   "source": [
    "def rf_feat_importance(m, df):\n",
    "    return pd.DataFrame({'cols':df.columns, 'imp':m.feature_importances_}).sort_values('imp', ascending=False)"
   ]
  },
  {
   "cell_type": "code",
   "execution_count": 41,
   "id": "00887f5c",
   "metadata": {},
   "outputs": [
    {
     "data": {
      "text/html": [
       "<div>\n",
       "<style scoped>\n",
       "    .dataframe tbody tr th:only-of-type {\n",
       "        vertical-align: middle;\n",
       "    }\n",
       "\n",
       "    .dataframe tbody tr th {\n",
       "        vertical-align: top;\n",
       "    }\n",
       "\n",
       "    .dataframe thead th {\n",
       "        text-align: right;\n",
       "    }\n",
       "</style>\n",
       "<table border=\"1\" class=\"dataframe\">\n",
       "  <thead>\n",
       "    <tr style=\"text-align: right;\">\n",
       "      <th></th>\n",
       "      <th>cols</th>\n",
       "      <th>imp</th>\n",
       "    </tr>\n",
       "  </thead>\n",
       "  <tbody>\n",
       "    <tr>\n",
       "      <th>15</th>\n",
       "      <td>Patient_Visitors</td>\n",
       "      <td>0.220194</td>\n",
       "    </tr>\n",
       "    <tr>\n",
       "      <th>5</th>\n",
       "      <td>Age</td>\n",
       "      <td>0.136835</td>\n",
       "    </tr>\n",
       "    <tr>\n",
       "      <th>14</th>\n",
       "      <td>City_Code_Patient</td>\n",
       "      <td>0.123674</td>\n",
       "    </tr>\n",
       "    <tr>\n",
       "      <th>1</th>\n",
       "      <td>Ward_Type</td>\n",
       "      <td>0.087371</td>\n",
       "    </tr>\n",
       "    <tr>\n",
       "      <th>12</th>\n",
       "      <td>Available_Extra_Rooms_in_Hospital</td>\n",
       "      <td>0.086954</td>\n",
       "    </tr>\n",
       "    <tr>\n",
       "      <th>8</th>\n",
       "      <td>Hospital</td>\n",
       "      <td>0.067851</td>\n",
       "    </tr>\n",
       "    <tr>\n",
       "      <th>13</th>\n",
       "      <td>Bed_Grade</td>\n",
       "      <td>0.061778</td>\n",
       "    </tr>\n",
       "    <tr>\n",
       "      <th>4</th>\n",
       "      <td>Illness_Severity</td>\n",
       "      <td>0.047228</td>\n",
       "    </tr>\n",
       "    <tr>\n",
       "      <th>3</th>\n",
       "      <td>Type of Admission</td>\n",
       "      <td>0.040450</td>\n",
       "    </tr>\n",
       "    <tr>\n",
       "      <th>0</th>\n",
       "      <td>Department</td>\n",
       "      <td>0.033805</td>\n",
       "    </tr>\n",
       "    <tr>\n",
       "      <th>10</th>\n",
       "      <td>Hospital_city</td>\n",
       "      <td>0.033070</td>\n",
       "    </tr>\n",
       "    <tr>\n",
       "      <th>9</th>\n",
       "      <td>Hospital_type</td>\n",
       "      <td>0.025598</td>\n",
       "    </tr>\n",
       "    <tr>\n",
       "      <th>2</th>\n",
       "      <td>Ward_Facility</td>\n",
       "      <td>0.021562</td>\n",
       "    </tr>\n",
       "    <tr>\n",
       "      <th>11</th>\n",
       "      <td>Hospital_region</td>\n",
       "      <td>0.011747</td>\n",
       "    </tr>\n",
       "    <tr>\n",
       "      <th>7</th>\n",
       "      <td>City_Code_Patient_na</td>\n",
       "      <td>0.001835</td>\n",
       "    </tr>\n",
       "    <tr>\n",
       "      <th>6</th>\n",
       "      <td>Bed_Grade_na</td>\n",
       "      <td>0.000051</td>\n",
       "    </tr>\n",
       "  </tbody>\n",
       "</table>\n",
       "</div>"
      ],
      "text/plain": [
       "                                 cols       imp\n",
       "15                   Patient_Visitors  0.220194\n",
       "5                                 Age  0.136835\n",
       "14                  City_Code_Patient  0.123674\n",
       "1                           Ward_Type  0.087371\n",
       "12  Available_Extra_Rooms_in_Hospital  0.086954\n",
       "8                            Hospital  0.067851\n",
       "13                          Bed_Grade  0.061778\n",
       "4                    Illness_Severity  0.047228\n",
       "3                   Type of Admission  0.040450\n",
       "0                          Department  0.033805\n",
       "10                      Hospital_city  0.033070\n",
       "9                       Hospital_type  0.025598\n",
       "2                       Ward_Facility  0.021562\n",
       "11                    Hospital_region  0.011747\n",
       "7                City_Code_Patient_na  0.001835\n",
       "6                        Bed_Grade_na  0.000051"
      ]
     },
     "execution_count": 41,
     "metadata": {},
     "output_type": "execute_result"
    }
   ],
   "source": [
    "fi = rf_feat_importance(m, xs)\n",
    "fi"
   ]
  },
  {
   "cell_type": "code",
   "execution_count": 42,
   "id": "dc79404e",
   "metadata": {},
   "outputs": [],
   "source": [
    "def plot_fi(fi):\n",
    "    return fi.plot('cols', 'imp', 'barh', figsize=(12, 7), legend=False)"
   ]
  },
  {
   "cell_type": "code",
   "execution_count": 43,
   "id": "cdbba044",
   "metadata": {},
   "outputs": [
    {
     "data": {
      "image/png": "[encoded data removed]",
      "text/plain": [
       "<Figure size 864x504 with 1 Axes>"
      ]
     },
     "metadata": {
      "needs_background": "light"
     },
     "output_type": "display_data"
    }
   ],
   "source": [
    "plot_fi(fi);"
   ]
  },
  {
   "cell_type": "code",
   "execution_count": 44,
   "id": "cc77fd35",
   "metadata": {},
   "outputs": [
    {
     "data": {
      "text/plain": [
       "14"
      ]
     },
     "execution_count": 44,
     "metadata": {},
     "output_type": "execute_result"
    }
   ],
   "source": [
    "to_keep = fi[fi.imp>0.005].cols\n",
    "len(to_keep)"
   ]
  },
  {
   "cell_type": "code",
   "execution_count": 45,
   "id": "509fd0df",
   "metadata": {},
   "outputs": [],
   "source": [
    "xs_imp = xs[to_keep]\n",
    "valid_xs_imp = valid_xs[to_keep]"
   ]
  },
  {
   "cell_type": "code",
   "execution_count": 46,
   "id": "ec1726a0",
   "metadata": {},
   "outputs": [],
   "source": [
    "m = rf(xs_imp, y)"
   ]
  },
  {
   "cell_type": "code",
   "execution_count": 47,
   "id": "783a3d77",
   "metadata": {},
   "outputs": [
    {
     "data": {
      "text/plain": [
       "(0.5607632551000781, 0.4073829823982916)"
      ]
     },
     "execution_count": 47,
     "metadata": {},
     "output_type": "execute_result"
    }
   ],
   "source": [
    "m.score(xs_imp, y), m.score(valid_xs_imp, valid_y)"
   ]
  },
  {
   "cell_type": "code",
   "execution_count": 48,
   "id": "4910ccc8",
   "metadata": {},
   "outputs": [
    {
     "data": {
      "text/plain": [
       "(16, 14)"
      ]
     },
     "execution_count": 48,
     "metadata": {},
     "output_type": "execute_result"
    }
   ],
   "source": [
    "len(xs.columns), len(xs_imp.columns)"
   ]
  },
  {
   "cell_type": "code",
   "execution_count": 49,
   "id": "f6714723",
   "metadata": {},
   "outputs": [
    {
     "data": {
      "image/png": "[encoded data removed]",
      "text/plain": [
       "<Figure size 864x504 with 1 Axes>"
      ]
     },
     "metadata": {
      "needs_background": "light"
     },
     "output_type": "display_data"
    }
   ],
   "source": [
    "plot_fi(rf_feat_importance(m, xs_imp));"
   ]
  },
  {
   "cell_type": "code",
   "execution_count": 50,
   "id": "51554a92",
   "metadata": {},
   "outputs": [
    {
     "data": {
      "image/png": "[encoded data removed]",
      "text/plain": [
       "<Figure size 720x432 with 1 Axes>"
      ]
     },
     "metadata": {
      "needs_background": "light"
     },
     "output_type": "display_data"
    }
   ],
   "source": [
    "cluster_columns(xs_imp)"
   ]
  },
  {
   "cell_type": "code",
   "execution_count": null,
   "id": "f42e0cc4",
   "metadata": {},
   "outputs": [],
   "source": []
  }
 ],
 "metadata": {
  "kernelspec": {
   "display_name": "Python 3",
   "language": "python",
   "name": "python3"
  },
  "language_info": {
   "codemirror_mode": {
    "name": "ipython",
    "version": 3
   },
   "file_extension": ".py",
   "mimetype": "text/x-python",
   "name": "python",
   "nbconvert_exporter": "python",
   "pygments_lexer": "ipython3",
   "version": "3.8.8"
  }
 },
 "nbformat": 4,
 "nbformat_minor": 5
}
