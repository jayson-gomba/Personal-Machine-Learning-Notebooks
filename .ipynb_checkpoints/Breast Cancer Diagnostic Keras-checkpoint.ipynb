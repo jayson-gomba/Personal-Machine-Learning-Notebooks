{
 "cells": [
  {
   "cell_type": "code",
   "execution_count": 1,
   "metadata": {},
   "outputs": [],
   "source": [
    "import matplotlib.pyplot as plt\n",
    "import numpy as np\n",
    "import os\n",
    "import PIL\n",
    "import pathlib as pl\n",
    "import tensorflow as tf\n",
    "import warnings\n",
    "warnings.filterwarnings('ignore')"
   ]
  },
  {
   "cell_type": "code",
   "execution_count": 2,
   "metadata": {},
   "outputs": [],
   "source": [
    "BATCH_SIZE = 256\n",
    "IMAGE_SIZE = (96, 96)\n",
    "IMG_SHAPE = IMAGE_SIZE + (3,)"
   ]
  },
  {
   "cell_type": "code",
   "execution_count": 3,
   "metadata": {},
   "outputs": [],
   "source": [
    "data_dir = pl.Path('Breast Cancer Data')"
   ]
  },
  {
   "cell_type": "code",
   "execution_count": 4,
   "metadata": {},
   "outputs": [
    {
     "name": "stdout",
     "output_type": "stream",
     "text": [
      "276397\n"
     ]
    }
   ],
   "source": [
    "image_count = len(list(data_dir.glob('*/*.png')))\n",
    "print(image_count)"
   ]
  },
  {
   "cell_type": "code",
   "execution_count": 5,
   "metadata": {},
   "outputs": [
    {
     "data": {
      "image/png": "[encoded data removed]",
      "text/plain": [
       "<PIL.PngImagePlugin.PngImageFile image mode=RGB size=50x50 at 0x218E3A4A4F0>"
      ]
     },
     "execution_count": 5,
     "metadata": {},
     "output_type": "execute_result"
    }
   ],
   "source": [
    "preview_img = list(data_dir.glob('0/*'))\n",
    "PIL.Image.open(str(preview_img[0]))"
   ]
  },
  {
   "cell_type": "code",
   "execution_count": 6,
   "metadata": {},
   "outputs": [
    {
     "name": "stdout",
     "output_type": "stream",
     "text": [
      "Found 276397 files belonging to 2 classes.\n",
      "Using 193478 files for training.\n"
     ]
    }
   ],
   "source": [
    "train_ds = tf.keras.utils.image_dataset_from_directory(\n",
    "    data_dir,\n",
    "    label_mode='categorical',\n",
    "    validation_split=0.3,\n",
    "    subset=\"training\",\n",
    "    seed=123,\n",
    "    image_size=IMAGE_SIZE,\n",
    "    batch_size=BATCH_SIZE,\n",
    "    shuffle=True\n",
    ")"
   ]
  },
  {
   "cell_type": "code",
   "execution_count": 7,
   "metadata": {},
   "outputs": [
    {
     "name": "stdout",
     "output_type": "stream",
     "text": [
      "Found 276397 files belonging to 2 classes.\n",
      "Using 82919 files for validation.\n"
     ]
    }
   ],
   "source": [
    "val_ds = tf.keras.utils.image_dataset_from_directory(\n",
    "    data_dir,\n",
    "    label_mode='categorical',\n",
    "    validation_split=0.3,\n",
    "    subset=\"validation\",\n",
    "    seed=123,\n",
    "    image_size=IMAGE_SIZE,\n",
    "    batch_size=BATCH_SIZE,\n",
    "    shuffle=True\n",
    ")"
   ]
  },
  {
   "cell_type": "code",
   "execution_count": 8,
   "metadata": {},
   "outputs": [],
   "source": [
    "class_names = train_ds.class_names\n",
    "num_classes = len(class_names)"
   ]
  },
  {
   "cell_type": "code",
   "execution_count": 9,
   "metadata": {},
   "outputs": [],
   "source": [
    "val_bs = tf.data.experimental.cardinality(val_ds)\n",
    "test_ds = val_ds.take(val_bs // 5)\n",
    "val_ds = val_ds.skip(val_bs // 5)"
   ]
  },
  {
   "cell_type": "code",
   "execution_count": 10,
   "metadata": {},
   "outputs": [
    {
     "name": "stdout",
     "output_type": "stream",
     "text": [
      "Number of validation batches: 33\n",
      "Number of test batches: 8\n"
     ]
    }
   ],
   "source": [
    "print('Number of validation batches: %d' % tf.data.experimental.cardinality(val_ds))\n",
    "print('Number of test batches: %d' % tf.data.experimental.cardinality(test_ds))"
   ]
  },
  {
   "cell_type": "code",
   "execution_count": 11,
   "metadata": {},
   "outputs": [],
   "source": [
    "AUTOTUNE = tf.data.AUTOTUNE\n",
    "\n",
    "train_ds = train_ds.prefetch(buffer_size=AUTOTUNE)\n",
    "val_ds = val_ds.prefetch(buffer_size=AUTOTUNE)\n",
    "test_ds = test_ds.prefetch(buffer_size=AUTOTUNE)"
   ]
  },
  {
   "cell_type": "code",
   "execution_count": 12,
   "metadata": {},
   "outputs": [
    {
     "name": "stdout",
     "output_type": "stream",
     "text": [
      "Downloading data from https://storage.googleapis.com/tensorflow/keras-applications/mobilenet_v2/mobilenet_v2_weights_tf_dim_ordering_tf_kernels_1.0_96_no_top.h5\n",
      "9412608/9406464 [==============================] - 5s 1us/step\n",
      "9420800/9406464 [==============================] - 5s 1us/step\n"
     ]
    }
   ],
   "source": [
    "base_model = tf.keras.applications.mobilenet_v2.MobileNetV2(input_shape=IMG_SHAPE,\n",
    "                                               include_top=False,\n",
    "                                               weights='imagenet')"
   ]
  },
  {
   "cell_type": "code",
   "execution_count": 13,
   "metadata": {},
   "outputs": [
    {
     "name": "stdout",
     "output_type": "stream",
     "text": [
      "(2048, 3, 3, 1280)\n"
     ]
    }
   ],
   "source": [
    "image_batch, label_batch = next(iter(train_ds))\n",
    "feature_batch = base_model(image_batch)\n",
    "print(feature_batch.shape)"
   ]
  },
  {
   "cell_type": "code",
   "execution_count": 14,
   "metadata": {},
   "outputs": [],
   "source": [
    "base_model.trainable = False"
   ]
  },
  {
   "cell_type": "code",
   "execution_count": 15,
   "metadata": {},
   "outputs": [
    {
     "name": "stdout",
     "output_type": "stream",
     "text": [
      "Model: \"mobilenetv2_1.00_96\"\n",
      "__________________________________________________________________________________________________\n",
      "Layer (type)                    Output Shape         Param #     Connected to                     \n",
      "==================================================================================================\n",
      "input_1 (InputLayer)            [(None, 96, 96, 3)]  0                                            \n",
      "__________________________________________________________________________________________________\n",
      "Conv1 (Conv2D)                  (None, 48, 48, 32)   864         input_1[0][0]                    \n",
      "__________________________________________________________________________________________________\n",
      "bn_Conv1 (BatchNormalization)   (None, 48, 48, 32)   128         Conv1[0][0]                      \n",
      "__________________________________________________________________________________________________\n",
      "Conv1_relu (ReLU)               (None, 48, 48, 32)   0           bn_Conv1[0][0]                   \n",
      "__________________________________________________________________________________________________\n",
      "expanded_conv_depthwise (Depthw (None, 48, 48, 32)   288         Conv1_relu[0][0]                 \n",
      "__________________________________________________________________________________________________\n",
      "expanded_conv_depthwise_BN (Bat (None, 48, 48, 32)   128         expanded_conv_depthwise[0][0]    \n",
      "__________________________________________________________________________________________________\n",
      "expanded_conv_depthwise_relu (R (None, 48, 48, 32)   0           expanded_conv_depthwise_BN[0][0] \n",
      "__________________________________________________________________________________________________\n",
      "expanded_conv_project (Conv2D)  (None, 48, 48, 16)   512         expanded_conv_depthwise_relu[0][0\n",
      "__________________________________________________________________________________________________\n",
      "expanded_conv_project_BN (Batch (None, 48, 48, 16)   64          expanded_conv_project[0][0]      \n",
      "__________________________________________________________________________________________________\n",
      "block_1_expand (Conv2D)         (None, 48, 48, 96)   1536        expanded_conv_project_BN[0][0]   \n",
      "__________________________________________________________________________________________________\n",
      "block_1_expand_BN (BatchNormali (None, 48, 48, 96)   384         block_1_expand[0][0]             \n",
      "__________________________________________________________________________________________________\n",
      "block_1_expand_relu (ReLU)      (None, 48, 48, 96)   0           block_1_expand_BN[0][0]          \n",
      "__________________________________________________________________________________________________\n",
      "block_1_pad (ZeroPadding2D)     (None, 49, 49, 96)   0           block_1_expand_relu[0][0]        \n",
      "__________________________________________________________________________________________________\n",
      "block_1_depthwise (DepthwiseCon (None, 24, 24, 96)   864         block_1_pad[0][0]                \n",
      "__________________________________________________________________________________________________\n",
      "block_1_depthwise_BN (BatchNorm (None, 24, 24, 96)   384         block_1_depthwise[0][0]          \n",
      "__________________________________________________________________________________________________\n",
      "block_1_depthwise_relu (ReLU)   (None, 24, 24, 96)   0           block_1_depthwise_BN[0][0]       \n",
      "__________________________________________________________________________________________________\n",
      "block_1_project (Conv2D)        (None, 24, 24, 24)   2304        block_1_depthwise_relu[0][0]     \n",
      "__________________________________________________________________________________________________\n",
      "block_1_project_BN (BatchNormal (None, 24, 24, 24)   96          block_1_project[0][0]            \n",
      "__________________________________________________________________________________________________\n",
      "block_2_expand (Conv2D)         (None, 24, 24, 144)  3456        block_1_project_BN[0][0]         \n",
      "__________________________________________________________________________________________________\n",
      "block_2_expand_BN (BatchNormali (None, 24, 24, 144)  576         block_2_expand[0][0]             \n",
      "__________________________________________________________________________________________________\n",
      "block_2_expand_relu (ReLU)      (None, 24, 24, 144)  0           block_2_expand_BN[0][0]          \n",
      "__________________________________________________________________________________________________\n",
      "block_2_depthwise (DepthwiseCon (None, 24, 24, 144)  1296        block_2_expand_relu[0][0]        \n",
      "__________________________________________________________________________________________________\n",
      "block_2_depthwise_BN (BatchNorm (None, 24, 24, 144)  576         block_2_depthwise[0][0]          \n",
      "__________________________________________________________________________________________________\n",
      "block_2_depthwise_relu (ReLU)   (None, 24, 24, 144)  0           block_2_depthwise_BN[0][0]       \n",
      "__________________________________________________________________________________________________\n",
      "block_2_project (Conv2D)        (None, 24, 24, 24)   3456        block_2_depthwise_relu[0][0]     \n",
      "__________________________________________________________________________________________________\n",
      "block_2_project_BN (BatchNormal (None, 24, 24, 24)   96          block_2_project[0][0]            \n",
      "__________________________________________________________________________________________________\n",
      "block_2_add (Add)               (None, 24, 24, 24)   0           block_1_project_BN[0][0]         \n",
      "                                                                 block_2_project_BN[0][0]         \n",
      "__________________________________________________________________________________________________\n",
      "block_3_expand (Conv2D)         (None, 24, 24, 144)  3456        block_2_add[0][0]                \n",
      "__________________________________________________________________________________________________\n",
      "block_3_expand_BN (BatchNormali (None, 24, 24, 144)  576         block_3_expand[0][0]             \n",
      "__________________________________________________________________________________________________\n",
      "block_3_expand_relu (ReLU)      (None, 24, 24, 144)  0           block_3_expand_BN[0][0]          \n",
      "__________________________________________________________________________________________________\n",
      "block_3_pad (ZeroPadding2D)     (None, 25, 25, 144)  0           block_3_expand_relu[0][0]        \n",
      "__________________________________________________________________________________________________\n",
      "block_3_depthwise (DepthwiseCon (None, 12, 12, 144)  1296        block_3_pad[0][0]                \n",
      "__________________________________________________________________________________________________\n",
      "block_3_depthwise_BN (BatchNorm (None, 12, 12, 144)  576         block_3_depthwise[0][0]          \n",
      "__________________________________________________________________________________________________\n",
      "block_3_depthwise_relu (ReLU)   (None, 12, 12, 144)  0           block_3_depthwise_BN[0][0]       \n",
      "__________________________________________________________________________________________________\n",
      "block_3_project (Conv2D)        (None, 12, 12, 32)   4608        block_3_depthwise_relu[0][0]     \n",
      "__________________________________________________________________________________________________\n",
      "block_3_project_BN (BatchNormal (None, 12, 12, 32)   128         block_3_project[0][0]            \n",
      "__________________________________________________________________________________________________\n",
      "block_4_expand (Conv2D)         (None, 12, 12, 192)  6144        block_3_project_BN[0][0]         \n",
      "__________________________________________________________________________________________________\n",
      "block_4_expand_BN (BatchNormali (None, 12, 12, 192)  768         block_4_expand[0][0]             \n",
      "__________________________________________________________________________________________________\n",
      "block_4_expand_relu (ReLU)      (None, 12, 12, 192)  0           block_4_expand_BN[0][0]          \n",
      "__________________________________________________________________________________________________\n",
      "block_4_depthwise (DepthwiseCon (None, 12, 12, 192)  1728        block_4_expand_relu[0][0]        \n",
      "__________________________________________________________________________________________________\n",
      "block_4_depthwise_BN (BatchNorm (None, 12, 12, 192)  768         block_4_depthwise[0][0]          \n",
      "__________________________________________________________________________________________________\n",
      "block_4_depthwise_relu (ReLU)   (None, 12, 12, 192)  0           block_4_depthwise_BN[0][0]       \n",
      "__________________________________________________________________________________________________\n",
      "block_4_project (Conv2D)        (None, 12, 12, 32)   6144        block_4_depthwise_relu[0][0]     \n",
      "__________________________________________________________________________________________________\n",
      "block_4_project_BN (BatchNormal (None, 12, 12, 32)   128         block_4_project[0][0]            \n",
      "__________________________________________________________________________________________________\n",
      "block_4_add (Add)               (None, 12, 12, 32)   0           block_3_project_BN[0][0]         \n",
      "                                                                 block_4_project_BN[0][0]         \n",
      "__________________________________________________________________________________________________\n",
      "block_5_expand (Conv2D)         (None, 12, 12, 192)  6144        block_4_add[0][0]                \n",
      "__________________________________________________________________________________________________\n",
      "block_5_expand_BN (BatchNormali (None, 12, 12, 192)  768         block_5_expand[0][0]             \n",
      "__________________________________________________________________________________________________\n",
      "block_5_expand_relu (ReLU)      (None, 12, 12, 192)  0           block_5_expand_BN[0][0]          \n",
      "__________________________________________________________________________________________________\n",
      "block_5_depthwise (DepthwiseCon (None, 12, 12, 192)  1728        block_5_expand_relu[0][0]        \n",
      "__________________________________________________________________________________________________\n",
      "block_5_depthwise_BN (BatchNorm (None, 12, 12, 192)  768         block_5_depthwise[0][0]          \n",
      "__________________________________________________________________________________________________\n",
      "block_5_depthwise_relu (ReLU)   (None, 12, 12, 192)  0           block_5_depthwise_BN[0][0]       \n",
      "__________________________________________________________________________________________________\n",
      "block_5_project (Conv2D)        (None, 12, 12, 32)   6144        block_5_depthwise_relu[0][0]     \n",
      "__________________________________________________________________________________________________\n",
      "block_5_project_BN (BatchNormal (None, 12, 12, 32)   128         block_5_project[0][0]            \n",
      "__________________________________________________________________________________________________\n",
      "block_5_add (Add)               (None, 12, 12, 32)   0           block_4_add[0][0]                \n",
      "                                                                 block_5_project_BN[0][0]         \n",
      "__________________________________________________________________________________________________\n",
      "block_6_expand (Conv2D)         (None, 12, 12, 192)  6144        block_5_add[0][0]                \n",
      "__________________________________________________________________________________________________\n",
      "block_6_expand_BN (BatchNormali (None, 12, 12, 192)  768         block_6_expand[0][0]             \n",
      "__________________________________________________________________________________________________\n",
      "block_6_expand_relu (ReLU)      (None, 12, 12, 192)  0           block_6_expand_BN[0][0]          \n",
      "__________________________________________________________________________________________________\n",
      "block_6_pad (ZeroPadding2D)     (None, 13, 13, 192)  0           block_6_expand_relu[0][0]        \n",
      "__________________________________________________________________________________________________\n",
      "block_6_depthwise (DepthwiseCon (None, 6, 6, 192)    1728        block_6_pad[0][0]                \n",
      "__________________________________________________________________________________________________\n",
      "block_6_depthwise_BN (BatchNorm (None, 6, 6, 192)    768         block_6_depthwise[0][0]          \n",
      "__________________________________________________________________________________________________\n",
      "block_6_depthwise_relu (ReLU)   (None, 6, 6, 192)    0           block_6_depthwise_BN[0][0]       \n",
      "__________________________________________________________________________________________________\n",
      "block_6_project (Conv2D)        (None, 6, 6, 64)     12288       block_6_depthwise_relu[0][0]     \n",
      "__________________________________________________________________________________________________\n",
      "block_6_project_BN (BatchNormal (None, 6, 6, 64)     256         block_6_project[0][0]            \n",
      "__________________________________________________________________________________________________\n",
      "block_7_expand (Conv2D)         (None, 6, 6, 384)    24576       block_6_project_BN[0][0]         \n",
      "__________________________________________________________________________________________________\n",
      "block_7_expand_BN (BatchNormali (None, 6, 6, 384)    1536        block_7_expand[0][0]             \n",
      "__________________________________________________________________________________________________\n",
      "block_7_expand_relu (ReLU)      (None, 6, 6, 384)    0           block_7_expand_BN[0][0]          \n",
      "__________________________________________________________________________________________________\n",
      "block_7_depthwise (DepthwiseCon (None, 6, 6, 384)    3456        block_7_expand_relu[0][0]        \n",
      "__________________________________________________________________________________________________\n",
      "block_7_depthwise_BN (BatchNorm (None, 6, 6, 384)    1536        block_7_depthwise[0][0]          \n",
      "__________________________________________________________________________________________________\n",
      "block_7_depthwise_relu (ReLU)   (None, 6, 6, 384)    0           block_7_depthwise_BN[0][0]       \n",
      "__________________________________________________________________________________________________\n",
      "block_7_project (Conv2D)        (None, 6, 6, 64)     24576       block_7_depthwise_relu[0][0]     \n",
      "__________________________________________________________________________________________________\n",
      "block_7_project_BN (BatchNormal (None, 6, 6, 64)     256         block_7_project[0][0]            \n",
      "__________________________________________________________________________________________________\n",
      "block_7_add (Add)               (None, 6, 6, 64)     0           block_6_project_BN[0][0]         \n",
      "                                                                 block_7_project_BN[0][0]         \n",
      "__________________________________________________________________________________________________\n",
      "block_8_expand (Conv2D)         (None, 6, 6, 384)    24576       block_7_add[0][0]                \n",
      "__________________________________________________________________________________________________\n",
      "block_8_expand_BN (BatchNormali (None, 6, 6, 384)    1536        block_8_expand[0][0]             \n",
      "__________________________________________________________________________________________________\n",
      "block_8_expand_relu (ReLU)      (None, 6, 6, 384)    0           block_8_expand_BN[0][0]          \n",
      "__________________________________________________________________________________________________\n",
      "block_8_depthwise (DepthwiseCon (None, 6, 6, 384)    3456        block_8_expand_relu[0][0]        \n",
      "__________________________________________________________________________________________________\n",
      "block_8_depthwise_BN (BatchNorm (None, 6, 6, 384)    1536        block_8_depthwise[0][0]          \n",
      "__________________________________________________________________________________________________\n",
      "block_8_depthwise_relu (ReLU)   (None, 6, 6, 384)    0           block_8_depthwise_BN[0][0]       \n",
      "__________________________________________________________________________________________________\n",
      "block_8_project (Conv2D)        (None, 6, 6, 64)     24576       block_8_depthwise_relu[0][0]     \n",
      "__________________________________________________________________________________________________\n",
      "block_8_project_BN (BatchNormal (None, 6, 6, 64)     256         block_8_project[0][0]            \n",
      "__________________________________________________________________________________________________\n",
      "block_8_add (Add)               (None, 6, 6, 64)     0           block_7_add[0][0]                \n",
      "                                                                 block_8_project_BN[0][0]         \n",
      "__________________________________________________________________________________________________\n",
      "block_9_expand (Conv2D)         (None, 6, 6, 384)    24576       block_8_add[0][0]                \n",
      "__________________________________________________________________________________________________\n",
      "block_9_expand_BN (BatchNormali (None, 6, 6, 384)    1536        block_9_expand[0][0]             \n",
      "__________________________________________________________________________________________________\n",
      "block_9_expand_relu (ReLU)      (None, 6, 6, 384)    0           block_9_expand_BN[0][0]          \n",
      "__________________________________________________________________________________________________\n",
      "block_9_depthwise (DepthwiseCon (None, 6, 6, 384)    3456        block_9_expand_relu[0][0]        \n",
      "__________________________________________________________________________________________________\n",
      "block_9_depthwise_BN (BatchNorm (None, 6, 6, 384)    1536        block_9_depthwise[0][0]          \n",
      "__________________________________________________________________________________________________\n",
      "block_9_depthwise_relu (ReLU)   (None, 6, 6, 384)    0           block_9_depthwise_BN[0][0]       \n",
      "__________________________________________________________________________________________________\n",
      "block_9_project (Conv2D)        (None, 6, 6, 64)     24576       block_9_depthwise_relu[0][0]     \n",
      "__________________________________________________________________________________________________\n",
      "block_9_project_BN (BatchNormal (None, 6, 6, 64)     256         block_9_project[0][0]            \n",
      "__________________________________________________________________________________________________\n",
      "block_9_add (Add)               (None, 6, 6, 64)     0           block_8_add[0][0]                \n",
      "                                                                 block_9_project_BN[0][0]         \n",
      "__________________________________________________________________________________________________\n",
      "block_10_expand (Conv2D)        (None, 6, 6, 384)    24576       block_9_add[0][0]                \n",
      "__________________________________________________________________________________________________\n",
      "block_10_expand_BN (BatchNormal (None, 6, 6, 384)    1536        block_10_expand[0][0]            \n",
      "__________________________________________________________________________________________________\n",
      "block_10_expand_relu (ReLU)     (None, 6, 6, 384)    0           block_10_expand_BN[0][0]         \n",
      "__________________________________________________________________________________________________\n",
      "block_10_depthwise (DepthwiseCo (None, 6, 6, 384)    3456        block_10_expand_relu[0][0]       \n",
      "__________________________________________________________________________________________________\n",
      "block_10_depthwise_BN (BatchNor (None, 6, 6, 384)    1536        block_10_depthwise[0][0]         \n",
      "__________________________________________________________________________________________________\n",
      "block_10_depthwise_relu (ReLU)  (None, 6, 6, 384)    0           block_10_depthwise_BN[0][0]      \n",
      "__________________________________________________________________________________________________\n",
      "block_10_project (Conv2D)       (None, 6, 6, 96)     36864       block_10_depthwise_relu[0][0]    \n",
      "__________________________________________________________________________________________________\n",
      "block_10_project_BN (BatchNorma (None, 6, 6, 96)     384         block_10_project[0][0]           \n",
      "__________________________________________________________________________________________________\n",
      "block_11_expand (Conv2D)        (None, 6, 6, 576)    55296       block_10_project_BN[0][0]        \n",
      "__________________________________________________________________________________________________\n",
      "block_11_expand_BN (BatchNormal (None, 6, 6, 576)    2304        block_11_expand[0][0]            \n",
      "__________________________________________________________________________________________________\n",
      "block_11_expand_relu (ReLU)     (None, 6, 6, 576)    0           block_11_expand_BN[0][0]         \n",
      "__________________________________________________________________________________________________\n",
      "block_11_depthwise (DepthwiseCo (None, 6, 6, 576)    5184        block_11_expand_relu[0][0]       \n",
      "__________________________________________________________________________________________________\n",
      "block_11_depthwise_BN (BatchNor (None, 6, 6, 576)    2304        block_11_depthwise[0][0]         \n",
      "__________________________________________________________________________________________________\n",
      "block_11_depthwise_relu (ReLU)  (None, 6, 6, 576)    0           block_11_depthwise_BN[0][0]      \n",
      "__________________________________________________________________________________________________\n",
      "block_11_project (Conv2D)       (None, 6, 6, 96)     55296       block_11_depthwise_relu[0][0]    \n",
      "__________________________________________________________________________________________________\n",
      "block_11_project_BN (BatchNorma (None, 6, 6, 96)     384         block_11_project[0][0]           \n",
      "__________________________________________________________________________________________________\n",
      "block_11_add (Add)              (None, 6, 6, 96)     0           block_10_project_BN[0][0]        \n",
      "                                                                 block_11_project_BN[0][0]        \n",
      "__________________________________________________________________________________________________\n",
      "block_12_expand (Conv2D)        (None, 6, 6, 576)    55296       block_11_add[0][0]               \n",
      "__________________________________________________________________________________________________\n",
      "block_12_expand_BN (BatchNormal (None, 6, 6, 576)    2304        block_12_expand[0][0]            \n",
      "__________________________________________________________________________________________________\n",
      "block_12_expand_relu (ReLU)     (None, 6, 6, 576)    0           block_12_expand_BN[0][0]         \n",
      "__________________________________________________________________________________________________\n",
      "block_12_depthwise (DepthwiseCo (None, 6, 6, 576)    5184        block_12_expand_relu[0][0]       \n",
      "__________________________________________________________________________________________________\n",
      "block_12_depthwise_BN (BatchNor (None, 6, 6, 576)    2304        block_12_depthwise[0][0]         \n",
      "__________________________________________________________________________________________________\n",
      "block_12_depthwise_relu (ReLU)  (None, 6, 6, 576)    0           block_12_depthwise_BN[0][0]      \n",
      "__________________________________________________________________________________________________\n",
      "block_12_project (Conv2D)       (None, 6, 6, 96)     55296       block_12_depthwise_relu[0][0]    \n",
      "__________________________________________________________________________________________________\n",
      "block_12_project_BN (BatchNorma (None, 6, 6, 96)     384         block_12_project[0][0]           \n",
      "__________________________________________________________________________________________________\n",
      "block_12_add (Add)              (None, 6, 6, 96)     0           block_11_add[0][0]               \n",
      "                                                                 block_12_project_BN[0][0]        \n",
      "__________________________________________________________________________________________________\n",
      "block_13_expand (Conv2D)        (None, 6, 6, 576)    55296       block_12_add[0][0]               \n",
      "__________________________________________________________________________________________________\n",
      "block_13_expand_BN (BatchNormal (None, 6, 6, 576)    2304        block_13_expand[0][0]            \n",
      "__________________________________________________________________________________________________\n",
      "block_13_expand_relu (ReLU)     (None, 6, 6, 576)    0           block_13_expand_BN[0][0]         \n",
      "__________________________________________________________________________________________________\n",
      "block_13_pad (ZeroPadding2D)    (None, 7, 7, 576)    0           block_13_expand_relu[0][0]       \n",
      "__________________________________________________________________________________________________\n",
      "block_13_depthwise (DepthwiseCo (None, 3, 3, 576)    5184        block_13_pad[0][0]               \n",
      "__________________________________________________________________________________________________\n",
      "block_13_depthwise_BN (BatchNor (None, 3, 3, 576)    2304        block_13_depthwise[0][0]         \n",
      "__________________________________________________________________________________________________\n",
      "block_13_depthwise_relu (ReLU)  (None, 3, 3, 576)    0           block_13_depthwise_BN[0][0]      \n",
      "__________________________________________________________________________________________________\n",
      "block_13_project (Conv2D)       (None, 3, 3, 160)    92160       block_13_depthwise_relu[0][0]    \n",
      "__________________________________________________________________________________________________\n",
      "block_13_project_BN (BatchNorma (None, 3, 3, 160)    640         block_13_project[0][0]           \n",
      "__________________________________________________________________________________________________\n",
      "block_14_expand (Conv2D)        (None, 3, 3, 960)    153600      block_13_project_BN[0][0]        \n",
      "__________________________________________________________________________________________________\n",
      "block_14_expand_BN (BatchNormal (None, 3, 3, 960)    3840        block_14_expand[0][0]            \n",
      "__________________________________________________________________________________________________\n",
      "block_14_expand_relu (ReLU)     (None, 3, 3, 960)    0           block_14_expand_BN[0][0]         \n",
      "__________________________________________________________________________________________________\n",
      "block_14_depthwise (DepthwiseCo (None, 3, 3, 960)    8640        block_14_expand_relu[0][0]       \n",
      "__________________________________________________________________________________________________\n",
      "block_14_depthwise_BN (BatchNor (None, 3, 3, 960)    3840        block_14_depthwise[0][0]         \n",
      "__________________________________________________________________________________________________\n",
      "block_14_depthwise_relu (ReLU)  (None, 3, 3, 960)    0           block_14_depthwise_BN[0][0]      \n",
      "__________________________________________________________________________________________________\n",
      "block_14_project (Conv2D)       (None, 3, 3, 160)    153600      block_14_depthwise_relu[0][0]    \n",
      "__________________________________________________________________________________________________\n",
      "block_14_project_BN (BatchNorma (None, 3, 3, 160)    640         block_14_project[0][0]           \n",
      "__________________________________________________________________________________________________\n",
      "block_14_add (Add)              (None, 3, 3, 160)    0           block_13_project_BN[0][0]        \n",
      "                                                                 block_14_project_BN[0][0]        \n",
      "__________________________________________________________________________________________________\n",
      "block_15_expand (Conv2D)        (None, 3, 3, 960)    153600      block_14_add[0][0]               \n",
      "__________________________________________________________________________________________________\n",
      "block_15_expand_BN (BatchNormal (None, 3, 3, 960)    3840        block_15_expand[0][0]            \n",
      "__________________________________________________________________________________________________\n",
      "block_15_expand_relu (ReLU)     (None, 3, 3, 960)    0           block_15_expand_BN[0][0]         \n",
      "__________________________________________________________________________________________________\n",
      "block_15_depthwise (DepthwiseCo (None, 3, 3, 960)    8640        block_15_expand_relu[0][0]       \n",
      "__________________________________________________________________________________________________\n",
      "block_15_depthwise_BN (BatchNor (None, 3, 3, 960)    3840        block_15_depthwise[0][0]         \n",
      "__________________________________________________________________________________________________\n",
      "block_15_depthwise_relu (ReLU)  (None, 3, 3, 960)    0           block_15_depthwise_BN[0][0]      \n",
      "__________________________________________________________________________________________________\n",
      "block_15_project (Conv2D)       (None, 3, 3, 160)    153600      block_15_depthwise_relu[0][0]    \n",
      "__________________________________________________________________________________________________\n",
      "block_15_project_BN (BatchNorma (None, 3, 3, 160)    640         block_15_project[0][0]           \n",
      "__________________________________________________________________________________________________\n",
      "block_15_add (Add)              (None, 3, 3, 160)    0           block_14_add[0][0]               \n",
      "                                                                 block_15_project_BN[0][0]        \n",
      "__________________________________________________________________________________________________\n",
      "block_16_expand (Conv2D)        (None, 3, 3, 960)    153600      block_15_add[0][0]               \n",
      "__________________________________________________________________________________________________\n",
      "block_16_expand_BN (BatchNormal (None, 3, 3, 960)    3840        block_16_expand[0][0]            \n",
      "__________________________________________________________________________________________________\n",
      "block_16_expand_relu (ReLU)     (None, 3, 3, 960)    0           block_16_expand_BN[0][0]         \n",
      "__________________________________________________________________________________________________\n",
      "block_16_depthwise (DepthwiseCo (None, 3, 3, 960)    8640        block_16_expand_relu[0][0]       \n",
      "__________________________________________________________________________________________________\n",
      "block_16_depthwise_BN (BatchNor (None, 3, 3, 960)    3840        block_16_depthwise[0][0]         \n",
      "__________________________________________________________________________________________________\n",
      "block_16_depthwise_relu (ReLU)  (None, 3, 3, 960)    0           block_16_depthwise_BN[0][0]      \n",
      "__________________________________________________________________________________________________\n",
      "block_16_project (Conv2D)       (None, 3, 3, 320)    307200      block_16_depthwise_relu[0][0]    \n",
      "__________________________________________________________________________________________________\n",
      "block_16_project_BN (BatchNorma (None, 3, 3, 320)    1280        block_16_project[0][0]           \n",
      "__________________________________________________________________________________________________\n",
      "Conv_1 (Conv2D)                 (None, 3, 3, 1280)   409600      block_16_project_BN[0][0]        \n",
      "__________________________________________________________________________________________________\n",
      "Conv_1_bn (BatchNormalization)  (None, 3, 3, 1280)   5120        Conv_1[0][0]                     \n",
      "__________________________________________________________________________________________________\n",
      "out_relu (ReLU)                 (None, 3, 3, 1280)   0           Conv_1_bn[0][0]                  \n",
      "==================================================================================================\n",
      "Total params: 2,257,984\n",
      "Trainable params: 0\n",
      "Non-trainable params: 2,257,984\n",
      "__________________________________________________________________________________________________\n"
     ]
    }
   ],
   "source": [
    "base_model.summary()"
   ]
  },
  {
   "cell_type": "code",
   "execution_count": 16,
   "metadata": {},
   "outputs": [
    {
     "name": "stdout",
     "output_type": "stream",
     "text": [
      "(2048, 1280)\n"
     ]
    }
   ],
   "source": [
    "global_average_layer = tf.keras.layers.GlobalAveragePooling2D()\n",
    "feature_batch_average = global_average_layer(feature_batch)\n",
    "print(feature_batch_average.shape)"
   ]
  },
  {
   "cell_type": "code",
   "execution_count": 17,
   "metadata": {},
   "outputs": [
    {
     "name": "stdout",
     "output_type": "stream",
     "text": [
      "(2048, 2)\n"
     ]
    }
   ],
   "source": [
    "prediction_layer = tf.keras.layers.Dense(num_classes, activation='softmax')\n",
    "prediction_batch = prediction_layer(feature_batch_average)\n",
    "print(prediction_batch.shape)"
   ]
  },
  {
   "cell_type": "code",
   "execution_count": 18,
   "metadata": {},
   "outputs": [],
   "source": [
    "inputs = tf.keras.Input(shape=IMG_SHAPE)\n",
    "x = base_model(inputs, training=False)\n",
    "x = global_average_layer(x)\n",
    "x = tf.keras.layers.Dropout(0.2)(x)\n",
    "outputs = prediction_layer(x)\n",
    "model = tf.keras.Model(inputs, outputs)"
   ]
  },
  {
   "cell_type": "code",
   "execution_count": 19,
   "metadata": {},
   "outputs": [],
   "source": [
    "base_learning_rate = 1e-03\n",
    "model.compile(optimizer=tf.keras.optimizers.Adam(learning_rate=base_learning_rate),\n",
    "              loss=tf.keras.losses.CategoricalCrossentropy(),\n",
    "              metrics=['accuracy'])"
   ]
  },
  {
   "cell_type": "code",
   "execution_count": 20,
   "metadata": {},
   "outputs": [
    {
     "name": "stdout",
     "output_type": "stream",
     "text": [
      "Model: \"model\"\n",
      "_________________________________________________________________\n",
      "Layer (type)                 Output Shape              Param #   \n",
      "=================================================================\n",
      "input_2 (InputLayer)         [(None, 96, 96, 3)]       0         \n",
      "_________________________________________________________________\n",
      "mobilenetv2_1.00_96 (Functio (None, 3, 3, 1280)        2257984   \n",
      "_________________________________________________________________\n",
      "global_average_pooling2d (Gl (None, 1280)              0         \n",
      "_________________________________________________________________\n",
      "dropout (Dropout)            (None, 1280)              0         \n",
      "_________________________________________________________________\n",
      "dense (Dense)                (None, 2)                 2562      \n",
      "=================================================================\n",
      "Total params: 2,260,546\n",
      "Trainable params: 2,562\n",
      "Non-trainable params: 2,257,984\n",
      "_________________________________________________________________\n"
     ]
    }
   ],
   "source": [
    "model.summary()"
   ]
  },
  {
   "cell_type": "code",
   "execution_count": 21,
   "metadata": {},
   "outputs": [
    {
     "data": {
      "text/plain": [
       "2"
      ]
     },
     "execution_count": 21,
     "metadata": {},
     "output_type": "execute_result"
    }
   ],
   "source": [
    "len(model.trainable_variables)"
   ]
  },
  {
   "cell_type": "code",
   "execution_count": 22,
   "metadata": {},
   "outputs": [
    {
     "name": "stdout",
     "output_type": "stream",
     "text": [
      "33/33 [==============================] - 29s 369ms/step - loss: 0.9551 - accuracy: 0.7127\n",
      "initial loss: 0.96\n",
      "initial accuracy: 0.71\n"
     ]
    }
   ],
   "source": [
    "initial_epochs = 25\n",
    "\n",
    "loss0, accuracy0 = model.evaluate(val_ds)\n",
    "print(\"initial loss: {:.2f}\".format(loss0))\n",
    "print(\"initial accuracy: {:.2f}\".format(accuracy0))"
   ]
  },
  {
   "cell_type": "code",
   "execution_count": 23,
   "metadata": {},
   "outputs": [
    {
     "name": "stdout",
     "output_type": "stream",
     "text": [
      "Epoch 1/50\n",
      "95/95 [==============================] - 65s 628ms/step - loss: 0.5468 - accuracy: 0.7486 - val_loss: 0.4498 - val_accuracy: 0.7984\n",
      "Epoch 2/50\n",
      "95/95 [==============================] - 62s 616ms/step - loss: 0.4701 - accuracy: 0.7880 - val_loss: 0.4365 - val_accuracy: 0.8069\n",
      "Epoch 3/50\n",
      "95/95 [==============================] - 62s 618ms/step - loss: 0.4474 - accuracy: 0.8001 - val_loss: 0.4295 - val_accuracy: 0.8116\n",
      "Epoch 4/50\n",
      "95/95 [==============================] - 64s 640ms/step - loss: 0.4390 - accuracy: 0.8051 - val_loss: 0.4290 - val_accuracy: 0.8116\n",
      "Epoch 5/50\n",
      "95/95 [==============================] - 65s 650ms/step - loss: 0.4354 - accuracy: 0.8072 - val_loss: 0.4296 - val_accuracy: 0.8117\n",
      "Epoch 6/50\n",
      "95/95 [==============================] - 83s 844ms/step - loss: 0.4342 - accuracy: 0.8081 - val_loss: 0.4288 - val_accuracy: 0.8116\n",
      "Epoch 7/50\n",
      "95/95 [==============================] - 69s 696ms/step - loss: 0.4320 - accuracy: 0.8097 - val_loss: 0.4231 - val_accuracy: 0.8147\n",
      "Epoch 8/50\n",
      "95/95 [==============================] - 69s 690ms/step - loss: 0.4319 - accuracy: 0.8086 - val_loss: 0.4217 - val_accuracy: 0.8155\n",
      "Epoch 9/50\n",
      "95/95 [==============================] - 78s 790ms/step - loss: 0.4320 - accuracy: 0.8086 - val_loss: 0.4242 - val_accuracy: 0.8134\n",
      "Epoch 10/50\n",
      "95/95 [==============================] - 73s 729ms/step - loss: 0.4305 - accuracy: 0.8098 - val_loss: 0.4233 - val_accuracy: 0.8145\n",
      "Epoch 11/50\n",
      "95/95 [==============================] - 75s 753ms/step - loss: 0.4311 - accuracy: 0.8096 - val_loss: 0.4270 - val_accuracy: 0.8116\n",
      "Epoch 12/50\n",
      "95/95 [==============================] - 101s 1s/step - loss: 0.4307 - accuracy: 0.8093 - val_loss: 0.4217 - val_accuracy: 0.8154\n",
      "Epoch 13/50\n",
      "95/95 [==============================] - 112s 1s/step - loss: 0.4305 - accuracy: 0.8100 - val_loss: 0.4216 - val_accuracy: 0.8152\n",
      "Epoch 14/50\n",
      "95/95 [==============================] - 80s 810ms/step - loss: 0.4297 - accuracy: 0.8099 - val_loss: 0.4226 - val_accuracy: 0.8145\n",
      "Epoch 15/50\n",
      "95/95 [==============================] - 77s 776ms/step - loss: 0.4304 - accuracy: 0.8095 - val_loss: 0.4234 - val_accuracy: 0.8143\n",
      "Epoch 16/50\n",
      "95/95 [==============================] - 83s 837ms/step - loss: 0.4306 - accuracy: 0.8100 - val_loss: 0.4230 - val_accuracy: 0.8144\n",
      "Epoch 17/50\n",
      "95/95 [==============================] - 83s 834ms/step - loss: 0.4299 - accuracy: 0.8107 - val_loss: 0.4195 - val_accuracy: 0.8165\n",
      "Epoch 18/50\n",
      "95/95 [==============================] - 186s 2s/step - loss: 0.4299 - accuracy: 0.8098 - val_loss: 0.4205 - val_accuracy: 0.8160\n",
      "Epoch 19/50\n",
      "95/95 [==============================] - 192s 2s/step - loss: 0.4292 - accuracy: 0.8108 - val_loss: 0.4256 - val_accuracy: 0.8135\n",
      "Epoch 20/50\n",
      "95/95 [==============================] - 100s 1s/step - loss: 0.4306 - accuracy: 0.8092 - val_loss: 0.4209 - val_accuracy: 0.8157\n",
      "Epoch 21/50\n",
      "95/95 [==============================] - 90s 901ms/step - loss: 0.4300 - accuracy: 0.8107 - val_loss: 0.4208 - val_accuracy: 0.8157\n",
      "Epoch 22/50\n",
      "95/95 [==============================] - 87s 876ms/step - loss: 0.4306 - accuracy: 0.8095 - val_loss: 0.4202 - val_accuracy: 0.8168\n",
      "Epoch 23/50\n",
      "95/95 [==============================] - 85s 854ms/step - loss: 0.4293 - accuracy: 0.8105 - val_loss: 0.4202 - val_accuracy: 0.8162\n",
      "Epoch 24/50\n",
      "95/95 [==============================] - 107s 1s/step - loss: 0.4299 - accuracy: 0.8102 - val_loss: 0.4193 - val_accuracy: 0.8171\n",
      "Epoch 25/50\n",
      "95/95 [==============================] - 175s 2s/step - loss: 0.4302 - accuracy: 0.8104 - val_loss: 0.4213 - val_accuracy: 0.8151\n",
      "Epoch 26/50\n",
      "95/95 [==============================] - 185s 2s/step - loss: 0.4298 - accuracy: 0.8103 - val_loss: 0.4201 - val_accuracy: 0.8163\n",
      "Epoch 27/50\n",
      "95/95 [==============================] - 240s 2s/step - loss: 0.4294 - accuracy: 0.8105 - val_loss: 0.4209 - val_accuracy: 0.8155\n",
      "Epoch 28/50\n",
      "95/95 [==============================] - 164s 2s/step - loss: 0.4294 - accuracy: 0.8103 - val_loss: 0.4227 - val_accuracy: 0.8149\n",
      "Epoch 29/50\n",
      "95/95 [==============================] - 93s 938ms/step - loss: 0.4296 - accuracy: 0.8101 - val_loss: 0.4191 - val_accuracy: 0.8169\n",
      "Epoch 30/50\n",
      "95/95 [==============================] - 91s 916ms/step - loss: 0.4289 - accuracy: 0.8103 - val_loss: 0.4214 - val_accuracy: 0.8158\n",
      "Epoch 31/50\n",
      "95/95 [==============================] - 94s 945ms/step - loss: 0.4291 - accuracy: 0.8109 - val_loss: 0.4190 - val_accuracy: 0.8169\n",
      "Epoch 32/50\n",
      "95/95 [==============================] - 92s 924ms/step - loss: 0.4289 - accuracy: 0.8108 - val_loss: 0.4245 - val_accuracy: 0.8123\n",
      "Epoch 33/50\n",
      "95/95 [==============================] - 122s 1s/step - loss: 0.4299 - accuracy: 0.8102 - val_loss: 0.4218 - val_accuracy: 0.8153\n",
      "Epoch 34/50\n",
      "95/95 [==============================] - 127s 1s/step - loss: 0.4305 - accuracy: 0.8101 - val_loss: 0.4199 - val_accuracy: 0.8162\n",
      "Epoch 35/50\n",
      "95/95 [==============================] - 200s 2s/step - loss: 0.4293 - accuracy: 0.8105 - val_loss: 0.4226 - val_accuracy: 0.8149\n",
      "Epoch 36/50\n",
      "95/95 [==============================] - 194s 2s/step - loss: 0.4300 - accuracy: 0.8098 - val_loss: 0.4197 - val_accuracy: 0.8164\n",
      "Epoch 37/50\n",
      "95/95 [==============================] - 122s 1s/step - loss: 0.4295 - accuracy: 0.8106 - val_loss: 0.4279 - val_accuracy: 0.8116\n",
      "Epoch 38/50\n",
      "95/95 [==============================] - 250s 2s/step - loss: 0.4292 - accuracy: 0.8108 - val_loss: 0.4239 - val_accuracy: 0.8143\n",
      "Epoch 39/50\n",
      "95/95 [==============================] - 183s 2s/step - loss: 0.4300 - accuracy: 0.8101 - val_loss: 0.4218 - val_accuracy: 0.8157\n",
      "Epoch 40/50\n",
      "95/95 [==============================] - 97s 975ms/step - loss: 0.4287 - accuracy: 0.8109 - val_loss: 0.4213 - val_accuracy: 0.8158\n",
      "Epoch 41/50\n",
      "95/95 [==============================] - 95s 960ms/step - loss: 0.4295 - accuracy: 0.8106 - val_loss: 0.4218 - val_accuracy: 0.8158\n",
      "Epoch 42/50\n",
      "95/95 [==============================] - 98s 992ms/step - loss: 0.4287 - accuracy: 0.8107 - val_loss: 0.4202 - val_accuracy: 0.8159\n",
      "Epoch 43/50\n",
      "95/95 [==============================] - 95s 952ms/step - loss: 0.4290 - accuracy: 0.8100 - val_loss: 0.4204 - val_accuracy: 0.8164\n",
      "Epoch 44/50\n",
      "95/95 [==============================] - 95s 953ms/step - loss: 0.4289 - accuracy: 0.8103 - val_loss: 0.4205 - val_accuracy: 0.8158\n",
      "Epoch 45/50\n",
      "95/95 [==============================] - 95s 961ms/step - loss: 0.4287 - accuracy: 0.8109 - val_loss: 0.4258 - val_accuracy: 0.8131\n",
      "Epoch 46/50\n",
      "95/95 [==============================] - 104s 1s/step - loss: 0.4290 - accuracy: 0.8103 - val_loss: 0.4218 - val_accuracy: 0.8157\n",
      "Epoch 47/50\n",
      "95/95 [==============================] - 211s 2s/step - loss: 0.4293 - accuracy: 0.8104 - val_loss: 0.4213 - val_accuracy: 0.8156\n",
      "Epoch 48/50\n",
      "95/95 [==============================] - 220s 2s/step - loss: 0.4297 - accuracy: 0.8107 - val_loss: 0.4199 - val_accuracy: 0.8165\n",
      "Epoch 49/50\n",
      "95/95 [==============================] - 165s 2s/step - loss: 0.4292 - accuracy: 0.8108 - val_loss: 0.4233 - val_accuracy: 0.8142\n",
      "Epoch 50/50\n",
      "95/95 [==============================] - 141s 1s/step - loss: 0.4293 - accuracy: 0.8105 - val_loss: 0.4209 - val_accuracy: 0.8159\n"
     ]
    }
   ],
   "source": [
    "history = model.fit(train_ds,\n",
    "                    epochs=initial_epochs,\n",
    "                    validation_data=val_ds)"
   ]
  },
  {
   "cell_type": "code",
   "execution_count": null,
   "metadata": {},
   "outputs": [],
   "source": [
    "acc = history.history['accuracy']\n",
    "val_acc = history.history['val_accuracy']\n",
    "\n",
    "loss = history.history['loss']\n",
    "val_loss = history.history['val_loss']\n",
    "\n",
    "plt.figure(figsize=(8, 8))\n",
    "plt.subplot(2, 1, 1)\n",
    "plt.plot(acc, label='Training Accuracy')\n",
    "plt.plot(val_acc, label='Validation Accuracy')\n",
    "plt.legend(loc='lower right')\n",
    "plt.ylabel('Accuracy')\n",
    "plt.ylim([min(plt.ylim()),1])\n",
    "plt.title('Training and Validation Accuracy')\n",
    "\n",
    "plt.subplot(2, 1, 2)\n",
    "plt.plot(loss, label='Training Loss')\n",
    "plt.plot(val_loss, label='Validation Loss')\n",
    "plt.legend(loc='upper right')\n",
    "plt.ylabel('Cross Entropy')\n",
    "plt.ylim([0,10.0])\n",
    "plt.title('Training and Validation Loss')\n",
    "plt.xlabel('epoch')\n",
    "plt.show()"
   ]
  },
  {
   "cell_type": "code",
   "execution_count": 25,
   "metadata": {},
   "outputs": [],
   "source": [
    "base_model.trainable = True"
   ]
  },
  {
   "cell_type": "code",
   "execution_count": 26,
   "metadata": {},
   "outputs": [
    {
     "name": "stdout",
     "output_type": "stream",
     "text": [
      "Number of layers in the base model:  154\n"
     ]
    }
   ],
   "source": [
    "# Let's take a look to see how many layers are in the base model\n",
    "print(\"Number of layers in the base model: \", len(base_model.layers))"
   ]
  },
  {
   "cell_type": "code",
   "execution_count": 27,
   "metadata": {},
   "outputs": [],
   "source": [
    "# Fine-tune from this layer onwards\n",
    "fine_tune_at = 100\n",
    "\n",
    "# Freeze all the layers before the `fine_tune_at` layer\n",
    "for layer in base_model.layers[:fine_tune_at]:\n",
    "    layer.trainable =  False"
   ]
  },
  {
   "cell_type": "code",
   "execution_count": 28,
   "metadata": {},
   "outputs": [],
   "source": [
    "model.compile(loss=tf.keras.losses.CategoricalCrossentropy(),\n",
    "              optimizer = tf.keras.optimizers.RMSprop(learning_rate=base_learning_rate/10),\n",
    "              metrics=['accuracy'])"
   ]
  },
  {
   "cell_type": "code",
   "execution_count": 29,
   "metadata": {},
   "outputs": [
    {
     "name": "stdout",
     "output_type": "stream",
     "text": [
      "Model: \"model\"\n",
      "_________________________________________________________________\n",
      "Layer (type)                 Output Shape              Param #   \n",
      "=================================================================\n",
      "input_2 (InputLayer)         [(None, 50, 50, 3)]       0         \n",
      "_________________________________________________________________\n",
      "mobilenetv2_1.00_224 (Functi (None, 2, 2, 1280)        2257984   \n",
      "_________________________________________________________________\n",
      "global_average_pooling2d (Gl (None, 1280)              0         \n",
      "_________________________________________________________________\n",
      "dropout (Dropout)            (None, 1280)              0         \n",
      "_________________________________________________________________\n",
      "dense (Dense)                (None, 2)                 2562      \n",
      "=================================================================\n",
      "Total params: 2,260,546\n",
      "Trainable params: 1,864,002\n",
      "Non-trainable params: 396,544\n",
      "_________________________________________________________________\n"
     ]
    }
   ],
   "source": [
    "model.summary()"
   ]
  },
  {
   "cell_type": "code",
   "execution_count": 30,
   "metadata": {},
   "outputs": [
    {
     "data": {
      "text/plain": [
       "56"
      ]
     },
     "execution_count": 30,
     "metadata": {},
     "output_type": "execute_result"
    }
   ],
   "source": [
    "len(model.trainable_variables)"
   ]
  },
  {
   "cell_type": "code",
   "execution_count": 31,
   "metadata": {},
   "outputs": [
    {
     "name": "stdout",
     "output_type": "stream",
     "text": [
      "Epoch 50/100\n",
      "95/95 [==============================] - 48s 421ms/step - loss: 0.4664 - accuracy: 0.7840 - val_loss: 0.4599 - val_accuracy: 0.7912\n",
      "Epoch 51/100\n",
      "95/95 [==============================] - 41s 409ms/step - loss: 0.4567 - accuracy: 0.7898 - val_loss: 0.4561 - val_accuracy: 0.7843\n",
      "Epoch 52/100\n",
      "95/95 [==============================] - 42s 418ms/step - loss: 0.4523 - accuracy: 0.7926 - val_loss: 0.4507 - val_accuracy: 0.7917\n",
      "Epoch 53/100\n",
      "95/95 [==============================] - 42s 419ms/step - loss: 0.4485 - accuracy: 0.7947 - val_loss: 0.4524 - val_accuracy: 0.7930\n",
      "Epoch 54/100\n",
      "95/95 [==============================] - 42s 415ms/step - loss: 0.4457 - accuracy: 0.7959 - val_loss: 0.4523 - val_accuracy: 0.7922\n",
      "Epoch 55/100\n",
      "95/95 [==============================] - 42s 420ms/step - loss: 0.4433 - accuracy: 0.7968 - val_loss: 0.4400 - val_accuracy: 0.7997\n",
      "Epoch 56/100\n",
      "95/95 [==============================] - 43s 424ms/step - loss: 0.4410 - accuracy: 0.7983 - val_loss: 0.4371 - val_accuracy: 0.8011\n",
      "Epoch 57/100\n",
      "95/95 [==============================] - 43s 428ms/step - loss: 0.4392 - accuracy: 0.7995 - val_loss: 0.4493 - val_accuracy: 0.7961\n",
      "Epoch 58/100\n",
      "95/95 [==============================] - 43s 429ms/step - loss: 0.4374 - accuracy: 0.7998 - val_loss: 0.4366 - val_accuracy: 0.8028\n",
      "Epoch 59/100\n",
      "95/95 [==============================] - 44s 439ms/step - loss: 0.4360 - accuracy: 0.8006 - val_loss: 0.4391 - val_accuracy: 0.7990\n",
      "Epoch 60/100\n",
      "95/95 [==============================] - 43s 428ms/step - loss: 0.4344 - accuracy: 0.8021 - val_loss: 0.4375 - val_accuracy: 0.8017\n",
      "Epoch 61/100\n",
      "95/95 [==============================] - 44s 440ms/step - loss: 0.4326 - accuracy: 0.8024 - val_loss: 0.4367 - val_accuracy: 0.8041\n",
      "Epoch 62/100\n",
      "95/95 [==============================] - 44s 441ms/step - loss: 0.4322 - accuracy: 0.8028 - val_loss: 0.4364 - val_accuracy: 0.8022\n",
      "Epoch 63/100\n",
      "95/95 [==============================] - 44s 437ms/step - loss: 0.4294 - accuracy: 0.8036 - val_loss: 0.4396 - val_accuracy: 0.8033\n",
      "Epoch 64/100\n",
      "95/95 [==============================] - 44s 434ms/step - loss: 0.4294 - accuracy: 0.8040 - val_loss: 0.4381 - val_accuracy: 0.8027\n",
      "Epoch 65/100\n",
      "95/95 [==============================] - 43s 428ms/step - loss: 0.4276 - accuracy: 0.8046 - val_loss: 0.4367 - val_accuracy: 0.8032\n",
      "Epoch 66/100\n",
      "95/95 [==============================] - 42s 422ms/step - loss: 0.4264 - accuracy: 0.8055 - val_loss: 0.4494 - val_accuracy: 0.7974\n",
      "Epoch 67/100\n",
      "95/95 [==============================] - 43s 422ms/step - loss: 0.4257 - accuracy: 0.8058 - val_loss: 0.4354 - val_accuracy: 0.8037\n",
      "Epoch 68/100\n",
      "95/95 [==============================] - 42s 421ms/step - loss: 0.4248 - accuracy: 0.8054 - val_loss: 0.4677 - val_accuracy: 0.7833\n",
      "Epoch 69/100\n",
      "95/95 [==============================] - 42s 420ms/step - loss: 0.4234 - accuracy: 0.8066 - val_loss: 0.4297 - val_accuracy: 0.8073\n",
      "Epoch 70/100\n",
      "95/95 [==============================] - 42s 416ms/step - loss: 0.4225 - accuracy: 0.8073 - val_loss: 0.4319 - val_accuracy: 0.8052\n",
      "Epoch 71/100\n",
      "95/95 [==============================] - 42s 415ms/step - loss: 0.4219 - accuracy: 0.8071 - val_loss: 0.4293 - val_accuracy: 0.8074\n",
      "Epoch 72/100\n",
      "95/95 [==============================] - 42s 419ms/step - loss: 0.4209 - accuracy: 0.8084 - val_loss: 0.4361 - val_accuracy: 0.8008\n",
      "Epoch 73/100\n",
      "95/95 [==============================] - 43s 424ms/step - loss: 0.4200 - accuracy: 0.8081 - val_loss: 0.4363 - val_accuracy: 0.7994\n",
      "Epoch 74/100\n",
      "95/95 [==============================] - 42s 417ms/step - loss: 0.4193 - accuracy: 0.8079 - val_loss: 0.4288 - val_accuracy: 0.8077\n",
      "Epoch 75/100\n",
      "95/95 [==============================] - 45s 444ms/step - loss: 0.4186 - accuracy: 0.8088 - val_loss: 0.4307 - val_accuracy: 0.8077\n",
      "Epoch 76/100\n",
      "95/95 [==============================] - 44s 433ms/step - loss: 0.4175 - accuracy: 0.8089 - val_loss: 0.4300 - val_accuracy: 0.8073\n",
      "Epoch 77/100\n",
      "95/95 [==============================] - 44s 434ms/step - loss: 0.4165 - accuracy: 0.8099 - val_loss: 0.4363 - val_accuracy: 0.8038\n",
      "Epoch 78/100\n",
      "95/95 [==============================] - 43s 430ms/step - loss: 0.4162 - accuracy: 0.8094 - val_loss: 0.4304 - val_accuracy: 0.8075\n",
      "Epoch 79/100\n",
      "95/95 [==============================] - 43s 429ms/step - loss: 0.4158 - accuracy: 0.8104 - val_loss: 0.4299 - val_accuracy: 0.8072\n",
      "Epoch 80/100\n",
      "95/95 [==============================] - 39s 384ms/step - loss: 0.4147 - accuracy: 0.8106 - val_loss: 0.4272 - val_accuracy: 0.8093\n",
      "Epoch 81/100\n",
      "95/95 [==============================] - 38s 382ms/step - loss: 0.4138 - accuracy: 0.8107 - val_loss: 0.4270 - val_accuracy: 0.8088\n",
      "Epoch 82/100\n",
      "95/95 [==============================] - 39s 382ms/step - loss: 0.4129 - accuracy: 0.8104 - val_loss: 0.4407 - val_accuracy: 0.8001\n",
      "Epoch 83/100\n",
      "95/95 [==============================] - 39s 384ms/step - loss: 0.4121 - accuracy: 0.8117 - val_loss: 0.4445 - val_accuracy: 0.7969\n",
      "Epoch 84/100\n",
      "95/95 [==============================] - 39s 383ms/step - loss: 0.4116 - accuracy: 0.8116 - val_loss: 0.4313 - val_accuracy: 0.8077\n",
      "Epoch 85/100\n",
      "95/95 [==============================] - 39s 382ms/step - loss: 0.4101 - accuracy: 0.8124 - val_loss: 0.4355 - val_accuracy: 0.8042\n",
      "Epoch 86/100\n",
      "95/95 [==============================] - 39s 385ms/step - loss: 0.4103 - accuracy: 0.8125 - val_loss: 0.4334 - val_accuracy: 0.8094\n",
      "Epoch 87/100\n",
      "95/95 [==============================] - 39s 384ms/step - loss: 0.4093 - accuracy: 0.8123 - val_loss: 0.4272 - val_accuracy: 0.8094\n",
      "Epoch 88/100\n",
      "95/95 [==============================] - 39s 384ms/step - loss: 0.4090 - accuracy: 0.8126 - val_loss: 0.4299 - val_accuracy: 0.8096\n",
      "Epoch 89/100\n",
      "95/95 [==============================] - 39s 383ms/step - loss: 0.4081 - accuracy: 0.8134 - val_loss: 0.4378 - val_accuracy: 0.8004\n",
      "Epoch 90/100\n",
      "95/95 [==============================] - 39s 383ms/step - loss: 0.4077 - accuracy: 0.8132 - val_loss: 0.4392 - val_accuracy: 0.8010\n",
      "Epoch 91/100\n",
      "95/95 [==============================] - 39s 382ms/step - loss: 0.4064 - accuracy: 0.8147 - val_loss: 0.4312 - val_accuracy: 0.8104\n",
      "Epoch 92/100\n",
      "95/95 [==============================] - 39s 385ms/step - loss: 0.4062 - accuracy: 0.8141 - val_loss: 0.4272 - val_accuracy: 0.8103\n",
      "Epoch 93/100\n",
      "95/95 [==============================] - 39s 383ms/step - loss: 0.4055 - accuracy: 0.8145 - val_loss: 0.4258 - val_accuracy: 0.8117\n",
      "Epoch 94/100\n",
      "95/95 [==============================] - 39s 382ms/step - loss: 0.4046 - accuracy: 0.8150 - val_loss: 0.4310 - val_accuracy: 0.8070\n",
      "Epoch 95/100\n",
      "95/95 [==============================] - 42s 415ms/step - loss: 0.4045 - accuracy: 0.8153 - val_loss: 0.4361 - val_accuracy: 0.8057\n",
      "Epoch 96/100\n",
      "95/95 [==============================] - 45s 447ms/step - loss: 0.4032 - accuracy: 0.8155 - val_loss: 0.4318 - val_accuracy: 0.8083\n",
      "Epoch 97/100\n",
      "95/95 [==============================] - 46s 463ms/step - loss: 0.4024 - accuracy: 0.8161 - val_loss: 0.4350 - val_accuracy: 0.8084\n",
      "Epoch 98/100\n",
      "95/95 [==============================] - 45s 448ms/step - loss: 0.4015 - accuracy: 0.8157 - val_loss: 0.4301 - val_accuracy: 0.8080\n",
      "Epoch 99/100\n",
      "95/95 [==============================] - 45s 447ms/step - loss: 0.4006 - accuracy: 0.8165 - val_loss: 0.4330 - val_accuracy: 0.8091\n",
      "Epoch 100/100\n",
      "95/95 [==============================] - 44s 430ms/step - loss: 0.4011 - accuracy: 0.8161 - val_loss: 0.4419 - val_accuracy: 0.7999\n"
     ]
    }
   ],
   "source": [
    "fine_tune_epochs = 25\n",
    "total_epochs =  initial_epochs + fine_tune_epochs\n",
    "\n",
    "history_fine = model.fit(train_ds,\n",
    "                         epochs=total_epochs,\n",
    "                         initial_epoch=history.epoch[-1],\n",
    "                         validation_data=val_ds)"
   ]
  },
  {
   "cell_type": "code",
   "execution_count": 32,
   "metadata": {},
   "outputs": [],
   "source": [
    "acc += history_fine.history['accuracy']\n",
    "val_acc += history_fine.history['val_accuracy']\n",
    "\n",
    "loss += history_fine.history['loss']\n",
    "val_loss += history_fine.history['val_loss']"
   ]
  },
  {
   "cell_type": "code",
   "execution_count": 33,
   "metadata": {},
   "outputs": [
    {
     "data": {
      "image/png": "[encoded data removed]",
      "text/plain": [
       "<Figure size 576x576 with 2 Axes>"
      ]
     },
     "metadata": {
      "needs_background": "light"
     },
     "output_type": "display_data"
    }
   ],
   "source": [
    "plt.figure(figsize=(8, 8))\n",
    "plt.subplot(2, 1, 1)\n",
    "plt.plot(acc, label='Training Accuracy')\n",
    "plt.plot(val_acc, label='Validation Accuracy')\n",
    "plt.ylim([0, 1])\n",
    "plt.plot([initial_epochs-1,initial_epochs-1],\n",
    "          plt.ylim(), label='Start Fine Tuning')\n",
    "plt.legend(loc='lower right')\n",
    "plt.title('Training and Validation Accuracy')\n",
    "\n",
    "plt.subplot(2, 1, 2)\n",
    "plt.plot(loss, label='Training Loss')\n",
    "plt.plot(val_loss, label='Validation Loss')\n",
    "plt.ylim([0, 10.0])\n",
    "plt.plot([initial_epochs-1,initial_epochs-1],\n",
    "         plt.ylim(), label='Start Fine Tuning')\n",
    "plt.legend(loc='upper right')\n",
    "plt.title('Training and Validation Loss')\n",
    "plt.xlabel('epoch')\n",
    "plt.show()"
   ]
  },
  {
   "cell_type": "code",
   "execution_count": 34,
   "metadata": {},
   "outputs": [
    {
     "name": "stdout",
     "output_type": "stream",
     "text": [
      "8/8 [==============================] - 5s 292ms/step - loss: 0.4396 - accuracy: 0.7986\n",
      "Test accuracy : 0.798583984375\n"
     ]
    }
   ],
   "source": [
    "loss, accuracy = model.evaluate(test_ds)\n",
    "print('Test accuracy :', accuracy)"
   ]
  },
  {
   "cell_type": "code",
   "execution_count": 35,
   "metadata": {},
   "outputs": [],
   "source": [
    "image_batch, label_batch = test_ds.as_numpy_iterator().next()\n",
    "predictions = model.predict_on_batch(image_batch)"
   ]
  },
  {
   "cell_type": "code",
   "execution_count": 36,
   "metadata": {},
   "outputs": [],
   "source": [
    "predictions = tf.math.argmax(predictions, axis=1)"
   ]
  },
  {
   "cell_type": "code",
   "execution_count": 37,
   "metadata": {},
   "outputs": [],
   "source": [
    "label_batch = tf.math.argmax(label_batch, axis=1)"
   ]
  },
  {
   "cell_type": "code",
   "execution_count": 38,
   "metadata": {},
   "outputs": [
    {
     "name": "stdout",
     "output_type": "stream",
     "text": [
      "Predictions:\n",
      " tf.Tensor([0 0 0 ... 0 0 0], shape=(2048,), dtype=int64)\n",
      "Labels:\n",
      " tf.Tensor([1 0 0 ... 0 1 0], shape=(2048,), dtype=int64)\n"
     ]
    },
    {
     "data": {
      "image/png": "[encoded data removed]",
      "text/plain": [
       "<Figure size 720x720 with 9 Axes>"
      ]
     },
     "metadata": {
      "needs_background": "light"
     },
     "output_type": "display_data"
    }
   ],
   "source": [
    "print('Predictions:\\n', predictions)\n",
    "print('Labels:\\n', label_batch)\n",
    "\n",
    "plt.figure(figsize=(10, 10))\n",
    "for i in range(9):\n",
    "    ax = plt.subplot(3, 3, i + 1)\n",
    "    plt.imshow(image_batch[i].astype(\"uint8\"))\n",
    "    plt.title(class_names[predictions[i]])\n",
    "    plt.axis(\"off\")"
   ]
  },
  {
   "cell_type": "code",
   "execution_count": 39,
   "metadata": {},
   "outputs": [
    {
     "name": "stdout",
     "output_type": "stream",
     "text": [
      "INFO:tensorflow:Assets written to: breast_cancer_keras_resnet50\\assets\n"
     ]
    }
   ],
   "source": [
    "model.save('breast_cancer_keras_mobilenet_v2')"
   ]
  },
  {
   "cell_type": "code",
   "execution_count": 40,
   "metadata": {},
   "outputs": [],
   "source": [
    "new_model = tf.keras.models.load_model('breast_cancer_keras_mobilenet_v2')"
   ]
  },
  {
   "cell_type": "code",
   "execution_count": 41,
   "metadata": {},
   "outputs": [],
   "source": [
    "import tf2onnx\n",
    "import onnxruntime as rt"
   ]
  },
  {
   "cell_type": "code",
   "execution_count": 42,
   "metadata": {},
   "outputs": [
    {
     "name": "stdout",
     "output_type": "stream",
     "text": [
      "WARNING:tensorflow:From C:\\Users\\light\\anaconda3\\envs\\mymlenv\\lib\\site-packages\\tf2onnx\\tf_loader.py:703: extract_sub_graph (from tensorflow.python.framework.graph_util_impl) is deprecated and will be removed in a future version.\n",
      "Instructions for updating:\n",
      "Use `tf.compat.v1.graph_util.extract_sub_graph`\n"
     ]
    }
   ],
   "source": [
    "spec = (tf.TensorSpec((None, 96, 96, 3), tf.float32, name=\"input\"),)\n",
    "output_path = \"breast_cancer_keras_mobilenet_v2.onnx\"\n",
    "\n",
    "model_proto, _ = tf2onnx.convert.from_keras(new_model, input_signature=spec, output_path=output_path)\n",
    "output_names = [n.name for n in model_proto.graph.output]"
   ]
  },
  {
   "cell_type": "code",
   "execution_count": 43,
   "metadata": {},
   "outputs": [],
   "source": [
    "from tensorflow.keras.preprocessing import image\n",
    "img_path = 'C:/Users/light/Documents/16896/1/16896_idx5_x151_y801_class1.png'\n",
    "\n",
    "img = image.load_img(img_path, target_size=(96, 96))\n",
    "\n",
    "x = image.img_to_array(img)\n",
    "x = np.expand_dims(x, axis=0)"
   ]
  },
  {
   "cell_type": "code",
   "execution_count": 44,
   "metadata": {},
   "outputs": [
    {
     "data": {
      "text/plain": [
       "<tf.Tensor: shape=(1,), dtype=int64, numpy=array([0], dtype=int64)>"
      ]
     },
     "execution_count": 44,
     "metadata": {},
     "output_type": "execute_result"
    }
   ],
   "source": [
    "preds = new_model.predict(x)\n",
    "preds = tf.math.argmax(preds, axis=1)\n",
    "preds"
   ]
  },
  {
   "cell_type": "code",
   "execution_count": 45,
   "metadata": {},
   "outputs": [
    {
     "name": "stdout",
     "output_type": "stream",
     "text": [
      "ONNX Predicted: tf.Tensor([0], shape=(1,), dtype=int64)\n"
     ]
    }
   ],
   "source": [
    "\n",
    "providers = ['CPUExecutionProvider']\n",
    "m = rt.InferenceSession(output_path, providers=providers)\n",
    "onnx_pred = m.run(output_names, {\"input\": x})\n",
    "\n",
    "onnx_pred= tf.math.argmax(onnx_pred[0], axis=1)\n",
    "\n",
    "print('ONNX Predicted:', onnx_pred)\n",
    "\n",
    "# make sure ONNX and keras have the same results\n",
    "np.testing.assert_allclose(preds, onnx_pred)"
   ]
  },
  {
   "cell_type": "code",
   "execution_count": null,
   "metadata": {},
   "outputs": [],
   "source": []
  }
 ],
 "metadata": {
  "kernelspec": {
   "display_name": "Python 3",
   "language": "python",
   "name": "python3"
  },
  "language_info": {
   "codemirror_mode": {
    "name": "ipython",
    "version": 3
   },
   "file_extension": ".py",
   "mimetype": "text/x-python",
   "name": "python",
   "nbconvert_exporter": "python",
   "pygments_lexer": "ipython3",
   "version": "3.8.8"
  }
 },
 "nbformat": 4,
 "nbformat_minor": 4
}
