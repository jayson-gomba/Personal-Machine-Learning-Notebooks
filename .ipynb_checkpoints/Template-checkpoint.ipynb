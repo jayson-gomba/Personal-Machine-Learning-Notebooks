{
 "cells": [
  {
   "cell_type": "markdown",
   "id": "28365010",
   "metadata": {},
   "source": [
    "# Data Collection"
   ]
  },
  {
   "cell_type": "markdown",
   "id": "96754862",
   "metadata": {},
   "source": [
    "# Viewing Data"
   ]
  },
  {
   "cell_type": "markdown",
   "id": "1babb417",
   "metadata": {},
   "source": [
    "# Train model on data first time"
   ]
  },
  {
   "cell_type": "markdown",
   "id": "8761401c",
   "metadata": {},
   "source": [
    "# Data Preparation"
   ]
  },
  {
   "cell_type": "markdown",
   "id": "61709132",
   "metadata": {},
   "source": [
    "# Train model on data second time"
   ]
  },
  {
   "cell_type": "markdown",
   "id": "7a00ab8b",
   "metadata": {},
   "source": [
    "# Analysis/Evaluation"
   ]
  },
  {
   "cell_type": "markdown",
   "id": "87195086",
   "metadata": {},
   "source": [
    "# Serve model"
   ]
  },
  {
   "cell_type": "markdown",
   "id": "a2d04cd6",
   "metadata": {},
   "source": [
    "# Retrain model"
   ]
  }
 ],
 "metadata": {
  "kernelspec": {
   "display_name": "Python 3",
   "language": "python",
   "name": "python3"
  },
  "language_info": {
   "codemirror_mode": {
    "name": "ipython",
    "version": 3
   },
   "file_extension": ".py",
   "mimetype": "text/x-python",
   "name": "python",
   "nbconvert_exporter": "python",
   "pygments_lexer": "ipython3",
   "version": "3.8.8"
  }
 },
 "nbformat": 4,
 "nbformat_minor": 5
}
